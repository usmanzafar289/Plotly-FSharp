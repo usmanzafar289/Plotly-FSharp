{
 "cells": [
  {
   "cell_type": "code",
   "execution_count": null,
   "source": [
    "#r \"nuget: Plotly.NET, 2.0.0-preview.6\"\r\n",
    "#r \"nuget: Plotly.NET.Interactive, 2.0.0-preview.6\"\r\n",
    "#r \"nuget: FSharp.Data, 4.2.2\""
   ],
   "outputs": [
    {
     "data": {
      "text/html": [
       "<div><div></div><div></div><div><strong>Installed Packages</strong><ul><li><span>FSharp.Data, 4.2.2</span></li><li><span>Plotly.NET, 2.0.0-preview.6</span></li><li><span>Plotly.NET.Interactive, 2.0.0-preview.6</span></li></ul></div></div>"
      ]
     },
     "metadata": {},
     "output_type": "display_data"
    },
    {
     "data": {
      "text/markdown": [
       "Loading extensions from `Plotly.NET.Interactive.dll`"
      ]
     },
     "metadata": {},
     "output_type": "display_data"
    },
    {
     "data": {
      "text/markdown": [
       "Added Kernel Extension including formatters for Plotly.NET charts."
      ]
     },
     "metadata": {},
     "output_type": "display_data"
    }
   ],
   "metadata": {
    "dotnet_interactive": {
     "language": "fsharp"
    }
   }
  },
  {
   "cell_type": "markdown",
   "source": [
    "# Basic 3D Cone\r\n"
   ],
   "metadata": {}
  },
  {
   "cell_type": "code",
   "execution_count": null,
   "source": [
    "open System\r\n",
    "open Plotly.NET \r\n",
    "\r\n",
    "let cone3d =\r\n",
    "    Trace3d.initCone \r\n",
    "        (fun cone3d ->\r\n",
    "            cone3d?x <- [1]\r\n",
    "            cone3d?y <- [1]\r\n",
    "            cone3d?z <- [1]\r\n",
    "            cone3d?u <- [1]\r\n",
    "            cone3d?v <- [1]\r\n",
    "            cone3d?w <- [0]\r\n",
    "            cone3d?colorscale<-\"Blues\"\r\n",
    "            cone3d?sizemode<-\"absolute\"\r\n",
    "            cone3d?sizeref<- 20,\r\n",
    "            cone3d?anchor<-\"tip\"\r\n",
    "            cone3d\r\n",
    "            )\r\n",
    "    |> GenericChart.ofTraceObject "
   ],
   "outputs": [],
   "metadata": {
    "dotnet_interactive": {
     "language": "fsharp"
    }
   }
  },
  {
   "cell_type": "code",
   "execution_count": null,
   "source": [
    "cone3d\r\n"
   ],
   "outputs": [
    {
     "data": {
      "text/html": [
       "<div id=\"4c63768f-56ea-42f5-9720-bda4da87d0cf\" style=\"width: 600px; height: 600px;\"><!-- Plotly chart will be drawn inside this DIV --></div>\r\n",
       "<script type=\"text/javascript\">\r\n",
       "\n",
       "            var renderPlotly_4c63768f56ea42f59720bda4da87d0cf = function() {\n",
       "            var fsharpPlotlyRequire = requirejs.config({context:'fsharp-plotly',paths:{plotly:'https://cdn.plot.ly/plotly-latest.min'}}) || require;\n",
       "            fsharpPlotlyRequire(['plotly'], function(Plotly) {\r\n",
       "\n",
       "            var data = [{\"type\":\"cone\",\"x\":[1],\"y\":[1],\"z\":[1],\"u\":[1],\"v\":[1],\"w\":[0],\"colorscale\":\"Blues\",\"sizemode\":\"absolute\",\"anchor\":\"tip\",\"sizeref\":{\"Item1\":20,\"Item2\":null}}];\n",
       "            var layout = {};\n",
       "            var config = {};\n",
       "            Plotly.newPlot('4c63768f-56ea-42f5-9720-bda4da87d0cf', data, layout, config);\r\n",
       "});\n",
       "            };\n",
       "            if ((typeof(requirejs) !==  typeof(Function)) || (typeof(requirejs.config) !== typeof(Function))) {\n",
       "                var script = document.createElement(\"script\");\n",
       "                script.setAttribute(\"src\", \"https://cdnjs.cloudflare.com/ajax/libs/require.js/2.3.6/require.min.js\");\n",
       "                script.onload = function(){\n",
       "                    renderPlotly_4c63768f56ea42f59720bda4da87d0cf();\n",
       "                };\n",
       "                document.getElementsByTagName(\"head\")[0].appendChild(script);\n",
       "            }\n",
       "            else {\n",
       "                renderPlotly_4c63768f56ea42f59720bda4da87d0cf();\n",
       "            }\r\n",
       "</script>\r\n"
      ]
     },
     "metadata": {},
     "output_type": "display_data"
    }
   ],
   "metadata": {
    "dotnet_interactive": {
     "language": "fsharp"
    }
   }
  },
  {
   "cell_type": "markdown",
   "source": [
    "# Multiple 3D Cones\r\n"
   ],
   "metadata": {}
  },
  {
   "cell_type": "code",
   "execution_count": null,
   "source": [
    "open System\r\n",
    "open Plotly.NET \r\n",
    "\r\n",
    "\r\n",
    "let cone3d =\r\n",
    "    Trace3d.initCone \r\n",
    "        (fun cone3d ->\r\n",
    "            cone3d?x<-[1; 2; 3]\r\n",
    "            cone3d?y<-[1; 2; 3]\r\n",
    "            cone3d?z<-[1; 2; 3]\r\n",
    "            cone3d?u<-[1; 0; 0]\r\n",
    "            cone3d?v<-[0; 3; 0]\r\n",
    "            cone3d?w<-[0; 0; 2]\r\n",
    "            cone3d?sizemode<-\"absolute\"\r\n",
    "            cone3d?sizeref<-2\r\n",
    "            cone3d?anchor<-\"tip\"\r\n",
    "            cone3d\r\n",
    "            )\r\n",
    "    |> GenericChart.ofTraceObject "
   ],
   "outputs": [],
   "metadata": {
    "dotnet_interactive": {
     "language": "fsharp"
    }
   }
  },
  {
   "cell_type": "code",
   "execution_count": null,
   "source": [
    "cone3d"
   ],
   "outputs": [
    {
     "output_type": "display_data",
     "data": {
      "text/html": [
       "<div id=\"21a2b7c9-a762-425d-ac56-ffcb2017da18\" style=\"width: 600px; height: 600px;\"><!-- Plotly chart will be drawn inside this DIV --></div>\r\n",
       "<script type=\"text/javascript\">\r\n",
       "\n",
       "            var renderPlotly_21a2b7c9a762425dac56ffcb2017da18 = function() {\n",
       "            var fsharpPlotlyRequire = requirejs.config({context:'fsharp-plotly',paths:{plotly:'https://cdn.plot.ly/plotly-latest.min'}}) || require;\n",
       "            fsharpPlotlyRequire(['plotly'], function(Plotly) {\r\n",
       "\n",
       "            var data = [{\"type\":\"cone\",\"x\":[1,2,3],\"y\":[1,2,3],\"z\":[1,2,3],\"u\":[1,0,0],\"v\":[0,3,0],\"w\":[0,0,2],\"sizemode\":\"absolute\",\"sizeref\":2,\"anchor\":\"tip\"}];\n",
       "            var layout = {};\n",
       "            var config = {};\n",
       "            Plotly.newPlot('21a2b7c9-a762-425d-ac56-ffcb2017da18', data, layout, config);\r\n",
       "});\n",
       "            };\n",
       "            if ((typeof(requirejs) !==  typeof(Function)) || (typeof(requirejs.config) !== typeof(Function))) {\n",
       "                var script = document.createElement(\"script\");\n",
       "                script.setAttribute(\"src\", \"https://cdnjs.cloudflare.com/ajax/libs/require.js/2.3.6/require.min.js\");\n",
       "                script.onload = function(){\n",
       "                    renderPlotly_21a2b7c9a762425dac56ffcb2017da18();\n",
       "                };\n",
       "                document.getElementsByTagName(\"head\")[0].appendChild(script);\n",
       "            }\n",
       "            else {\n",
       "                renderPlotly_21a2b7c9a762425dac56ffcb2017da18();\n",
       "            }\r\n",
       "</script>\r\n"
      ]
     },
     "metadata": {}
    }
   ],
   "metadata": {
    "dotnet_interactive": {
     "language": "fsharp"
    }
   }
  }
 ],
 "metadata": {
  "kernelspec": {
   "name": ".net-csharp",
   "display_name": ".NET (C#)",
   "language": "C#"
  },
  "langauge_info": {
   "file_extension": ".fs",
   "mimetype": "text/x-fsharp",
   "name": "C#",
   "pygments_lexer": "fsharp",
   "version": "4.5"
  },
  "language_info": {
   "file_extension": ".cs",
   "mimetype": "text/x-csharp",
   "name": "C#",
   "pygments_lexer": "csharp",
   "version": "9.0"
  },
  "interpreter": {
   "hash": "a7396d70d75e9feef5572c1270d0e25eb59b5df4cfba1077f052c893e36b892f"
  }
 },
 "nbformat": 4,
 "nbformat_minor": 1
}
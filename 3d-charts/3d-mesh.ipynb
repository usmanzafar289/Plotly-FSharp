{
 "cells": [
  {
   "cell_type": "code",
   "execution_count": null,
   "source": [
    "#r \"nuget: Plotly.NET, 2.0.0-preview.6\"\r\n",
    "#r \"nuget: Plotly.NET.Interactive, 2.0.0-preview.6\"\r\n",
    "open System\r\n",
    "open Plotly.NET "
   ],
   "outputs": [
    {
     "data": {
      "text/html": [
       "<div><div></div><div></div><div><strong>Installed Packages</strong><ul><li><span>Plotly.NET, 2.0.0-preview.6</span></li><li><span>Plotly.NET.Interactive, 2.0.0-preview.6</span></li></ul></div></div>"
      ]
     },
     "metadata": {},
     "output_type": "display_data"
    },
    {
     "data": {
      "text/markdown": [
       "Loading extensions from `Plotly.NET.Interactive.dll`"
      ]
     },
     "metadata": {},
     "output_type": "display_data"
    },
    {
     "data": {
      "text/markdown": [
       "Added Kernel Extension including formatters for Plotly.NET charts."
      ]
     },
     "metadata": {},
     "output_type": "display_data"
    }
   ],
   "metadata": {
    "dotnet_interactive": {
     "language": "fsharp"
    }
   }
  },
  {
   "cell_type": "markdown",
   "source": [
    "# Simple 3D Mesh example\r\n"
   ],
   "metadata": {}
  },
  {
   "cell_type": "code",
   "execution_count": null,
   "source": [
    "open System\r\n",
    "open Plotly.NET \r\n",
    "\r\n",
    "             \r\n",
    "let N = 50\r\n",
    "let rnd = System.Random()\r\n",
    "\r\n",
    "let mirroredXAxis =\r\n",
    "    Axis.LinearAxis.init(\r\n",
    "        Showspikes = false,\r\n",
    "        Backgroundcolor =\"rgb(229, 236, 246)\",\r\n",
    "        Showbackground=true\r\n",
    "    )\r\n",
    "\r\n",
    "let mirroredLogYAxis = \r\n",
    "    Axis.LinearAxis.init(\r\n",
    "        Showspikes = false,\r\n",
    "        Backgroundcolor =\"rgb(229, 236, 246)\",\r\n",
    "        Showbackground=true\r\n",
    "    )\r\n",
    "let mirroredZAxis =\r\n",
    "    Axis.LinearAxis.init(\r\n",
    "        Showspikes = false,\r\n",
    "        Backgroundcolor =\"rgb(229, 236, 246)\",\r\n",
    "        Showbackground=true\r\n",
    "    )\r\n",
    "\r\n",
    "let margin =Margin.init(Left =10.0, Bottom=10.0,Top =10.0, Right  = 20.0 )\r\n",
    "let layout = Layout.init(Width= 700.,  Margin=margin)\r\n",
    "\r\n",
    "\r\n",
    "let mesh3d =\r\n",
    "        Trace3d.initMesh3d (fun mesh3d ->\r\n",
    "            mesh3d?x <- Array.init 100 (fun _ -> rnd.NextDouble())\r\n",
    "            mesh3d?y <-Array.init 100 (fun _ -> rnd.NextDouble())\r\n",
    "            mesh3d?z <-Array.init 100 (fun _ -> rnd.NextDouble())\r\n",
    "            mesh3d?opacity<-0.5\r\n",
    "            mesh3d?color <- \"lightpink\"\r\n",
    "            mesh3d\r\n",
    "            )         \r\n",
    "        |> GenericChart.ofTraceObject\r\n",
    "        |> Chart.withX_Axis  mirroredXAxis\r\n",
    "        |> Chart.withY_Axis  mirroredLogYAxis\r\n",
    "        |> Chart.withZ_Axis  mirroredZAxis\r\n",
    "        |> Chart.withLayout layout"
   ],
   "outputs": [],
   "metadata": {
    "dotnet_interactive": {
     "language": "fsharp"
    }
   }
  },
  {
   "cell_type": "code",
   "execution_count": null,
   "source": [
    "mesh3d"
   ],
   "outputs": [
    {
     "output_type": "display_data",
     "data": {
      "text/html": [
       "<div id=\"19e68369-2bef-4c58-bdbd-c648eeb1a378\" style=\"width: 600px; height: 600px;\"><!-- Plotly chart will be drawn inside this DIV --></div>\r\n",
       "<script type=\"text/javascript\">\r\n",
       "\n",
       "            var renderPlotly_19e683692bef4c58bdbdc648eeb1a378 = function() {\n",
       "            var fsharpPlotlyRequire = requirejs.config({context:'fsharp-plotly',paths:{plotly:'https://cdn.plot.ly/plotly-latest.min'}}) || require;\n",
       "            fsharpPlotlyRequire(['plotly'], function(Plotly) {\r\n",
       "\n",
       "            var data = [{\"type\":\"mesh3d\",\"x\":[0.5729084958196191,0.8113195946492812,0.9053647969408728,0.033865783845011974,0.14954295575131799,0.24431980179823926,0.58046587723329,0.4005085567014797,0.8934545465248891,0.4458156556104383,0.9661136087803699,0.07471033189199415,0.6381990712313909,0.40260633286210074,0.8963263700233429,0.0074864006636135285,0.7401562345866841,0.9921945556961906,0.3513956639689373,0.07210472369198907,0.9009725334592967,0.8639854718297653,0.6472249075990286,0.48513152705744444,0.9786320817557312,0.6361775047314249,0.5009571861014502,0.5847017581503381,0.4384067572832139,0.6616025081191224,0.9557444611358198,0.971391523243576,0.8404316449726148,0.18057080366675313,0.5000358882825989,0.17996301463803416,0.354236762669979,0.1972804615261408,0.3674369819310666,0.9227724936431145,0.0349245993583112,0.08240559375025593,0.6615856455925785,0.9786464599793062,0.8211869829432978,0.7766403727124633,0.7556756957227717,0.5220890978919757,0.2934395201939342,0.17395989046150814,0.8209010855392093,0.18300195419369356,0.906991625161372,0.8079669190607811,0.1399831334780823,0.708923023989854,0.16409468705025254,0.42023326988342835,0.05523370208928068,0.5133654510198932,0.7433626156967891,0.9957641190829519,0.9621017994182658,0.23185203840576674,0.4900711944746185,0.9947220855367939,0.23427868691937936,0.4576282675646377,0.9025704445795019,0.7163633553853088,0.6532496379936346,0.5428757730605434,0.624757573765124,0.42862317032582276,0.03718012433367787,0.8185669397090408,0.20239982623718672,0.6685784476197224,0.6639445441141466,0.201991709043268,0.8805018090086532,0.9788680882094745,0.2912622379564039,0.26444686682170576,0.8407014225799131,0.7727425069421262,0.06439989808220412,0.032464725911833685,0.04058767018867082,0.791112864292745,0.015868327587781627,0.9340034927865507,0.1420467594368601,0.8540715309111735,0.1794098779463255,0.039160480275359226,0.12030379433199008,0.4297336071868118,0.48857526550468766,0.826464897406504],\"y\":[0.542361685793084,0.29804742815813395,0.6195186533124739,0.5770761648086254,0.5207102524678736,0.27802531247866585,0.5582443804285696,0.4783684548355492,0.7707867947271032,0.3214161937690415,0.5065231977526672,0.4955162394305301,0.7562887257692817,0.8532419930460127,0.63286364201124,0.7644945274873145,0.7045018811265481,0.6976549325965601,0.3911506158258536,0.7173286875324923,0.9303221874545897,0.20181396100754567,0.4170405973759669,0.1114575802867569,0.7004950277975271,0.7192461452070839,0.40082901362368323,0.7706860428539506,0.24921329237949721,0.9980196440583187,0.6982631453770507,0.7726662190503749,0.18000318211503474,0.8374796467076426,0.659630023250184,0.5824543808505193,0.35934943489700066,0.7141860731477785,0.7437366143538321,0.5626761101012473,0.21449812651355663,0.5860314432466549,0.2616779311847305,0.7191714764196293,0.2845896665400777,0.5203520881572515,0.17771476701726893,0.2888047663908474,0.2212078888999335,0.41491535045901096,0.33465859914881113,0.42264886173543004,0.0385829913609582,0.7712465779721954,0.8961427099519143,0.34054772478553824,0.881006830782167,0.508061073025717,0.8765811370110983,0.8014641072607898,0.8771962988549826,0.787558337574619,0.229155162456052,0.7727671506687845,0.6231530483919908,0.7338569787022923,0.31551305731549534,0.9188090790616391,0.19361196979582868,0.050409261160720725,0.4051450925903139,0.9903158079787697,0.9539183182427279,0.8284745057246063,0.5028305610189356,0.3442907442079348,0.9401360298228152,0.6978691209563376,0.8268679137466791,0.18014293964027564,0.5415313781898149,0.11202424723283586,0.549478153954017,0.8342979419204862,0.6633610449095075,0.27561428364162066,0.7340832276894167,0.4087566041428394,0.9413369367557284,0.31908229846464575,0.7014475500683521,0.8512883618712836,0.8376049361366802,0.9422725070930423,0.6854798112462647,0.42693978893893764,0.3568762807906029,0.4889107805159459,0.09601842802763844,0.5507326878377854],\"z\":[0.20483903084175617,0.25890568795562985,0.09519279659501872,0.17079862773921275,0.009770257868697056,0.34434279117004146,0.4687305434927021,0.21010848563635184,0.26841601695325973,0.5518519657439794,0.40041169496272305,0.18313770982582947,0.6811931592790378,0.6964381973708227,0.25993272907097487,0.7651720516221467,0.238080183620602,0.3948572205355657,0.10940610575927706,0.34753876475037015,0.9997737510128756,0.906756453172656,0.9774721423059106,0.8745296713311829,0.34896171109236857,0.5538567307190303,0.1527108718420895,0.011645811149685556,0.1429946944783417,0.07589077207999806,0.9874144634173319,0.45122524930686936,0.6018506929286992,0.2761352259088937,0.9753039087985195,0.28262569023418505,0.016831450637817127,0.3786795262148043,0.8245276840517892,0.3190182537394661,0.8068837401489186,0.5239747420530648,0.14034058718957965,0.389484971011749,0.9186706035019228,0.5183098402425227,0.17009520259224586,0.14116673876585753,0.6823397780220675,0.9203077596241179,0.18885960531833562,0.9620190602550371,0.3795046747566688,0.7484796632772682,0.5509589368249098,0.2980825776691002,0.28143354564971923,0.22066312526383583,0.8218369166468442,0.4559135271496668,0.19163191932795193,0.45708473234301655,0.06711379115801015,0.19252524487326167,0.5644375023266475,0.9491864456558537,0.5812870168971302,0.40505793337014406,0.7211342885723031,0.9773070388367898,0.7483406009843296,0.8594006574057977,0.5703295364837765,0.790387852019811,0.5406550246014517,0.4757990089598107,0.7664158659830763,0.5879871712941617,0.9558590678292602,0.8306518708498458,0.3837615281267844,0.01154413307623199,0.329306033127618,0.22268693485422383,0.8870311667616624,0.02539540316229472,0.07172057455020052,0.853371029651431,0.7251762890839839,0.6772213311294193,0.0011921445844658392,0.7961683253739813,0.5568426095679601,0.3686141569021224,0.12738633441151415,0.34979900780590206,0.4568609508950547,0.947815342316318,0.8250474686851015,0.969484157846069],\"opacity\":0.5,\"color\":\"lightpink\"}];\n",
       "            var layout = {\"scene\":{\"xaxis\":{\"showspikes\":false,\"showbackground\":true,\"backgroundcolor\":\"rgb(229, 236, 246)\"},\"yaxis\":{\"showspikes\":false,\"showbackground\":true,\"backgroundcolor\":\"rgb(229, 236, 246)\"},\"zaxis\":{\"showspikes\":false,\"showbackground\":true,\"backgroundcolor\":\"rgb(229, 236, 246)\"}},\"width\":700.0,\"margin\":{\"l\":10.0,\"r\":20.0,\"t\":10.0,\"b\":10.0}};\n",
       "            var config = {};\n",
       "            Plotly.newPlot('19e68369-2bef-4c58-bdbd-c648eeb1a378', data, layout, config);\r\n",
       "});\n",
       "            };\n",
       "            if ((typeof(requirejs) !==  typeof(Function)) || (typeof(requirejs.config) !== typeof(Function))) {\n",
       "                var script = document.createElement(\"script\");\n",
       "                script.setAttribute(\"src\", \"https://cdnjs.cloudflare.com/ajax/libs/require.js/2.3.6/require.min.js\");\n",
       "                script.onload = function(){\n",
       "                    renderPlotly_19e683692bef4c58bdbdc648eeb1a378();\n",
       "                };\n",
       "                document.getElementsByTagName(\"head\")[0].appendChild(script);\n",
       "            }\n",
       "            else {\n",
       "                renderPlotly_19e683692bef4c58bdbdc648eeb1a378();\n",
       "            }\r\n",
       "</script>\r\n"
      ]
     },
     "metadata": {}
    }
   ],
   "metadata": {
    "dotnet_interactive": {
     "language": "fsharp"
    }
   }
  },
  {
   "cell_type": "markdown",
   "source": [
    "# 3D Mesh example with Alphahull"
   ],
   "metadata": {}
  },
  {
   "cell_type": "code",
   "execution_count": null,
   "source": [
    "open System\r\n",
    "open Plotly.NET \r\n",
    "\r\n",
    "             \r\n",
    "let N = 50\r\n",
    "let rnd = System.Random()\r\n",
    "\r\n",
    "let mirroredXAxis =\r\n",
    "    Axis.LinearAxis.init(\r\n",
    "        Showspikes = false,\r\n",
    "        Backgroundcolor =\"rgb(229, 236, 246)\",\r\n",
    "        Showbackground=true\r\n",
    "    )\r\n",
    "\r\n",
    "let mirroredLogYAxis = \r\n",
    "    Axis.LinearAxis.init(\r\n",
    "        Showspikes = false,\r\n",
    "        Backgroundcolor =\"rgb(229, 236, 246)\",\r\n",
    "        Showbackground=true\r\n",
    "    )\r\n",
    "let mirroredZAxis =\r\n",
    "    Axis.LinearAxis.init(\r\n",
    "        Showspikes = false,\r\n",
    "        Backgroundcolor =\"rgb(229, 236, 246)\",\r\n",
    "        Showbackground=true\r\n",
    "    )\r\n",
    "\r\n",
    "let margin =Margin.init(Left =10.0, Bottom=10.0,Top =10.0, Right  = 20.0 )\r\n",
    "let layout = Layout.init(Width= 700.,  Margin=margin)\r\n",
    "\r\n",
    "\r\n",
    "let mesh3d =\r\n",
    "        Trace3d.initMesh3d (fun mesh3d ->\r\n",
    "            mesh3d?x <- Array.init 100 (fun _ -> rnd.NextDouble())\r\n",
    "            mesh3d?y <-Array.init 100 (fun _ -> rnd.NextDouble())\r\n",
    "            mesh3d?z <-Array.init 100 (fun _ -> rnd.NextDouble())\r\n",
    "            mesh3d?opacity<-0.5\r\n",
    "            mesh3d?alphahull <- 5\r\n",
    "            mesh3d?color <- \"cyan\"\r\n",
    "            mesh3d\r\n",
    "            )         \r\n",
    "        |> GenericChart.ofTraceObject\r\n",
    "        |> Chart.withX_Axis  mirroredXAxis\r\n",
    "        |> Chart.withY_Axis  mirroredLogYAxis\r\n",
    "        |> Chart.withZ_Axis  mirroredZAxis\r\n",
    "        |> Chart.withLayout layout"
   ],
   "outputs": [],
   "metadata": {
    "dotnet_interactive": {
     "language": "fsharp"
    }
   }
  },
  {
   "cell_type": "code",
   "execution_count": null,
   "source": [
    "mesh3d"
   ],
   "outputs": [
    {
     "output_type": "display_data",
     "data": {
      "text/html": [
       "<div id=\"304dc545-e510-4f8f-8cc4-7c9f54810438\" style=\"width: 600px; height: 600px;\"><!-- Plotly chart will be drawn inside this DIV --></div>\r\n",
       "<script type=\"text/javascript\">\r\n",
       "\n",
       "            var renderPlotly_304dc545e5104f8f8cc47c9f54810438 = function() {\n",
       "            var fsharpPlotlyRequire = requirejs.config({context:'fsharp-plotly',paths:{plotly:'https://cdn.plot.ly/plotly-latest.min'}}) || require;\n",
       "            fsharpPlotlyRequire(['plotly'], function(Plotly) {\r\n",
       "\n",
       "            var data = [{\"type\":\"mesh3d\",\"x\":[0.026343237155276925,0.17427422580042584,0.411408990813144,0.9021539221993433,0.7982790441244277,0.772450238825963,0.24679064017105412,0.6005730426872955,0.525121288618595,0.33392443802856114,0.8800962264091224,0.7512574017752229,0.012422674806985386,0.28267467314501976,0.10551584563474908,0.13466686621991306,0.16739068886609315,0.05547957683702911,0.7620614784593049,0.4045143492540877,0.461562476335821,0.5150560953258798,0.5033654056039478,0.40277298744897033,0.8700713086268266,0.9841054566130533,0.4524048038071044,0.6179913760246669,0.9067211206568038,0.6976038351178188,0.1765874392243975,0.9816515529442819,0.2006076561289875,0.6686030452459133,0.3379553897948728,0.4336942110367558,0.09547180128072938,0.2208232517451156,0.0015562651686166717,0.0035629738138816197,0.024067895032497073,0.3384989324670746,0.15297004494488706,0.7608645939085933,0.5231337112016667,0.2711340721096536,0.0849093795218083,0.4022444251003882,0.5820188199086203,0.8798396721854059,0.7597221358491677,0.1438048538490221,0.9070108034214986,0.599374297354079,0.8705555744797716,0.5112871418293972,0.6709088201964781,0.008636003364173698,0.032082613572516766,0.8141735875113745,0.3200454350188586,0.6287992641463872,0.6938519220304917,0.8275174535007763,0.15733699880416366,0.8984446734648406,0.5506497456462354,0.34381962956107204,0.944719283350147,0.6718216345979933,0.03919506493918368,0.9465674371209776,0.05392331166841244,0.7584985046454232,0.3804464542215906,0.12306354386874639,0.36208605038099273,0.7425008116953544,0.8796392762473036,0.5989372365171729,0.899196077091245,0.05016037870671618,0.03597255611604664,0.026881448471397836,0.9378816992686511,0.032782585375375387,0.07464074952278321,0.6012333587749085,0.7980474707661418,0.8266682479654757,0.7627853908402777,0.08683579791655568,0.18874063817259884,0.18738267765724226,0.683517538795023,0.39526863088610986,0.6446470104365829,0.32545259144411076,0.6035275951044297,0.6246890377368262],\"y\":[0.7204843264634182,0.7410897499607363,0.4575251417502412,0.910197185310627,0.8406446072462223,0.8131546987281901,0.08988154218060967,0.14851229877607539,0.21892784313248836,0.7474920306110252,0.1492010914484044,0.9284080085011236,0.1289967271168701,0.4331453770553439,0.9149775104201294,0.26988505631214244,0.5928267080303405,0.6669704735590939,0.8896357542321253,0.12455441342878827,0.8238039239420574,0.9494163868713269,0.5457721587949302,0.11805103538467131,0.9090362437577155,0.952359267022628,0.7578267989483787,0.8665406340111702,0.07498096585040026,0.9851778233354808,0.47841653343216356,0.036633458936881955,0.13897321659092476,0.2549502385104775,0.8784529100537547,0.15810632713050876,0.5926352369564749,0.1257753708054197,0.1862368412251756,0.12472700054046093,0.9429010431947658,0.9261284507467078,0.38230551564242016,0.05055544015511658,0.6774671565170712,0.834377382339154,0.9578390707996856,0.755595261117255,0.27240516723711283,0.4136324824828806,0.8024419228557692,0.977676536877489,0.43581683721198555,0.4789731816756414,0.8008851137947688,0.7710679395920913,0.19531759116580596,0.3394741063655699,0.0011609415529113922,0.8882853402235943,0.05532789977981145,0.2233409081694395,0.07353133292567512,0.23375001979700757,0.26907549717886164,0.11256763251152245,0.7894347919101989,0.8740464886063927,0.5546924670015893,0.7568711832896207,0.6772498193556675,0.4670513372249209,0.4807336323339183,0.7649087536916643,0.18165337023402256,0.8976754731953496,0.5671108712289067,0.4952167186398137,0.44058387886760003,0.07465886141856148,0.9945201962229424,0.0022315378311237033,0.5941354667740574,0.6613484833675197,0.18273590047971155,0.5007399965546746,0.6008166217248965,0.6600000349152834,0.4540651247157087,0.10738497046166331,0.9627887359647028,0.253161130590905,0.12461442925250829,0.2979515010015813,0.06939910076064947,0.7195601350253262,0.8525971178210328,0.1485554958454126,0.7814799429762549,0.5648995240055488],\"z\":[0.044942590428955195,0.08379258219329294,0.20090279411566575,0.5155339839474922,0.7363826631272131,0.33539058563084834,0.49694290454357065,0.6709080835203212,0.29731981144161884,0.9032096405994192,0.2039570683631846,0.7001008725259923,0.8988902274979699,0.9265020801343499,0.8937651440006519,0.053096361948687755,0.6292054413953821,0.41218284955815543,0.05101411931729602,0.7683355006241871,0.511751010786626,0.12943475699491555,0.4199813638906839,0.4473074965399259,0.7940824473249178,0.42408868876476247,0.3424369079724126,0.18278213133233698,0.6955096529310149,0.46209323520869633,0.04507835537431685,0.41855537538349413,0.7137367756635588,0.8756843548620512,0.029716270989606282,0.9107276140296494,0.8013287437154579,0.07860148282656515,0.9249658202403066,0.8473453148488632,0.003797092011103915,0.9299085382045752,0.36268022347366446,0.5508554841162895,0.9034279020984787,0.26268786343871053,0.3542709030929352,0.1981123491181584,0.4041863570009295,0.01630273881196172,0.09035469362994408,0.4404142682628773,0.09754137652811658,0.013144442352067884,0.05314851321892278,0.9155078334340396,0.663811218302609,0.7535952975757398,0.7214515366225743,0.31229397436245065,0.9929536776584358,0.3141607732112337,0.9753984305893064,0.8352265762329225,0.8581312852251023,0.7854016929796904,0.9863640968624335,0.023205872635918612,0.8967858091447436,0.9830375299710024,0.2517676182332298,0.5506039585688169,0.4872170293178489,0.20366880446843283,0.7645384086130832,0.5818424725820508,0.7667545335212511,0.8691258797743944,0.5438795944414472,0.5313945838862073,0.06981778567182728,0.14432455885425421,0.7785957743314075,0.6792069141190531,0.37173854157875225,0.6046640871114396,0.32101399885537757,0.7005923333114908,0.8225358416431284,0.11420843755556663,0.24691639572704044,0.047733446139718146,0.3571499462039908,0.612671845877856,0.8543916371904274,0.6896363187998702,0.9545101076152689,0.527453647240742,0.6927241988911872,0.11802620911878822],\"opacity\":0.5,\"alphahull\":5,\"color\":\"cyan\"}];\n",
       "            var layout = {\"scene\":{\"xaxis\":{\"showspikes\":false,\"showbackground\":true,\"backgroundcolor\":\"rgb(229, 236, 246)\"},\"yaxis\":{\"showspikes\":false,\"showbackground\":true,\"backgroundcolor\":\"rgb(229, 236, 246)\"},\"zaxis\":{\"showspikes\":false,\"showbackground\":true,\"backgroundcolor\":\"rgb(229, 236, 246)\"}},\"width\":700.0,\"margin\":{\"l\":10.0,\"r\":20.0,\"t\":10.0,\"b\":10.0}};\n",
       "            var config = {};\n",
       "            Plotly.newPlot('304dc545-e510-4f8f-8cc4-7c9f54810438', data, layout, config);\r\n",
       "});\n",
       "            };\n",
       "            if ((typeof(requirejs) !==  typeof(Function)) || (typeof(requirejs.config) !== typeof(Function))) {\n",
       "                var script = document.createElement(\"script\");\n",
       "                script.setAttribute(\"src\", \"https://cdnjs.cloudflare.com/ajax/libs/require.js/2.3.6/require.min.js\");\n",
       "                script.onload = function(){\n",
       "                    renderPlotly_304dc545e5104f8f8cc47c9f54810438();\n",
       "                };\n",
       "                document.getElementsByTagName(\"head\")[0].appendChild(script);\n",
       "            }\n",
       "            else {\n",
       "                renderPlotly_304dc545e5104f8f8cc47c9f54810438();\n",
       "            }\r\n",
       "</script>\r\n"
      ]
     },
     "metadata": {}
    }
   ],
   "metadata": {
    "dotnet_interactive": {
     "language": "fsharp"
    }
   }
  },
  {
   "cell_type": "markdown",
   "source": [
    "# 3D Mesh Tetrahedron\r\n",
    "\r\n",
    "*Summary:* In this example we use the i, j and k parameters to specify manually the geometry of the triangles of the mesh."
   ],
   "metadata": {}
  },
  {
   "cell_type": "code",
   "execution_count": null,
   "source": [
    "open System\r\n",
    "open Plotly.NET \r\n",
    "\r\n",
    "             \r\n",
    "let N = 50\r\n",
    "let rnd = System.Random()\r\n",
    "\r\n",
    "let mirroredXAxis =\r\n",
    "    Axis.LinearAxis.init(\r\n",
    "        Showspikes = false,\r\n",
    "        Backgroundcolor =\"rgb(229, 236, 246)\",\r\n",
    "        Showbackground=true\r\n",
    "    )\r\n",
    "\r\n",
    "let mirroredLogYAxis = \r\n",
    "    Axis.LinearAxis.init(\r\n",
    "        Showspikes = false,\r\n",
    "        Backgroundcolor =\"rgb(229, 236, 246)\",\r\n",
    "        Showbackground=true\r\n",
    "    )\r\n",
    "let mirroredZAxis =\r\n",
    "    Axis.LinearAxis.init(\r\n",
    "        Showspikes = false,\r\n",
    "        Backgroundcolor =\"rgb(229, 236, 246)\",\r\n",
    "        Showbackground=true\r\n",
    "    )\r\n",
    "\r\n",
    "let margin =Margin.init(Left =10.0, Bottom=10.0,Top =10.0, Right  = 20.0 )\r\n",
    "let layout = Layout.init(Width= 700.,  Margin=margin)\r\n",
    "let customColorscale = StyleParam.Colorscale.Custom [(0.0,\"gold\");(0.5,\"mediumturquoise\");(1.0,\"magenta\")]\r\n",
    "// let marker = Marker.init(Colorscale=StyleParam.Colorscale.Viridis, Showscale=true);\r\n",
    "// marker?color <-customColorscale; \r\n",
    "\r\n",
    "\r\n",
    "let mesh3d =\r\n",
    "        Trace3d.initMesh3d (fun mesh3d ->\r\n",
    "            mesh3d?x <-seq{0; 1; 2; 0}\r\n",
    "            mesh3d?y <-seq{0; 0; 1; 2}\r\n",
    "            mesh3d?z <-seq{0; 2; 0; 1}\r\n",
    "            mesh3d?i<- seq{0; 0; 0; 1}\r\n",
    "            mesh3d?j<-seq{1; 2; 3; 2}\r\n",
    "            mesh3d?k<-seq{2; 3; 1; 3}\r\n",
    "            mesh3d?opacity<-0.5\r\n",
    "            //mesh3d?colors <-customColorscale\r\n",
    "            mesh3d?colorscale <- StyleParam.Colorscale.Custom (seq<float*string> {(1.0,\"gold\");(0.5,\"mediumturquoise\");(1.0,\"magenta\")})\r\n",
    "            mesh3d?intensity<-seq{0.; 0.33; 0.66; 1.}\r\n",
    "            mesh3d?showscale  <- true\r\n",
    "            mesh3d\r\n",
    "            )         \r\n",
    "        |> GenericChart.ofTraceObject \r\n",
    "        |> Chart.withX_Axis  mirroredXAxis\r\n",
    "        |> Chart.withY_Axis  mirroredLogYAxis\r\n",
    "        |> Chart.withZ_Axis  mirroredZAxis\r\n",
    "        |> Chart.withLayout layout\r\n",
    "        |> Chart.withMarker marker\r\n",
    "        "
   ],
   "outputs": [],
   "metadata": {
    "dotnet_interactive": {
     "language": "fsharp"
    }
   }
  },
  {
   "cell_type": "code",
   "execution_count": null,
   "source": [
    "mesh3d\r\n"
   ],
   "outputs": [
    {
     "data": {
      "text/html": [
       "<div id=\"06e7f793-bc00-485d-b6b9-1c4854e169b7\" style=\"width: 600px; height: 600px;\"><!-- Plotly chart will be drawn inside this DIV --></div>\r\n",
       "<script type=\"text/javascript\">\r\n",
       "\n",
       "            var renderPlotly_06e7f793bc00485db6b91c4854e169b7 = function() {\n",
       "            var fsharpPlotlyRequire = requirejs.config({context:'fsharp-plotly',paths:{plotly:'https://cdn.plot.ly/plotly-latest.min'}}) || require;\n",
       "            fsharpPlotlyRequire(['plotly'], function(Plotly) {\r\n",
       "\n",
       "            var data = [{\"type\":\"mesh3d\",\"x\":[0,1,2,0],\"y\":[0,0,1,2],\"z\":[0,2,0,1],\"i\":[0,0,0,1],\"j\":[1,2,3,2],\"k\":[2,3,1,3],\"opacity\":0.5,\"intensity\":[0.0,0.33,0.66,1.0],\"showscale\":true,\"marker\":{\"colorscale\":\"Viridis\",\"showscale\":true,\"color\":{\"Case\":\"Custom\",\"Fields\":[[{\"Item1\":0.0,\"Item2\":\"gold\"},{\"Item1\":0.5,\"Item2\":\"mediumturquoise\"},{\"Item1\":1.0,\"Item2\":\"magenta\"}]]}}}];\n",
       "            var layout = {\"scene\":{\"xaxis\":{\"showspikes\":false,\"showbackground\":true,\"backgroundcolor\":\"rgb(229, 236, 246)\"},\"yaxis\":{\"showspikes\":false,\"showbackground\":true,\"backgroundcolor\":\"rgb(229, 236, 246)\"},\"zaxis\":{\"showspikes\":false,\"showbackground\":true,\"backgroundcolor\":\"rgb(229, 236, 246)\"}},\"width\":700.0,\"margin\":{\"l\":10.0,\"r\":20.0,\"t\":10.0,\"b\":10.0}};\n",
       "            var config = {};\n",
       "            Plotly.newPlot('06e7f793-bc00-485d-b6b9-1c4854e169b7', data, layout, config);\r\n",
       "});\n",
       "            };\n",
       "            if ((typeof(requirejs) !==  typeof(Function)) || (typeof(requirejs.config) !== typeof(Function))) {\n",
       "                var script = document.createElement(\"script\");\n",
       "                script.setAttribute(\"src\", \"https://cdnjs.cloudflare.com/ajax/libs/require.js/2.3.6/require.min.js\");\n",
       "                script.onload = function(){\n",
       "                    renderPlotly_06e7f793bc00485db6b91c4854e169b7();\n",
       "                };\n",
       "                document.getElementsByTagName(\"head\")[0].appendChild(script);\n",
       "            }\n",
       "            else {\n",
       "                renderPlotly_06e7f793bc00485db6b91c4854e169b7();\n",
       "            }\r\n",
       "</script>\r\n"
      ]
     },
     "metadata": {},
     "output_type": "display_data"
    }
   ],
   "metadata": {
    "dotnet_interactive": {
     "language": "fsharp"
    }
   }
  },
  {
   "cell_type": "markdown",
   "source": [
    "#  Mesh Cube\r\n"
   ],
   "metadata": {}
  },
  {
   "cell_type": "code",
   "execution_count": null,
   "source": [
    "let size = 100\r\n",
    "let rnd = System.Random()\r\n",
    "\r\n",
    "let linspace (min,max,n) = \r\n",
    "    if n <= 2 then failwithf \"n needs to be larger then 2\"\r\n",
    "    let bw = float (max - min) / (float n - 1.)\r\n",
    "    Array.init n (fun i -> min + (bw * float i))\r\n",
    "\r\n",
    "let x = linspace(-2. * Math.PI, 2. * Math.PI, size)\r\n",
    "let y = linspace(-2. * Math.PI, 2. * Math.PI, size)\r\n",
    "\r\n",
    "let f x y = - (5. * x / (x**2. + y**2. + 1.) )\r\n",
    "\r\n",
    "let z = \r\n",
    "    Array.init size (fun i -> \r\n",
    "        Array.init size (fun j -> \r\n",
    "            f x.[j] y.[i] \r\n",
    "        )\r\n",
    "    )\r\n",
    "\r\n",
    "let mirroredXAxis =\r\n",
    "    Axis.LinearAxis.init(\r\n",
    "        Showspikes = false,\r\n",
    "        Backgroundcolor =\"rgb(229, 236, 246)\",\r\n",
    "        Showbackground=true\r\n",
    "    )\r\n",
    "\r\n",
    "let mirroredLogYAxis = \r\n",
    "    Axis.LinearAxis.init(\r\n",
    "        Showspikes = false,\r\n",
    "        Backgroundcolor =\"rgb(229, 236, 246)\",\r\n",
    "        Showbackground=true\r\n",
    "    )\r\n",
    "let mirroredZAxis =\r\n",
    "    Axis.LinearAxis.init(\r\n",
    "        Showspikes = false,\r\n",
    "        Backgroundcolor =\"rgb(229, 236, 246)\",\r\n",
    "        Showbackground=true\r\n",
    "    )\r\n",
    "\r\n",
    "let margin =Margin.init(Left =10.0, Bottom=10.0,Top =10.0, Right  = 20.0 )\r\n",
    "let layout = Layout.init(Width= 700.,  Margin=margin)\r\n",
    "\r\n",
    "let meshcube3d =\r\n",
    "        Trace3d.initMesh3d (fun mesh3d ->\r\n",
    "            mesh3d?x <-seq{0; 0; 1; 1; 0; 0; 1; 1}\r\n",
    "            mesh3d?y <-seq{0; 1; 1; 0; 0; 1; 1; 0}\r\n",
    "            mesh3d?z <-seq{0; 0; 0; 1; 1; 1; 1; 1}\r\n",
    "            mesh3d?i<- seq{7; 0; 0; 0; 4; 4; 6; 6; 4; 0; 3; 2}\r\n",
    "            mesh3d?j<-seq{3; 4; 1; 2; 5; 6; 5; 2; 0; 1; 6; 3}\r\n",
    "            mesh3d?k<-seq{0; 7; 2; 3; 6; 7; 1; 1; 5; 5; 7; 6}\r\n",
    "            mesh3d?opacity<-0.5\r\n",
    "            mesh3d?colorscale <- StyleParam.Colorscale.Custom (seq<float*string> {(1.0,\"gold\");(0.5,\"mediumturquoise\");(1.0,\"magenta\")})\r\n",
    "            mesh3d?intensity<- seq{ 0.1 ;  0.1;  0.2;  0.3;  0.4;  0.5;  0.6;  0.8 }\r\n",
    "            mesh3d?showscale  <- true\r\n",
    "            //mesh3d?Intensityscr <-\"cell\"\r\n",
    "            mesh3d\r\n",
    "            )         \r\n",
    "        |> GenericChart.ofTraceObject\r\n",
    "        |> Chart.withX_Axis  mirroredXAxis\r\n",
    "        |> Chart.withY_Axis  mirroredLogYAxis\r\n",
    "        |> Chart.withZ_Axis  mirroredZAxis\r\n",
    "        |> Chart.withLayout layout"
   ],
   "outputs": [],
   "metadata": {
    "dotnet_interactive": {
     "language": "fsharp"
    }
   }
  },
  {
   "cell_type": "code",
   "execution_count": null,
   "source": [
    "meshcube3d"
   ],
   "outputs": [
    {
     "data": {
      "text/html": [
       "<div id=\"10b7c6c3-214b-44e6-8585-10f871fb4f9a\" style=\"width: 600px; height: 600px;\"><!-- Plotly chart will be drawn inside this DIV --></div>\r\n",
       "<script type=\"text/javascript\">\r\n",
       "\n",
       "            var renderPlotly_10b7c6c3214b44e6858510f871fb4f9a = function() {\n",
       "            var fsharpPlotlyRequire = requirejs.config({context:'fsharp-plotly',paths:{plotly:'https://cdn.plot.ly/plotly-latest.min'}}) || require;\n",
       "            fsharpPlotlyRequire(['plotly'], function(Plotly) {\r\n",
       "\n",
       "            var data = [{\"type\":\"mesh3d\",\"x\":[0,0,1,1,0,0,1,1],\"y\":[0,1,1,0,0,1,1,0],\"z\":[0,0,0,1,1,1,1,1],\"i\":[7,0,0,0,4,4,6,6,4,0,3,2],\"j\":[3,4,1,2,5,6,5,2,0,1,6,3],\"k\":[0,7,2,3,6,7,1,1,5,5,7,6],\"opacity\":0.5,\"colorscale\":{\"Case\":\"Custom\",\"Fields\":[[{\"Item1\":1.0,\"Item2\":\"gold\"},{\"Item1\":0.5,\"Item2\":\"mediumturquoise\"},{\"Item1\":1.0,\"Item2\":\"magenta\"}]]},\"intensity\":[0.1,0.1,0.2,0.3,0.4,0.5,0.6,0.8],\"showscale\":true}];\n",
       "            var layout = {\"scene\":{\"xaxis\":{\"showspikes\":false,\"showbackground\":true,\"backgroundcolor\":\"rgb(229, 236, 246)\"},\"yaxis\":{\"showspikes\":false,\"showbackground\":true,\"backgroundcolor\":\"rgb(229, 236, 246)\"},\"zaxis\":{\"showspikes\":false,\"showbackground\":true,\"backgroundcolor\":\"rgb(229, 236, 246)\"}},\"width\":700.0,\"margin\":{\"l\":10.0,\"r\":20.0,\"t\":10.0,\"b\":10.0}};\n",
       "            var config = {};\n",
       "            Plotly.newPlot('10b7c6c3-214b-44e6-8585-10f871fb4f9a', data, layout, config);\r\n",
       "});\n",
       "            };\n",
       "            if ((typeof(requirejs) !==  typeof(Function)) || (typeof(requirejs.config) !== typeof(Function))) {\n",
       "                var script = document.createElement(\"script\");\n",
       "                script.setAttribute(\"src\", \"https://cdnjs.cloudflare.com/ajax/libs/require.js/2.3.6/require.min.js\");\n",
       "                script.onload = function(){\n",
       "                    renderPlotly_10b7c6c3214b44e6858510f871fb4f9a();\n",
       "                };\n",
       "                document.getElementsByTagName(\"head\")[0].appendChild(script);\n",
       "            }\n",
       "            else {\n",
       "                renderPlotly_10b7c6c3214b44e6858510f871fb4f9a();\n",
       "            }\r\n",
       "</script>\r\n"
      ]
     },
     "metadata": {},
     "output_type": "display_data"
    }
   ],
   "metadata": {
    "dotnet_interactive": {
     "language": "fsharp"
    }
   }
  },
  {
   "cell_type": "markdown",
   "source": [
    "# Intensity values defined on vertices or cells\r\n"
   ],
   "metadata": {}
  },
  {
   "cell_type": "code",
   "execution_count": null,
   "source": [
    "let size = 100\r\n",
    "let rnd = System.Random()\r\n",
    "\r\n",
    "let linspace (min,max,n) = \r\n",
    "    if n <= 2 then failwithf \"n needs to be larger then 2\"\r\n",
    "    let bw = float (max - min) / (float n - 1.)\r\n",
    "    Array.init n (fun i -> min + (bw * float i))\r\n",
    "\r\n",
    "let x = linspace(-2. * Math.PI, 2. * Math.PI, size)\r\n",
    "let y = linspace(-2. * Math.PI, 2. * Math.PI, size)\r\n",
    "\r\n",
    "let f x y = - (5. * x / (x**2. + y**2. + 1.) )\r\n",
    "\r\n",
    "let z = \r\n",
    "    Array.init size (fun i -> \r\n",
    "        Array.init size (fun j -> \r\n",
    "            f x.[j] y.[i] \r\n",
    "        )\r\n",
    "    )\r\n",
    "\r\n",
    "let mirroredXAxis =\r\n",
    "    Axis.LinearAxis.init(\r\n",
    "        Showspikes = false,\r\n",
    "        Backgroundcolor =\"rgb(229, 236, 246)\",\r\n",
    "        Showbackground=true\r\n",
    "    )\r\n",
    "\r\n",
    "let mirroredLogYAxis = \r\n",
    "    Axis.LinearAxis.init(\r\n",
    "        Showspikes = false,\r\n",
    "        Backgroundcolor =\"rgb(229, 236, 246)\",\r\n",
    "        Showbackground=true\r\n",
    "    )\r\n",
    "let mirroredZAxis =\r\n",
    "    Axis.LinearAxis.init(\r\n",
    "        Showspikes = false,\r\n",
    "        Backgroundcolor =\"rgb(229, 236, 246)\",\r\n",
    "        Showbackground=true\r\n",
    "    )\r\n",
    "\r\n",
    "let margin =Margin.init(Left =10.0, Bottom=10.0,Top =10.0, Right  = 20.0 )\r\n",
    "let layout = Layout.init(Width= 700.,  Margin=margin)\r\n",
    "\r\n",
    "let meshcube3d =\r\n",
    "        Trace3d.initMesh3d (fun mesh3d ->\r\n",
    "            mesh3d?x <-seq{0; 0; 1; 1; 0; 0; 1; 1}\r\n",
    "            mesh3d?y <-seq{0; 1; 1; 0; 0; 1; 1; 0}\r\n",
    "            mesh3d?z <-seq{0; 0; 0; 1; 1; 1; 1; 1}\r\n",
    "            mesh3d?i<- seq{7; 0; 0; 0; 4; 4; 6; 6; 4; 0; 3; 2}\r\n",
    "            mesh3d?j<-seq{3; 4; 1; 2; 5; 6; 5; 2; 0; 1; 6; 3}\r\n",
    "            mesh3d?k<-seq{0; 7; 2; 3; 6; 7; 1; 1; 5; 5; 7; 6}\r\n",
    "            mesh3d?opacity<-0.5\r\n",
    "            mesh3d?colorscale <- StyleParam.Colorscale.Custom (seq<float*string> {(1.0,\"gold\");(0.5,\"mediumturquoise\");(1.0,\"magenta\")})\r\n",
    "            mesh3d?intensity<- seq{ 0.1 ;  0.1;  0.2;  0.3;  0.4;  0.5;  0.6;  0.8 }\r\n",
    "            mesh3d?showscale  <- true\r\n",
    "           // mesh3d?Intensityscr <-\"cell\"\r\n",
    "            mesh3d?intensitymode <-\"cell\"\r\n",
    "            mesh3d\r\n",
    "            )         \r\n",
    "        |> GenericChart.ofTraceObject\r\n",
    "        |> Chart.withX_Axis  mirroredXAxis\r\n",
    "        |> Chart.withY_Axis  mirroredLogYAxis\r\n",
    "        |> Chart.withZ_Axis  mirroredZAxis\r\n",
    "        |> Chart.withLayout layout"
   ],
   "outputs": [],
   "metadata": {
    "dotnet_interactive": {
     "language": "fsharp"
    }
   }
  },
  {
   "cell_type": "code",
   "execution_count": null,
   "source": [
    "meshcube3d"
   ],
   "outputs": [
    {
     "data": {
      "text/html": [
       "<div id=\"ce067b4e-1e4d-4515-9db6-95b0f5fecaad\" style=\"width: 600px; height: 600px;\"><!-- Plotly chart will be drawn inside this DIV --></div>\r\n",
       "<script type=\"text/javascript\">\r\n",
       "\n",
       "            var renderPlotly_ce067b4e1e4d45159db695b0f5fecaad = function() {\n",
       "            var fsharpPlotlyRequire = requirejs.config({context:'fsharp-plotly',paths:{plotly:'https://cdn.plot.ly/plotly-latest.min'}}) || require;\n",
       "            fsharpPlotlyRequire(['plotly'], function(Plotly) {\r\n",
       "\n",
       "            var data = [{\"type\":\"mesh3d\",\"x\":[0,0,1,1,0,0,1,1],\"y\":[0,1,1,0,0,1,1,0],\"z\":[0,0,0,1,1,1,1,1],\"i\":[7,0,0,0,4,4,6,6,4,0,3,2],\"j\":[3,4,1,2,5,6,5,2,0,1,6,3],\"k\":[0,7,2,3,6,7,1,1,5,5,7,6],\"opacity\":0.5,\"colorscale\":{\"Case\":\"Custom\",\"Fields\":[[{\"Item1\":1.0,\"Item2\":\"gold\"},{\"Item1\":0.5,\"Item2\":\"mediumturquoise\"},{\"Item1\":1.0,\"Item2\":\"magenta\"}]]},\"intensity\":[0.1,0.1,0.2,0.3,0.4,0.5,0.6,0.8],\"showscale\":true,\"intensitymode\":\"cell\"}];\n",
       "            var layout = {\"scene\":{\"xaxis\":{\"showspikes\":false,\"showbackground\":true,\"backgroundcolor\":\"rgb(229, 236, 246)\"},\"yaxis\":{\"showspikes\":false,\"showbackground\":true,\"backgroundcolor\":\"rgb(229, 236, 246)\"},\"zaxis\":{\"showspikes\":false,\"showbackground\":true,\"backgroundcolor\":\"rgb(229, 236, 246)\"}},\"width\":700.0,\"margin\":{\"l\":10.0,\"r\":20.0,\"t\":10.0,\"b\":10.0}};\n",
       "            var config = {};\n",
       "            Plotly.newPlot('ce067b4e-1e4d-4515-9db6-95b0f5fecaad', data, layout, config);\r\n",
       "});\n",
       "            };\n",
       "            if ((typeof(requirejs) !==  typeof(Function)) || (typeof(requirejs.config) !== typeof(Function))) {\n",
       "                var script = document.createElement(\"script\");\n",
       "                script.setAttribute(\"src\", \"https://cdnjs.cloudflare.com/ajax/libs/require.js/2.3.6/require.min.js\");\n",
       "                script.onload = function(){\n",
       "                    renderPlotly_ce067b4e1e4d45159db695b0f5fecaad();\n",
       "                };\n",
       "                document.getElementsByTagName(\"head\")[0].appendChild(script);\n",
       "            }\n",
       "            else {\n",
       "                renderPlotly_ce067b4e1e4d45159db695b0f5fecaad();\n",
       "            }\r\n",
       "</script>\r\n"
      ]
     },
     "metadata": {},
     "output_type": "display_data"
    }
   ],
   "metadata": {
    "dotnet_interactive": {
     "language": "fsharp"
    }
   }
  }
 ],
 "metadata": {
  "kernelspec": {
   "display_name": ".NET (F#)",
   "language": "F#",
   "name": ".net-fsharp"
  },
  "langauge_info": {
   "file_extension": ".fs",
   "mimetype": "text/x-fsharp",
   "name": "C#",
   "pygments_lexer": "fsharp",
   "version": "4.5"
  }
 },
 "nbformat": 4,
 "nbformat_minor": 1
}
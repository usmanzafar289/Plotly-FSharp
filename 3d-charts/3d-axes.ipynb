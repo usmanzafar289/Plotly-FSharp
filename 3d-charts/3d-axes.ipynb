{
 "metadata": {
  "kernelspec": {
   "display_name": ".NET (F#)",
   "language": "F#",
   "name": ".net-fsharp"
  },
  "language_info": {
   "name": "F#"
  }
 },
 "cells": [
  {
   "cell_type": "code",
   "execution_count": null,
   "source": [
    "#r \"nuget: Plotly.NET, 2.0.0-preview.6\"\r\n",
    "#r \"nuget: Plotly.NET.Interactive, 2.0.0-preview.6\""
   ],
   "outputs": [
    {
     "output_type": "display_data",
     "data": {
      "text/html": [
       "<div><div></div><div></div><div><strong>Installed Packages</strong><ul><li><span>Plotly.NET, 2.0.0-preview.6</span></li><li><span>Plotly.NET.Interactive, 2.0.0-preview.6</span></li></ul></div></div>"
      ]
     },
     "metadata": {}
    },
    {
     "output_type": "display_data",
     "data": {
      "text/markdown": [
       "Loading extensions from `Plotly.NET.Interactive.dll`"
      ]
     },
     "metadata": {}
    },
    {
     "output_type": "display_data",
     "data": {
      "text/markdown": [
       "Added Kernel Extension including formatters for Plotly.NET charts."
      ]
     },
     "metadata": {}
    }
   ],
   "metadata": {
    "dotnet_interactive": {
     "language": "fsharp"
    }
   }
  },
  {
   "cell_type": "markdown",
   "source": [
    "# Range of axes\r\n",
    " 3D figures have an attribute in layout called scene, which contains attributes such as xaxis, yaxis and zaxis parameters, in order to set the range, title, ticks, color etc. of the axes."
   ],
   "metadata": {}
  },
  {
   "cell_type": "code",
   "execution_count": null,
   "source": [
    "open System\r\n",
    "open Plotly.NET \r\n",
    "             \r\n",
    "let N = 70\r\n",
    "let rnd = System.Random()\r\n",
    "let x = Array.init N (fun _ -> rnd.Next(-70, 100))\r\n",
    "let y = Array.init N (fun _ -> rnd.Next(-60, 100))\r\n",
    "let z = Array.init N (fun _ -> rnd.Next(-40, 100))\r\n",
    "let color = \"rgba(244,22,100,0.6)\"\r\n",
    "\r\n",
    "let mirroredXAxis =\r\n",
    "    Axis.LinearAxis.init(\r\n",
    "       \r\n",
    "        Showline = true,\r\n",
    "        Mirror = StyleParam.Mirror.AllTicks,\r\n",
    "        Showgrid = true,\r\n",
    "        Backgroundcolor =\"rgb(229, 236, 246)\",\r\n",
    "        Gridcolor=\"white\",\r\n",
    "        Showbackground=true,\r\n",
    "        Zerolinecolor=\"white\"\r\n",
    "        \r\n",
    "    )\r\n",
    "\r\n",
    "let mirroredLogYAxis = \r\n",
    "    Axis.LinearAxis.init(\r\n",
    "      \r\n",
    "        Showline = true,\r\n",
    "        Mirror = StyleParam.Mirror.AllTicks,\r\n",
    "        Showgrid = true,\r\n",
    "        Backgroundcolor =\"rgb(229, 236, 246)\",\r\n",
    "        Gridcolor=\"white\",\r\n",
    "        Showbackground=true,\r\n",
    "        Zerolinecolor=\"white\"\r\n",
    "       \r\n",
    "    )\r\n",
    "let mirroredZAxis =\r\n",
    "    Axis.LinearAxis.init(\r\n",
    "       \r\n",
    "        Showline = true,\r\n",
    "        Mirror = StyleParam.Mirror.AllTicks,\r\n",
    "        Showgrid = true,\r\n",
    "        Backgroundcolor =\"rgb(229, 236, 246)\",\r\n",
    "        Gridcolor=\"white\",\r\n",
    "        Showbackground=true,\r\n",
    "        Zerolinecolor=\"white\"\r\n",
    "    )\r\n",
    "\r\n",
    "let margin =Margin.init(Left =10.0, Bottom=10.0,Top =10.0, Right  = 20.0 )\r\n",
    "let layout = Layout.init(Width= 700.,  Margin=margin)\r\n",
    "\r\n",
    "let mesh3d =\r\n",
    "        Trace3d.initMesh3d (fun mesh3d ->\r\n",
    "            mesh3d?x <- x\r\n",
    "            mesh3d?y <-y\r\n",
    "            mesh3d?z <- z\r\n",
    "            mesh3d?flatshading <- true\r\n",
    "            mesh3d?contour <- Contours.initXyz(Show=true)\r\n",
    "            mesh3d?color <- \"rgba(244,22,100,0.6)\"\r\n",
    "            mesh3d?opacity<-0.5\r\n",
    "            mesh3d\r\n",
    "            )         \r\n",
    "        |> GenericChart.ofTraceObject\r\n",
    "        |> Chart.withX_Axis  mirroredXAxis\r\n",
    "        |> Chart.withY_Axis  mirroredLogYAxis\r\n",
    "        |> Chart.withZ_Axis  mirroredZAxis\r\n",
    "        |> Chart.withX_AxisStyle (\"X\", MinMax = (-100.,100.))\r\n",
    "        |> Chart.withY_AxisStyle (\"Y\", MinMax = (-50.,100.))\r\n",
    "        |> Chart.withZ_AxisStyle (\"Z\", MinMax = (-100.,100.))\r\n",
    "        |> Chart.withLayout layout"
   ],
   "outputs": [],
   "metadata": {
    "dotnet_interactive": {
     "language": "fsharp"
    }
   }
  },
  {
   "cell_type": "code",
   "execution_count": null,
   "source": [
    "mesh3d"
   ],
   "outputs": [
    {
     "output_type": "display_data",
     "data": {
      "text/html": [
       "<div id=\"ef4e89bb-31c3-4bd1-8084-e14d3fff5b92\" style=\"width: 600px; height: 600px;\"><!-- Plotly chart will be drawn inside this DIV --></div>\r\n",
       "<script type=\"text/javascript\">\r\n",
       "\n",
       "            var renderPlotly_ef4e89bb31c34bd18084e14d3fff5b92 = function() {\n",
       "            var fsharpPlotlyRequire = requirejs.config({context:'fsharp-plotly',paths:{plotly:'https://cdn.plot.ly/plotly-latest.min'}}) || require;\n",
       "            fsharpPlotlyRequire(['plotly'], function(Plotly) {\r\n",
       "\n",
       "            var data = [{\"type\":\"mesh3d\",\"x\":[-69,47,34,8,-54,88,8,33,8,25,-29,52,-64,97,35,80,-25,71,55,-45,94,40,-18,-12,36,62,58,35,96,-48,22,84,14,-22,-57,31,69,-49,-31,65,50,90,-20,85,-25,-16,-41,-65,-69,-12,-8,-1,78,-30,82,-9,-6,-25,71,-17,-41,72,37,-15,-68,-14,-33,58,83,-66],\"y\":[-50,-38,35,90,10,-56,-4,3,-48,-11,37,55,38,41,62,-39,-55,-18,2,55,-26,28,-13,87,39,79,-10,94,84,89,-44,7,-40,97,-16,-23,70,89,66,79,-60,97,-30,24,53,12,-25,99,30,80,-13,93,-2,-31,68,21,74,47,-9,31,54,2,18,-38,-28,-31,35,41,-4,25],\"z\":[5,-26,25,32,60,-8,11,68,-11,-17,50,4,16,-37,49,-20,-33,92,-16,68,14,-21,45,-10,-19,46,29,-34,4,33,80,42,50,-36,37,-14,27,78,25,40,-21,-31,24,-19,89,15,97,24,30,-32,-22,50,23,41,-21,-15,29,-5,10,-26,63,4,23,56,3,-32,54,12,26,22],\"flatshading\":true,\"contour\":{\"x\":{\"show\":true},\"y\":{\"show\":true},\"z\":{\"show\":true}},\"color\":\"rgba(244,22,100,0.6)\",\"opacity\":0.5}];\n",
       "            var layout = {\"scene\":{\"xaxis\":{\"mirror\":\"allticks\",\"showline\":true,\"showgrid\":true,\"gridcolor\":\"white\",\"zerolinecolor\":\"white\",\"showbackground\":true,\"backgroundcolor\":\"rgb(229, 236, 246)\",\"title\":\"X\",\"range\":[-100.0,100.0]},\"yaxis\":{\"mirror\":\"allticks\",\"showline\":true,\"showgrid\":true,\"gridcolor\":\"white\",\"zerolinecolor\":\"white\",\"showbackground\":true,\"backgroundcolor\":\"rgb(229, 236, 246)\",\"title\":\"Y\",\"range\":[-50.0,100.0]},\"zaxis\":{\"mirror\":\"allticks\",\"showline\":true,\"showgrid\":true,\"gridcolor\":\"white\",\"zerolinecolor\":\"white\",\"showbackground\":true,\"backgroundcolor\":\"rgb(229, 236, 246)\",\"title\":\"Z\",\"range\":[-100.0,100.0]}},\"width\":700.0,\"margin\":{\"l\":10.0,\"r\":20.0,\"t\":10.0,\"b\":10.0}};\n",
       "            var config = {};\n",
       "            Plotly.newPlot('ef4e89bb-31c3-4bd1-8084-e14d3fff5b92', data, layout, config);\r\n",
       "});\n",
       "            };\n",
       "            if ((typeof(requirejs) !==  typeof(Function)) || (typeof(requirejs.config) !== typeof(Function))) {\n",
       "                var script = document.createElement(\"script\");\n",
       "                script.setAttribute(\"src\", \"https://cdnjs.cloudflare.com/ajax/libs/require.js/2.3.6/require.min.js\");\n",
       "                script.onload = function(){\n",
       "                    renderPlotly_ef4e89bb31c34bd18084e14d3fff5b92();\n",
       "                };\n",
       "                document.getElementsByTagName(\"head\")[0].appendChild(script);\n",
       "            }\n",
       "            else {\n",
       "                renderPlotly_ef4e89bb31c34bd18084e14d3fff5b92();\n",
       "            }\r\n",
       "</script>\r\n"
      ]
     },
     "metadata": {}
    }
   ],
   "metadata": {
    "dotnet_interactive": {
     "language": "fsharp"
    }
   }
  },
  {
   "cell_type": "markdown",
   "source": [
    "# Set Axes Title\r\n"
   ],
   "metadata": {}
  },
  {
   "cell_type": "code",
   "execution_count": null,
   "source": [
    "open System\r\n",
    "open Plotly.NET \r\n",
    "\r\n",
    "                   \r\n",
    "let N = 50\r\n",
    "let rnd = System.Random()\r\n",
    "let x = Array.init N (fun _ -> rnd.Next(-60, 100))\r\n",
    "let y = Array.init N (fun _ -> rnd.Next(-25, 100))\r\n",
    "let z = Array.init N (fun _ -> rnd.Next(-40, 100))\r\n",
    "let color = \"rgba(244,22,100,0.6)\"\r\n",
    "\r\n",
    "let mirroredXAxis =\r\n",
    "    Axis.LinearAxis.init(\r\n",
    "       Title=\"X AXIS TITLE\",\r\n",
    "       Showline = true,\r\n",
    "        Mirror = StyleParam.Mirror.AllTicks,\r\n",
    "        Showgrid = true,\r\n",
    "        Backgroundcolor =\"rgb(200, 200, 230)\",\r\n",
    "        Gridcolor=\"white\",\r\n",
    "        Showbackground=true,\r\n",
    "        Zerolinecolor=\"white\"\r\n",
    "        \r\n",
    "    )\r\n",
    "\r\n",
    "let mirroredLogYAxis = \r\n",
    "    Axis.LinearAxis.init(\r\n",
    "       Title=\"Y AXIS TITLE\",\r\n",
    "        Showline = true,\r\n",
    "        Mirror = StyleParam.Mirror.AllTicks,\r\n",
    "        Showgrid = true,\r\n",
    "        Backgroundcolor =\"rgb(200, 200, 230)\",\r\n",
    "        Gridcolor=\"white\",\r\n",
    "        Showbackground=true,\r\n",
    "        Zerolinecolor=\"white\"\r\n",
    "       \r\n",
    "    )\r\n",
    "let mirroredZAxis =\r\n",
    "    Axis.LinearAxis.init(\r\n",
    "        Title=\"Z AXIS TITLE\",\r\n",
    "        Showline = true,\r\n",
    "        Mirror = StyleParam.Mirror.AllTicks,\r\n",
    "        Showgrid = true,\r\n",
    "        Backgroundcolor =\"rgb(200, 200, 230)\",\r\n",
    "        Gridcolor=\"white\",\r\n",
    "        Showbackground=true,\r\n",
    "        Zerolinecolor=\"white\"\r\n",
    "       \r\n",
    "    )\r\n",
    "\r\n",
    "let margin =Margin.init(Left =10.0, Bottom=10.0,Top =10.0, Right  = 20.0 )\r\n",
    "let layout = Layout.init(Width= 700.,  Margin=margin)\r\n",
    "\r\n",
    "let mesh3d1 =\r\n",
    "        Trace3d.initMesh3d (fun mesh3d ->\r\n",
    "            mesh3d?x <- Array.init N (fun _ -> rnd.Next(-60, 100))\r\n",
    "            mesh3d?y <- Array.init N (fun _ -> rnd.Next(-25, 100))\r\n",
    "            mesh3d?z <- Array.init N (fun _ -> rnd.Next(-40, 100))\r\n",
    "            mesh3d?flatshading <- true\r\n",
    "            mesh3d?contour <- Contours.initXyz(Show=true)\r\n",
    "            mesh3d?color <- \"yellow\"\r\n",
    "            mesh3d?opacity<-0.5\r\n",
    "            mesh3d\r\n",
    "            )\r\n",
    "            |> GenericChart.ofTraceObject\r\n",
    "        \r\n",
    "mesh3d1"
   ],
   "outputs": [
    {
     "output_type": "display_data",
     "data": {
      "text/html": [
       "<div id=\"0f1dfae0-f330-4e84-902b-3af7f97fd3b9\" style=\"width: 600px; height: 600px;\"><!-- Plotly chart will be drawn inside this DIV --></div>\r\n",
       "<script type=\"text/javascript\">\r\n",
       "\n",
       "            var renderPlotly_0f1dfae0f3304e84902b3af7f97fd3b9 = function() {\n",
       "            var fsharpPlotlyRequire = requirejs.config({context:'fsharp-plotly',paths:{plotly:'https://cdn.plot.ly/plotly-latest.min'}}) || require;\n",
       "            fsharpPlotlyRequire(['plotly'], function(Plotly) {\r\n",
       "\n",
       "            var data = [{\"type\":\"mesh3d\",\"x\":[-34,55,98,-8,-28,-45,-5,21,26,-4,-32,10,55,-25,45,-20,24,7,10,64,15,33,1,24,-49,98,23,-57,-40,-47,85,-13,32,-48,1,-39,-3,8,35,49,15,-53,54,54,75,66,36,-57,19,74],\"y\":[61,5,-18,35,46,47,17,32,7,2,46,15,23,32,30,84,82,55,79,40,86,-13,78,69,12,28,83,58,60,10,22,37,40,10,23,58,5,-14,38,75,74,87,-4,22,-11,-7,57,6,8,96],\"z\":[90,94,-14,96,92,43,18,2,-15,-20,59,54,69,97,76,-30,71,-27,-31,69,49,67,-21,-36,61,99,90,22,50,-19,67,46,15,59,9,18,3,37,7,71,-6,91,87,9,-27,-24,-24,-14,36,-36],\"flatshading\":true,\"contour\":{\"x\":{\"show\":true},\"y\":{\"show\":true},\"z\":{\"show\":true}},\"color\":\"yellow\",\"opacity\":0.5}];\n",
       "            var layout = {};\n",
       "            var config = {};\n",
       "            Plotly.newPlot('0f1dfae0-f330-4e84-902b-3af7f97fd3b9', data, layout, config);\r\n",
       "});\n",
       "            };\n",
       "            if ((typeof(requirejs) !==  typeof(Function)) || (typeof(requirejs.config) !== typeof(Function))) {\n",
       "                var script = document.createElement(\"script\");\n",
       "                script.setAttribute(\"src\", \"https://cdnjs.cloudflare.com/ajax/libs/require.js/2.3.6/require.min.js\");\n",
       "                script.onload = function(){\n",
       "                    renderPlotly_0f1dfae0f3304e84902b3af7f97fd3b9();\n",
       "                };\n",
       "                document.getElementsByTagName(\"head\")[0].appendChild(script);\n",
       "            }\n",
       "            else {\n",
       "                renderPlotly_0f1dfae0f3304e84902b3af7f97fd3b9();\n",
       "            }\r\n",
       "</script>\r\n"
      ]
     },
     "metadata": {}
    }
   ],
   "metadata": {
    "dotnet_interactive": {
     "language": "fsharp"
    }
   }
  },
  {
   "cell_type": "code",
   "execution_count": null,
   "source": [
    "let mesh3d2 =\r\n",
    "        Trace3d.initMesh3d (fun mesh3d ->\r\n",
    "            mesh3d?x <- Array.init N (fun _ -> rnd.Next(-70, 100))\r\n",
    "            mesh3d?y <- Array.init N (fun _ -> rnd.Next(-55, 100))\r\n",
    "            mesh3d?z <- Array.init N (fun _ -> rnd.Next(-30, 100))\r\n",
    "            mesh3d?flatshading <- true\r\n",
    "            mesh3d?contour <- Contours.initXyz(Show=true)\r\n",
    "            mesh3d?color <- \"pink\"\r\n",
    "            mesh3d?opacity<-0.5\r\n",
    "            mesh3d\r\n",
    "            )\r\n",
    "            |> GenericChart.ofTraceObject\r\n",
    "     \r\n",
    "mesh3d2\r\n"
   ],
   "outputs": [
    {
     "output_type": "display_data",
     "data": {
      "text/html": [
       "<div id=\"a7ec4b6d-8bb2-42dd-b480-e155656517b2\" style=\"width: 600px; height: 600px;\"><!-- Plotly chart will be drawn inside this DIV --></div>\r\n",
       "<script type=\"text/javascript\">\r\n",
       "\n",
       "            var renderPlotly_a7ec4b6d8bb242ddb480e155656517b2 = function() {\n",
       "            var fsharpPlotlyRequire = requirejs.config({context:'fsharp-plotly',paths:{plotly:'https://cdn.plot.ly/plotly-latest.min'}}) || require;\n",
       "            fsharpPlotlyRequire(['plotly'], function(Plotly) {\r\n",
       "\n",
       "            var data = [{\"type\":\"mesh3d\",\"x\":[-15,40,67,-58,10,83,19,-56,-65,-37,-69,0,28,-63,97,82,-9,73,42,-61,93,-35,47,21,60,46,72,-65,-64,62,-4,-34,3,93,89,-66,8,98,6,-46,39,-26,97,-2,-17,-60,10,1,47,35],\"y\":[41,85,32,15,40,-37,94,-13,-9,67,-45,21,-48,-16,69,68,97,40,-39,94,12,2,5,25,9,53,-20,-11,-21,54,-22,10,-3,9,-32,20,45,95,-2,72,-46,-26,51,47,-44,-32,-23,58,37,25],\"z\":[-20,80,10,64,-7,3,36,-25,-25,89,85,57,-24,47,44,54,-11,52,-18,11,-12,-29,5,7,86,2,58,64,28,4,33,34,59,60,51,16,-16,49,0,86,96,49,90,25,90,20,-13,-18,-19,25],\"flatshading\":true,\"contour\":{\"x\":{\"show\":true},\"y\":{\"show\":true},\"z\":{\"show\":true}},\"color\":\"pink\",\"opacity\":0.5}];\n",
       "            var layout = {};\n",
       "            var config = {};\n",
       "            Plotly.newPlot('a7ec4b6d-8bb2-42dd-b480-e155656517b2', data, layout, config);\r\n",
       "});\n",
       "            };\n",
       "            if ((typeof(requirejs) !==  typeof(Function)) || (typeof(requirejs.config) !== typeof(Function))) {\n",
       "                var script = document.createElement(\"script\");\n",
       "                script.setAttribute(\"src\", \"https://cdnjs.cloudflare.com/ajax/libs/require.js/2.3.6/require.min.js\");\n",
       "                script.onload = function(){\n",
       "                    renderPlotly_a7ec4b6d8bb242ddb480e155656517b2();\n",
       "                };\n",
       "                document.getElementsByTagName(\"head\")[0].appendChild(script);\n",
       "            }\n",
       "            else {\n",
       "                renderPlotly_a7ec4b6d8bb242ddb480e155656517b2();\n",
       "            }\r\n",
       "</script>\r\n"
      ]
     },
     "metadata": {}
    }
   ],
   "metadata": {
    "dotnet_interactive": {
     "language": "fsharp"
    }
   }
  },
  {
   "cell_type": "code",
   "execution_count": null,
   "source": [
    "let mesh3d =\r\n",
    "        [\r\n",
    "            mesh3d1 \r\n",
    "            mesh3d2\r\n",
    "        ]\r\n",
    "        |> Chart.Combine    \r\n",
    "        |> Chart.withX_Axis  mirroredXAxis\r\n",
    "        |> Chart.withY_Axis  mirroredLogYAxis\r\n",
    "        |> Chart.withZ_Axis  mirroredZAxis\r\n",
    "        |> Chart.withLayout layout "
   ],
   "outputs": [],
   "metadata": {
    "dotnet_interactive": {
     "language": "fsharp"
    }
   }
  },
  {
   "cell_type": "code",
   "execution_count": null,
   "source": [
    "mesh3d"
   ],
   "outputs": [
    {
     "output_type": "display_data",
     "data": {
      "text/html": [
       "<div id=\"5ef55b4d-2250-4932-b467-470c6b974e80\" style=\"width: 600px; height: 600px;\"><!-- Plotly chart will be drawn inside this DIV --></div>\r\n",
       "<script type=\"text/javascript\">\r\n",
       "\n",
       "            var renderPlotly_5ef55b4d22504932b467470c6b974e80 = function() {\n",
       "            var fsharpPlotlyRequire = requirejs.config({context:'fsharp-plotly',paths:{plotly:'https://cdn.plot.ly/plotly-latest.min'}}) || require;\n",
       "            fsharpPlotlyRequire(['plotly'], function(Plotly) {\r\n",
       "\n",
       "            var data = [{\"type\":\"mesh3d\",\"x\":[-34,55,98,-8,-28,-45,-5,21,26,-4,-32,10,55,-25,45,-20,24,7,10,64,15,33,1,24,-49,98,23,-57,-40,-47,85,-13,32,-48,1,-39,-3,8,35,49,15,-53,54,54,75,66,36,-57,19,74],\"y\":[61,5,-18,35,46,47,17,32,7,2,46,15,23,32,30,84,82,55,79,40,86,-13,78,69,12,28,83,58,60,10,22,37,40,10,23,58,5,-14,38,75,74,87,-4,22,-11,-7,57,6,8,96],\"z\":[90,94,-14,96,92,43,18,2,-15,-20,59,54,69,97,76,-30,71,-27,-31,69,49,67,-21,-36,61,99,90,22,50,-19,67,46,15,59,9,18,3,37,7,71,-6,91,87,9,-27,-24,-24,-14,36,-36],\"flatshading\":true,\"contour\":{\"x\":{\"show\":true},\"y\":{\"show\":true},\"z\":{\"show\":true}},\"color\":\"yellow\",\"opacity\":0.5},{\"type\":\"mesh3d\",\"x\":[-15,40,67,-58,10,83,19,-56,-65,-37,-69,0,28,-63,97,82,-9,73,42,-61,93,-35,47,21,60,46,72,-65,-64,62,-4,-34,3,93,89,-66,8,98,6,-46,39,-26,97,-2,-17,-60,10,1,47,35],\"y\":[41,85,32,15,40,-37,94,-13,-9,67,-45,21,-48,-16,69,68,97,40,-39,94,12,2,5,25,9,53,-20,-11,-21,54,-22,10,-3,9,-32,20,45,95,-2,72,-46,-26,51,47,-44,-32,-23,58,37,25],\"z\":[-20,80,10,64,-7,3,36,-25,-25,89,85,57,-24,47,44,54,-11,52,-18,11,-12,-29,5,7,86,2,58,64,28,4,33,34,59,60,51,16,-16,49,0,86,96,49,90,25,90,20,-13,-18,-19,25],\"flatshading\":true,\"contour\":{\"x\":{\"show\":true},\"y\":{\"show\":true},\"z\":{\"show\":true}},\"color\":\"pink\",\"opacity\":0.5}];\n",
       "            var layout = {\"scene\":{\"xaxis\":{\"title\":\"X AXIS TITLE\",\"mirror\":\"allticks\",\"showline\":true,\"showgrid\":true,\"gridcolor\":\"white\",\"zerolinecolor\":\"white\",\"showbackground\":true,\"backgroundcolor\":\"rgb(200, 200, 230)\"},\"yaxis\":{\"title\":\"Y AXIS TITLE\",\"mirror\":\"allticks\",\"showline\":true,\"showgrid\":true,\"gridcolor\":\"white\",\"zerolinecolor\":\"white\",\"showbackground\":true,\"backgroundcolor\":\"rgb(200, 200, 230)\"},\"zaxis\":{\"title\":\"Z AXIS TITLE\",\"mirror\":\"allticks\",\"showline\":true,\"showgrid\":true,\"gridcolor\":\"white\",\"zerolinecolor\":\"white\",\"showbackground\":true,\"backgroundcolor\":\"rgb(200, 200, 230)\"}},\"width\":700.0,\"margin\":{\"l\":10.0,\"r\":20.0,\"t\":10.0,\"b\":10.0}};\n",
       "            var config = {};\n",
       "            Plotly.newPlot('5ef55b4d-2250-4932-b467-470c6b974e80', data, layout, config);\r\n",
       "});\n",
       "            };\n",
       "            if ((typeof(requirejs) !==  typeof(Function)) || (typeof(requirejs.config) !== typeof(Function))) {\n",
       "                var script = document.createElement(\"script\");\n",
       "                script.setAttribute(\"src\", \"https://cdnjs.cloudflare.com/ajax/libs/require.js/2.3.6/require.min.js\");\n",
       "                script.onload = function(){\n",
       "                    renderPlotly_5ef55b4d22504932b467470c6b974e80();\n",
       "                };\n",
       "                document.getElementsByTagName(\"head\")[0].appendChild(script);\n",
       "            }\n",
       "            else {\n",
       "                renderPlotly_5ef55b4d22504932b467470c6b974e80();\n",
       "            }\r\n",
       "</script>\r\n"
      ]
     },
     "metadata": {}
    }
   ],
   "metadata": {
    "dotnet_interactive": {
     "language": "fsharp"
    }
   }
  },
  {
   "cell_type": "markdown",
   "source": [
    "# Ticks Formatting\r\n"
   ],
   "metadata": {}
  },
  {
   "cell_type": "code",
   "execution_count": null,
   "source": [
    "open System\r\n",
    "open Plotly.NET \r\n",
    "\r\n",
    "     \r\n",
    "                   \r\n",
    "let N = 50\r\n",
    "let rnd = System.Random()\r\n",
    "\r\n",
    "let ticktext = seq {\"TICKS\";\"MESH\";\"PLOTLY\";\"PYTHON\"}\r\n",
    "let tickvals= seq{0;50;75;-50}\r\n",
    "let mirroredXAxis =\r\n",
    "    Axis.LinearAxis.init(\r\n",
    "        Showspikes = false,\r\n",
    "        Backgroundcolor =\"rgb(229, 236, 246)\",\r\n",
    "        Showbackground=true,\r\n",
    "        Ticktext =ticktext,\r\n",
    "        Tickvals=tickvals\r\n",
    "    )\r\n",
    "let font = Font.init( StyleParam.FontFamily.Droid_Serif, 12.0,\"green\" )\r\n",
    "let mirroredLogYAxis = \r\n",
    "    Axis.LinearAxis.init(\r\n",
    "        Showspikes = false,\r\n",
    "        Backgroundcolor =\"rgb(229, 236, 246)\",\r\n",
    "        Showbackground=true,\r\n",
    "        Tickfont=font\r\n",
    "    )\r\n",
    "let mirroredZAxis =\r\n",
    "    Axis.LinearAxis.init(\r\n",
    "        Showspikes = false,\r\n",
    "        Backgroundcolor =\"rgb(229, 236, 246)\",\r\n",
    "        Showbackground=true,\r\n",
    "        nTicks=4,\r\n",
    "        Ticks=StyleParam.TickOptions.Outside ,\r\n",
    "        Tick0=0, \r\n",
    "        Tickwidth=4.0\r\n",
    "    )\r\n",
    "\r\n",
    "let margin =Margin.init(Left =10.0, Bottom=10.0,Top =10.0, Right  = 20.0 )\r\n",
    "let layout = Layout.init(Width= 700.,  Margin=margin)\r\n",
    "\r\n",
    "let mesh3d =\r\n",
    "        Trace3d.initMesh3d (fun mesh3d ->\r\n",
    "            mesh3d?x <-Array.init N (fun _ -> rnd.Next(-60, 100))\r\n",
    "            mesh3d?y <- Array.init N (fun _ -> rnd.Next(-50, 100))\r\n",
    "            mesh3d?z <-  Array.init N (fun _ -> rnd.Next(-50, 100))\r\n",
    "            mesh3d?opacity<-0.5\r\n",
    "            mesh3d\r\n",
    "            )         \r\n",
    "        |> GenericChart.ofTraceObject\r\n",
    "        |> Chart.withX_Axis  mirroredXAxis\r\n",
    "        |> Chart.withY_Axis  mirroredLogYAxis\r\n",
    "        |> Chart.withZ_Axis  mirroredZAxis\r\n",
    "        |> Chart.withLayout layout"
   ],
   "outputs": [],
   "metadata": {
    "dotnet_interactive": {
     "language": "fsharp"
    }
   }
  },
  {
   "cell_type": "code",
   "execution_count": null,
   "source": [
    "mesh3d"
   ],
   "outputs": [
    {
     "output_type": "display_data",
     "data": {
      "text/html": [
       "<div id=\"b8dea08e-568b-4a44-9998-8828115a1492\" style=\"width: 600px; height: 600px;\"><!-- Plotly chart will be drawn inside this DIV --></div>\r\n",
       "<script type=\"text/javascript\">\r\n",
       "\n",
       "            var renderPlotly_b8dea08e568b4a4499988828115a1492 = function() {\n",
       "            var fsharpPlotlyRequire = requirejs.config({context:'fsharp-plotly',paths:{plotly:'https://cdn.plot.ly/plotly-latest.min'}}) || require;\n",
       "            fsharpPlotlyRequire(['plotly'], function(Plotly) {\r\n",
       "\n",
       "            var data = [{\"type\":\"mesh3d\",\"x\":[-60,-1,33,-7,1,71,29,89,72,80,6,34,61,-26,-8,17,12,31,75,63,6,-3,-30,33,35,96,92,-30,8,-45,94,84,28,92,7,0,-23,53,-25,39,-7,8,-31,-57,67,-52,-5,53,40,49],\"y\":[-49,84,38,19,-12,46,-23,99,60,11,80,5,25,59,86,26,-45,71,68,92,-13,61,2,-17,15,98,-24,-25,68,31,44,-13,34,61,-37,-40,-3,-37,54,67,-22,-15,95,72,63,94,89,18,-34,-8],\"z\":[-48,30,87,50,15,-11,32,4,-46,-10,20,-49,-20,-22,66,43,70,63,46,76,-21,92,-34,-49,64,-49,65,30,20,20,-41,57,-41,26,29,-37,-1,83,-5,73,27,92,-42,14,-3,-23,-45,67,-45,-31],\"opacity\":0.5}];\n",
       "            var layout = {\"scene\":{\"xaxis\":{\"tickvals\":[0,50,75,-50],\"ticktext\":[\"TICKS\",\"MESH\",\"PLOTLY\",\"PYTHON\"],\"showspikes\":false,\"showbackground\":true,\"backgroundcolor\":\"rgb(229, 236, 246)\"},\"yaxis\":{\"showspikes\":false,\"showbackground\":true,\"backgroundcolor\":\"rgb(229, 236, 246)\",\"tickfont\":{\"family\":\"Droid Serif\",\"size\":12.0,\"color\":\"green\"}},\"zaxis\":{\"nticks\":4,\"tick0\":0,\"ticks\":\"outside\",\"tickwidth\":4.0,\"showspikes\":false,\"showbackground\":true,\"backgroundcolor\":\"rgb(229, 236, 246)\"}},\"width\":700.0,\"margin\":{\"l\":10.0,\"r\":20.0,\"t\":10.0,\"b\":10.0}};\n",
       "            var config = {};\n",
       "            Plotly.newPlot('b8dea08e-568b-4a44-9998-8828115a1492', data, layout, config);\r\n",
       "});\n",
       "            };\n",
       "            if ((typeof(requirejs) !==  typeof(Function)) || (typeof(requirejs.config) !== typeof(Function))) {\n",
       "                var script = document.createElement(\"script\");\n",
       "                script.setAttribute(\"src\", \"https://cdnjs.cloudflare.com/ajax/libs/require.js/2.3.6/require.min.js\");\n",
       "                script.onload = function(){\n",
       "                    renderPlotly_b8dea08e568b4a4499988828115a1492();\n",
       "                };\n",
       "                document.getElementsByTagName(\"head\")[0].appendChild(script);\n",
       "            }\n",
       "            else {\n",
       "                renderPlotly_b8dea08e568b4a4499988828115a1492();\n",
       "            }\r\n",
       "</script>\r\n"
      ]
     },
     "metadata": {}
    }
   ],
   "metadata": {
    "dotnet_interactive": {
     "language": "fsharp"
    }
   }
  },
  {
   "cell_type": "markdown",
   "source": [
    "# Background and Grid Color\r\n"
   ],
   "metadata": {}
  },
  {
   "cell_type": "code",
   "execution_count": null,
   "source": [
    "open System\r\n",
    "open Plotly.NET \r\n",
    "\r\n",
    "     \r\n",
    "                   \r\n",
    "let N = 50\r\n",
    "let rnd = System.Random()\r\n",
    "let x = Array.init N (fun _ -> rnd.Next(-30, 100))\r\n",
    "let y = Array.init N (fun _ -> rnd.Next(-25, 100))\r\n",
    "let z = Array.init N (fun _ -> rnd.Next(-30, 100))\r\n",
    "let color = \"rgba(244,22,100,0.6)\"\r\n",
    "\r\n",
    "let mirroredXAxis =\r\n",
    "    Axis.LinearAxis.init(\r\n",
    "        Showline = true,\r\n",
    "        Mirror = StyleParam.Mirror.AllTicks,\r\n",
    "        Showgrid = true,\r\n",
    "        Backgroundcolor =\"rgb(200, 200, 230)\",\r\n",
    "        Gridcolor=\"white\",\r\n",
    "        Showbackground=true,\r\n",
    "        Zerolinecolor=\"white\"\r\n",
    "        \r\n",
    "    )\r\n",
    "\r\n",
    "let mirroredLogYAxis = \r\n",
    "    Axis.LinearAxis.init(\r\n",
    "        Showline = true,\r\n",
    "        Mirror = StyleParam.Mirror.AllTicks,\r\n",
    "        Showgrid = true,\r\n",
    "        Backgroundcolor =\"rgb(230, 200,230)\",\r\n",
    "        Gridcolor=\"white\",\r\n",
    "        Showbackground=true,\r\n",
    "        Zerolinecolor=\"white\"\r\n",
    "       \r\n",
    "    )\r\n",
    "let mirroredZAxis =\r\n",
    "    Axis.LinearAxis.init(\r\n",
    "        Showline = true,\r\n",
    "        Mirror = StyleParam.Mirror.AllTicks,\r\n",
    "        Showgrid = true,\r\n",
    "        Backgroundcolor =\"rgb(230, 230,200)\",\r\n",
    "        Gridcolor=\"white\",\r\n",
    "        Showbackground=true,\r\n",
    "        Zerolinecolor=\"white\"\r\n",
    "       \r\n",
    "    )\r\n",
    "\r\n",
    "let margin =Margin.init(Left =10.0, Bottom=10.0,Top =10.0, Right  = 20.0 )\r\n",
    "let layout = Layout.init(Width= 700.,  Margin=margin)\r\n",
    "\r\n",
    "     \r\n",
    "let mesh3d =\r\n",
    "        Trace3d.initMesh3d (fun mesh3d ->\r\n",
    "            mesh3d?x <- x\r\n",
    "            mesh3d?y <-y\r\n",
    "            mesh3d?z <- z\r\n",
    "            mesh3d?flatshading <- true\r\n",
    "            mesh3d?contour <- Contours.initXyz(Show=true)\r\n",
    "            mesh3d?opacity<-0.5\r\n",
    "            mesh3d\r\n",
    "            )         \r\n",
    "        |> GenericChart.ofTraceObject\r\n",
    "        |> Chart.withX_Axis  mirroredXAxis\r\n",
    "        |> Chart.withY_Axis  mirroredLogYAxis\r\n",
    "        |> Chart.withZ_Axis  mirroredZAxis\r\n",
    "        |> Chart.withLayout layout"
   ],
   "outputs": [],
   "metadata": {
    "dotnet_interactive": {
     "language": "fsharp"
    }
   }
  },
  {
   "cell_type": "code",
   "execution_count": null,
   "source": [
    "mesh3d"
   ],
   "outputs": [
    {
     "output_type": "display_data",
     "data": {
      "text/html": [
       "<div id=\"045bc32f-5423-45bb-b1d4-caa31cf238dd\" style=\"width: 600px; height: 600px;\"><!-- Plotly chart will be drawn inside this DIV --></div>\r\n",
       "<script type=\"text/javascript\">\r\n",
       "\n",
       "            var renderPlotly_045bc32f542345bbb1d4caa31cf238dd = function() {\n",
       "            var fsharpPlotlyRequire = requirejs.config({context:'fsharp-plotly',paths:{plotly:'https://cdn.plot.ly/plotly-latest.min'}}) || require;\n",
       "            fsharpPlotlyRequire(['plotly'], function(Plotly) {\r\n",
       "\n",
       "            var data = [{\"type\":\"mesh3d\",\"x\":[-17,2,30,61,80,27,-7,64,34,60,-30,-9,63,39,95,96,60,76,-19,80,-12,60,81,81,-14,28,9,77,32,55,83,35,43,99,89,49,64,11,72,-7,-14,75,43,49,83,76,-10,39,3,68],\"y\":[-13,39,51,23,30,25,23,50,47,24,-8,19,5,79,78,37,50,65,51,19,5,22,-21,88,65,16,-8,6,97,13,11,70,45,65,44,18,86,-3,44,39,2,-10,67,23,-20,71,46,65,72,21],\"z\":[-2,26,89,87,36,64,32,61,56,-16,4,-12,51,5,-17,19,72,37,5,31,49,25,-8,-17,-13,-14,53,53,82,93,68,23,31,49,-19,81,79,55,-3,78,82,-7,37,27,1,-20,34,30,6,56],\"flatshading\":true,\"contour\":{\"x\":{\"show\":true},\"y\":{\"show\":true},\"z\":{\"show\":true}},\"opacity\":0.5}];\n",
       "            var layout = {\"scene\":{\"xaxis\":{\"mirror\":\"allticks\",\"showline\":true,\"showgrid\":true,\"gridcolor\":\"white\",\"zerolinecolor\":\"white\",\"showbackground\":true,\"backgroundcolor\":\"rgb(200, 200, 230)\"},\"yaxis\":{\"mirror\":\"allticks\",\"showline\":true,\"showgrid\":true,\"gridcolor\":\"white\",\"zerolinecolor\":\"white\",\"showbackground\":true,\"backgroundcolor\":\"rgb(230, 200,230)\"},\"zaxis\":{\"mirror\":\"allticks\",\"showline\":true,\"showgrid\":true,\"gridcolor\":\"white\",\"zerolinecolor\":\"white\",\"showbackground\":true,\"backgroundcolor\":\"rgb(230, 230,200)\"}},\"width\":700.0,\"margin\":{\"l\":10.0,\"r\":20.0,\"t\":10.0,\"b\":10.0}};\n",
       "            var config = {};\n",
       "            Plotly.newPlot('045bc32f-5423-45bb-b1d4-caa31cf238dd', data, layout, config);\r\n",
       "});\n",
       "            };\n",
       "            if ((typeof(requirejs) !==  typeof(Function)) || (typeof(requirejs.config) !== typeof(Function))) {\n",
       "                var script = document.createElement(\"script\");\n",
       "                script.setAttribute(\"src\", \"https://cdnjs.cloudflare.com/ajax/libs/require.js/2.3.6/require.min.js\");\n",
       "                script.onload = function(){\n",
       "                    renderPlotly_045bc32f542345bbb1d4caa31cf238dd();\n",
       "                };\n",
       "                document.getElementsByTagName(\"head\")[0].appendChild(script);\n",
       "            }\n",
       "            else {\n",
       "                renderPlotly_045bc32f542345bbb1d4caa31cf238dd();\n",
       "            }\r\n",
       "</script>\r\n"
      ]
     },
     "metadata": {}
    }
   ],
   "metadata": {
    "dotnet_interactive": {
     "language": "fsharp"
    }
   }
  },
  {
   "cell_type": "markdown",
   "source": [
    "# Disabling tooltip spikes\r\n",
    "By default, guidelines originating from the tooltip point are drawn. It is possible to disable this behaviour with the showspikes parameter. In this example we only keep the z spikes (projection of the tooltip on the x-y plane). Hover on the data to show this behaviour.\r\n",
    "\r\n"
   ],
   "metadata": {}
  },
  {
   "cell_type": "code",
   "execution_count": null,
   "source": [
    "open System\r\n",
    "open Plotly.NET \r\n",
    "\r\n",
    "     \r\n",
    "                   \r\n",
    "let N = 50\r\n",
    "let rnd = System.Random()\r\n",
    "\r\n",
    "let mirroredXAxis =\r\n",
    "    Axis.LinearAxis.init(\r\n",
    "        Showspikes = false,\r\n",
    "        Backgroundcolor =\"rgb(229, 236, 246)\",\r\n",
    "        Showbackground=true\r\n",
    "    )\r\n",
    "\r\n",
    "let mirroredLogYAxis = \r\n",
    "    Axis.LinearAxis.init(\r\n",
    "        Showspikes = false,\r\n",
    "        Backgroundcolor =\"rgb(229, 236, 246)\",\r\n",
    "        Showbackground=true\r\n",
    "    )\r\n",
    "let mirroredZAxis =\r\n",
    "    Axis.LinearAxis.init(\r\n",
    "        Showspikes = false,\r\n",
    "        Backgroundcolor =\"rgb(229, 236, 246)\",\r\n",
    "        Showbackground=true\r\n",
    "    )\r\n",
    "\r\n",
    "let margin =Margin.init(Left =10.0, Bottom=10.0,Top =10.0, Right  = 20.0 )\r\n",
    "let layout = Layout.init(Width= 700.,  Margin=margin)\r\n",
    "\r\n",
    "let mesh3d =\r\n",
    "        Trace3d.initMesh3d (fun mesh3d ->\r\n",
    "            mesh3d?x <-Array.init N (fun _ -> rnd.Next(-30, 30))\r\n",
    "            mesh3d?y <- Array.init N (fun _ -> rnd.Next(-25, 25))\r\n",
    "            mesh3d?z <-  Array.init N (fun _ -> rnd.Next(-30, 30))\r\n",
    "            mesh3d?opacity<-0.5\r\n",
    "            mesh3d\r\n",
    "            )         \r\n",
    "        |> GenericChart.ofTraceObject\r\n",
    "        |> Chart.withX_Axis  mirroredXAxis\r\n",
    "        |> Chart.withY_Axis  mirroredLogYAxis\r\n",
    "        |> Chart.withZ_Axis  mirroredZAxis\r\n",
    "        |> Chart.withLayout layout"
   ],
   "outputs": [],
   "metadata": {
    "dotnet_interactive": {
     "language": "fsharp"
    }
   }
  },
  {
   "cell_type": "code",
   "execution_count": null,
   "source": [
    "mesh3d"
   ],
   "outputs": [
    {
     "output_type": "display_data",
     "data": {
      "text/html": [
       "<div id=\"7e757967-ff7f-45ef-bf77-cd3d92bd2473\" style=\"width: 600px; height: 600px;\"><!-- Plotly chart will be drawn inside this DIV --></div>\r\n",
       "<script type=\"text/javascript\">\r\n",
       "\n",
       "            var renderPlotly_7e757967ff7f45efbf77cd3d92bd2473 = function() {\n",
       "            var fsharpPlotlyRequire = requirejs.config({context:'fsharp-plotly',paths:{plotly:'https://cdn.plot.ly/plotly-latest.min'}}) || require;\n",
       "            fsharpPlotlyRequire(['plotly'], function(Plotly) {\r\n",
       "\n",
       "            var data = [{\"type\":\"mesh3d\",\"x\":[-4,28,-3,-8,7,20,-17,13,-28,-22,26,-14,-3,-11,11,-10,8,29,5,-6,16,-21,5,-20,-24,-6,21,22,-25,10,-4,21,-8,22,-18,-12,-23,14,27,-8,24,7,10,20,23,2,-23,-13,-4,-10],\"y\":[2,4,-1,-2,-20,-11,-6,-12,-13,-15,23,-8,6,-7,10,-21,19,4,-19,-7,-15,19,-23,-15,0,-18,-1,12,-12,3,-12,3,-4,12,-20,17,-7,19,13,20,21,17,-1,11,-5,2,24,-11,-19,15],\"z\":[8,2,-20,-27,-23,9,2,-14,28,27,17,7,29,10,26,-6,25,22,-15,21,13,29,19,-18,-4,-9,-6,-12,18,27,-21,-19,6,-2,25,13,-6,-9,7,-3,-12,-25,25,18,-23,-12,21,18,17,29],\"opacity\":0.5}];\n",
       "            var layout = {\"scene\":{\"xaxis\":{\"showspikes\":false,\"showbackground\":true,\"backgroundcolor\":\"rgb(229, 236, 246)\"},\"yaxis\":{\"showspikes\":false,\"showbackground\":true,\"backgroundcolor\":\"rgb(229, 236, 246)\"},\"zaxis\":{\"showspikes\":false,\"showbackground\":true,\"backgroundcolor\":\"rgb(229, 236, 246)\"}},\"width\":700.0,\"margin\":{\"l\":10.0,\"r\":20.0,\"t\":10.0,\"b\":10.0}};\n",
       "            var config = {};\n",
       "            Plotly.newPlot('7e757967-ff7f-45ef-bf77-cd3d92bd2473', data, layout, config);\r\n",
       "});\n",
       "            };\n",
       "            if ((typeof(requirejs) !==  typeof(Function)) || (typeof(requirejs.config) !== typeof(Function))) {\n",
       "                var script = document.createElement(\"script\");\n",
       "                script.setAttribute(\"src\", \"https://cdnjs.cloudflare.com/ajax/libs/require.js/2.3.6/require.min.js\");\n",
       "                script.onload = function(){\n",
       "                    renderPlotly_7e757967ff7f45efbf77cd3d92bd2473();\n",
       "                };\n",
       "                document.getElementsByTagName(\"head\")[0].appendChild(script);\n",
       "            }\n",
       "            else {\n",
       "                renderPlotly_7e757967ff7f45efbf77cd3d92bd2473();\n",
       "            }\r\n",
       "</script>\r\n"
      ]
     },
     "metadata": {}
    }
   ],
   "metadata": {
    "dotnet_interactive": {
     "language": "fsharp"
    }
   }
  }
 ],
 "nbformat": 4,
 "nbformat_minor": 2
}
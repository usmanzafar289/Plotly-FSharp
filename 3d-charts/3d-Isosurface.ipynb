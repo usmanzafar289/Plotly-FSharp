{
 "cells": [
  {
   "cell_type": "code",
   "execution_count": null,
   "source": [
    "#r \"nuget: Plotly.NET, 2.0.0-preview.6\"\r\n",
    "#r \"nuget: Plotly.NET.Interactive, 2.0.0-preview.6\""
   ],
   "outputs": [
    {
     "data": {
      "text/html": [
       "<div><div></div><div></div><div><strong>Installed Packages</strong><ul><li><span>Plotly.NET, 2.0.0-preview.6</span></li><li><span>Plotly.NET.Interactive, 2.0.0-preview.6</span></li></ul></div></div>"
      ]
     },
     "metadata": {},
     "output_type": "display_data"
    },
    {
     "data": {
      "text/markdown": [
       "Loading extensions from `Plotly.NET.Interactive.dll`"
      ]
     },
     "metadata": {},
     "output_type": "display_data"
    },
    {
     "data": {
      "text/markdown": [
       "Added Kernel Extension including formatters for Plotly.NET charts."
      ]
     },
     "metadata": {},
     "output_type": "display_data"
    }
   ],
   "metadata": {
    "dotnet_interactive": {
     "language": "fsharp"
    }
   }
  },
  {
   "cell_type": "markdown",
   "source": [
    "# Basic Isosurface\r\n",
    "\r\n"
   ],
   "metadata": {}
  },
  {
   "cell_type": "code",
   "execution_count": null,
   "source": [
    "open System\r\n",
    "open Plotly.NET \r\n",
    " \r\n",
    "let isosurface3d =\r\n",
    "        Trace3d.initIsoSurface (fun isosurface3d ->\r\n",
    "            isosurface3d?x <- [0.;0.;0.;0.;1.;1.;1.;1.]\r\n",
    "            isosurface3d?y <-[1.;0.;1.;0.;1.;0.;1.;0.]\r\n",
    "            isosurface3d?z <-[1.;1.;0.;0.;1.;1.;0.;0.]\r\n",
    "            isosurface3d?value<-[1.;2.;3.;4.;5.;6.;7.;8.]\r\n",
    "            isosurface3d?opacity<-0.5\r\n",
    "            isosurface3d?isomin<-2\r\n",
    "            isosurface3d?isomax<-6\r\n",
    "            isosurface3d?color <- \"lightpink\"\r\n",
    "            isosurface3d\r\n",
    "            )         \r\n",
    "        |> GenericChart.ofTraceObject"
   ],
   "outputs": [],
   "metadata": {
    "dotnet_interactive": {
     "language": "fsharp"
    }
   }
  },
  {
   "cell_type": "code",
   "execution_count": null,
   "source": [
    "isosurface3d\r\n"
   ],
   "outputs": [
    {
     "output_type": "display_data",
     "data": {
      "text/html": [
       "<div id=\"1a8d4bd2-9db6-40a1-b78f-1ffba86e44a6\" style=\"width: 600px; height: 600px;\"><!-- Plotly chart will be drawn inside this DIV --></div>\r\n",
       "<script type=\"text/javascript\">\r\n",
       "\n",
       "            var renderPlotly_1a8d4bd29db640a1b78f1ffba86e44a6 = function() {\n",
       "            var fsharpPlotlyRequire = requirejs.config({context:'fsharp-plotly',paths:{plotly:'https://cdn.plot.ly/plotly-latest.min'}}) || require;\n",
       "            fsharpPlotlyRequire(['plotly'], function(Plotly) {\r\n",
       "\n",
       "            var data = [{\"type\":\"isosurface\",\"x\":[0.0,0.0,0.0,0.0,1.0,1.0,1.0,1.0],\"y\":[1.0,0.0,1.0,0.0,1.0,0.0,1.0,0.0],\"z\":[1.0,1.0,0.0,0.0,1.0,1.0,0.0,0.0],\"value\":[1.0,2.0,3.0,4.0,5.0,6.0,7.0,8.0],\"opacity\":0.5,\"isomin\":2,\"isomax\":6,\"color\":\"lightpink\"}];\n",
       "            var layout = {};\n",
       "            var config = {};\n",
       "            Plotly.newPlot('1a8d4bd2-9db6-40a1-b78f-1ffba86e44a6', data, layout, config);\r\n",
       "});\n",
       "            };\n",
       "            if ((typeof(requirejs) !==  typeof(Function)) || (typeof(requirejs.config) !== typeof(Function))) {\n",
       "                var script = document.createElement(\"script\");\n",
       "                script.setAttribute(\"src\", \"https://cdnjs.cloudflare.com/ajax/libs/require.js/2.3.6/require.min.js\");\n",
       "                script.onload = function(){\n",
       "                    renderPlotly_1a8d4bd29db640a1b78f1ffba86e44a6();\n",
       "                };\n",
       "                document.getElementsByTagName(\"head\")[0].appendChild(script);\n",
       "            }\n",
       "            else {\n",
       "                renderPlotly_1a8d4bd29db640a1b78f1ffba86e44a6();\n",
       "            }\r\n",
       "</script>\r\n"
      ]
     },
     "metadata": {}
    }
   ],
   "metadata": {
    "dotnet_interactive": {
     "language": "fsharp"
    }
   }
  }
 ],
 "metadata": {
  "kernelspec": {
   "display_name": ".NET (F#)",
   "language": "F#",
   "name": ".net-fsharp"
  },
  "langauge_info": {
   "file_extension": ".fs",
   "mimetype": "text/x-fsharp",
   "name": "C#",
   "pygments_lexer": "fsharp",
   "version": "4.5"
  }
 },
 "nbformat": 4,
 "nbformat_minor": 1
}
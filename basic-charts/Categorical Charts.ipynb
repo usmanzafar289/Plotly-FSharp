{
 "cells": [
  {
   "cell_type": "markdown",
   "source": [
    "## Automatically Sorting Categories by Name or Total Value"
   ],
   "metadata": {}
  },
  {
   "cell_type": "code",
   "execution_count": null,
   "source": [
    "#r \"nuget: Plotly.NET, 2.0.0-preview.6\"\n",
    "#r \"nuget: Plotly.NET.Interactive, 2.0.0-preview.6\"\n",
    "open Plotly.NET\n",
    "\n",
    "let x = ['b'; 'a'; 'c'; 'd']\n",
    "\n",
    "let layout = \n",
    "    let obj = Layout()\n",
    "    obj?barmode <- \"stack\"\n",
    "    obj?xaxis <- {|categoryorder = \"category ascending\"|}\n",
    "    obj?width <- 1000.\n",
    "    obj\n",
    "\n",
    "[\n",
    "    Chart.Column(x, [2.;5.;1.;9.], Name = \"Montreal\")\n",
    "    Chart.Column(x, [1.;4.;9.;16.], Name = \"Ottawa\")\n",
    "    Chart.Column(x, [6.;8.;4.5;8.], Name = \"Toronto\")\n",
    "]\n",
    "|> Chart.Combine\n",
    "|> Chart.withLayout(layout)"
   ],
   "outputs": [],
   "metadata": {
    "dotnet_interactive": {
     "language": "fsharp"
    }
   }
  },
  {
   "cell_type": "code",
   "execution_count": null,
   "source": [
    "#r \"nuget: Plotly.NET, 2.0.0-preview.6\"\n",
    "#r \"nuget: Plotly.NET.Interactive, 2.0.0-preview.6\"\n",
    "open Plotly.NET\n",
    "\n",
    "let x = ['b'; 'a'; 'c'; 'd']\n",
    "\n",
    "let layout = \n",
    "    let obj = Layout()\n",
    "    obj?barmode <- \"stack\"\n",
    "    obj?xaxis <- {|categoryorder = \"total ascending\"|}\n",
    "    obj?width <- 1000.\n",
    "    obj\n",
    "\n",
    "[\n",
    "    Chart.Column(x, [2.;5.;1.;9.], Name = \"Montreal\")\n",
    "    Chart.Column(x, [1.;4.;9.;16.], Name = \"Ottawa\")\n",
    "    Chart.Column(x, [6.;8.;4.5;8.], Name = \"Toronto\")\n",
    "]\n",
    "|> Chart.Combine\n",
    "|> Chart.withLayout(layout)"
   ],
   "outputs": [],
   "metadata": {
    "dotnet_interactive": {
     "language": "fsharp"
    }
   }
  },
  {
   "cell_type": "code",
   "execution_count": null,
   "source": [
    "#r \"nuget: Plotly.NET, 2.0.0-preview.6\"\n",
    "#r \"nuget: Plotly.NET.Interactive, 2.0.0-preview.6\"\n",
    "open Plotly.NET\n",
    "\n",
    "let x = ['b'; 'a'; 'c'; 'd']\n",
    "\n",
    "let layout = \n",
    "    let obj = Layout()\n",
    "    obj?barmode <- \"stack\"\n",
    "    obj?xaxis <- {|categoryorder = \"array\"; categoryarray = ['d';'a';'c';'b']|}\n",
    "    obj?width <- 1000.\n",
    "    obj\n",
    "\n",
    "[\n",
    "    Chart.Column(x, [2.;5.;1.;9.], Name = \"Montreal\")\n",
    "    Chart.Column(x, [1.;4.;9.;16.], Name = \"Ottawa\")\n",
    "    Chart.Column(x, [6.;8.;4.5;8.], Name = \"Toronto\")\n",
    "]\n",
    "|> Chart.Combine\n",
    "|> Chart.withLayout(layout)"
   ],
   "outputs": [],
   "metadata": {
    "dotnet_interactive": {
     "language": "fsharp"
    }
   }
  },
  {
   "cell_type": "markdown",
   "source": [
    "## Gridlines, Ticks and Tick Labels"
   ],
   "metadata": {}
  },
  {
   "cell_type": "code",
   "execution_count": null,
   "source": [
    "#r \"nuget: Plotly.NET, 2.0.0-preview.6\"\n",
    "#r \"nuget: Plotly.NET.Interactive, 2.0.0-preview.6\"\n",
    "open Plotly.NET\n",
    "\n",
    "let x = ['b'; 'a'; 'c'; 'd']\n",
    "\n",
    "Chart.Column([\"A\";\"B\";\"C\"], [1;3;2])\n",
    "|> Chart.withX_Axis(Axis.LinearAxis.init(Showgrid = true, Ticks = StyleParam.TickOptions.Outside))"
   ],
   "outputs": [],
   "metadata": {
    "dotnet_interactive": {
     "language": "fsharp"
    }
   }
  },
  {
   "cell_type": "code",
   "execution_count": null,
   "source": [
    "#r \"nuget: Plotly.NET, 2.0.0-preview.6\"\n",
    "#r \"nuget: Plotly.NET.Interactive, 2.0.0-preview.6\"\n",
    "open Plotly.NET\n",
    "\n",
    "let trace x y name = \n",
    "    let tmp = Trace(\"bar\")\n",
    "    tmp?x <- x\n",
    "    tmp?y <- y\n",
    "    tmp?name <- name\n",
    "    tmp\n",
    "[\n",
    "    GenericChart.ofTraceObject(trace [[\"First\"; \"First\";\"Second\";\"Second\"];[\"A\"; \"B\"; \"A\"; \"B\"]] [2;3;1;5] \"Adults\")\n",
    "    GenericChart.ofTraceObject(trace [[\"First\"; \"First\";\"Second\";\"Second\"];[\"A\"; \"B\"; \"A\"; \"B\"]] [8;3;6;5] \"Children\")\n",
    "]\n",
    "|> Chart.Combine\n",
    "|> Chart.withLayout(Layout.init(Title = \"Multi-category axis\", Width = 700.))"
   ],
   "outputs": [
    {
     "data": {
      "text/html": [
       "<div><div></div><div></div><div><strong>Installed Packages</strong><ul><li><span>Plotly.NET, 2.0.0-preview.6</span></li><li><span>Plotly.NET.Interactive, 2.0.0-preview.6</span></li></ul></div></div>"
      ]
     },
     "metadata": {},
     "output_type": "display_data"
    },
    {
     "data": {
      "text/html": [
       "<div id=\"9fdc391c-bf7a-44ef-86c5-956e66557e86\" style=\"width: 600px; height: 600px;\"><!-- Plotly chart will be drawn inside this DIV --></div>\n",
       "<script type=\"text/javascript\">\n",
       "\n",
       "            var renderPlotly_9fdc391cbf7a44ef86c5956e66557e86 = function() {\n",
       "            var fsharpPlotlyRequire = requirejs.config({context:'fsharp-plotly',paths:{plotly:'https://cdn.plot.ly/plotly-latest.min'}}) || require;\n",
       "            fsharpPlotlyRequire(['plotly'], function(Plotly) {\n",
       "\n",
       "            var data = [{\"type\":\"bar\",\"x\":[[\"First\",\"First\",\"Second\",\"Second\"],[\"A\",\"B\",\"A\",\"B\"]],\"y\":[2,3,1,5],\"name\":\"Adults\"},{\"type\":\"bar\",\"x\":[[\"First\",\"First\",\"Second\",\"Second\"],[\"A\",\"B\",\"A\",\"B\"]],\"y\":[8,3,6,5],\"name\":\"Children\"}];\n",
       "            var layout = {\"title\":\"Multi-category axis\",\"width\":700.0};\n",
       "            var config = {};\n",
       "            Plotly.newPlot('9fdc391c-bf7a-44ef-86c5-956e66557e86', data, layout, config);\n",
       "});\n",
       "            };\n",
       "            if ((typeof(requirejs) !==  typeof(Function)) || (typeof(requirejs.config) !== typeof(Function))) {\n",
       "                var script = document.createElement(\"script\");\n",
       "                script.setAttribute(\"src\", \"https://cdnjs.cloudflare.com/ajax/libs/require.js/2.3.6/require.min.js\");\n",
       "                script.onload = function(){\n",
       "                    renderPlotly_9fdc391cbf7a44ef86c5956e66557e86();\n",
       "                };\n",
       "                document.getElementsByTagName(\"head\")[0].appendChild(script);\n",
       "            }\n",
       "            else {\n",
       "                renderPlotly_9fdc391cbf7a44ef86c5956e66557e86();\n",
       "            }\n",
       "</script>\n"
      ]
     },
     "metadata": {},
     "output_type": "display_data"
    }
   ],
   "metadata": {
    "dotnet_interactive": {
     "language": "fsharp"
    }
   }
  }
 ],
 "metadata": {
  "orig_nbformat": 4,
  "language_info": {
   "file_extension": ".cs",
   "mimetype": "text/x-csharp",
   "name": "C#",
   "pygments_lexer": "csharp",
   "version": "9.0"
  },
  "kernelspec": {
   "display_name": ".NET (C#)",
   "language": "C#",
   "name": ".net-csharp"
  }
 },
 "nbformat": 4,
 "nbformat_minor": 2
}
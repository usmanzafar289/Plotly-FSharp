{
 "cells": [
  {
   "cell_type": "markdown",
   "source": [
    "# Basic Sankey Diagram"
   ],
   "metadata": {}
  },
  {
   "cell_type": "code",
   "execution_count": null,
   "source": [
    "#r \"nuget: Plotly.NET,*-*\"\r\n",
    "#r \"nuget: Plotly.NET.Interactive,*-*\"\r\n",
    "#r \"nuget: FSharp.Data\""
   ],
   "outputs": [
    {
     "data": {
      "text/html": [
       "<div><div></div><div></div><div><strong>Installed Packages</strong><ul><li><span>Plotly.NET, 2.0.0-preview.7</span></li><li><span>Plotly.NET.Interactive, 2.0.0-preview.7</span></li></ul></div></div>"
      ]
     },
     "metadata": {},
     "output_type": "display_data"
    },
    {
     "data": {
      "text/markdown": [
       "Loading extensions from `Plotly.NET.Interactive.dll`"
      ]
     },
     "metadata": {},
     "output_type": "display_data"
    },
    {
     "data": {
      "text/markdown": [
       "Added Kernel Extension including formatters for Plotly.NET charts."
      ]
     },
     "metadata": {},
     "output_type": "display_data"
    }
   ],
   "metadata": {
    "dotnet_interactive": {
     "language": "fsharp"
    }
   }
  },
  {
   "cell_type": "code",
   "execution_count": null,
   "source": [
    "\r\n",
    "open Plotly.NET\r\n",
    "\r\n",
    "let nodes = [|\r\n",
    " Node.Create(\"A1\")\r\n",
    " Node.Create(\"A2\")\r\n",
    " Node.Create(\"B1\")\r\n",
    " Node.Create(\"B2\")\r\n",
    " Node.Create(\"C1\")\r\n",
    " Node.Create(\"C2\")\r\n",
    "|]\r\n",
    "\r\n",
    "Chart.Sankey(\r\n",
    "    nodePadding = 15.,    \r\n",
    "    nodeColor = \"blue\",\r\n",
    "    nodeThickness = 20.0,\r\n",
    "    nodeLineWidth = 0.5,\r\n",
    "    nodes = (nodes |> Seq.ofArray),\r\n",
    "    links = [\r\n",
    "        Link.Create(src = nodes.[0], tgt = nodes.[2], value = 8.)\r\n",
    "        Link.Create(src = nodes.[1], tgt = nodes.[3], value = 4.)\r\n",
    "        Link.Create(src = nodes.[0], tgt = nodes.[3], value = 3.)\r\n",
    "        Link.Create(src = nodes.[2], tgt = nodes.[4], value = 8.)\r\n",
    "        Link.Create(src = nodes.[3], tgt = nodes.[4], value = 4.)\r\n",
    "        Link.Create(src = nodes.[3], tgt = nodes.[5], value = 2.)\r\n",
    "])\r\n",
    "|> Chart.withLayout(Layout.init(Title = Title.init(\"Basic Sankey Diagram\"), Font = Font.init(Size = 10.)))"
   ],
   "outputs": [
    {
     "data": {
      "text/html": [
       "<div id=\"c3c3ebf9-a2a5-425c-b73a-fd9831c919cc\" style=\"width: 600px; height: 600px;\"><!-- Plotly chart will be drawn inside this DIV --></div>\r\n",
       "<script type=\"text/javascript\">\r\n",
       "\n",
       "            var renderPlotly_c3c3ebf9a2a5425cb73afd9831c919cc = function() {\n",
       "            var fsharpPlotlyRequire = requirejs.config({context:'fsharp-plotly',paths:{plotly:'https://cdn.plot.ly/plotly-latest.min'}}) || require;\n",
       "            fsharpPlotlyRequire(['plotly'], function(Plotly) {\r\n",
       "\n",
       "            var data = [{\"type\":\"sankey\",\"node\":{\"label\":[\"A1\",\"A2\",\"B1\",\"B2\",\"C1\",\"C2\"],\"pad\":15.0,\"thickness\":20.0,\"color\":[\"blue\",\"blue\",\"blue\",\"blue\",\"blue\",\"blue\"]},\"link\":{\"source\":[0,1,0,2,3,3],\"target\":[2,3,3,4,4,5],\"value\":[8.0,4.0,3.0,8.0,4.0,2.0]}}];\n",
       "            var layout = {\"title\":{\"text\":\"Basic Sankey Diagram\"},\"font\":{\"size\":10.0}};\n",
       "            var config = {};\n",
       "            Plotly.newPlot('c3c3ebf9-a2a5-425c-b73a-fd9831c919cc', data, layout, config);\r\n",
       "});\n",
       "            };\n",
       "            if ((typeof(requirejs) !==  typeof(Function)) || (typeof(requirejs.config) !== typeof(Function))) {\n",
       "                var script = document.createElement(\"script\");\n",
       "                script.setAttribute(\"src\", \"https://cdnjs.cloudflare.com/ajax/libs/require.js/2.3.6/require.min.js\");\n",
       "                script.onload = function(){\n",
       "                    renderPlotly_c3c3ebf9a2a5425cb73afd9831c919cc();\n",
       "                };\n",
       "                document.getElementsByTagName(\"head\")[0].appendChild(script);\n",
       "            }\n",
       "            else {\n",
       "                renderPlotly_c3c3ebf9a2a5425cb73afd9831c919cc();\n",
       "            }\r\n",
       "</script>\r\n"
      ]
     },
     "metadata": {},
     "output_type": "display_data"
    }
   ],
   "metadata": {
    "dotnet_interactive": {
     "language": "fsharp"
    }
   }
  },
  {
   "cell_type": "markdown",
   "source": [
    "# More complex Sankey diagram with colored links"
   ],
   "metadata": {}
  },
  {
   "cell_type": "code",
   "execution_count": null,
   "source": [
    "\r\n",
    "open FSharp.Data\r\n",
    "\r\n",
    "type remoteData = JsonProvider<\"https://raw.githubusercontent.com/plotly/plotly.js/master/test/image/mocks/sankey_energy.json\">\r\n",
    "let data = remoteData.Load(\"https://raw.githubusercontent.com/plotly/plotly.js/master/test/image/mocks/sankey_energy.json\")\r\n",
    "\r\n",
    "let node = data.Data.[0].Node\r\n",
    "let node_labels = data.Data.[0].Node.Label\r\n",
    "let node_color = data.Data.[0].Node.Color\r\n",
    "let source = data.Data.[0].Link.Source\r\n",
    "let target = data.Data.[0].Link.Target\r\n",
    "let values = data.Data.[0].Link.Value\r\n",
    "\r\n",
    "let nodes = [for i in 0..node_labels.Length-1 -> Node.Create(label=node_labels.[i],color=node_color.[i])]\r\n",
    "let links = [for i in 0..source.Length-1 -> Link.Create(src=nodes.[source.[i]],tgt=nodes.[target.[i]],value=float values.[i])]\r\n",
    "\r\n",
    "let title = \"Energy forecast for 2050<br>Source: Department of Energy & Climate Change, Tom Counsell via <a href='https://bost.ocks.org/mike/sankey/'>Mike Bostock</a>\"\r\n",
    "Chart.Sankey(nodes=nodes,links=links,\r\n",
    "    nodePadding=float node.Pad,\r\n",
    "    nodeThickness=float node.Thickness\r\n",
    "    )\r\n",
    "// |> GenericChart.mapTrace (fun x ->  x.SetValue(\"valueformat\", \".0f\")\r\n",
    "//                                     x.SetValue(\"valuesuffix\", \".TWh\")\r\n",
    "//                                     x)\r\n",
    "|> Chart.withLayout(Layout.init(Width = 1000., Font = Font.init(Size = 10.), Title = Title.init(title)))"
   ],
   "outputs": [
    {
     "data": {
      "text/html": [
       "<div id=\"ff8263af-c52b-483c-af88-79bc62a7c2dd\" style=\"width: 600px; height: 600px;\"><!-- Plotly chart will be drawn inside this DIV --></div>\r\n",
       "<script type=\"text/javascript\">\r\n",
       "\n",
       "            var renderPlotly_ff8263afc52b483caf8879bc62a7c2dd = function() {\n",
       "            var fsharpPlotlyRequire = requirejs.config({context:'fsharp-plotly',paths:{plotly:'https://cdn.plot.ly/plotly-latest.min'}}) || require;\n",
       "            fsharpPlotlyRequire(['plotly'], function(Plotly) {\r\n",
       "\n",
       "            var data = [{\"type\":\"sankey\",\"node\":{\"label\":[\"Agricultural 'waste'\",\"Bio-conversion\",\"Liquid\",\"Losses\",\"Solid\",\"Gas\",\"Biofuel imports\",\"Biomass imports\",\"Coal imports\",\"Coal\",\"Coal reserves\",\"District heating\",\"Industry\",\"Heating and cooling - commercial\",\"Heating and cooling - homes\",\"Electricity grid\",\"Over generation / exports\",\"H2 conversion\",\"Road transport\",\"Agriculture\",\"Rail transport\",\"Lighting & appliances - commercial\",\"Lighting & appliances - homes\",\"Gas imports\",\"Ngas\",\"Gas reserves\",\"Thermal generation\",\"Geothermal\",\"H2\",\"Hydro\",\"International shipping\",\"Domestic aviation\",\"International aviation\",\"National navigation\",\"Marine algae\",\"Nuclear\",\"Oil imports\",\"Oil\",\"Oil reserves\",\"Other waste\",\"Pumped heat\",\"Solar PV\",\"Solar Thermal\",\"Solar\",\"Tidal\",\"UK land based bioenergy\",\"Wave\",\"Wind\"],\"pad\":15.0,\"thickness\":15.0,\"color\":[\"rgba(31, 119, 180, 0.8)\",\"rgba(255, 127, 14, 0.8)\",\"rgba(44, 160, 44, 0.8)\",\"rgba(214, 39, 40, 0.8)\",\"rgba(148, 103, 189, 0.8)\",\"rgba(140, 86, 75, 0.8)\",\"rgba(227, 119, 194, 0.8)\",\"rgba(127, 127, 127, 0.8)\",\"rgba(188, 189, 34, 0.8)\",\"rgba(23, 190, 207, 0.8)\",\"rgba(31, 119, 180, 0.8)\",\"rgba(255, 127, 14, 0.8)\",\"rgba(44, 160, 44, 0.8)\",\"rgba(214, 39, 40, 0.8)\",\"rgba(148, 103, 189, 0.8)\",\"rgba(140, 86, 75, 0.8)\",\"rgba(227, 119, 194, 0.8)\",\"rgba(127, 127, 127, 0.8)\",\"rgba(188, 189, 34, 0.8)\",\"rgba(23, 190, 207, 0.8)\",\"rgba(31, 119, 180, 0.8)\",\"rgba(255, 127, 14, 0.8)\",\"rgba(44, 160, 44, 0.8)\",\"rgba(214, 39, 40, 0.8)\",\"rgba(148, 103, 189, 0.8)\",\"rgba(140, 86, 75, 0.8)\",\"rgba(227, 119, 194, 0.8)\",\"rgba(127, 127, 127, 0.8)\",\"rgba(188, 189, 34, 0.8)\",\"rgba(23, 190, 207, 0.8)\",\"rgba(31, 119, 180, 0.8)\",\"rgba(255, 127, 14, 0.8)\",\"rgba(44, 160, 44, 0.8)\",\"rgba(214, 39, 40, 0.8)\",\"rgba(148, 103, 189, 0.8)\",\"magenta\",\"rgba(227, 119, 194, 0.8)\",\"rgba(127, 127, 127, 0.8)\",\"rgba(188, 189, 34, 0.8)\",\"rgba(23, 190, 207, 0.8)\",\"rgba(31, 119, 180, 0.8)\",\"rgba(255, 127, 14, 0.8)\",\"rgba(44, 160, 44, 0.8)\",\"rgba(214, 39, 40, 0.8)\",\"rgba(148, 103, 189, 0.8)\",\"rgba(140, 86, 75, 0.8)\",\"rgba(227, 119, 194, 0.8)\",\"rgba(127, 127, 127, 0.8)\"]},\"link\":{\"source\":[0,1,1,1,1,6,7,8,10,9,11,11,11,15,15,15,15,15,15,15,15,15,15,15,23,25,5,5,5,5,5,27,17,17,28,29,2,2,2,2,2,2,2,2,34,24,35,35,36,38,37,39,39,40,40,41,42,43,43,4,4,4,26,26,26,44,45,46,47,35,35],\"target\":[1,2,3,4,5,2,4,9,9,4,12,13,14,16,14,17,12,18,19,13,3,20,21,22,24,24,13,3,26,19,12,15,28,3,18,15,12,30,18,31,32,19,33,20,1,5,26,26,37,37,2,4,1,14,13,15,14,42,41,19,26,12,15,3,11,15,1,15,15,26,26],\"value\":[124.729,0.597,26.862,280.322,81.144,35.0,35.0,11.606,63.965,75.571,10.639,22.505,46.184,104.453,113.726,27.14,342.165,37.797,4.412,40.858,56.691,7.863,90.008,93.494,40.719,82.233,0.129,1.401,151.891,2.096,48.58,7.013,20.897,6.242,20.897,6.995,121.066,128.69,135.835,14.458,206.267,3.64,33.218,4.413,14.375,122.952,500.0,139.978,504.287,107.703,611.99,56.587,77.81,193.026,70.672,59.901,19.263,19.263,59.901,0.882,400.12,46.477,525.531,787.129,79.329,9.452,182.01,19.013,289.366,100.0,100.0]}}];\n",
       "            var layout = {\"title\":{\"text\":\"Energy forecast for 2050<br>Source: Department of Energy & Climate Change, Tom Counsell via <a href='https://bost.ocks.org/mike/sankey/'>Mike Bostock</a>\"},\"width\":1000.0,\"font\":{\"size\":10.0}};\n",
       "            var config = {};\n",
       "            Plotly.newPlot('ff8263af-c52b-483c-af88-79bc62a7c2dd', data, layout, config);\r\n",
       "});\n",
       "            };\n",
       "            if ((typeof(requirejs) !==  typeof(Function)) || (typeof(requirejs.config) !== typeof(Function))) {\n",
       "                var script = document.createElement(\"script\");\n",
       "                script.setAttribute(\"src\", \"https://cdnjs.cloudflare.com/ajax/libs/require.js/2.3.6/require.min.js\");\n",
       "                script.onload = function(){\n",
       "                    renderPlotly_ff8263afc52b483caf8879bc62a7c2dd();\n",
       "                };\n",
       "                document.getElementsByTagName(\"head\")[0].appendChild(script);\n",
       "            }\n",
       "            else {\n",
       "                renderPlotly_ff8263afc52b483caf8879bc62a7c2dd();\n",
       "            }\r\n",
       "</script>\r\n"
      ]
     },
     "metadata": {},
     "output_type": "display_data"
    }
   ],
   "metadata": {
    "dotnet_interactive": {
     "language": "fsharp"
    }
   }
  },
  {
   "cell_type": "markdown",
   "source": [
    "# Style Sankey Diagram"
   ],
   "metadata": {}
  },
  {
   "cell_type": "code",
   "execution_count": null,
   "source": [
    "open FSharp.Data\r\n",
    "\r\n",
    "type remoteData = JsonProvider<\"https://raw.githubusercontent.com/plotly/plotly.js/master/test/image/mocks/sankey_energy.json\">\r\n",
    "let data = remoteData.Load(\"https://raw.githubusercontent.com/plotly/plotly.js/master/test/image/mocks/sankey_energy.json\")\r\n",
    "\r\n",
    "let node = data.Data.[0].Node\r\n",
    "let node_labels = data.Data.[0].Node.Label\r\n",
    "let node_color = data.Data.[0].Node.Color\r\n",
    "let source = data.Data.[0].Link.Source\r\n",
    "let target = data.Data.[0].Link.Target\r\n",
    "let values = data.Data.[0].Link.Value\r\n",
    "\r\n",
    "let nodes = [for i in 0..node_labels.Length-1 -> Node.Create(label=node_labels.[i],color=node_color.[i])]\r\n",
    "let links = [for i in 0..source.Length-1 -> Link.Create(src=nodes.[source.[i]],tgt=nodes.[target.[i]],value=float values.[i])]\r\n",
    "\r\n",
    "let title = \"Energy forecast for 2050<br>Source: Department of Energy & Climate Change, Tom Counsell via <a href='https://bost.ocks.org/mike/sankey/'>Mike Bostock</a>\"\r\n",
    "Chart.Sankey(nodes=nodes,links=links,\r\n",
    "    nodePadding=float node.Pad,\r\n",
    "    nodeThickness=float node.Thickness\r\n",
    "    )\r\n",
    "// |> GenericChart.mapTrace (fun x ->  x.SetValue(\"valueformat\", \".0f\")\r\n",
    "//                                     x.SetValue(\"valuesuffix\", \".TWh\")\r\n",
    "//                                     x)\r\n",
    "|> Chart.withLayout(Layout.init(Width = 1000., Font = Font.init(Size = 10.,Color=\"white\"), Title = Title.init(title),Plot_bgcolor=\"gray\",Paper_bgcolor=\"gray\",Hovermode=StyleParam.HoverMode.X))"
   ],
   "outputs": [
    {
     "data": {
      "text/html": [
       "<div id=\"7a1c6542-f8d3-4f1a-ab73-e4c3a97f9e67\" style=\"width: 600px; height: 600px;\"><!-- Plotly chart will be drawn inside this DIV --></div>\r\n",
       "<script type=\"text/javascript\">\r\n",
       "\n",
       "            var renderPlotly_7a1c6542f8d34f1aab73e4c3a97f9e67 = function() {\n",
       "            var fsharpPlotlyRequire = requirejs.config({context:'fsharp-plotly',paths:{plotly:'https://cdn.plot.ly/plotly-latest.min'}}) || require;\n",
       "            fsharpPlotlyRequire(['plotly'], function(Plotly) {\r\n",
       "\n",
       "            var data = [{\"type\":\"sankey\",\"node\":{\"label\":[\"Agricultural 'waste'\",\"Bio-conversion\",\"Liquid\",\"Losses\",\"Solid\",\"Gas\",\"Biofuel imports\",\"Biomass imports\",\"Coal imports\",\"Coal\",\"Coal reserves\",\"District heating\",\"Industry\",\"Heating and cooling - commercial\",\"Heating and cooling - homes\",\"Electricity grid\",\"Over generation / exports\",\"H2 conversion\",\"Road transport\",\"Agriculture\",\"Rail transport\",\"Lighting & appliances - commercial\",\"Lighting & appliances - homes\",\"Gas imports\",\"Ngas\",\"Gas reserves\",\"Thermal generation\",\"Geothermal\",\"H2\",\"Hydro\",\"International shipping\",\"Domestic aviation\",\"International aviation\",\"National navigation\",\"Marine algae\",\"Nuclear\",\"Oil imports\",\"Oil\",\"Oil reserves\",\"Other waste\",\"Pumped heat\",\"Solar PV\",\"Solar Thermal\",\"Solar\",\"Tidal\",\"UK land based bioenergy\",\"Wave\",\"Wind\"],\"pad\":15.0,\"thickness\":15.0,\"color\":[\"rgba(31, 119, 180, 0.8)\",\"rgba(255, 127, 14, 0.8)\",\"rgba(44, 160, 44, 0.8)\",\"rgba(214, 39, 40, 0.8)\",\"rgba(148, 103, 189, 0.8)\",\"rgba(140, 86, 75, 0.8)\",\"rgba(227, 119, 194, 0.8)\",\"rgba(127, 127, 127, 0.8)\",\"rgba(188, 189, 34, 0.8)\",\"rgba(23, 190, 207, 0.8)\",\"rgba(31, 119, 180, 0.8)\",\"rgba(255, 127, 14, 0.8)\",\"rgba(44, 160, 44, 0.8)\",\"rgba(214, 39, 40, 0.8)\",\"rgba(148, 103, 189, 0.8)\",\"rgba(140, 86, 75, 0.8)\",\"rgba(227, 119, 194, 0.8)\",\"rgba(127, 127, 127, 0.8)\",\"rgba(188, 189, 34, 0.8)\",\"rgba(23, 190, 207, 0.8)\",\"rgba(31, 119, 180, 0.8)\",\"rgba(255, 127, 14, 0.8)\",\"rgba(44, 160, 44, 0.8)\",\"rgba(214, 39, 40, 0.8)\",\"rgba(148, 103, 189, 0.8)\",\"rgba(140, 86, 75, 0.8)\",\"rgba(227, 119, 194, 0.8)\",\"rgba(127, 127, 127, 0.8)\",\"rgba(188, 189, 34, 0.8)\",\"rgba(23, 190, 207, 0.8)\",\"rgba(31, 119, 180, 0.8)\",\"rgba(255, 127, 14, 0.8)\",\"rgba(44, 160, 44, 0.8)\",\"rgba(214, 39, 40, 0.8)\",\"rgba(148, 103, 189, 0.8)\",\"magenta\",\"rgba(227, 119, 194, 0.8)\",\"rgba(127, 127, 127, 0.8)\",\"rgba(188, 189, 34, 0.8)\",\"rgba(23, 190, 207, 0.8)\",\"rgba(31, 119, 180, 0.8)\",\"rgba(255, 127, 14, 0.8)\",\"rgba(44, 160, 44, 0.8)\",\"rgba(214, 39, 40, 0.8)\",\"rgba(148, 103, 189, 0.8)\",\"rgba(140, 86, 75, 0.8)\",\"rgba(227, 119, 194, 0.8)\",\"rgba(127, 127, 127, 0.8)\"]},\"link\":{\"source\":[0,1,1,1,1,6,7,8,10,9,11,11,11,15,15,15,15,15,15,15,15,15,15,15,23,25,5,5,5,5,5,27,17,17,28,29,2,2,2,2,2,2,2,2,34,24,35,35,36,38,37,39,39,40,40,41,42,43,43,4,4,4,26,26,26,44,45,46,47,35,35],\"target\":[1,2,3,4,5,2,4,9,9,4,12,13,14,16,14,17,12,18,19,13,3,20,21,22,24,24,13,3,26,19,12,15,28,3,18,15,12,30,18,31,32,19,33,20,1,5,26,26,37,37,2,4,1,14,13,15,14,42,41,19,26,12,15,3,11,15,1,15,15,26,26],\"value\":[124.729,0.597,26.862,280.322,81.144,35.0,35.0,11.606,63.965,75.571,10.639,22.505,46.184,104.453,113.726,27.14,342.165,37.797,4.412,40.858,56.691,7.863,90.008,93.494,40.719,82.233,0.129,1.401,151.891,2.096,48.58,7.013,20.897,6.242,20.897,6.995,121.066,128.69,135.835,14.458,206.267,3.64,33.218,4.413,14.375,122.952,500.0,139.978,504.287,107.703,611.99,56.587,77.81,193.026,70.672,59.901,19.263,19.263,59.901,0.882,400.12,46.477,525.531,787.129,79.329,9.452,182.01,19.013,289.366,100.0,100.0]}}];\n",
       "            var layout = {\"title\":{\"text\":\"Energy forecast for 2050<br>Source: Department of Energy & Climate Change, Tom Counsell via <a href='https://bost.ocks.org/mike/sankey/'>Mike Bostock</a>\"},\"width\":1000.0,\"paper_bgcolor\":\"gray\",\"plot_bgcolor\":\"gray\",\"hovermode\":\"x\",\"font\":{\"size\":10.0,\"color\":\"white\"}};\n",
       "            var config = {};\n",
       "            Plotly.newPlot('7a1c6542-f8d3-4f1a-ab73-e4c3a97f9e67', data, layout, config);\r\n",
       "});\n",
       "            };\n",
       "            if ((typeof(requirejs) !==  typeof(Function)) || (typeof(requirejs.config) !== typeof(Function))) {\n",
       "                var script = document.createElement(\"script\");\n",
       "                script.setAttribute(\"src\", \"https://cdnjs.cloudflare.com/ajax/libs/require.js/2.3.6/require.min.js\");\n",
       "                script.onload = function(){\n",
       "                    renderPlotly_7a1c6542f8d34f1aab73e4c3a97f9e67();\n",
       "                };\n",
       "                document.getElementsByTagName(\"head\")[0].appendChild(script);\n",
       "            }\n",
       "            else {\n",
       "                renderPlotly_7a1c6542f8d34f1aab73e4c3a97f9e67();\n",
       "            }\r\n",
       "</script>\r\n"
      ]
     },
     "metadata": {},
     "output_type": "display_data"
    }
   ],
   "metadata": {
    "dotnet_interactive": {
     "language": "fsharp"
    }
   }
  },
  {
   "cell_type": "markdown",
   "source": [
    "# Define Node Position"
   ],
   "metadata": {}
  }
 ],
 "metadata": {
  "orig_nbformat": 4,
  "language_info": {
   "file_extension": ".cs",
   "mimetype": "text/x-csharp",
   "name": "C#",
   "pygments_lexer": "csharp",
   "version": "9.0"
  },
  "kernelspec": {
   "display_name": ".NET (C#)",
   "language": "C#",
   "name": ".net-csharp"
  }
 },
 "nbformat": 4,
 "nbformat_minor": 2
}
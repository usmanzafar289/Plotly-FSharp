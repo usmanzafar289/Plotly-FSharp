{
 "cells": [
  {
   "cell_type": "markdown",
   "source": [
    "# Bar Charts\r\n",
    "\r\n",
    "## Imports"
   ],
   "metadata": {
    "dotnet_interactive": {
     "language": "fsharp"
    }
   }
  },
  {
   "cell_type": "code",
   "execution_count": null,
   "source": [
    "#r \"nuget: Plotly.NET, 2.0.0-preview.6\"\r\n",
    "#r \"nuget: newtonsoft.json\"\r\n",
    "#r \"nuget: Plotly.NET.Interactive, 2.0.0-preview.6\"\r\n",
    "open Plotly.NET\r\n"
   ],
   "outputs": [
    {
     "output_type": "display_data",
     "data": {
      "text/html": [
       "<div><div></div><div></div><div><strong>Installed Packages</strong><ul><li><span>newtonsoft.json, 13.0.1</span></li><li><span>Plotly.NET, 2.0.0-preview.6</span></li><li><span>Plotly.NET.Interactive, 2.0.0-preview.6</span></li></ul></div></div>"
      ]
     },
     "metadata": {}
    },
    {
     "output_type": "display_data",
     "data": {
      "text/markdown": [
       "Loading extensions from `Plotly.NET.Interactive.dll`"
      ]
     },
     "metadata": {}
    },
    {
     "output_type": "display_data",
     "data": {
      "text/markdown": [
       "Added Kernel Extension including formatters for Plotly.NET charts."
      ]
     },
     "metadata": {}
    }
   ],
   "metadata": {
    "dotnet_interactive": {
     "language": "fsharp"
    }
   }
  },
  {
   "cell_type": "markdown",
   "source": [
    "## Basic Bar Chart with plotly.graph_objects"
   ],
   "metadata": {
    "dotnet_interactive": {
     "language": "fsharp"
    }
   }
  },
  {
   "cell_type": "code",
   "execution_count": null,
   "source": [
    "let animals = [\"giraffes\"; \"orangutans\"; \"monkeys\"];\r\n",
    "let sfValues = [20; 14; 23]\r\n",
    "Chart.Column (animals, sfValues);\r\n"
   ],
   "outputs": [
    {
     "output_type": "display_data",
     "data": {
      "text/html": [
       "<div id=\"7fe7bc96-1fd1-4642-89e3-06f10118c0f4\" style=\"width: 600px; height: 600px;\"><!-- Plotly chart will be drawn inside this DIV --></div>\r\n",
       "<script type=\"text/javascript\">\r\n",
       "\n",
       "            var renderPlotly_7fe7bc961fd1464289e306f10118c0f4 = function() {\n",
       "            var fsharpPlotlyRequire = requirejs.config({context:'fsharp-plotly',paths:{plotly:'https://cdn.plot.ly/plotly-latest.min'}}) || require;\n",
       "            fsharpPlotlyRequire(['plotly'], function(Plotly) {\r\n",
       "\n",
       "            var data = [{\"type\":\"bar\",\"x\":[\"giraffes\",\"orangutans\",\"monkeys\"],\"y\":[20,14,23],\"marker\":{}}];\n",
       "            var layout = {};\n",
       "            var config = {};\n",
       "            Plotly.newPlot('7fe7bc96-1fd1-4642-89e3-06f10118c0f4', data, layout, config);\r\n",
       "});\n",
       "            };\n",
       "            if ((typeof(requirejs) !==  typeof(Function)) || (typeof(requirejs.config) !== typeof(Function))) {\n",
       "                var script = document.createElement(\"script\");\n",
       "                script.setAttribute(\"src\", \"https://cdnjs.cloudflare.com/ajax/libs/require.js/2.3.6/require.min.js\");\n",
       "                script.onload = function(){\n",
       "                    renderPlotly_7fe7bc961fd1464289e306f10118c0f4();\n",
       "                };\n",
       "                document.getElementsByTagName(\"head\")[0].appendChild(script);\n",
       "            }\n",
       "            else {\n",
       "                renderPlotly_7fe7bc961fd1464289e306f10118c0f4();\n",
       "            }\r\n",
       "</script>\r\n"
      ]
     },
     "metadata": {}
    }
   ],
   "metadata": {
    "dotnet_interactive": {
     "language": "fsharp"
    }
   }
  },
  {
   "cell_type": "markdown",
   "source": [
    "## Grouped Bar Chart"
   ],
   "metadata": {
    "dotnet_interactive": {
     "language": "fsharp"
    }
   }
  },
  {
   "cell_type": "code",
   "execution_count": null,
   "source": [
    "let animals = [\"giraffes\"; \"orangutans\"; \"monkeys\"];\r\n",
    "let sfValues = [20; 14; 23]\r\n",
    "let laValues = [12; 18; 29]\r\n",
    "\r\n",
    "[\r\n",
    "    Chart.Column (animals, sfValues, Name=\"SF Zoo\");\r\n",
    "    Chart.Column (animals, laValues, Name=\"LA Zoo\")\r\n",
    "]\r\n",
    "|> Chart.Combine\r\n"
   ],
   "outputs": [
    {
     "output_type": "display_data",
     "data": {
      "text/html": [
       "<div id=\"2acb4235-26b8-4ffe-9107-6dbc5ace9251\" style=\"width: 600px; height: 600px;\"><!-- Plotly chart will be drawn inside this DIV --></div>\r\n",
       "<script type=\"text/javascript\">\r\n",
       "\n",
       "            var renderPlotly_2acb423526b84ffe91076dbc5ace9251 = function() {\n",
       "            var fsharpPlotlyRequire = requirejs.config({context:'fsharp-plotly',paths:{plotly:'https://cdn.plot.ly/plotly-latest.min'}}) || require;\n",
       "            fsharpPlotlyRequire(['plotly'], function(Plotly) {\r\n",
       "\n",
       "            var data = [{\"type\":\"bar\",\"x\":[\"giraffes\",\"orangutans\",\"monkeys\"],\"y\":[20,14,23],\"marker\":{},\"name\":\"SF Zoo\"},{\"type\":\"bar\",\"x\":[\"giraffes\",\"orangutans\",\"monkeys\"],\"y\":[12,18,29],\"marker\":{},\"name\":\"LA Zoo\"}];\n",
       "            var layout = {};\n",
       "            var config = {};\n",
       "            Plotly.newPlot('2acb4235-26b8-4ffe-9107-6dbc5ace9251', data, layout, config);\r\n",
       "});\n",
       "            };\n",
       "            if ((typeof(requirejs) !==  typeof(Function)) || (typeof(requirejs.config) !== typeof(Function))) {\n",
       "                var script = document.createElement(\"script\");\n",
       "                script.setAttribute(\"src\", \"https://cdnjs.cloudflare.com/ajax/libs/require.js/2.3.6/require.min.js\");\n",
       "                script.onload = function(){\n",
       "                    renderPlotly_2acb423526b84ffe91076dbc5ace9251();\n",
       "                };\n",
       "                document.getElementsByTagName(\"head\")[0].appendChild(script);\n",
       "            }\n",
       "            else {\n",
       "                renderPlotly_2acb423526b84ffe91076dbc5ace9251();\n",
       "            }\r\n",
       "</script>\r\n"
      ]
     },
     "metadata": {}
    }
   ],
   "metadata": {
    "dotnet_interactive": {
     "language": "fsharp"
    }
   }
  },
  {
   "cell_type": "markdown",
   "source": [
    "## Stacked Bar Chart"
   ],
   "metadata": {}
  },
  {
   "cell_type": "code",
   "execution_count": null,
   "source": [
    "let animals = [\"giraffes\"; \"orangutans\"; \"monkeys\"];\r\n",
    "let sfValues = [20; 14; 23]\r\n",
    "let laValues = [12; 18; 29]\r\n",
    "\r\n",
    "[\r\n",
    "    Chart.StackedColumn (animals, sfValues, Name=\"SF Zoo\");\r\n",
    "    Chart.StackedColumn (animals, laValues, Name=\"LA Zoo\")\r\n",
    "]\r\n",
    "|> Chart.Combine\r\n"
   ],
   "outputs": [
    {
     "output_type": "display_data",
     "data": {
      "text/html": [
       "<div id=\"3305d109-2deb-46a7-ac99-9e9e6d764809\" style=\"width: 600px; height: 600px;\"><!-- Plotly chart will be drawn inside this DIV --></div>\r\n",
       "<script type=\"text/javascript\">\r\n",
       "\n",
       "            var renderPlotly_3305d1092deb46a7ac999e9e6d764809 = function() {\n",
       "            var fsharpPlotlyRequire = requirejs.config({context:'fsharp-plotly',paths:{plotly:'https://cdn.plot.ly/plotly-latest.min'}}) || require;\n",
       "            fsharpPlotlyRequire(['plotly'], function(Plotly) {\r\n",
       "\n",
       "            var data = [{\"type\":\"bar\",\"x\":[\"giraffes\",\"orangutans\",\"monkeys\"],\"y\":[20,14,23],\"marker\":{},\"name\":\"SF Zoo\"},{\"type\":\"bar\",\"x\":[\"giraffes\",\"orangutans\",\"monkeys\"],\"y\":[12,18,29],\"marker\":{},\"name\":\"LA Zoo\"}];\n",
       "            var layout = {\"barmode\":\"stack\"};\n",
       "            var config = {};\n",
       "            Plotly.newPlot('3305d109-2deb-46a7-ac99-9e9e6d764809', data, layout, config);\r\n",
       "});\n",
       "            };\n",
       "            if ((typeof(requirejs) !==  typeof(Function)) || (typeof(requirejs.config) !== typeof(Function))) {\n",
       "                var script = document.createElement(\"script\");\n",
       "                script.setAttribute(\"src\", \"https://cdnjs.cloudflare.com/ajax/libs/require.js/2.3.6/require.min.js\");\n",
       "                script.onload = function(){\n",
       "                    renderPlotly_3305d1092deb46a7ac999e9e6d764809();\n",
       "                };\n",
       "                document.getElementsByTagName(\"head\")[0].appendChild(script);\n",
       "            }\n",
       "            else {\n",
       "                renderPlotly_3305d1092deb46a7ac999e9e6d764809();\n",
       "            }\r\n",
       "</script>\r\n"
      ]
     },
     "metadata": {}
    }
   ],
   "metadata": {
    "dotnet_interactive": {
     "language": "fsharp"
    }
   }
  },
  {
   "cell_type": "markdown",
   "source": [
    "## Bar Chart with Hover Text"
   ],
   "metadata": {}
  },
  {
   "cell_type": "code",
   "execution_count": null,
   "source": [
    "let products = [\"Product A\"; \"Product B\"; \"Product C\"];\r\n",
    "let labels = [\"27% market share\"; \"24% market share\"; \"19% market share\"]\r\n",
    "let sfValues = [20; 14; 23]\r\n",
    "\r\n",
    "Chart.Column (\r\n",
    "    products,\r\n",
    "    sfValues,\r\n",
    "    Labels=labels,\r\n",
    "    Opacity=0.6\r\n",
    ")\r\n",
    "|> Chart.withMarker (\r\n",
    "    Marker.init (\r\n",
    "        Color=\"rgb(158,202,225)\", \r\n",
    "        Line=Line.init (Width=1.5, Color=\"rgb(8,48,107)\")\r\n",
    "    )\r\n",
    ")\r\n",
    "|> Chart.withTitle (\"January 2013 Sales Report\")\r\n"
   ],
   "outputs": [
    {
     "output_type": "display_data",
     "data": {
      "text/html": [
       "<div id=\"8a1aaafb-2499-4f4e-9f15-dd3c6f6301d0\" style=\"width: 600px; height: 600px;\"><!-- Plotly chart will be drawn inside this DIV --></div>\r\n",
       "<script type=\"text/javascript\">\r\n",
       "\n",
       "            var renderPlotly_8a1aaafb24994f4e9f15dd3c6f6301d0 = function() {\n",
       "            var fsharpPlotlyRequire = requirejs.config({context:'fsharp-plotly',paths:{plotly:'https://cdn.plot.ly/plotly-latest.min'}}) || require;\n",
       "            fsharpPlotlyRequire(['plotly'], function(Plotly) {\r\n",
       "\n",
       "            var data = [{\"type\":\"bar\",\"x\":[\"Product A\",\"Product B\",\"Product C\"],\"y\":[20,14,23],\"marker\":{\"color\":\"rgb(158,202,225)\",\"line\":{\"color\":\"rgb(8,48,107)\",\"width\":1.5}},\"opacity\":0.6,\"text\":[\"27% market share\",\"24% market share\",\"19% market share\"]}];\n",
       "            var layout = {\"title\":\"January 2013 Sales Report\"};\n",
       "            var config = {};\n",
       "            Plotly.newPlot('8a1aaafb-2499-4f4e-9f15-dd3c6f6301d0', data, layout, config);\r\n",
       "});\n",
       "            };\n",
       "            if ((typeof(requirejs) !==  typeof(Function)) || (typeof(requirejs.config) !== typeof(Function))) {\n",
       "                var script = document.createElement(\"script\");\n",
       "                script.setAttribute(\"src\", \"https://cdnjs.cloudflare.com/ajax/libs/require.js/2.3.6/require.min.js\");\n",
       "                script.onload = function(){\n",
       "                    renderPlotly_8a1aaafb24994f4e9f15dd3c6f6301d0();\n",
       "                };\n",
       "                document.getElementsByTagName(\"head\")[0].appendChild(script);\n",
       "            }\n",
       "            else {\n",
       "                renderPlotly_8a1aaafb24994f4e9f15dd3c6f6301d0();\n",
       "            }\r\n",
       "</script>\r\n"
      ]
     },
     "metadata": {}
    }
   ],
   "metadata": {
    "dotnet_interactive": {
     "language": "fsharp"
    }
   }
  },
  {
   "cell_type": "markdown",
   "source": [
    "## Bar Chart with Direct Labels"
   ],
   "metadata": {}
  },
  {
   "cell_type": "code",
   "execution_count": null,
   "source": [
    "#r \"nuget: Plotly.NET, 2.0.0-preview.6\"\r\n",
    "#r \"nuget: newtonsoft.json\"\r\n",
    "#r \"nuget: Plotly.NET.Interactive, 2.0.0-preview.6\"\r\n",
    "\r\n",
    "let products = [\"Product A\"; \"Product B\"; \"Product C\"];\r\n",
    "let sfValues = [20; 14; 23]\r\n",
    "Chart.Column (\r\n",
    "    products,\r\n",
    "    sfValues,\r\n",
    "    Labels= sfValues,\r\n",
    "    TextPosition = StyleParam.TextPosition.TopCenter\r\n",
    ") \r\n",
    "\r\n",
    "    |> GenericChart.mapTrace(fun t-> \r\n",
    "                            t?textposition<- \"auto\" //workaround\r\n",
    "                            t)\r\n"
   ],
   "outputs": [
    {
     "output_type": "display_data",
     "data": {
      "text/html": [
       "<div><div></div><div></div><div><strong>Installed Packages</strong><ul><li><span>newtonsoft.json, 12.0.3</span></li><li><span>Plotly.NET, 2.0.0-preview.6</span></li><li><span>Plotly.NET.Interactive, 2.0.0-preview.6</span></li></ul></div></div>"
      ]
     },
     "metadata": {},
     "output_type": "display_data"
    },
    {
     "data": {
      "text/html": [
       "<div id=\"8da019cf-3b47-45c9-afaa-010d53f44e6b\" style=\"width: 600px; height: 600px;\"><!-- Plotly chart will be drawn inside this DIV --></div>\r\n",
       "<script type=\"text/javascript\">\r\n",
       "\n",
       "            var renderPlotly_8da019cf3b4745c9afaa010d53f44e6b = function() {\n",
       "            var fsharpPlotlyRequire = requirejs.config({context:'fsharp-plotly',paths:{plotly:'https://cdn.plot.ly/plotly-latest.min'}}) || require;\n",
       "            fsharpPlotlyRequire(['plotly'], function(Plotly) {\r\n",
       "\n",
       "            var data = [{\"type\":\"bar\",\"x\":[\"Product A\",\"Product B\",\"Product C\"],\"y\":[20,14,23],\"marker\":{},\"text\":[20,14,23],\"textposition\":\"auto\"}];\n",
       "            var layout = {};\n",
       "            var config = {};\n",
       "            Plotly.newPlot('8da019cf-3b47-45c9-afaa-010d53f44e6b', data, layout, config);\r\n",
       "});\n",
       "            };\n",
       "            if ((typeof(requirejs) !==  typeof(Function)) || (typeof(requirejs.config) !== typeof(Function))) {\n",
       "                var script = document.createElement(\"script\");\n",
       "                script.setAttribute(\"src\", \"https://cdnjs.cloudflare.com/ajax/libs/require.js/2.3.6/require.min.js\");\n",
       "                script.onload = function(){\n",
       "                    renderPlotly_8da019cf3b4745c9afaa010d53f44e6b();\n",
       "                };\n",
       "                document.getElementsByTagName(\"head\")[0].appendChild(script);\n",
       "            }\n",
       "            else {\n",
       "                renderPlotly_8da019cf3b4745c9afaa010d53f44e6b();\n",
       "            }\r\n",
       "</script>\r\n"
      ]
     },
     "metadata": {}
    }
   ],
   "metadata": {
    "dotnet_interactive": {
     "language": "fsharp"
    }
   }
  },
  {
   "cell_type": "markdown",
   "source": [
    "## Rotated Bar Chart Labels"
   ],
   "metadata": {}
  },
  {
   "cell_type": "code",
   "execution_count": null,
   "source": [
    "let months = [\"Jan\"; \"Feb\"; \"Mar\"; \"Apr\"; \"May\"; \"Jun\";\r\n",
    "              \"Jul\"; \"Aug\"; \"Sep\"; \"Oct\"; \"Nov\"; \"Dec\"]\r\n",
    "let primaryProduct = [20; 14; 25; 16; 18; 22; 19; 15; 12; 16; 14; 17]\r\n",
    "let secondProduct = [19; 14; 22; 14; 16; 19; 15; 14; 10; 12; 12; 16]\r\n",
    "\r\n",
    "[\r\n",
    "    Chart.Column (months, primaryProduct, Name=\"Primary Product\")\r\n",
    "    |> Chart.withMarker (Marker.init (Color=\"indianred\"));\r\n",
    "\r\n",
    "    Chart.Column (months, secondProduct, Name=\"Second Product\")\r\n",
    "    |> Chart.withMarker (Marker.init (Color=\"lightSalmon\"))\r\n",
    "]\r\n",
    "|> Chart.Combine\r\n",
    "|> Chart.withX_Axis (Axis.LinearAxis.init (Tickangle= -45))\r\n"
   ],
   "outputs": [
    {
     "output_type": "display_data",
     "data": {
      "text/html": [
       "<div id=\"fa3482f7-4697-48d1-bc46-dc7c22497f4c\" style=\"width: 600px; height: 600px;\"><!-- Plotly chart will be drawn inside this DIV --></div>\r\n",
       "<script type=\"text/javascript\">\r\n",
       "\n",
       "            var renderPlotly_fa3482f7469748d1bc46dc7c22497f4c = function() {\n",
       "            var fsharpPlotlyRequire = requirejs.config({context:'fsharp-plotly',paths:{plotly:'https://cdn.plot.ly/plotly-latest.min'}}) || require;\n",
       "            fsharpPlotlyRequire(['plotly'], function(Plotly) {\r\n",
       "\n",
       "            var data = [{\"type\":\"bar\",\"x\":[\"Jan\",\"Feb\",\"Mar\",\"Apr\",\"May\",\"Jun\",\"Jul\",\"Aug\",\"Sep\",\"Oct\",\"Nov\",\"Dec\"],\"y\":[20,14,25,16,18,22,19,15,12,16,14,17],\"marker\":{\"color\":\"indianred\"},\"name\":\"Primary Product\"},{\"type\":\"bar\",\"x\":[\"Jan\",\"Feb\",\"Mar\",\"Apr\",\"May\",\"Jun\",\"Jul\",\"Aug\",\"Sep\",\"Oct\",\"Nov\",\"Dec\"],\"y\":[19,14,22,14,16,19,15,14,10,12,12,16],\"marker\":{\"color\":\"lightSalmon\"},\"name\":\"Second Product\"}];\n",
       "            var layout = {\"xaxis\":{\"tickangle\":-45}};\n",
       "            var config = {};\n",
       "            Plotly.newPlot('fa3482f7-4697-48d1-bc46-dc7c22497f4c', data, layout, config);\r\n",
       "});\n",
       "            };\n",
       "            if ((typeof(requirejs) !==  typeof(Function)) || (typeof(requirejs.config) !== typeof(Function))) {\n",
       "                var script = document.createElement(\"script\");\n",
       "                script.setAttribute(\"src\", \"https://cdnjs.cloudflare.com/ajax/libs/require.js/2.3.6/require.min.js\");\n",
       "                script.onload = function(){\n",
       "                    renderPlotly_fa3482f7469748d1bc46dc7c22497f4c();\n",
       "                };\n",
       "                document.getElementsByTagName(\"head\")[0].appendChild(script);\n",
       "            }\n",
       "            else {\n",
       "                renderPlotly_fa3482f7469748d1bc46dc7c22497f4c();\n",
       "            }\r\n",
       "</script>\r\n"
      ]
     },
     "metadata": {}
    }
   ],
   "metadata": {
    "dotnet_interactive": {
     "language": "fsharp"
    }
   }
  },
  {
   "cell_type": "markdown",
   "source": [
    "## Customizing Individual Bar Colors"
   ],
   "metadata": {}
  },
  {
   "cell_type": "code",
   "execution_count": null,
   "source": [
    "#r \"nuget: Plotly.NET, 2.0.0-preview.6\"\r\n",
    "#r \"nuget: Plotly.NET.Interactive, 2.0.0-preview.6\"\r\n",
    "\r\n",
    "let featureKeys = [\"Feature A\"; \"Feature B\"; \"Feature C\";\r\n",
    "                   \"Feature D\"; \"Feature E\"]\r\n",
    "let featureValues = [20; 14; 23; 25; 22]\r\n",
    "\r\n",
    "let colors = \r\n",
    "    [1..5]\r\n",
    "    |> List.mapi (fun i x -> if i = 1 then \"crimson\" else \"lightslategray\" )\r\n",
    "    |> List.toSeq\r\n",
    "\r\n",
    "let marker = Marker.init(Colors = colors);\r\n",
    "marker?color<-colors\r\n",
    "\r\n",
    "Chart.Column (featureKeys, featureValues, Marker=marker)\r\n"
   ],
   "outputs": [
    {
     "output_type": "display_data",
     "data": {
      "text/html": [
       "<div><div></div><div></div><div><strong>Installed Packages</strong><ul><li><span>Plotly.NET, 2.0.0-preview.6</span></li><li><span>Plotly.NET.Interactive, 2.0.0-preview.6</span></li></ul></div></div>"
      ]
     },
     "metadata": {},
     "output_type": "display_data"
    },
    {
     "data": {
      "text/html": [
       "<div id=\"3748b073-6dc2-4679-8148-6dfe47052c97\" style=\"width: 600px; height: 600px;\"><!-- Plotly chart will be drawn inside this DIV --></div>\r\n",
       "<script type=\"text/javascript\">\r\n",
       "\n",
       "            var renderPlotly_3748b0736dc2467981486dfe47052c97 = function() {\n",
       "            var fsharpPlotlyRequire = requirejs.config({context:'fsharp-plotly',paths:{plotly:'https://cdn.plot.ly/plotly-latest.min'}}) || require;\n",
       "            fsharpPlotlyRequire(['plotly'], function(Plotly) {\r\n",
       "\n",
       "            var data = [{\"type\":\"bar\",\"x\":[\"Feature A\",\"Feature B\",\"Feature C\",\"Feature D\",\"Feature E\"],\"y\":[20,14,23,25,22],\"marker\":{\"colors\":[\"lightslategray\",\"crimson\",\"lightslategray\",\"lightslategray\",\"lightslategray\"],\"color\":[\"lightslategray\",\"crimson\",\"lightslategray\",\"lightslategray\",\"lightslategray\"]}}];\n",
       "            var layout = {};\n",
       "            var config = {};\n",
       "            Plotly.newPlot('3748b073-6dc2-4679-8148-6dfe47052c97', data, layout, config);\r\n",
       "});\n",
       "            };\n",
       "            if ((typeof(requirejs) !==  typeof(Function)) || (typeof(requirejs.config) !== typeof(Function))) {\n",
       "                var script = document.createElement(\"script\");\n",
       "                script.setAttribute(\"src\", \"https://cdnjs.cloudflare.com/ajax/libs/require.js/2.3.6/require.min.js\");\n",
       "                script.onload = function(){\n",
       "                    renderPlotly_3748b0736dc2467981486dfe47052c97();\n",
       "                };\n",
       "                document.getElementsByTagName(\"head\")[0].appendChild(script);\n",
       "            }\n",
       "            else {\n",
       "                renderPlotly_3748b0736dc2467981486dfe47052c97();\n",
       "            }\r\n",
       "</script>\r\n"
      ]
     },
     "metadata": {}
    }
   ],
   "metadata": {
    "dotnet_interactive": {
     "language": "fsharp"
    }
   }
  },
  {
   "cell_type": "markdown",
   "source": [
    "## Customizing Individual Bar Widths"
   ],
   "metadata": {}
  },
  {
   "cell_type": "code",
   "execution_count": null,
   "source": [
    "let featureKeys = [1.; 2.; 3.; 5.5; 10.]\r\n",
    "let featureValues = [10; 8; 6; 4; 2]\r\n",
    "let width = [0.8; 0.8; 0.8; 3.5; 4.]\r\n",
    "Chart.Column (featureKeys, \r\n",
    "              featureValues)\r\n",
    "|> Chart.withMarker(Marker.init(MultiSizes= width))\r\n",
    "\r\n",
    "//|> Chart.withLineStyle(Width = width) Doesnt accept float list\r\n",
    "\r\n",
    "|> GenericChart.mapTrace(fun t-> \r\n",
    "                                t?width<-width;\r\n",
    "                                t)  // workaround\r\n",
    "\r\n"
   ],
   "outputs": [
    {
     "output_type": "display_data",
     "data": {
      "text/html": [
       "<div id=\"60594661-e482-41d8-ad70-f9207e3f46e0\" style=\"width: 600px; height: 600px;\"><!-- Plotly chart will be drawn inside this DIV --></div>\r\n",
       "<script type=\"text/javascript\">\r\n",
       "\n",
       "            var renderPlotly_60594661e48241d8ad70f9207e3f46e0 = function() {\n",
       "            var fsharpPlotlyRequire = requirejs.config({context:'fsharp-plotly',paths:{plotly:'https://cdn.plot.ly/plotly-latest.min'}}) || require;\n",
       "            fsharpPlotlyRequire(['plotly'], function(Plotly) {\r\n",
       "\n",
       "            var data = [{\"type\":\"bar\",\"x\":[1.0,2.0,3.0,5.5,10.0],\"y\":[10,8,6,4,2],\"marker\":{\"size\":[0.8,0.8,0.8,3.5,4.0]},\"width\":[0.8,0.8,0.8,3.5,4.0]}];\n",
       "            var layout = {};\n",
       "            var config = {};\n",
       "            Plotly.newPlot('60594661-e482-41d8-ad70-f9207e3f46e0', data, layout, config);\r\n",
       "});\n",
       "            };\n",
       "            if ((typeof(requirejs) !==  typeof(Function)) || (typeof(requirejs.config) !== typeof(Function))) {\n",
       "                var script = document.createElement(\"script\");\n",
       "                script.setAttribute(\"src\", \"https://cdnjs.cloudflare.com/ajax/libs/require.js/2.3.6/require.min.js\");\n",
       "                script.onload = function(){\n",
       "                    renderPlotly_60594661e48241d8ad70f9207e3f46e0();\n",
       "                };\n",
       "                document.getElementsByTagName(\"head\")[0].appendChild(script);\n",
       "            }\n",
       "            else {\n",
       "                renderPlotly_60594661e48241d8ad70f9207e3f46e0();\n",
       "            }\r\n",
       "</script>\r\n"
      ]
     },
     "metadata": {}
    }
   ],
   "metadata": {
    "dotnet_interactive": {
     "language": "fsharp"
    }
   }
  },
  {
   "cell_type": "code",
   "execution_count": null,
   "source": [
    "let labels = [\"apples\"; \"oranges\"; \"pears\"; \"bananas\"]\r\n",
    "let widths = [10.; 20.; 20.; 50.]\r\n",
    "\r\n",
    "let data = \r\n",
    "    [\r\n",
    "        \"South\", [50.;80.;60.;70.]\r\n",
    "        \"North\", [50.; 20.;40.;30.]\r\n",
    "    ]\r\n",
    "\r\n",
    "let cumSum (xs: float list) =\r\n",
    "    xs |> Array.ofList |> Array.scan (+) LanguagePrimitives.GenericOne |> List.ofArray\r\n",
    "\r\n",
    "let findByKey key data = \r\n",
    "    (snd (List.find (fun (k,v) -> k = key) data))\r\n",
    "\r\n",
    "let layout =\r\n",
    "    let tmp = Layout()\r\n",
    "    tmp?barmode <- \"stack\"\r\n",
    "    tmp?uniformtext <- {|mode = \"hide\"; minsize = 10|}\r\n",
    "    tmp?title <- \"Marimekko Chart\"\r\n",
    "    tmp\r\n",
    "\r\n",
    "let transformToColumn (key: string) (values: float list) =\r\n",
    "    Chart.Column(values=(findByKey key data), keys=(Seq.map2 (-) (cumSum values) (widths)))\r\n",
    "    |> GenericChart.mapTrace(fun t -> \r\n",
    "        t.SetValue(\"customdata\", [ for l, v in (Seq.zip labels (Seq.map2 (fun x y -> x*y) widths (findByKey key data) )) do l, v])\r\n",
    "        t.SetValue(\"width\", widths)\r\n",
    "        t.SetValue(\"offset\", 0.)\r\n",
    "        t.SetValue(\"name\", key)\r\n",
    "        t.SetValue(\"textangle\", 0)\r\n",
    "        t.SetValue(\"textposition\", \"inside\")\r\n",
    "        t)\r\n",
    "    |> Chart.withX_Axis(Axis.LinearAxis.init(Tickvals = (Seq.map2 (-) (cumSum widths) (Seq.map (fun x -> x/2.) widths)), Range = StyleParam.Range.Values [|0.; 100.|], Ticktext = [ for l, w in Seq.zip labels widths do $\"{l}<br>{w}\"]))\r\n",
    "    |> Chart.withY_Axis(Axis.LinearAxis.init(Range = StyleParam.Range.Values [|0.; 100.|]))\r\n",
    "\r\n",
    "[\r\n",
    "    for key, values in data do \r\n",
    "        (transformToColumn key values)\r\n",
    "]\r\n",
    "|> Chart.Combine\r\n",
    "|> Chart.withLayout(layout)\r\n"
   ],
   "outputs": [
    {
     "output_type": "display_data",
     "data": {
      "text/html": [
       "<div id=\"7399b377-911a-4976-954c-7cd310682744\" style=\"width: 600px; height: 600px;\"><!-- Plotly chart will be drawn inside this DIV --></div>\r\n",
       "<script type=\"text/javascript\">\r\n",
       "\n",
       "            var renderPlotly_7399b377911a4976954c7cd310682744 = function() {\n",
       "            var fsharpPlotlyRequire = requirejs.config({context:'fsharp-plotly',paths:{plotly:'https://cdn.plot.ly/plotly-latest.min'}}) || require;\n",
       "            fsharpPlotlyRequire(['plotly'], function(Plotly) {\r\n",
       "\n",
       "            var data = [{\"type\":\"bar\",\"x\":[-9.0,31.0,111.0,141.0],\"y\":[50.0,80.0,60.0,70.0],\"marker\":{},\"customdata\":[{\"Item1\":\"apples\",\"Item2\":500.0},{\"Item1\":\"oranges\",\"Item2\":1600.0},{\"Item1\":\"pears\",\"Item2\":1200.0},{\"Item1\":\"bananas\",\"Item2\":3500.0}],\"width\":[10.0,20.0,20.0,50.0],\"offset\":0.0,\"name\":\"South\",\"textangle\":0,\"textposition\":\"inside\"},{\"type\":\"bar\",\"x\":[-9.0,31.0,51.0,61.0],\"y\":[50.0,20.0,40.0,30.0],\"marker\":{},\"customdata\":[{\"Item1\":\"apples\",\"Item2\":500.0},{\"Item1\":\"oranges\",\"Item2\":400.0},{\"Item1\":\"pears\",\"Item2\":800.0},{\"Item1\":\"bananas\",\"Item2\":1500.0}],\"width\":[10.0,20.0,20.0,50.0],\"offset\":0.0,\"name\":\"North\",\"textangle\":0,\"textposition\":\"inside\"}];\n",
       "            var layout = {\"xaxis\":{\"range\":[0.0,100.0],\"tickvals\":[-4.0,1.0,21.0,26.0],\"ticktext\":[\"apples<br>10\",\"oranges<br>20\",\"pears<br>20\",\"bananas<br>50\"]},\"yaxis\":{\"range\":[0.0,100.0]},\"barmode\":\"stack\",\"uniformtext\":{\"minsize\":10,\"mode\":\"hide\"},\"title\":\"Marimekko Chart\"};\n",
       "            var config = {};\n",
       "            Plotly.newPlot('7399b377-911a-4976-954c-7cd310682744', data, layout, config);\r\n",
       "});\n",
       "            };\n",
       "            if ((typeof(requirejs) !==  typeof(Function)) || (typeof(requirejs.config) !== typeof(Function))) {\n",
       "                var script = document.createElement(\"script\");\n",
       "                script.setAttribute(\"src\", \"https://cdnjs.cloudflare.com/ajax/libs/require.js/2.3.6/require.min.js\");\n",
       "                script.onload = function(){\n",
       "                    renderPlotly_7399b377911a4976954c7cd310682744();\n",
       "                };\n",
       "                document.getElementsByTagName(\"head\")[0].appendChild(script);\n",
       "            }\n",
       "            else {\n",
       "                renderPlotly_7399b377911a4976954c7cd310682744();\n",
       "            }\r\n",
       "</script>\r\n"
      ]
     },
     "metadata": {}
    }
   ],
   "metadata": {
    "dotnet_interactive": {
     "language": "fsharp"
    }
   }
  },
  {
   "cell_type": "code",
   "execution_count": null,
   "source": [
    "open Plotly.NET\r\n",
    "\r\n",
    "let years = [ \"2016\"; \"2017\"; \"2018\" ]\r\n",
    "\r\n",
    "[\r\n",
    "    Chart.Column(years, [500; 600; 700], Name=\"expenses\", Marker=Marker.init(Color=\"crimson\"))\r\n",
    "        |> GenericChart.mapTrace(fun t-> \r\n",
    "                        t.SetValue(\"base\",[-500;-600;-700])// workaround\r\n",
    "                        t) \r\n",
    "\r\n",
    "    ;Chart.Column(years, [300; 400; 700], Name=\"revenue\", Marker=Marker.init(Color=\"lightslategrey\"))\r\n",
    "         |> GenericChart.mapTrace(fun t-> \r\n",
    "                            t.SetValue(\"base\",0)\r\n",
    "                            t)  // workaround\r\n",
    "]\r\n",
    "|> Chart.Combine"
   ],
   "outputs": [
    {
     "output_type": "display_data",
     "data": {
      "text/html": [
       "<div id=\"bdbccbd6-9a2b-4d72-9ca4-cac5ee445995\" style=\"width: 600px; height: 600px;\"><!-- Plotly chart will be drawn inside this DIV --></div>\r\n",
       "<script type=\"text/javascript\">\r\n",
       "\n",
       "            var renderPlotly_bdbccbd69a2b4d729ca4cac5ee445995 = function() {\n",
       "            var fsharpPlotlyRequire = requirejs.config({context:'fsharp-plotly',paths:{plotly:'https://cdn.plot.ly/plotly-latest.min'}}) || require;\n",
       "            fsharpPlotlyRequire(['plotly'], function(Plotly) {\r\n",
       "\n",
       "            var data = [{\"type\":\"bar\",\"x\":[\"2016\",\"2017\",\"2018\"],\"y\":[500,600,700],\"marker\":{\"color\":\"crimson\"},\"name\":\"expenses\",\"base\":[-500,-600,-700]},{\"type\":\"bar\",\"x\":[\"2016\",\"2017\",\"2018\"],\"y\":[300,400,700],\"marker\":{\"color\":\"lightslategrey\"},\"name\":\"revenue\",\"base\":0}];\n",
       "            var layout = {};\n",
       "            var config = {};\n",
       "            Plotly.newPlot('bdbccbd6-9a2b-4d72-9ca4-cac5ee445995', data, layout, config);\r\n",
       "});\n",
       "            };\n",
       "            if ((typeof(requirejs) !==  typeof(Function)) || (typeof(requirejs.config) !== typeof(Function))) {\n",
       "                var script = document.createElement(\"script\");\n",
       "                script.setAttribute(\"src\", \"https://cdnjs.cloudflare.com/ajax/libs/require.js/2.3.6/require.min.js\");\n",
       "                script.onload = function(){\n",
       "                    renderPlotly_bdbccbd69a2b4d729ca4cac5ee445995();\n",
       "                };\n",
       "                document.getElementsByTagName(\"head\")[0].appendChild(script);\n",
       "            }\n",
       "            else {\n",
       "                renderPlotly_bdbccbd69a2b4d729ca4cac5ee445995();\n",
       "            }\r\n",
       "</script>\r\n"
      ]
     },
     "metadata": {}
    }
   ],
   "metadata": {
    "dotnet_interactive": {
     "language": "fsharp"
    }
   }
  },
  {
   "cell_type": "markdown",
   "source": [
    "## Colored and Styled Bar Chart"
   ],
   "metadata": {}
  },
  {
   "cell_type": "code",
   "execution_count": null,
   "source": [],
   "outputs": [
    {
     "output_type": "display_data",
     "data": {
      "text/html": [
       "<div><div></div><div></div><div><strong>Installed Packages</strong><ul><li><span>Plotly.NET, 2.0.0-preview.6</span></li><li><span>Plotly.NET.Interactive, 2.0.0-preview.6</span></li></ul></div></div>"
      ]
     },
     "metadata": {},
     "output_type": "display_data"
    },
    {
     "data": {
      "text/html": [
       "<div id=\"74c5a2e3-3b44-4e1d-bce0-8659e67e7963\" style=\"width: 600px; height: 600px;\"><!-- Plotly chart will be drawn inside this DIV --></div>\r\n",
       "<script type=\"text/javascript\">\r\n",
       "\n",
       "            var renderPlotly_74c5a2e33b444e1dbce08659e67e7963 = function() {\n",
       "            var fsharpPlotlyRequire = requirejs.config({context:'fsharp-plotly',paths:{plotly:'https://cdn.plot.ly/plotly-latest.min'}}) || require;\n",
       "            fsharpPlotlyRequire(['plotly'], function(Plotly) {\r\n",
       "\n",
       "            var data = [{\"type\":\"bar\",\"x\":[1995,1996,1997,1998,1999,2000,2001,2002,2003,2004,2005,2006,2007,2008,2009,2010,2011,2012,2013],\"y\":[219,146,112,127,124,180,236,207,236,263,350,430,474,526,488,537,500,439],\"marker\":{\"color\":\"rgb(55, 83, 109)\"},\"name\":\"Rest of the World\"},{\"type\":\"bar\",\"x\":[1995,1996,1997,1998,1999,2000,2001,2002,2003,2004,2005,2006,2007,2008,2009,2010,2011,2012,2013],\"y\":[16,13,10,11,28,37,43,55,56,88,105,156,270,299,340,403,549,499],\"marker\":{\"color\":\"rgb(26, 118, 255)\"},\"name\":\"China\"}];\n",
       "            var layout = {\"title\":\"US Export of Plastic Scrap\",\"barmode\":\"group\",\"bargap\":0.15,\"bargroupgap\":0.1,\"legend\":{\"bgcolor\":\"rgba(255, 255, 255, 0)\",\"bordercolor\":\"rgba(255, 255, 255, 0)\",\"x\":0.0,\"y\":1.0},\"yaxis\":{\"title\":\"USD (millions)\",\"titlefont\":{\"size\":16.0},\"tickfont\":{\"size\":14.0}},\"xaxis\":{\"tickfont\":{\"size\":14.0}}};\n",
       "            var config = {};\n",
       "            Plotly.newPlot('74c5a2e3-3b44-4e1d-bce0-8659e67e7963', data, layout, config);\r\n",
       "});\n",
       "            };\n",
       "            if ((typeof(requirejs) !==  typeof(Function)) || (typeof(requirejs.config) !== typeof(Function))) {\n",
       "                var script = document.createElement(\"script\");\n",
       "                script.setAttribute(\"src\", \"https://cdnjs.cloudflare.com/ajax/libs/require.js/2.3.6/require.min.js\");\n",
       "                script.onload = function(){\n",
       "                    renderPlotly_74c5a2e33b444e1dbce08659e67e7963();\n",
       "                };\n",
       "                document.getElementsByTagName(\"head\")[0].appendChild(script);\n",
       "            }\n",
       "            else {\n",
       "                renderPlotly_74c5a2e33b444e1dbce08659e67e7963();\n",
       "            }\r\n",
       "</script>\r\n"
      ]
     },
     "metadata": {}
    }
   ],
   "metadata": {
    "dotnet_interactive": {
     "language": "fsharp"
    }
   }
  },
  {
   "cell_type": "markdown",
   "source": [
    "## Bar Chart with Relative Barmode"
   ],
   "metadata": {}
  },
  {
   "cell_type": "code",
   "execution_count": null,
   "source": [
    "open Plotly.NET\r\n",
    "\r\n",
    "let x = [1; 2; 3; 4]\r\n",
    "\r\n",
    "let layout = \r\n",
    "    let obj = Layout()\r\n",
    "    obj?barmode <- \"relative\"// wordaround\r\n",
    "    obj?title_text <- \"Relative Barmode\"// wordaround\r\n",
    "    obj\r\n",
    "\r\n",
    "[\r\n",
    "    Chart.Column(keys=x, values= [1.; 4.; 9.; 16.])\r\n",
    "    Chart.Column(keys=x, values= [6.; -8.; -4.5; 8.])\r\n",
    "    Chart.Column(keys=x, values= [-15.; -3.; 4.5; -8.])\r\n",
    "    Chart.Column(keys=x, values= [-1.; 3.; -3.; -4.])\r\n",
    "]\r\n",
    "|> Chart.Combine\r\n",
    "|> Chart.withLayout(layout)"
   ],
   "outputs": [
    {
     "output_type": "display_data",
     "data": {
      "text/html": [
       "<div id=\"e5a50b93-e470-478c-a948-e49d452fc40f\" style=\"width: 600px; height: 600px;\"><!-- Plotly chart will be drawn inside this DIV --></div>\r\n",
       "<script type=\"text/javascript\">\r\n",
       "\n",
       "            var renderPlotly_e5a50b93e470478ca948e49d452fc40f = function() {\n",
       "            var fsharpPlotlyRequire = requirejs.config({context:'fsharp-plotly',paths:{plotly:'https://cdn.plot.ly/plotly-latest.min'}}) || require;\n",
       "            fsharpPlotlyRequire(['plotly'], function(Plotly) {\r\n",
       "\n",
       "            var data = [{\"type\":\"bar\",\"x\":[1,2,3,4],\"y\":[1.0,4.0,9.0,16.0],\"marker\":{}},{\"type\":\"bar\",\"x\":[1,2,3,4],\"y\":[6.0,-8.0,-4.5,8.0],\"marker\":{}},{\"type\":\"bar\",\"x\":[1,2,3,4],\"y\":[-15.0,-3.0,4.5,-8.0],\"marker\":{}},{\"type\":\"bar\",\"x\":[1,2,3,4],\"y\":[-1.0,3.0,-3.0,-4.0],\"marker\":{}}];\n",
       "            var layout = {\"barmode\":\"relative\",\"title_text\":\"Relative Barmode\"};\n",
       "            var config = {};\n",
       "            Plotly.newPlot('e5a50b93-e470-478c-a948-e49d452fc40f', data, layout, config);\r\n",
       "});\n",
       "            };\n",
       "            if ((typeof(requirejs) !==  typeof(Function)) || (typeof(requirejs.config) !== typeof(Function))) {\n",
       "                var script = document.createElement(\"script\");\n",
       "                script.setAttribute(\"src\", \"https://cdnjs.cloudflare.com/ajax/libs/require.js/2.3.6/require.min.js\");\n",
       "                script.onload = function(){\n",
       "                    renderPlotly_e5a50b93e470478ca948e49d452fc40f();\n",
       "                };\n",
       "                document.getElementsByTagName(\"head\")[0].appendChild(script);\n",
       "            }\n",
       "            else {\n",
       "                renderPlotly_e5a50b93e470478ca948e49d452fc40f();\n",
       "            }\r\n",
       "</script>\r\n"
      ]
     },
     "metadata": {}
    }
   ],
   "metadata": {
    "dotnet_interactive": {
     "language": "fsharp"
    }
   }
  },
  {
   "cell_type": "markdown",
   "source": [
    "## Bar Chart with Sorted or Ordered Categories"
   ],
   "metadata": {}
  },
  {
   "cell_type": "code",
   "execution_count": null,
   "source": [
    "open Plotly.NET\r\n",
    "\r\n",
    "let x = ['b'; 'a'; 'c'; 'd']\r\n",
    "\r\n",
    "let layout = \r\n",
    "    let obj = Layout()\r\n",
    "    obj?barmode <- \"stack\"// wordaround\r\n",
    "    obj?xaxis <- {|categoryorder = \"category ascending\"|} // wordaround\r\n",
    "    obj\r\n",
    "\r\n",
    "[\r\n",
    "    Chart.Column(x, [2.;5.;1.;9.], Name = \"Montreal\")\r\n",
    "    Chart.Column(x, [1.;4.;9.;16.], Name = \"Ottawa\")\r\n",
    "    Chart.Column(x, [6.;8.;4.5;8.], Name = \"Toronto\")\r\n",
    "]\r\n",
    "|> Chart.Combine\r\n",
    "|> Chart.withLayout(layout)"
   ],
   "outputs": [
    {
     "output_type": "display_data",
     "data": {
      "text/html": [
       "<div id=\"1e79f3fd-455f-49fe-8ba6-9a30f4e5bab5\" style=\"width: 600px; height: 600px;\"><!-- Plotly chart will be drawn inside this DIV --></div>\r\n",
       "<script type=\"text/javascript\">\r\n",
       "\n",
       "            var renderPlotly_1e79f3fd455f49fe8ba69a30f4e5bab5 = function() {\n",
       "            var fsharpPlotlyRequire = requirejs.config({context:'fsharp-plotly',paths:{plotly:'https://cdn.plot.ly/plotly-latest.min'}}) || require;\n",
       "            fsharpPlotlyRequire(['plotly'], function(Plotly) {\r\n",
       "\n",
       "            var data = [{\"type\":\"bar\",\"x\":[\"b\",\"a\",\"c\",\"d\"],\"y\":[2.0,5.0,1.0,9.0],\"marker\":{},\"name\":\"Montreal\"},{\"type\":\"bar\",\"x\":[\"b\",\"a\",\"c\",\"d\"],\"y\":[1.0,4.0,9.0,16.0],\"marker\":{},\"name\":\"Ottawa\"},{\"type\":\"bar\",\"x\":[\"b\",\"a\",\"c\",\"d\"],\"y\":[6.0,8.0,4.5,8.0],\"marker\":{},\"name\":\"Toronto\"}];\n",
       "            var layout = {\"barmode\":\"stack\",\"xaxis\":{\"categoryorder\":\"category ascending\"}};\n",
       "            var config = {};\n",
       "            Plotly.newPlot('1e79f3fd-455f-49fe-8ba6-9a30f4e5bab5', data, layout, config);\r\n",
       "});\n",
       "            };\n",
       "            if ((typeof(requirejs) !==  typeof(Function)) || (typeof(requirejs.config) !== typeof(Function))) {\n",
       "                var script = document.createElement(\"script\");\n",
       "                script.setAttribute(\"src\", \"https://cdnjs.cloudflare.com/ajax/libs/require.js/2.3.6/require.min.js\");\n",
       "                script.onload = function(){\n",
       "                    renderPlotly_1e79f3fd455f49fe8ba69a30f4e5bab5();\n",
       "                };\n",
       "                document.getElementsByTagName(\"head\")[0].appendChild(script);\n",
       "            }\n",
       "            else {\n",
       "                renderPlotly_1e79f3fd455f49fe8ba69a30f4e5bab5();\n",
       "            }\r\n",
       "</script>\r\n"
      ]
     },
     "metadata": {}
    }
   ],
   "metadata": {
    "dotnet_interactive": {
     "language": "fsharp"
    }
   }
  },
  {
   "cell_type": "code",
   "execution_count": null,
   "source": [
    "open Plotly.NET\r\n",
    "\r\n",
    "let x = ['b'; 'a'; 'c'; 'd']\r\n",
    "\r\n",
    "let layout = \r\n",
    "    let obj = Layout()\r\n",
    "    obj?barmode <- \"stack\"// wordaround\r\n",
    "    obj?xaxis <- {|categoryorder = \"array\"; categoryarray = ['d';'a';'c';'b']|}// wordaround\r\n",
    "    obj\r\n",
    "\r\n",
    "[\r\n",
    "    Chart.Column(x, [2.;5.;1.;9.], Name = \"Montreal\")\r\n",
    "    Chart.Column(x, [1.;4.;9.;16.], Name = \"Ottawa\")\r\n",
    "    Chart.Column(x, [6.;8.;4.5;8.], Name = \"Toronto\")\r\n",
    "]\r\n",
    "|> Chart.Combine\r\n",
    "|> Chart.withLayout(layout)"
   ],
   "outputs": [
    {
     "output_type": "display_data",
     "data": {
      "text/html": [
       "<div id=\"f73513c8-79a5-4757-a5a0-ca06be627bc8\" style=\"width: 600px; height: 600px;\"><!-- Plotly chart will be drawn inside this DIV --></div>\r\n",
       "<script type=\"text/javascript\">\r\n",
       "\n",
       "            var renderPlotly_f73513c879a54757a5a0ca06be627bc8 = function() {\n",
       "            var fsharpPlotlyRequire = requirejs.config({context:'fsharp-plotly',paths:{plotly:'https://cdn.plot.ly/plotly-latest.min'}}) || require;\n",
       "            fsharpPlotlyRequire(['plotly'], function(Plotly) {\r\n",
       "\n",
       "            var data = [{\"type\":\"bar\",\"x\":[\"b\",\"a\",\"c\",\"d\"],\"y\":[2.0,5.0,1.0,9.0],\"marker\":{},\"name\":\"Montreal\"},{\"type\":\"bar\",\"x\":[\"b\",\"a\",\"c\",\"d\"],\"y\":[1.0,4.0,9.0,16.0],\"marker\":{},\"name\":\"Ottawa\"},{\"type\":\"bar\",\"x\":[\"b\",\"a\",\"c\",\"d\"],\"y\":[6.0,8.0,4.5,8.0],\"marker\":{},\"name\":\"Toronto\"}];\n",
       "            var layout = {\"barmode\":\"stack\",\"xaxis\":{\"categoryarray\":[\"d\",\"a\",\"c\",\"b\"],\"categoryorder\":\"array\"}};\n",
       "            var config = {};\n",
       "            Plotly.newPlot('f73513c8-79a5-4757-a5a0-ca06be627bc8', data, layout, config);\r\n",
       "});\n",
       "            };\n",
       "            if ((typeof(requirejs) !==  typeof(Function)) || (typeof(requirejs.config) !== typeof(Function))) {\n",
       "                var script = document.createElement(\"script\");\n",
       "                script.setAttribute(\"src\", \"https://cdnjs.cloudflare.com/ajax/libs/require.js/2.3.6/require.min.js\");\n",
       "                script.onload = function(){\n",
       "                    renderPlotly_f73513c879a54757a5a0ca06be627bc8();\n",
       "                };\n",
       "                document.getElementsByTagName(\"head\")[0].appendChild(script);\n",
       "            }\n",
       "            else {\n",
       "                renderPlotly_f73513c879a54757a5a0ca06be627bc8();\n",
       "            }\r\n",
       "</script>\r\n"
      ]
     },
     "metadata": {}
    }
   ],
   "metadata": {
    "dotnet_interactive": {
     "language": "fsharp"
    }
   }
  },
  {
   "cell_type": "code",
   "execution_count": null,
   "source": [
    "open Plotly.NET\r\n",
    "\r\n",
    "let x = ['b'; 'a'; 'c'; 'd']\r\n",
    "\r\n",
    "let layout = \r\n",
    "    let obj = Layout()\r\n",
    "    obj?barmode <- \"stack\" // wordaround\r\n",
    "    obj?xaxis <- {|categoryorder = \"total descending\"|} // wordaround\r\n",
    "    obj\r\n",
    "\r\n",
    "[\r\n",
    "    Chart.Column(x, [2.;5.;1.;9.], Name = \"Montreal\")\r\n",
    "    Chart.Column(x, [1.;4.;9.;16.], Name = \"Ottawa\")\r\n",
    "    Chart.Column(x, [6.;8.;4.5;8.], Name = \"Toronto\")\r\n",
    "]\r\n",
    "|> Chart.Combine\r\n",
    "|> Chart.withLayout(layout)"
   ],
   "outputs": [
    {
     "output_type": "display_data",
     "data": {
      "text/html": [
       "<div id=\"13e462cd-8a53-4957-b599-0861fec973aa\" style=\"width: 600px; height: 600px;\"><!-- Plotly chart will be drawn inside this DIV --></div>\r\n",
       "<script type=\"text/javascript\">\r\n",
       "\n",
       "            var renderPlotly_13e462cd8a534957b5990861fec973aa = function() {\n",
       "            var fsharpPlotlyRequire = requirejs.config({context:'fsharp-plotly',paths:{plotly:'https://cdn.plot.ly/plotly-latest.min'}}) || require;\n",
       "            fsharpPlotlyRequire(['plotly'], function(Plotly) {\r\n",
       "\n",
       "            var data = [{\"type\":\"bar\",\"x\":[\"b\",\"a\",\"c\",\"d\"],\"y\":[2.0,5.0,1.0,9.0],\"marker\":{},\"name\":\"Montreal\"},{\"type\":\"bar\",\"x\":[\"b\",\"a\",\"c\",\"d\"],\"y\":[1.0,4.0,9.0,16.0],\"marker\":{},\"name\":\"Ottawa\"},{\"type\":\"bar\",\"x\":[\"b\",\"a\",\"c\",\"d\"],\"y\":[6.0,8.0,4.5,8.0],\"marker\":{},\"name\":\"Toronto\"}];\n",
       "            var layout = {\"barmode\":\"stack\",\"xaxis\":{\"categoryorder\":\"total descending\"}};\n",
       "            var config = {};\n",
       "            Plotly.newPlot('13e462cd-8a53-4957-b599-0861fec973aa', data, layout, config);\r\n",
       "});\n",
       "            };\n",
       "            if ((typeof(requirejs) !==  typeof(Function)) || (typeof(requirejs.config) !== typeof(Function))) {\n",
       "                var script = document.createElement(\"script\");\n",
       "                script.setAttribute(\"src\", \"https://cdnjs.cloudflare.com/ajax/libs/require.js/2.3.6/require.min.js\");\n",
       "                script.onload = function(){\n",
       "                    renderPlotly_13e462cd8a534957b5990861fec973aa();\n",
       "                };\n",
       "                document.getElementsByTagName(\"head\")[0].appendChild(script);\n",
       "            }\n",
       "            else {\n",
       "                renderPlotly_13e462cd8a534957b5990861fec973aa();\n",
       "            }\r\n",
       "</script>\r\n"
      ]
     },
     "metadata": {}
    }
   ],
   "metadata": {
    "dotnet_interactive": {
     "language": "fsharp"
    }
   }
  },
  {
   "cell_type": "markdown",
   "source": [
    "# Horizontal Bar Charts\r\n",
    "\r\n",
    "## Bar Charts With Multicategory Axis Type"
   ],
   "metadata": {}
  },
  {
   "cell_type": "code",
   "execution_count": null,
   "source": [
    "#r \"nuget: Plotly.NET, 2.0.0-preview.6\"\r\n",
    "#r \"nuget: Plotly.NET.Interactive, 2.0.0-preview.6\"\r\n",
    "\r\n",
    "open Plotly.NET\r\n",
    "\r\n",
    "let x :Object list = [[\"BB+\"; \"BB+\"; \"BB+\"; \"BB\"; \"BB\"; \"BB\"];[16; 17; 18; 16; 17; 18;]]\r\n",
    "\r\n",
    "[\r\n",
    "    Chart.Column(keys=[], values = [1;2;3;4;5;6])\r\n",
    "    Chart.Column(keys=[], values = [6;5;4;3;2;1])\r\n",
    "] \r\n",
    "|> Chart.Combine \r\n",
    "// |> Chart.withX_Axis(Axis.LinearAxis.init(Tickvals = [\"BB+\"; \"BB+\"; \"BB+\"; \"BB\"; \"BB\"; \"BB\"]))\r\n",
    "|> GenericChart.mapTrace(fun t-> \r\n",
    "                                t?x<-x // workaround\r\n",
    "                                t) \r\n",
    "|> Chart.withLayout( Layout.init(Barmode = StyleParam.Barmode.Stack))"
   ],
   "outputs": [
    {
     "output_type": "display_data",
     "data": {
      "text/html": [
       "<div><div></div><div></div><div><strong>Installed Packages</strong><ul><li><span>Plotly.NET, 2.0.0-preview.6</span></li><li><span>Plotly.NET.Interactive, 2.0.0-preview.6</span></li></ul></div></div>"
      ]
     },
     "metadata": {},
     "output_type": "display_data"
    },
    {
     "data": {
      "text/html": [
       "<div id=\"b4aca622-b225-4146-8adc-7aacd04cfc0e\" style=\"width: 600px; height: 600px;\"><!-- Plotly chart will be drawn inside this DIV --></div>\r\n",
       "<script type=\"text/javascript\">\r\n",
       "\n",
       "            var renderPlotly_b4aca622b22541468adc7aacd04cfc0e = function() {\n",
       "            var fsharpPlotlyRequire = requirejs.config({context:'fsharp-plotly',paths:{plotly:'https://cdn.plot.ly/plotly-latest.min'}}) || require;\n",
       "            fsharpPlotlyRequire(['plotly'], function(Plotly) {\r\n",
       "\n",
       "            var data = [{\"type\":\"bar\",\"x\":[[\"BB+\",\"BB+\",\"BB+\",\"BB\",\"BB\",\"BB\"],[16,17,18,16,17,18]],\"y\":[1,2,3,4,5,6],\"marker\":{}},{\"type\":\"bar\",\"x\":[[\"BB+\",\"BB+\",\"BB+\",\"BB\",\"BB\",\"BB\"],[16,17,18,16,17,18]],\"y\":[6,5,4,3,2,1],\"marker\":{}}];\n",
       "            var layout = {\"barmode\":\"stack\"};\n",
       "            var config = {};\n",
       "            Plotly.newPlot('b4aca622-b225-4146-8adc-7aacd04cfc0e', data, layout, config);\r\n",
       "});\n",
       "            };\n",
       "            if ((typeof(requirejs) !==  typeof(Function)) || (typeof(requirejs.config) !== typeof(Function))) {\n",
       "                var script = document.createElement(\"script\");\n",
       "                script.setAttribute(\"src\", \"https://cdnjs.cloudflare.com/ajax/libs/require.js/2.3.6/require.min.js\");\n",
       "                script.onload = function(){\n",
       "                    renderPlotly_b4aca622b22541468adc7aacd04cfc0e();\n",
       "                };\n",
       "                document.getElementsByTagName(\"head\")[0].appendChild(script);\n",
       "            }\n",
       "            else {\n",
       "                renderPlotly_b4aca622b22541468adc7aacd04cfc0e();\n",
       "            }\r\n",
       "</script>\r\n"
      ]
     },
     "metadata": {}
    }
   ],
   "metadata": {
    "dotnet_interactive": {
     "language": "fsharp"
    }
   }
  }
 ],
 "metadata": {
  "kernelspec": {
   "display_name": ".NET (C#)",
   "language": "C#",
   "name": ".net-csharp"
  },
  "language_info": {
   "file_extension": ".cs",
   "mimetype": "text/x-csharp",
   "name": "C#",
   "pygments_lexer": "csharp",
   "version": "9.0"
  },
  "orig_nbformat": 4
 },
 "nbformat": 4,
 "nbformat_minor": 2
}
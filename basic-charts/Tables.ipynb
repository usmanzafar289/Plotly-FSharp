{
 "metadata": {
  "kernelspec": {
   "display_name": ".NET (F#)",
   "language": "F#",
   "name": ".net-fsharp"
  },
  "language_info": {
   "name": "F#"
  }
 },
 "cells": [
  {
   "cell_type": "code",
   "execution_count": null,
   "source": [
    "#r \"nuget: Plotly.NET, 2.0.0-preview.6\"\r\n",
    "#r \"nuget: Plotly.NET.Interactive, 2.0.0-preview.6\"\r\n",
    "#r \"nuget: FSharp.Data, 4.2.2\"\r\n",
    "\r\n",
    "open Plotly.NET"
   ],
   "outputs": [
    {
     "output_type": "display_data",
     "data": {
      "text/html": [
       "<div><div></div><div></div><div><strong>Installed Packages</strong><ul><li><span>FSharp.Data, 4.2.2</span></li><li><span>Plotly.NET, 2.0.0-preview.6</span></li><li><span>Plotly.NET.Interactive, 2.0.0-preview.6</span></li></ul></div></div>"
      ]
     },
     "metadata": {}
    },
    {
     "output_type": "display_data",
     "data": {
      "text/markdown": [
       "Loading extensions from `Plotly.NET.Interactive.dll`"
      ]
     },
     "metadata": {}
    },
    {
     "output_type": "display_data",
     "data": {
      "text/markdown": [
       "Added Kernel Extension including formatters for Plotly.NET charts."
      ]
     },
     "metadata": {}
    }
   ],
   "metadata": {
    "dotnet_interactive": {
     "language": "fsharp"
    }
   }
  },
  {
   "cell_type": "markdown",
   "source": [
    "## Basic Table"
   ],
   "metadata": {}
  },
  {
   "cell_type": "code",
   "execution_count": null,
   "source": [
    "open Plotly.NET\r\n",
    "\r\n",
    "let header = [\"A Scores\";\"B Scores\"]\r\n",
    "let rows = \r\n",
    "    [\r\n",
    "        [100; 95]\r\n",
    "        [90; 85]\r\n",
    "        [80; 75]\r\n",
    "        [90; 95]\r\n",
    "    ]\r\n",
    "\r\n",
    "Chart.Table(header, rows)"
   ],
   "outputs": [
    {
     "output_type": "display_data",
     "data": {
      "text/html": [
       "<div id=\"07bc83fa-1957-4acb-ace3-4ee05739a8e5\" style=\"width: 600px; height: 600px;\"><!-- Plotly chart will be drawn inside this DIV --></div>\r\n",
       "<script type=\"text/javascript\">\r\n",
       "\n",
       "            var renderPlotly_07bc83fa19574acbace34ee05739a8e5 = function() {\n",
       "            var fsharpPlotlyRequire = requirejs.config({context:'fsharp-plotly',paths:{plotly:'https://cdn.plot.ly/plotly-latest.min'}}) || require;\n",
       "            fsharpPlotlyRequire(['plotly'], function(Plotly) {\r\n",
       "\n",
       "            var data = [{\"type\":\"table\",\"header\":{\"values\":[\"A Scores\",\"B Scores\"]},\"cells\":{\"values\":[[100,90,80,90],[95,85,75,95]]}}];\n",
       "            var layout = {};\n",
       "            var config = {};\n",
       "            Plotly.newPlot('07bc83fa-1957-4acb-ace3-4ee05739a8e5', data, layout, config);\r\n",
       "});\n",
       "            };\n",
       "            if ((typeof(requirejs) !==  typeof(Function)) || (typeof(requirejs.config) !== typeof(Function))) {\n",
       "                var script = document.createElement(\"script\");\n",
       "                script.setAttribute(\"src\", \"https://cdnjs.cloudflare.com/ajax/libs/require.js/2.3.6/require.min.js\");\n",
       "                script.onload = function(){\n",
       "                    renderPlotly_07bc83fa19574acbace34ee05739a8e5();\n",
       "                };\n",
       "                document.getElementsByTagName(\"head\")[0].appendChild(script);\n",
       "            }\n",
       "            else {\n",
       "                renderPlotly_07bc83fa19574acbace34ee05739a8e5();\n",
       "            }\r\n",
       "</script>\r\n"
      ]
     },
     "metadata": {}
    }
   ],
   "metadata": {
    "dotnet_interactive": {
     "language": "fsharp"
    }
   }
  },
  {
   "cell_type": "markdown",
   "source": [
    "## Styled Table"
   ],
   "metadata": {}
  },
  {
   "cell_type": "code",
   "execution_count": null,
   "source": [
    "let header = [\"A Scores\";\"B Scores\"]\r\n",
    "let rows = \r\n",
    "    [\r\n",
    "        [100; 95]\r\n",
    "        [90; 85]\r\n",
    "        [80; 75]\r\n",
    "        [90; 95]\r\n",
    "    ]\r\n",
    "\r\n",
    "let headerLineStyle = Line.init(Color=\"#2f4f4f\")    \r\n",
    "let cellLineStyle = Line.init(Color=\"#2f4f4f\")    \r\n",
    "let width = 500.0\r\n",
    "let height = 300.0\r\n",
    "\r\n",
    "Chart.Table(header, \r\n",
    "            rows,\r\n",
    "            AlignHeader = [StyleParam.HorizontalAlign.Left],\r\n",
    "            AlignCells = [StyleParam.HorizontalAlign.Left],\r\n",
    "            ColorHeader = \"#87CEFA\",\r\n",
    "            ColorCells = \"#E0FFFF\",\r\n",
    "            LineHeader = headerLineStyle,\r\n",
    "            LineCells = cellLineStyle) \r\n",
    "    |> Chart.withSize (width, height)"
   ],
   "outputs": [
    {
     "output_type": "display_data",
     "data": {
      "text/html": [
       "<div id=\"fedb4095-4b2a-484f-9f6d-4a52a2113df8\" style=\"width: 500px; height: 300px;\"><!-- Plotly chart will be drawn inside this DIV --></div>\r\n",
       "<script type=\"text/javascript\">\r\n",
       "\n",
       "            var renderPlotly_fedb40954b2a484f9f6d4a52a2113df8 = function() {\n",
       "            var fsharpPlotlyRequire = requirejs.config({context:'fsharp-plotly',paths:{plotly:'https://cdn.plot.ly/plotly-latest.min'}}) || require;\n",
       "            fsharpPlotlyRequire(['plotly'], function(Plotly) {\r\n",
       "\n",
       "            var data = [{\"type\":\"table\",\"header\":{\"values\":[\"A Scores\",\"B Scores\"],\"align\":[\"left\"],\"fill\":{\"color\":\"#87CEFA\"},\"line\":{\"color\":\"#2f4f4f\"}},\"cells\":{\"values\":[[100,90,80,90],[95,85,75,95]],\"align\":[\"left\"],\"fill\":{\"color\":\"#E0FFFF\"},\"line\":{\"color\":\"#2f4f4f\"}}}];\n",
       "            var layout = {\"width\":500.0,\"height\":300.0};\n",
       "            var config = {};\n",
       "            Plotly.newPlot('fedb4095-4b2a-484f-9f6d-4a52a2113df8', data, layout, config);\r\n",
       "});\n",
       "            };\n",
       "            if ((typeof(requirejs) !==  typeof(Function)) || (typeof(requirejs.config) !== typeof(Function))) {\n",
       "                var script = document.createElement(\"script\");\n",
       "                script.setAttribute(\"src\", \"https://cdnjs.cloudflare.com/ajax/libs/require.js/2.3.6/require.min.js\");\n",
       "                script.onload = function(){\n",
       "                    renderPlotly_fedb40954b2a484f9f6d4a52a2113df8();\n",
       "                };\n",
       "                document.getElementsByTagName(\"head\")[0].appendChild(script);\n",
       "            }\n",
       "            else {\n",
       "                renderPlotly_fedb40954b2a484f9f6d4a52a2113df8();\n",
       "            }\r\n",
       "</script>\r\n"
      ]
     },
     "metadata": {}
    }
   ],
   "metadata": {
    "dotnet_interactive": {
     "language": "fsharp"
    }
   }
  },
  {
   "cell_type": "markdown",
   "source": [
    "## Use a Pandas Dataframe"
   ],
   "metadata": {}
  },
  {
   "cell_type": "code",
   "execution_count": null,
   "source": [
    "open FSharp.Data\n",
    "open Plotly.NET\n",
    "\n",
    "type UsaStatesDataset = CsvProvider<\"https://raw.githubusercontent.com/plotly/datasets/master/2014_usa_states.csv\">\n",
    "\n",
    "let data = UsaStatesDataset.GetSample()\n",
    "let headers = match data.Headers with \n",
    "              | Some h -> h \n",
    "              | None -> [||]\n",
    "\n",
    "let rows = data.Rows |> Seq.map(fun r -> [r.Rank.ToString()\n",
    "                                          r.State\n",
    "                                          r.Postal\n",
    "                                          r.Population.ToString(\"0\")])\n",
    "\n",
    "Chart.Table(headers, \n",
    "            rows,\n",
    "            AlignHeader = [StyleParam.HorizontalAlign.Left],\n",
    "            AlignCells = [StyleParam.HorizontalAlign.Left],\n",
    "            ColorHeader = \"#AFEEEE\",\n",
    "            ColorCells = \"#E6E6FA\")        "
   ],
   "outputs": [
    {
     "output_type": "display_data",
     "data": {
      "text/html": [
       "<div id=\"583f342c-a2e9-49eb-8e07-724542e486ed\" style=\"width: 600px; height: 600px;\"><!-- Plotly chart will be drawn inside this DIV --></div>\r\n",
       "<script type=\"text/javascript\">\r\n",
       "\n",
       "            var renderPlotly_583f342ca2e949eb8e07724542e486ed = function() {\n",
       "            var fsharpPlotlyRequire = requirejs.config({context:'fsharp-plotly',paths:{plotly:'https://cdn.plot.ly/plotly-latest.min'}}) || require;\n",
       "            fsharpPlotlyRequire(['plotly'], function(Plotly) {\r\n",
       "\n",
       "            var data = [{\"type\":\"table\",\"header\":{\"values\":[\"Rank\",\"State\",\"Postal\",\"Population\"],\"align\":[\"left\"],\"fill\":{\"color\":\"#AFEEEE\"}},\"cells\":{\"values\":[[\"1\",\"2\",\"3\",\"4\",\"5\",\"6\",\"7\",\"8\",\"9\",\"10\",\"11\",\"12\",\"13\",\"14\",\"15\",\"16\",\"17\",\"18\",\"19\",\"20\",\"21\",\"22\",\"23\",\"24\",\"25\",\"26\",\"27\",\"28\",\"29\",\"30\",\"31\",\"32\",\"33\",\"34\",\"35\",\"36\",\"37\",\"38\",\"39\",\"40\",\"41\",\"42\",\"43\",\"44\",\"45\",\"46\",\"47\",\"48\",\"49\",\"50\",\"51\",\"52\"],[\"Alabama\",\"Alaska\",\"Arizona\",\"Arkansas\",\"California\",\"Colorado\",\"Connecticut\",\"Delaware\",\"District of Columbia\",\"Florida\",\"Georgia\",\"Hawaii\",\"Idaho\",\"Illinois\",\"Indiana\",\"Iowa\",\"Kansas\",\"Kentucky\",\"Louisiana\",\"Maine\",\"Maryland\",\"Massachusetts\",\"Michigan\",\"Minnesota\",\"Mississippi\",\"Missouri\",\"Montana\",\"Nebraska\",\"Nevada\",\"New Hampshire\",\"New Jersey\",\"New Mexico\",\"New York\",\"North Carolina\",\"North Dakota\",\"Ohio\",\"Oklahoma\",\"Oregon\",\"Pennsylvania\",\"Puerto Rico\",\"Rhode Island\",\"South Carolina\",\"South Dakota\",\"Tennessee\",\"Texas\",\"Utah\",\"Vermont\",\"Virginia\",\"Washington\",\"West Virginia\",\"Wisconsin\",\"Wyoming\"],[\"AL\",\"AK\",\"AZ\",\"AR\",\"CA\",\"CO\",\"CT\",\"DE\",\"DC\",\"FL\",\"GA\",\"HI\",\"ID\",\"IL\",\"IN\",\"IA\",\"KS\",\"KY\",\"LA\",\"ME\",\"MD\",\"MA\",\"MI\",\"MN\",\"MS\",\"MO\",\"MT\",\"NE\",\"NV\",\"NH\",\"NJ\",\"NM\",\"NY\",\"NC\",\"ND\",\"OH\",\"OK\",\"OR\",\"PA\",\"PR\",\"RI\",\"SC\",\"SD\",\"TN\",\"TX\",\"UT\",\"VT\",\"VA\",\"WA\",\"WV\",\"WI\",\"WY\"],[\"4849377\",\"736732\",\"6731484\",\"2966369\",\"38802500\",\"5355866\",\"3596677\",\"935614\",\"658893\",\"19893297\",\"10097343\",\"1419561\",\"1634464\",\"12880580\",\"6596855\",\"3107126\",\"2904021\",\"4413457\",\"4649676\",\"1330089\",\"5976407\",\"6745408\",\"9909877\",\"5457173\",\"2994079\",\"6063589\",\"1023579\",\"1881503\",\"2839098\",\"1326813\",\"8938175\",\"2085572\",\"19746227\",\"9943964\",\"739482\",\"11594163\",\"3878051\",\"3970239\",\"12787209\",\"3548397\",\"1055173\",\"4832482\",\"853175\",\"6549352\",\"26956958\",\"2942902\",\"626562\",\"8326289\",\"7061530\",\"1850326\",\"5757564\",\"584153\"]],\"align\":[\"left\"],\"fill\":{\"color\":\"#E6E6FA\"}}}];\n",
       "            var layout = {};\n",
       "            var config = {};\n",
       "            Plotly.newPlot('583f342c-a2e9-49eb-8e07-724542e486ed', data, layout, config);\r\n",
       "});\n",
       "            };\n",
       "            if ((typeof(requirejs) !==  typeof(Function)) || (typeof(requirejs.config) !== typeof(Function))) {\n",
       "                var script = document.createElement(\"script\");\n",
       "                script.setAttribute(\"src\", \"https://cdnjs.cloudflare.com/ajax/libs/require.js/2.3.6/require.min.js\");\n",
       "                script.onload = function(){\n",
       "                    renderPlotly_583f342ca2e949eb8e07724542e486ed();\n",
       "                };\n",
       "                document.getElementsByTagName(\"head\")[0].appendChild(script);\n",
       "            }\n",
       "            else {\n",
       "                renderPlotly_583f342ca2e949eb8e07724542e486ed();\n",
       "            }\r\n",
       "</script>\r\n"
      ]
     },
     "metadata": {}
    }
   ],
   "metadata": {
    "dotnet_interactive": {
     "language": "fsharp"
    }
   }
  },
  {
   "cell_type": "markdown",
   "source": [
    "## Changing Row and Column Size"
   ],
   "metadata": {}
  },
  {
   "cell_type": "code",
   "execution_count": null,
   "source": [
    "open Plotly.NET\n",
    "\n",
    "let loremIpsum = \"Lorem ipsum dolor sit amet, tollit discere inermis pri ut. Eos ea iusto timeam, an prima laboramus vim. Id usu aeterno adversarium, summo mollis timeam vel ad\"\n",
    "\n",
    "let headers = [ \"<b>EXPENSES</b><br>as of July 2017\"; \"<b>DESCRIPTION</b>\"]\n",
    "let rows = [\n",
    "     [\"Salaries\"; loremIpsum]\n",
    "     [\"Office\"; loremIpsum]\n",
    "     [\"Merchandise\"; loremIpsum]\n",
    "     [\"Legal\"; loremIpsum]\n",
    "     [\"<b>TOTAL<br>EXPENSES</b>\"; loremIpsum]\n",
    "]\n",
    "\n",
    "Chart.Table(headers, \n",
    "            rows,\n",
    "            AlignHeader = [StyleParam.HorizontalAlign.Left],\n",
    "            AlignCells = [StyleParam.HorizontalAlign.Left],\n",
    "            ColumnWidth = [80; 400],\n",
    "            ColumnOrder = [1;2],\n",
    "            ColorHeader = \"#4169E1\",\n",
    "            FontHeader = Font.init(Color=\"#FFFFFF\"),            \n",
    "            ColorCells = [\"#AFEEEE\"; \"#FFFFFF\"])  \n",
    "    |> Chart.withSize (800.0, 500.0)  "
   ],
   "outputs": [
    {
     "output_type": "display_data",
     "data": {
      "text/html": [
       "<div id=\"f9ca10f2-27d9-4f14-aa50-b5a1c03230b5\" style=\"width: 800px; height: 500px;\"><!-- Plotly chart will be drawn inside this DIV --></div>\n",
       "<script type=\"text/javascript\">\n",
       "\n",
       "            var renderPlotly_f9ca10f227d94f14aa50b5a1c03230b5 = function() {\n",
       "            var fsharpPlotlyRequire = requirejs.config({context:'fsharp-plotly',paths:{plotly:'https://cdn.plot.ly/plotly-latest.min'}}) || require;\n",
       "            fsharpPlotlyRequire(['plotly'], function(Plotly) {\n",
       "\n",
       "            var data = [{\"type\":\"table\",\"header\":{\"values\":[\"<b>EXPENSES</b><br>as of July 2017\",\"<b>DESCRIPTION</b>\"],\"align\":[\"left\"],\"fill\":{\"color\":\"#4169E1\"},\"font\":{\"color\":\"#FFFFFF\"}},\"cells\":{\"values\":[[\"Salaries\",\"Office\",\"Merchandise\",\"Legal\",\"<b>TOTAL<br>EXPENSES</b>\"],[\"Lorem ipsum dolor sit amet, tollit discere inermis pri ut. Eos ea iusto timeam, an prima laboramus vim. Id usu aeterno adversarium, summo mollis timeam vel ad\",\"Lorem ipsum dolor sit amet, tollit discere inermis pri ut. Eos ea iusto timeam, an prima laboramus vim. Id usu aeterno adversarium, summo mollis timeam vel ad\",\"Lorem ipsum dolor sit amet, tollit discere inermis pri ut. Eos ea iusto timeam, an prima laboramus vim. Id usu aeterno adversarium, summo mollis timeam vel ad\",\"Lorem ipsum dolor sit amet, tollit discere inermis pri ut. Eos ea iusto timeam, an prima laboramus vim. Id usu aeterno adversarium, summo mollis timeam vel ad\",\"Lorem ipsum dolor sit amet, tollit discere inermis pri ut. Eos ea iusto timeam, an prima laboramus vim. Id usu aeterno adversarium, summo mollis timeam vel ad\"]],\"align\":[\"left\"],\"fill\":{\"color\":[\"#AFEEEE\",\"#FFFFFF\"]}},\"columnwidth\":[80,400],\"columnorder\":[1,2]}];\n",
       "            var layout = {\"width\":800.0,\"height\":500.0};\n",
       "            var config = {};\n",
       "            Plotly.newPlot('f9ca10f2-27d9-4f14-aa50-b5a1c03230b5', data, layout, config);\n",
       "});\n",
       "            };\n",
       "            if ((typeof(requirejs) !==  typeof(Function)) || (typeof(requirejs.config) !== typeof(Function))) {\n",
       "                var script = document.createElement(\"script\");\n",
       "                script.setAttribute(\"src\", \"https://cdnjs.cloudflare.com/ajax/libs/require.js/2.3.6/require.min.js\");\n",
       "                script.onload = function(){\n",
       "                    renderPlotly_f9ca10f227d94f14aa50b5a1c03230b5();\n",
       "                };\n",
       "                document.getElementsByTagName(\"head\")[0].appendChild(script);\n",
       "            }\n",
       "            else {\n",
       "                renderPlotly_f9ca10f227d94f14aa50b5a1c03230b5();\n",
       "            }\n",
       "</script>\n"
      ]
     },
     "metadata": {}
    }
   ],
   "metadata": {
    "dotnet_interactive": {
     "language": "fsharp"
    }
   }
  },
  {
   "cell_type": "markdown",
   "source": [
    "## Alternating Row Colors"
   ],
   "metadata": {}
  },
  {
   "cell_type": "code",
   "execution_count": null,
   "source": [
    "open Plotly.NET\n",
    "open System\n",
    "\n",
    "let headers = [\"<b>EXPENSES</b>\";\"<b>Q1</b>\";\"<b>Q2</b>\";\"<b>Q3</b>\";\"<b>Q4</b>\"]\n",
    "\n",
    "type CellValue = | Subtitle of string | Amount of int\n",
    "let renderCellValue value = match value with \n",
    "                            | Subtitle v -> v \n",
    "                            | Amount v -> v.ToString()\n",
    "\n",
    "let rows = [ [\"Salaries\"; \"1200000\" ;  \"1300000\" ;  \"1300000\" ;  \"1400000\" ];    \n",
    "             [ \"Office\"; \"20000\"; \"20000\"; \"20000\"; \"20000\"];\n",
    "             [ \"Merchandise\"; \"80000\"; \"70000\"; \"120000\"; \"90000\"];\n",
    "             [\"Legal\"; \"2000\"; \"2000\"; \"2000\"; \"2000\" ];\n",
    "             [\"<b>TOTAL</b>\"; \"12120000\"; \"130902000\"; \"131222000\"; \"1410200\"] ]\n",
    "\n",
    "let headerColor = \"grey\"\n",
    "let rowEvenColor = \"lightgrey\"\n",
    "let rowOddColor = \"white\"\n",
    "\n",
    "Chart.Table(headers, \n",
    "            rows,\n",
    "            AlignHeader = [StyleParam.HorizontalAlign.Left],\n",
    "            AlignCells = [StyleParam.HorizontalAlign.Left; StyleParam.HorizontalAlign.Center],\n",
    "            ColorHeader = headerColor,\n",
    "            FontHeader = Font.init(Color=\"#FFFFFF\"),            \n",
    "            ColorCells = [\n",
    "                            [rowOddColor; rowEvenColor; rowOddColor; rowEvenColor; rowOddColor]\n",
    "                         ])  "
   ],
   "outputs": [
    {
     "output_type": "display_data",
     "data": {
      "text/html": [
       "<div id=\"fd198ebf-ff34-4f7f-85b1-bddae357ce96\" style=\"width: 600px; height: 600px;\"><!-- Plotly chart will be drawn inside this DIV --></div>\r\n",
       "<script type=\"text/javascript\">\r\n",
       "\n",
       "            var renderPlotly_fd198ebfff344f7f85b1bddae357ce96 = function() {\n",
       "            var fsharpPlotlyRequire = requirejs.config({context:'fsharp-plotly',paths:{plotly:'https://cdn.plot.ly/plotly-latest.min'}}) || require;\n",
       "            fsharpPlotlyRequire(['plotly'], function(Plotly) {\r\n",
       "\n",
       "            var data = [{\"type\":\"table\",\"header\":{\"values\":[\"<b>EXPENSES</b>\",\"<b>Q1</b>\",\"<b>Q2</b>\",\"<b>Q3</b>\",\"<b>Q4</b>\"],\"align\":[\"left\"],\"fill\":{\"color\":\"grey\"},\"font\":{\"color\":\"#FFFFFF\"}},\"cells\":{\"values\":[[\"Salaries\",\"Office\",\"Merchandise\",\"Legal\",\"<b>TOTAL</b>\"],[\"1200000\",\"20000\",\"80000\",\"2000\",\"12120000\"],[\"1300000\",\"20000\",\"70000\",\"2000\",\"130902000\"],[\"1300000\",\"20000\",\"120000\",\"2000\",\"131222000\"],[\"1400000\",\"20000\",\"90000\",\"2000\",\"1410200\"]],\"align\":[\"left\",\"center\"],\"fill\":{\"color\":[[\"white\",\"lightgrey\",\"white\",\"lightgrey\",\"white\"]]}}}];\n",
       "            var layout = {};\n",
       "            var config = {};\n",
       "            Plotly.newPlot('fd198ebf-ff34-4f7f-85b1-bddae357ce96', data, layout, config);\r\n",
       "});\n",
       "            };\n",
       "            if ((typeof(requirejs) !==  typeof(Function)) || (typeof(requirejs.config) !== typeof(Function))) {\n",
       "                var script = document.createElement(\"script\");\n",
       "                script.setAttribute(\"src\", \"https://cdnjs.cloudflare.com/ajax/libs/require.js/2.3.6/require.min.js\");\n",
       "                script.onload = function(){\n",
       "                    renderPlotly_fd198ebfff344f7f85b1bddae357ce96();\n",
       "                };\n",
       "                document.getElementsByTagName(\"head\")[0].appendChild(script);\n",
       "            }\n",
       "            else {\n",
       "                renderPlotly_fd198ebfff344f7f85b1bddae357ce96();\n",
       "            }\r\n",
       "</script>\r\n"
      ]
     },
     "metadata": {}
    }
   ],
   "metadata": {
    "dotnet_interactive": {
     "language": "fsharp"
    }
   }
  },
  {
   "cell_type": "markdown",
   "source": [
    "## Row Color Based on Variable"
   ],
   "metadata": {}
  },
  {
   "cell_type": "code",
   "execution_count": null,
   "source": [
    "let headers = [\"Color\"; \"<b>YEAR</b>\"]\r\n",
    "\r\n",
    "let rows = [\r\n",
    "                [\"#EFF3FF\"; \"2010\"];\r\n",
    "                [\"#BDD7E7\"; \"2011\"];\r\n",
    "                [\"#6BAED6\"; \"2012\"];\r\n",
    "                [\"#3182BD\"; \"2013\"];\r\n",
    "                [\"#08519C\"; \"2014\"]\r\n",
    "            ];\r\n",
    "\r\n",
    "Chart.Table(headers, \r\n",
    "            rows,\r\n",
    "            ColorCells = [[\"#EFF3FF\"; \"#BDD7E7\"; \"#6BAED6\"; \"#3182BD\"; \"#08519C\"]] )  "
   ],
   "outputs": [
    {
     "output_type": "display_data",
     "data": {
      "text/html": [
       "<div id=\"bc69877e-6a1a-4fc7-93ee-c653ace72ded\" style=\"width: 600px; height: 600px;\"><!-- Plotly chart will be drawn inside this DIV --></div>\r\n",
       "<script type=\"text/javascript\">\r\n",
       "\n",
       "            var renderPlotly_bc69877e6a1a4fc793eec653ace72ded = function() {\n",
       "            var fsharpPlotlyRequire = requirejs.config({context:'fsharp-plotly',paths:{plotly:'https://cdn.plot.ly/plotly-latest.min'}}) || require;\n",
       "            fsharpPlotlyRequire(['plotly'], function(Plotly) {\r\n",
       "\n",
       "            var data = [{\"type\":\"table\",\"header\":{\"values\":[\"Color\",\"<b>YEAR</b>\"]},\"cells\":{\"values\":[[\"#EFF3FF\",\"#BDD7E7\",\"#6BAED6\",\"#3182BD\",\"#08519C\"],[\"2010\",\"2011\",\"2012\",\"2013\",\"2014\"]],\"fill\":{\"color\":[[\"#EFF3FF\",\"#BDD7E7\",\"#6BAED6\",\"#3182BD\",\"#08519C\"]]}}}];\n",
       "            var layout = {};\n",
       "            var config = {};\n",
       "            Plotly.newPlot('bc69877e-6a1a-4fc7-93ee-c653ace72ded', data, layout, config);\r\n",
       "});\n",
       "            };\n",
       "            if ((typeof(requirejs) !==  typeof(Function)) || (typeof(requirejs.config) !== typeof(Function))) {\n",
       "                var script = document.createElement(\"script\");\n",
       "                script.setAttribute(\"src\", \"https://cdnjs.cloudflare.com/ajax/libs/require.js/2.3.6/require.min.js\");\n",
       "                script.onload = function(){\n",
       "                    renderPlotly_bc69877e6a1a4fc793eec653ace72ded();\n",
       "                };\n",
       "                document.getElementsByTagName(\"head\")[0].appendChild(script);\n",
       "            }\n",
       "            else {\n",
       "                renderPlotly_bc69877e6a1a4fc793eec653ace72ded();\n",
       "            }\r\n",
       "</script>\r\n"
      ]
     },
     "metadata": {}
    }
   ],
   "metadata": {
    "dotnet_interactive": {
     "language": "fsharp"
    }
   }
  },
  {
   "cell_type": "markdown",
   "source": [
    "## Cell Color Based on Variable"
   ],
   "metadata": {}
  },
  {
   "cell_type": "code",
   "execution_count": null,
   "source": [
    "let headers = [\"<b>Column A</b>\"; \"<b>Column B</b>\"; \"<b>Column C</b>\"]\r\n",
    "\r\n",
    "let rows = [\r\n",
    "                [\"5\"; \"5\"; \"6\"]\r\n",
    "                [\"8\"; \"2\"; \"7\"]\r\n",
    "                [\"5\"; \"4\"; \"6\"]\r\n",
    "                [\"0\"; \"2\"; \"1\"]\r\n",
    "                [\"0\"; \"4\"; \"0\"]\r\n",
    "                [\"1\"; \"7\"; \"1\"]\r\n",
    "                [\"7\"; \"7\"; \"8\"]\r\n",
    "                [\"6\"; \"1\"; \"8\"]\r\n",
    "                [\"2\"; \"7\"; \"3\"]\r\n",
    "                [\"4\"; \"0\"; \"8\"]\r\n",
    "            ];\r\n",
    "\r\n",
    "Chart.Table(headers, \r\n",
    "            rows,\r\n",
    "            ColorCells = [[\"#FFC8C8\"; \"#FFC8C8\"; \"#D63232\"]\r\n",
    "                          [\"#FFC8C8\";\"#F19696\"; \"#F8AFAF\"]\r\n",
    "                          [\"#D63232\"; \"#E46464\"; \"#D63232\"]],\r\n",
    "            FontCells = Font.init(Color=\"#FFFFFF\"))  "
   ],
   "outputs": [
    {
     "output_type": "display_data",
     "data": {
      "text/html": [
       "<div id=\"6eebfa72-15aa-48a1-a7ec-e4801b254316\" style=\"width: 600px; height: 600px;\"><!-- Plotly chart will be drawn inside this DIV --></div>\r\n",
       "<script type=\"text/javascript\">\r\n",
       "\n",
       "            var renderPlotly_6eebfa7215aa48a1a7ece4801b254316 = function() {\n",
       "            var fsharpPlotlyRequire = requirejs.config({context:'fsharp-plotly',paths:{plotly:'https://cdn.plot.ly/plotly-latest.min'}}) || require;\n",
       "            fsharpPlotlyRequire(['plotly'], function(Plotly) {\r\n",
       "\n",
       "            var data = [{\"type\":\"table\",\"header\":{\"values\":[\"Column A\",\"Column B\",\"Column C\"]},\"cells\":{\"values\":[[\"5\",\"8\",\"5\",\"0\",\"0\",\"1\",\"7\",\"6\",\"2\",\"4\"],[\"5\",\"2\",\"4\",\"2\",\"4\",\"7\",\"7\",\"1\",\"7\",\"0\"],[\"6\",\"7\",\"6\",\"1\",\"0\",\"1\",\"8\",\"8\",\"3\",\"8\"]],\"fill\":{\"color\":[[\"#FFC8C8\",\"#FFC8C8\",\"#D63232\"],[\"#FFC8C8\",\"#F19696\",\"#F8AFAF\"],[\"#D63232\",\"#E46464\",\"#D63232\"]]},\"font\":{\"color\":\"#FFFFFF\"}}}];\n",
       "            var layout = {};\n",
       "            var config = {};\n",
       "            Plotly.newPlot('6eebfa72-15aa-48a1-a7ec-e4801b254316', data, layout, config);\r\n",
       "});\n",
       "            };\n",
       "            if ((typeof(requirejs) !==  typeof(Function)) || (typeof(requirejs.config) !== typeof(Function))) {\n",
       "                var script = document.createElement(\"script\");\n",
       "                script.setAttribute(\"src\", \"https://cdnjs.cloudflare.com/ajax/libs/require.js/2.3.6/require.min.js\");\n",
       "                script.onload = function(){\n",
       "                    renderPlotly_6eebfa7215aa48a1a7ece4801b254316();\n",
       "                };\n",
       "                document.getElementsByTagName(\"head\")[0].appendChild(script);\n",
       "            }\n",
       "            else {\n",
       "                renderPlotly_6eebfa7215aa48a1a7ece4801b254316();\n",
       "            }\r\n",
       "</script>\r\n"
      ]
     },
     "metadata": {}
    }
   ],
   "metadata": {
    "dotnet_interactive": {
     "language": "fsharp"
    }
   }
  }
 ],
 "nbformat": 4,
 "nbformat_minor": 2
}
{
 "metadata": {
  "kernelspec": {
   "display_name": ".NET (F#)",
   "language": "F#",
   "name": ".net-fsharp"
  },
  "language_info": {
   "name": "F#"
  }
 },
 "cells": [
  {
   "cell_type": "markdown",
   "source": [
    "# Filled Area Charts"
   ],
   "metadata": {}
  },
  {
   "cell_type": "markdown",
   "source": [
    "## Imports"
   ],
   "metadata": {}
  },
  {
   "cell_type": "code",
   "execution_count": null,
   "source": [
    "#r \"nuget: Plotly.NET, 2.0.0-preview.6\"\n",
    "#r \"nuget: Plotly.NET.Interactive, 2.0.0-preview.6\"\n",
    "open Plotly.NET"
   ],
   "outputs": [],
   "metadata": {
    "dotnet_interactive": {
     "language": "fsharp"
    }
   }
  },
  {
   "cell_type": "markdown",
   "source": [
    "## Filled area chart with plotly.graph_objects"
   ],
   "metadata": {}
  },
  {
   "cell_type": "code",
   "execution_count": null,
   "source": [
    "open Plotly.NET\n",
    "\n",
    "let x = [1; 2; 3; 4]\n",
    "let y0 = [0; 2; 3; 5]\n",
    "let y1 = [3; 5; 1; 7]\n",
    "\n",
    "[\n",
    "    Chart.Area(x, y0) \n",
    "    Chart.Area(x, y1)\n",
    "] \n",
    "|> Chart.Combine"
   ],
   "outputs": [],
   "metadata": {
    "dotnet_interactive": {
     "language": "fsharp"
    }
   }
  },
  {
   "cell_type": "markdown",
   "source": [
    "## Overlaid Area Chart Without Boundary Lines"
   ],
   "metadata": {}
  },
  {
   "cell_type": "code",
   "execution_count": null,
   "source": [
    "open Plotly.NET\n",
    "\n",
    "let x = [1; 2; 3; 4]\n",
    "let y0 = [0; 2; 3; 5]\n",
    "let y1 = [3; 5; 1; 7]\n",
    "\n",
    "[\n",
    "    Chart.Area(x, y0) \n",
    "    Chart.Area(x, y1)\n",
    "] \n",
    "|> Chart.Combine\n",
    "|> Chart.withLineStyle(Width=0.0)"
   ],
   "outputs": [],
   "metadata": {
    "dotnet_interactive": {
     "language": "fsharp"
    }
   }
  },
  {
   "cell_type": "markdown",
   "source": [
    "## Interior Filling for Area Chart"
   ],
   "metadata": {}
  },
  {
   "cell_type": "code",
   "execution_count": null,
   "source": [
    "open Plotly.NET\n",
    "\n",
    "let x = [1; 2; 3; 4]\n",
    "let y0 = [3; 4; 8; 3]\n",
    "let y1 = [1; 6; 2; 6]\n",
    "\n",
    "let stackGroup = \"filling\"\n",
    "\n",
    "[\n",
    "    Chart.Scatter(x, y0, Plotly.NET.StyleParam.Mode.Lines, Color = \"indigo\")\n",
    "    Chart.Scatter(x, y1, Plotly.NET.StyleParam.Mode.Lines, Color = \"indigo\") |> GenericChart.mapTrace(fun x -> x.SetValue(\"fill\", \"tonexty\"); x)\n",
    "]\n",
    "|> Chart.Combine\n",
    "\n"
   ],
   "outputs": [],
   "metadata": {
    "dotnet_interactive": {
     "language": "fsharp"
    }
   }
  },
  {
   "cell_type": "markdown",
   "source": [
    "## Stacked Area Chart"
   ],
   "metadata": {}
  },
  {
   "cell_type": "code",
   "execution_count": null,
   "source": [
    "open Plotly.NET\n",
    "\n",
    "let x = [\"Winter\"; \"Spring\"; \"Summer\"; \"Fall\"]\n",
    "let y0 = [40; 60; 40; 10]\n",
    "let y1 = [20; 10; 10; 60]\n",
    "let y2 = [40; 30; 50; 30]\n",
    "\n",
    "[\n",
    "    Chart.StackedArea(x, y0, Color=\"#B4A3F4\") \n",
    "    Chart.StackedArea(x, y1, Color=\"#AAE9E8\")\n",
    "    Chart.StackedArea(x, y2, Color=\"#CEF2E5\")\n",
    "] \n",
    "|> Chart.Combine\n",
    "|> Chart.withLineStyle(Width=0.0)"
   ],
   "outputs": [],
   "metadata": {
    "dotnet_interactive": {
     "language": "fsharp"
    }
   }
  },
  {
   "cell_type": "markdown",
   "source": [
    "## Stacked Area Chart with Normalized Values"
   ],
   "metadata": {}
  },
  {
   "cell_type": "code",
   "execution_count": null,
   "source": [
    "open Plotly.NET\n",
    "\n",
    "let x = [\"Winter\"; \"Spring\"; \"Summer\"; \"Fall\"]\n",
    "let y0 = [40; 20; 30; 40]\n",
    "let y1 = [50; 70; 40; 60]\n",
    "let y2 = [70; 80; 60; 70]\n",
    "let y3 = [100; 100; 100; 100]\n",
    "\n",
    "let xAxis = Axis.LinearAxis.init(AxisType = StyleParam.AxisType.Category)\n",
    "\n",
    "let yAxis = Axis.LinearAxis.init(AxisType = StyleParam.AxisType.Linear,\n",
    "                                 Range = StyleParam.Range.MinMax(1.0, 100.0),\n",
    "                                 Ticksuffix = \"%\")\n",
    "\n",
    "[\n",
    "    Chart.Scatter(x, \n",
    "                  y0, \n",
    "                  StyleParam.Mode.Lines,\n",
    "                  StackGroup = stackGroup,\n",
    "                  GroupNorm = StyleParam.GroupNorm.Percent,\n",
    "                  Color=\"#B4A3F4\")\n",
    "    Chart.Scatter(x, \n",
    "                  y1, \n",
    "                  StyleParam.Mode.Lines,\n",
    "                  StackGroup = stackGroup,\n",
    "                  Color=\"#B2C9F2\")\n",
    "    Chart.Scatter(x, \n",
    "                  y2, \n",
    "                  StyleParam.Mode.Lines,\n",
    "                  StackGroup = stackGroup,\n",
    "                  Color=\"#AAE9E8\")\n",
    "    Chart.Scatter(x, \n",
    "                  y3, \n",
    "                  StyleParam.Mode.Lines,\n",
    "                  StackGroup = stackGroup,\n",
    "                  Color=\"#CEF2E5\")\n",
    "] \n",
    "|> Chart.Combine\n",
    "|> Chart.withLineStyle(Width=0.0)\n",
    "|> Chart.withX_Axis xAxis\n",
    "|> Chart.withY_Axis yAxis"
   ],
   "outputs": [],
   "metadata": {
    "dotnet_interactive": {
     "language": "fsharp"
    }
   }
  },
  {
   "cell_type": "markdown",
   "source": [
    "## Select Hover Points"
   ],
   "metadata": {}
  },
  {
   "cell_type": "code",
   "execution_count": null,
   "source": [
    "let x0 = [0.0; 0.5; 1.0; 1.5; 2.0]\n",
    "let y = [0.0; 1.0; 2.0; 1.0; 0.0]\n",
    "let x1 = [3.0; 3.5; 4.0; 4.5; 5.0]\n",
    "\n",
    "let xAxis = Axis.LinearAxis.init(AxisType = StyleParam.AxisType.Linear,\n",
    "                                 Range = StyleParam.Range.MinMax(0.0, 5.2))\n",
    "\n",
    "let yAxis = Axis.LinearAxis.init(AxisType = StyleParam.AxisType.Linear,\n",
    "                                 Range = StyleParam.Range.MinMax(0.0, 3.0))\n",
    "\n",
    "[\n",
    "    Chart.Area(x0, \n",
    "               y, \n",
    "               Color=\"#9400D3\")\n",
    "               |> GenericChart.mapTrace(fun x -> x.SetValue(\"hoveron\", \"points+fills\"); x.SetValue(\"text\", \"Points + Fills\"); x.SetValue(\"hoverinfo\", \"text+x+y\"); x)\n",
    "    Chart.Area(x1, \n",
    "               y, \n",
    "               Color=\"#EE82EE\")\n",
    "               |> GenericChart.mapTrace(fun x -> x.SetValue(\"hoveron\", \"points\"); x.SetValue(\"text\", \"Points only\"); x.SetValue(\"hoverinfo\", \"text+x+y\"); x)\n",
    "] \n",
    "|> Chart.Combine\n",
    "|> Chart.withX_Axis xAxis\n",
    "|> Chart.withY_Axis yAxis\n",
    "|> Chart.withLayout(Layout.init(Width = 1000.))"
   ],
   "outputs": [],
   "metadata": {
    "dotnet_interactive": {
     "language": "fsharp"
    }
   }
  }
 ],
 "nbformat": 4,
 "nbformat_minor": 2
}
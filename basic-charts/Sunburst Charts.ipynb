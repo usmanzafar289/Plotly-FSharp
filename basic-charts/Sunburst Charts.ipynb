{
 "cells": [
  {
   "cell_type": "markdown",
   "source": [
    "## Basic Sunburst Plot with go.Sunburst"
   ],
   "metadata": {}
  },
  {
   "cell_type": "code",
   "execution_count": null,
   "source": [
    "#r \"nuget: Plotly.NET, 2.0.0-preview.6\"\n",
    "#r \"nuget: Plotly.NET.Interactive, 2.0.0-preview.6\"\n",
    "open Plotly.NET\n",
    "\n",
    "let labels=[\"Eve\"; \"Cain\"; \"Seth\"; \"Enos\"; \"Noam\"; \"Abel\"; \"Awan\"; \"Enoch\"; \"Azura\"]\n",
    "let parents=[\"\"; \"Eve\"; \"Eve\"; \"Seth\"; \"Seth\"; \"Eve\"; \"Eve\"; \"Awan\"; \"Eve\" ]\n",
    "let values=[10.; 14.; 12.; 10.; 2.; 6.; 6.; 4.; 4.]\n",
    "\n",
    "Chart.Sunburst(labels=labels, Values=values, parents=parents)\n",
    "|> Chart.withLayout(Layout.init(Margin = Margin.init(Top = 0., Left = 0., Right = 0., Bottom = 0.)))"
   ],
   "outputs": [],
   "metadata": {
    "dotnet_interactive": {
     "language": "fsharp"
    }
   }
  },
  {
   "cell_type": "markdown",
   "source": [
    "## Sunburst with Repeated Labels"
   ],
   "metadata": {}
  },
  {
   "cell_type": "code",
   "execution_count": null,
   "source": [
    "#r \"nuget: Plotly.NET, 2.0.0-preview.6\"\n",
    "#r \"nuget: Plotly.NET.Interactive, 2.0.0-preview.6\"\n",
    "open Plotly.NET\n",
    "\n",
    "let ids=[\n",
    "    \"North America\"; \"Europe\"; \"Australia\"; \"North America - Football\"; \"Soccer\";\n",
    "    \"North America - Rugby\"; \"Europe - Football\"; \"Rugby\";\n",
    "    \"Europe - American Football\";\"Australia - Football\"; \"Association\";\n",
    "    \"Australian Rules\"; \"Autstralia - American Football\"; \"Australia - Rugby\";\n",
    "    \"Rugby League\"; \"Rugby Union\"\n",
    "]\n",
    "let labels= [\n",
    "    \"North<br>America\"; \"Europe\"; \"Australia\"; \"Football\"; \"Soccer\"; \"Rugby\";\n",
    "    \"Football\"; \"Rugby\"; \"American<br>Football\"; \"Football\"; \"Association\";\n",
    "    \"Australian<br>Rules\"; \"American<br>Football\"; \"Rugby\"; \"Rugby<br>League\";\n",
    "    \"Rugby<br>Union\"\n",
    "]\n",
    "let  parents=[\n",
    "    \"\"; \"\"; \"\"; \"North America\"; \"North America\"; \"North America\"; \"Europe\";\n",
    "    \"Europe\"; \"Europe\";\"Australia\"; \"Australia - Football\"; \"Australia - Football\";\n",
    "    \"Australia - Football\"; \"Australia - Football\"; \"Australia - Rugby\";\n",
    "    \"Australia - Rugby\"\n",
    "]\n",
    "\n",
    "Chart.Sunburst(Ids=ids, labels=labels, parents=parents)\n",
    "|> Chart.withLayout(Layout.init(Margin = Margin.init(Top = 0., Left = 0., Right = 0., Bottom = 0.)))"
   ],
   "outputs": [],
   "metadata": {
    "dotnet_interactive": {
     "language": "fsharp"
    }
   }
  },
  {
   "cell_type": "markdown",
   "source": [
    "## Branchvalues"
   ],
   "metadata": {}
  },
  {
   "cell_type": "code",
   "execution_count": null,
   "source": [
    "#r \"nuget: Plotly.NET, 2.0.0-preview.6\"\n",
    "#r \"nuget: Plotly.NET.Interactive, 2.0.0-preview.6\"\n",
    "open Plotly.NET\n",
    "\n",
    "let labels = [ \"Eve\"; \"Cain\"; \"Seth\"; \"Enos\"; \"Noam\"; \"Abel\"; \"Awan\"; \"Enoch\"; \"Azura\"]\n",
    "let parents = [\"\";    \"Eve\";  \"Eve\";  \"Seth\"; \"Seth\"; \"Eve\";  \"Eve\";  \"Awan\";  \"Eve\" ]\n",
    "let values = [  65.;  14.;  12.;  10.;  2.;  6.;  6.;  4.;  4.]\n",
    "\n",
    "Chart.Sunburst(Values=values, labels=labels, parents=parents, Branchvalues = StyleParam.BranchValues.Total)\n",
    "|> Chart.withLayout(Layout.init(Margin = Margin.init(Top = 0., Left = 0., Right = 0., Bottom = 0.)))"
   ],
   "outputs": [],
   "metadata": {
    "dotnet_interactive": {
     "language": "fsharp"
    }
   }
  },
  {
   "cell_type": "markdown",
   "source": [
    "## Large Number of Slices"
   ],
   "metadata": {}
  },
  {
   "cell_type": "code",
   "execution_count": null,
   "source": [
    "#r \"nuget: Plotly.NET, 2.0.0-preview.6\"\n",
    "#r \"nuget: Plotly.NET.Interactive, 2.0.0-preview.6\"\n",
    "#r \"nuget: FSharp.Data\"\n",
    "open Plotly.NET\n",
    "open FSharp.Data\n",
    "\n",
    "type DFI = CsvProvider<\"https://raw.githubusercontent.com/plotly/datasets/718417069ead87650b90472464c7565dc8c2cb1c/sunburst-coffee-flavors-complete.csv\">\n",
    "type DFII = CsvProvider<\"https://raw.githubusercontent.com/plotly/datasets/718417069ead87650b90472464c7565dc8c2cb1c/coffee-flavors.csv\">\n",
    "let df1 = DFI.Load(\"https://raw.githubusercontent.com/plotly/datasets/718417069ead87650b90472464c7565dc8c2cb1c/sunburst-coffee-flavors-complete.csv\")\n",
    "let df2 = DFII.Load(\"https://raw.githubusercontent.com/plotly/datasets/718417069ead87650b90472464c7565dc8c2cb1c/coffee-flavors.csv\")\n",
    "\n",
    "\n",
    "\n",
    "\n",
    "[\n",
    "            (Chart.Sunburst(Ids=[for row in df1.Rows do row.Ids], labels=[for row in df1.Rows do row.Labels], parents=[for row in df1.Rows do row.Parents])\n",
    "                |> GenericChart.mapTrace(fun x -> x.SetValue(\"domain\", Domain.init(Row = 1, Column = 1)); x))\n",
    "            (Chart.Sunburst(Ids=[for row in df2.Rows do row.Ids], labels=[for row in df2.Rows do row.Labels], parents=[for row in df2.Rows do row.Parents], Maxdepth = 2)\n",
    "                |> GenericChart.mapTrace(fun x -> x.SetValue(\"domain\", Domain.init(Row = 1, Column = 2)); x))\n",
    "]\n",
    "|> Chart.Combine\n",
    "|> Chart.withLayout(Layout.init(Width = 1500., Margin = Margin.init(Top = 0., Left = 0., Right = 0., Bottom = 0.)))\n",
    "|> Chart.withLayoutGrid(LayoutGrid.init(Rows = 1, Columns = 2))"
   ],
   "outputs": [],
   "metadata": {
    "dotnet_interactive": {
     "language": "fsharp"
    }
   }
  },
  {
   "cell_type": "markdown",
   "source": [
    "## Controlling text orientation inside sunburst sectors"
   ],
   "metadata": {}
  },
  {
   "cell_type": "code",
   "execution_count": null,
   "source": [
    "#r \"nuget: Plotly.NET, 2.0.0-preview.6\"\n",
    "#r \"nuget: Plotly.NET.Interactive, 2.0.0-preview.6\"\n",
    "open Plotly.NET\n",
    "\n",
    "type DFI = CsvProvider<\"https://raw.githubusercontent.com/plotly/datasets/718417069ead87650b90472464c7565dc8c2cb1c/coffee-flavors.csv\">\n",
    "let df1 = DFI.Load(\"https://raw.githubusercontent.com/plotly/datasets/718417069ead87650b90472464c7565dc8c2cb1c/coffee-flavors.csv\")\n",
    "\n",
    "Chart.Sunburst(Ids=[for row in df1.Rows do row.Ids], labels=[for row in df1.Rows do row.Labels], parents=[for row in df1.Rows do row.Parents], Maxdepth = 2)\n",
    "|> GenericChart.mapTrace(fun x -> x.SetValue(\"insidetextorientation\", \"radial\"); x)\n",
    "|> Chart.withLayout(Layout.init(Margin = Margin.init(Top = 10., Left = 10., Right = 10., Bottom = 10.)))"
   ],
   "outputs": [],
   "metadata": {
    "dotnet_interactive": {
     "language": "fsharp"
    }
   }
  },
  {
   "cell_type": "markdown",
   "source": [
    "## Controlling text fontsize with uniformtext"
   ],
   "metadata": {}
  },
  {
   "cell_type": "code",
   "execution_count": null,
   "source": [
    "#r \"nuget: Plotly.NET, 2.0.0-preview.6\"\n",
    "#r \"nuget: Plotly.NET.Interactive, 2.0.0-preview.6\"\n",
    "open Plotly.NET\n",
    "\n",
    "type DFI = CsvProvider<\"https://raw.githubusercontent.com/plotly/datasets/718417069ead87650b90472464c7565dc8c2cb1c/sunburst-coffee-flavors-complete.csv\">\n",
    "let df1 = DFI.Load(\"https://raw.githubusercontent.com/plotly/datasets/718417069ead87650b90472464c7565dc8c2cb1c/sunburst-coffee-flavors-complete.csv\")\n",
    "\n",
    "let layout = \n",
    "    let tmp = Layout()\n",
    "    tmp?uniformtext <- {| minsize = 10; mode = \"hide\" |}\n",
    "    tmp\n",
    "\n",
    "Chart.Sunburst(Ids=[for row in df1.Rows do row.Ids], labels=[for row in df1.Rows do row.Labels], parents=[for row in df1.Rows do row.Parents])\n",
    "|> Chart.withLayout(layout)"
   ],
   "outputs": [],
   "metadata": {
    "dotnet_interactive": {
     "language": "fsharp"
    }
   }
  },
  {
   "cell_type": "markdown",
   "source": [
    "## Sunburst chart with a continuous colorscale"
   ],
   "metadata": {}
  },
  {
   "cell_type": "code",
   "execution_count": null,
   "source": [
    "#r \"nuget: Plotly.NET, 2.0.0-preview.6\"\n",
    "#r \"nuget: Plotly.NET.Interactive, 2.0.0-preview.6\"\n",
    "#r \"nuget: FSharp.Data\"\n",
    "open Plotly.NET\n",
    "open FSharp.Data\n",
    "\n",
    "type DFI = CsvProvider<\"https://raw.githubusercontent.com/plotly/datasets/master/sales_success.csv\">\n",
    "let df1 = DFI.Load(\"https://raw.githubusercontent.com/plotly/datasets/master/sales_success.csv\")\n",
    "type Record = {region: string; county: string; salesperson: string; calls: int; sales: int}\n",
    "\n",
    "let buildHierarchicalDataframe = \n",
    "    let ids = [ for row in df1.Rows do {region = row.Item2; county = row.Item3; salesperson = row.Item4; calls = row.Item5; sales = row.Item6} ]\n",
    "    ids\n",
    "\n",
    "let regions = [for x in df1.Rows do x.Item2, \"total\"] |> Set.ofList\n",
    "let counties = [for x in df1.Rows do x.Item3, x.Item2] |> Set.ofList\n",
    "let salesperson = [for x in df1.Rows do x.Item4, x.Item3] |> Set.ofList\n",
    "\n",
    "let byRegion = [ for region in regions do fst region, snd region, List.sumBy (fun (x: Record) -> if x.region = fst region then x.calls else 0) buildHierarchicalDataframe]\n",
    "let byCounties = [ for county in counties do fst county, snd county, List.sumBy (fun (x: Record) -> if x.county = fst county then x.calls else 0) buildHierarchicalDataframe]\n",
    "let bySalesperson = [ for sp in salesperson do fst sp, snd sp, List.sumBy (fun (x: Record) -> if x.salesperson = fst sp then x.calls else 0) buildHierarchicalDataframe]\n",
    "let data = List.append (List.append (List.append byRegion byCounties) bySalesperson)  [\"total\", \"\", List.sumBy (fun x -> x.calls) buildHierarchicalDataframe] |> Array.ofList\n",
    "let ids = [for x, _, _ in data do x]\n",
    "let parents = [for _, y, _ in data do y]\n",
    "let values = [for _, _, z in data do z |> float]\n",
    "[\n",
    "    Chart.Sunburst(Ids = ids, labels = ids, parents = parents, Values = values, Branchvalues = StyleParam.BranchValues.Total)\n",
    "    Chart.Sunburst(Ids = ids, labels = ids, parents = parents, Values = values, Branchvalues = StyleParam.BranchValues.Total, Maxdepth = 1)\n",
    "]\n",
    "|>Chart.Combine\n",
    "\n"
   ],
   "outputs": [
    {
     "data": {
      "text/html": [
       "<div><div></div><div></div><div><strong>Installed Packages</strong><ul><li><span>FSharp.Data, 4.2.2</span></li><li><span>Plotly.NET, 2.0.0-preview.6</span></li><li><span>Plotly.NET.Interactive, 2.0.0-preview.6</span></li></ul></div></div>"
      ]
     },
     "metadata": {},
     "output_type": "display_data"
    },
    {
     "data": {
      "text/html": [
       "<div id=\"5f5192b3-51a3-4f2d-b546-b199953cf2f8\" style=\"width: 600px; height: 600px;\"><!-- Plotly chart will be drawn inside this DIV --></div>\n",
       "<script type=\"text/javascript\">\n",
       "\n",
       "            var renderPlotly_5f5192b351a34f2db546b199953cf2f8 = function() {\n",
       "            var fsharpPlotlyRequire = requirejs.config({context:'fsharp-plotly',paths:{plotly:'https://cdn.plot.ly/plotly-latest.min'}}) || require;\n",
       "            fsharpPlotlyRequire(['plotly'], function(Plotly) {\n",
       "\n",
       "            var data = [{\"type\":\"sunburst\",\"labels\":[\"East\",\"North\",\"South\",\"West\",\"Brewster\",\"Dallam\",\"Duval\",\"Floyd\",\"Gray\",\"Hartley\",\"Hidalgo\",\"Houston\",\"Moore\",\"Motley\",\"Pecos\",\"Presidio\",\"Rusk\",\"Shelby\",\"Tyler\",\"Webb\",\"Zavala\",\"AX\",\"BI\",\"BS\",\"DQ\",\"DS\",\"EH\",\"ES\",\"FJ\",\"FL\",\"GT\",\"GW\",\"HW\",\"IJ\",\"IK\",\"IV\",\"JC\",\"JE\",\"JF\",\"KR\",\"LQ\",\"LR\",\"LV\",\"MW\",\"NY\",\"NZ\",\"OH\",\"OT\",\"OY\",\"PL\",\"QJ\",\"QK\",\"QM\",\"RR\",\"SV\",\"TW\",\"TZ\",\"UA\",\"UF\",\"UM\",\"VN\",\"WE\",\"WH\",\"WV\",\"WZ\",\"XH\",\"XY\",\"YA\",\"YJ\",\"YN\",\"ZM\",\"ZQ\",\"total\"],\"parents\":[\"total\",\"total\",\"total\",\"total\",\"West\",\"North\",\"South\",\"North\",\"North\",\"North\",\"South\",\"East\",\"North\",\"North\",\"West\",\"West\",\"East\",\"East\",\"East\",\"South\",\"South\",\"Houston\",\"Hartley\",\"Brewster\",\"Presidio\",\"Duval\",\"Motley\",\"Gray\",\"Duval\",\"Zavala\",\"Tyler\",\"Duval\",\"Rusk\",\"Dallam\",\"Brewster\",\"Zavala\",\"Tyler\",\"Dallam\",\"Brewster\",\"Webb\",\"Hidalgo\",\"Hidalgo\",\"Hidalgo\",\"Motley\",\"Motley\",\"Shelby\",\"Floyd\",\"Presidio\",\"Rusk\",\"Hartley\",\"Webb\",\"Houston\",\"Pecos\",\"Webb\",\"Presidio\",\"Moore\",\"Moore\",\"Floyd\",\"Tyler\",\"Rusk\",\"Shelby\",\"Hartley\",\"Floyd\",\"Pecos\",\"Pecos\",\"Shelby\",\"Gray\",\"Zavala\",\"Gray\",\"Houston\",\"Moore\",\"Dallam\",\"\"],\"ids\":[\"East\",\"North\",\"South\",\"West\",\"Brewster\",\"Dallam\",\"Duval\",\"Floyd\",\"Gray\",\"Hartley\",\"Hidalgo\",\"Houston\",\"Moore\",\"Motley\",\"Pecos\",\"Presidio\",\"Rusk\",\"Shelby\",\"Tyler\",\"Webb\",\"Zavala\",\"AX\",\"BI\",\"BS\",\"DQ\",\"DS\",\"EH\",\"ES\",\"FJ\",\"FL\",\"GT\",\"GW\",\"HW\",\"IJ\",\"IK\",\"IV\",\"JC\",\"JE\",\"JF\",\"KR\",\"LQ\",\"LR\",\"LV\",\"MW\",\"NY\",\"NZ\",\"OH\",\"OT\",\"OY\",\"PL\",\"QJ\",\"QK\",\"QM\",\"RR\",\"SV\",\"TW\",\"TZ\",\"UA\",\"UF\",\"UM\",\"VN\",\"WE\",\"WH\",\"WV\",\"WZ\",\"XH\",\"XY\",\"YA\",\"YJ\",\"YN\",\"ZM\",\"ZQ\",\"total\"],\"values\":[407.0,631.0,381.0,321.0,86.0,104.0,82.0,119.0,115.0,105.0,101.0,102.0,87.0,101.0,115.0,120.0,84.0,121.0,100.0,114.0,84.0,42.0,24.0,33.0,40.0,42.0,44.0,49.0,20.0,31.0,30.0,20.0,20.0,20.0,33.0,28.0,21.0,35.0,20.0,20.0,41.0,39.0,21.0,22.0,35.0,45.0,31.0,35.0,40.0,42.0,46.0,22.0,48.0,48.0,45.0,33.0,33.0,44.0,49.0,24.0,29.0,39.0,44.0,30.0,37.0,47.0,31.0,25.0,35.0,38.0,21.0,49.0,1740.0],\"branchvalues\":\"total\",\"marker\":{}},{\"type\":\"sunburst\",\"labels\":[\"East\",\"North\",\"South\",\"West\",\"Brewster\",\"Dallam\",\"Duval\",\"Floyd\",\"Gray\",\"Hartley\",\"Hidalgo\",\"Houston\",\"Moore\",\"Motley\",\"Pecos\",\"Presidio\",\"Rusk\",\"Shelby\",\"Tyler\",\"Webb\",\"Zavala\",\"AX\",\"BI\",\"BS\",\"DQ\",\"DS\",\"EH\",\"ES\",\"FJ\",\"FL\",\"GT\",\"GW\",\"HW\",\"IJ\",\"IK\",\"IV\",\"JC\",\"JE\",\"JF\",\"KR\",\"LQ\",\"LR\",\"LV\",\"MW\",\"NY\",\"NZ\",\"OH\",\"OT\",\"OY\",\"PL\",\"QJ\",\"QK\",\"QM\",\"RR\",\"SV\",\"TW\",\"TZ\",\"UA\",\"UF\",\"UM\",\"VN\",\"WE\",\"WH\",\"WV\",\"WZ\",\"XH\",\"XY\",\"YA\",\"YJ\",\"YN\",\"ZM\",\"ZQ\",\"total\"],\"parents\":[\"total\",\"total\",\"total\",\"total\",\"West\",\"North\",\"South\",\"North\",\"North\",\"North\",\"South\",\"East\",\"North\",\"North\",\"West\",\"West\",\"East\",\"East\",\"East\",\"South\",\"South\",\"Houston\",\"Hartley\",\"Brewster\",\"Presidio\",\"Duval\",\"Motley\",\"Gray\",\"Duval\",\"Zavala\",\"Tyler\",\"Duval\",\"Rusk\",\"Dallam\",\"Brewster\",\"Zavala\",\"Tyler\",\"Dallam\",\"Brewster\",\"Webb\",\"Hidalgo\",\"Hidalgo\",\"Hidalgo\",\"Motley\",\"Motley\",\"Shelby\",\"Floyd\",\"Presidio\",\"Rusk\",\"Hartley\",\"Webb\",\"Houston\",\"Pecos\",\"Webb\",\"Presidio\",\"Moore\",\"Moore\",\"Floyd\",\"Tyler\",\"Rusk\",\"Shelby\",\"Hartley\",\"Floyd\",\"Pecos\",\"Pecos\",\"Shelby\",\"Gray\",\"Zavala\",\"Gray\",\"Houston\",\"Moore\",\"Dallam\",\"\"],\"ids\":[\"East\",\"North\",\"South\",\"West\",\"Brewster\",\"Dallam\",\"Duval\",\"Floyd\",\"Gray\",\"Hartley\",\"Hidalgo\",\"Houston\",\"Moore\",\"Motley\",\"Pecos\",\"Presidio\",\"Rusk\",\"Shelby\",\"Tyler\",\"Webb\",\"Zavala\",\"AX\",\"BI\",\"BS\",\"DQ\",\"DS\",\"EH\",\"ES\",\"FJ\",\"FL\",\"GT\",\"GW\",\"HW\",\"IJ\",\"IK\",\"IV\",\"JC\",\"JE\",\"JF\",\"KR\",\"LQ\",\"LR\",\"LV\",\"MW\",\"NY\",\"NZ\",\"OH\",\"OT\",\"OY\",\"PL\",\"QJ\",\"QK\",\"QM\",\"RR\",\"SV\",\"TW\",\"TZ\",\"UA\",\"UF\",\"UM\",\"VN\",\"WE\",\"WH\",\"WV\",\"WZ\",\"XH\",\"XY\",\"YA\",\"YJ\",\"YN\",\"ZM\",\"ZQ\",\"total\"],\"values\":[407.0,631.0,381.0,321.0,86.0,104.0,82.0,119.0,115.0,105.0,101.0,102.0,87.0,101.0,115.0,120.0,84.0,121.0,100.0,114.0,84.0,42.0,24.0,33.0,40.0,42.0,44.0,49.0,20.0,31.0,30.0,20.0,20.0,20.0,33.0,28.0,21.0,35.0,20.0,20.0,41.0,39.0,21.0,22.0,35.0,45.0,31.0,35.0,40.0,42.0,46.0,22.0,48.0,48.0,45.0,33.0,33.0,44.0,49.0,24.0,29.0,39.0,44.0,30.0,37.0,47.0,31.0,25.0,35.0,38.0,21.0,49.0,1740.0],\"branchvalues\":\"total\",\"maxdepth\":1,\"marker\":{}}];\n",
       "            var layout = {};\n",
       "            var config = {};\n",
       "            Plotly.newPlot('5f5192b3-51a3-4f2d-b546-b199953cf2f8', data, layout, config);\n",
       "});\n",
       "            };\n",
       "            if ((typeof(requirejs) !==  typeof(Function)) || (typeof(requirejs.config) !== typeof(Function))) {\n",
       "                var script = document.createElement(\"script\");\n",
       "                script.setAttribute(\"src\", \"https://cdnjs.cloudflare.com/ajax/libs/require.js/2.3.6/require.min.js\");\n",
       "                script.onload = function(){\n",
       "                    renderPlotly_5f5192b351a34f2db546b199953cf2f8();\n",
       "                };\n",
       "                document.getElementsByTagName(\"head\")[0].appendChild(script);\n",
       "            }\n",
       "            else {\n",
       "                renderPlotly_5f5192b351a34f2db546b199953cf2f8();\n",
       "            }\n",
       "</script>\n"
      ]
     },
     "metadata": {},
     "output_type": "display_data"
    }
   ],
   "metadata": {
    "dotnet_interactive": {
     "language": "fsharp"
    }
   }
  }
 ],
 "metadata": {
  "orig_nbformat": 4,
  "language_info": {
   "file_extension": ".cs",
   "mimetype": "text/x-csharp",
   "name": "C#",
   "pygments_lexer": "csharp",
   "version": "9.0"
  },
  "kernelspec": {
   "display_name": ".NET (C#)",
   "language": "C#",
   "name": ".net-csharp"
  }
 },
 "nbformat": 4,
 "nbformat_minor": 2
}
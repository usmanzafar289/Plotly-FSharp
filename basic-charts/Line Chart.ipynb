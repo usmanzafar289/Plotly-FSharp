{
 "cells": [
  {
   "cell_type": "markdown",
   "source": [
    "## Libraries"
   ],
   "metadata": {}
  },
  {
   "cell_type": "code",
   "execution_count": null,
   "source": [
    "#r \"nuget: Plotly.NET, 2.0.0-preview.6\"\r\n",
    "#r \"nuget: newtonsoft.json\"\r\n",
    "#r \"nuget: Plotly.NET.Interactive, 2.0.0-preview.6\"\r\n",
    "\r\n",
    "open Plotly.NET\r\n",
    "open System\r\n",
    "\r\n",
    "let random = System.Random();\r\n",
    "let nextFloat (min, max) = (random.NextDouble() * (max - min) + min);"
   ],
   "outputs": [
    {
     "output_type": "display_data",
     "data": {
      "text/html": [
       "<div><div></div><div></div><div><strong>Installed Packages</strong><ul><li><span>newtonsoft.json, 13.0.1</span></li><li><span>Plotly.NET, 2.0.0-preview.6</span></li><li><span>Plotly.NET.Interactive, 2.0.0-preview.6</span></li></ul></div></div>"
      ]
     },
     "metadata": {}
    },
    {
     "output_type": "display_data",
     "data": {
      "text/markdown": [
       "Loading extensions from `Plotly.NET.Interactive.dll`"
      ]
     },
     "metadata": {}
    },
    {
     "output_type": "display_data",
     "data": {
      "text/markdown": [
       "Added Kernel Extension including formatters for Plotly.NET charts."
      ]
     },
     "metadata": {}
    }
   ],
   "metadata": {
    "dotnet_interactive": {
     "language": "fsharp"
    }
   }
  },
  {
   "cell_type": "markdown",
   "source": [
    "## Line Plots with"
   ],
   "metadata": {}
  },
  {
   "cell_type": "code",
   "execution_count": null,
   "source": [
    "open Plotly.NET\r\n",
    "\r\n",
    "let x = [1952; 1957; 1962; 1967; 1972; 1977; 1982; 1987; 1992; 1997; 2002; 2007]\r\n",
    "let y = [68.75; 69.96; 71.3; 72.13; 72.88; 74.21; 75.76; 76.86; 77.95; 78.61; 79.77; 80.653]\r\n",
    "\r\n",
    "Chart.Spline(x, y)\r\n",
    "|> Chart.withX_AxisStyle(\"year\")\r\n",
    "|> Chart.withY_AxisStyle(\"lifeExp\")\r\n",
    "|> Chart.withTitle(\"Life expectancy in Canada\")\r\n",
    "|> Chart.withLineStyle(Width=2.0, Dash=StyleParam.DrawingStyle.Solid)"
   ],
   "outputs": [
    {
     "output_type": "display_data",
     "data": {
      "text/html": [
       "<div id=\"75cd310b-c90a-4043-b541-6d801ab4a3aa\" style=\"width: 600px; height: 600px;\"><!-- Plotly chart will be drawn inside this DIV --></div>\n",
       "<script type=\"text/javascript\">\n",
       "\n",
       "            var renderPlotly_75cd310bc90a4043b5416d801ab4a3aa = function() {\n",
       "            var fsharpPlotlyRequire = requirejs.config({context:'fsharp-plotly',paths:{plotly:'https://cdn.plot.ly/plotly-latest.min'}}) || require;\n",
       "            fsharpPlotlyRequire(['plotly'], function(Plotly) {\n",
       "\n",
       "            var data = [{\"type\":\"scatter\",\"x\":[1952,1957,1962,1967,1972,1977,1982,1987,1992,1997,2002,2007],\"y\":[68.75,69.96,71.3,72.13,72.88,74.21,75.76,76.86,77.95,78.61,79.77,80.653],\"mode\":\"lines\",\"line\":{\"width\":2.0,\"dash\":\"solid\"},\"marker\":{},\"name\":\"Canada\"}];\n",
       "            var layout = {\"xaxis\":{\"title\":\"year\"},\"yaxis\":{\"title\":\"lifeExp\"},\"title\":\"Life expectancy in Canada\"};\n",
       "            var config = {};\n",
       "            Plotly.newPlot('75cd310b-c90a-4043-b541-6d801ab4a3aa', data, layout, config);\n",
       "});\n",
       "            };\n",
       "            if ((typeof(requirejs) !==  typeof(Function)) || (typeof(requirejs.config) !== typeof(Function))) {\n",
       "                var script = document.createElement(\"script\");\n",
       "                script.setAttribute(\"src\", \"https://cdnjs.cloudflare.com/ajax/libs/require.js/2.3.6/require.min.js\");\n",
       "                script.onload = function(){\n",
       "                    renderPlotly_75cd310bc90a4043b5416d801ab4a3aa();\n",
       "                };\n",
       "                document.getElementsByTagName(\"head\")[0].appendChild(script);\n",
       "            }\n",
       "            else {\n",
       "                renderPlotly_75cd310bc90a4043b5416d801ab4a3aa();\n",
       "            }\n",
       "</script>\n"
      ]
     },
     "metadata": {}
    }
   ],
   "metadata": {
    "dotnet_interactive": {
     "language": "fsharp"
    }
   }
  },
  {
   "cell_type": "markdown",
   "source": [
    "## MultiLine Chart\r\n",
    "## Line Plots with column encoding color"
   ],
   "metadata": {}
  },
  {
   "cell_type": "code",
   "execution_count": null,
   "source": [
    "open Plotly.NET\r\n",
    "\r\n",
    "let x  = [1952; 1957; 1962; 1967; 1972; 1977; 1982; 1987; 1992; 1997; 2002; 2007]\r\n",
    "\r\n",
    "// Australia\r\n",
    "let y1 = [69.12; 70.30; 70.93; 71.1; 71.93; 73.49; 74.74; 76.32; 77.56; 78.3; 80.37; 81.235]\r\n",
    "// New Zealand\r\n",
    "let y2 = [69.39; 70.26; 71.24; 71.52; 71.89; 72.22; 73.84; 74.32; 76.33; 77.55; 79.11; 80.204]\r\n",
    "\r\n",
    "[\r\n",
    "        Chart.Line(x, y1)\r\n",
    "        |> Chart.withTraceName(Name=\"Australia\")\r\n",
    "        |> Chart.withLineStyle(Width=2.0, Dash=StyleParam.DrawingStyle.Solid)\r\n",
    "\r\n",
    "        Chart.Line(x, y2)\r\n",
    "        |> Chart.withTraceName(Name=\"New Zealand\")\r\n",
    "        |> Chart.withLineStyle(Width=2.0, Dash=StyleParam.DrawingStyle.Solid) \r\n",
    "] \r\n",
    "|> Chart.Combine\r\n",
    "|> Chart.withX_AxisStyle(\"year\")\r\n",
    "|> Chart.withY_AxisStyle(\"lifeExp\")"
   ],
   "outputs": [
    {
     "output_type": "display_data",
     "data": {
      "text/html": [
       "<div id=\"65e0fdf0-bce2-4d5e-8a48-edf80dc7f10b\" style=\"width: 600px; height: 600px;\"><!-- Plotly chart will be drawn inside this DIV --></div>\n",
       "<script type=\"text/javascript\">\n",
       "\n",
       "            var renderPlotly_65e0fdf0bce24d5e8a48edf80dc7f10b = function() {\n",
       "            var fsharpPlotlyRequire = requirejs.config({context:'fsharp-plotly',paths:{plotly:'https://cdn.plot.ly/plotly-latest.min'}}) || require;\n",
       "            fsharpPlotlyRequire(['plotly'], function(Plotly) {\n",
       "\n",
       "            var data = [{\"type\":\"scatter\",\"x\":[1952,1957,1962,1967,1972,1977,1982,1987,1992,1997,2002,2007],\"y\":[69.12,70.3,70.93,71.1,71.93,73.49,74.74,76.32,77.56,78.3,80.37,81.235],\"mode\":\"lines\",\"line\":{\"width\":2.0,\"dash\":\"solid\"},\"marker\":{},\"name\":\"Australia\"},{\"type\":\"scatter\",\"x\":[1952,1957,1962,1967,1972,1977,1982,1987,1992,1997,2002,2007],\"y\":[69.39,70.26,71.24,71.52,71.89,72.22,73.84,74.32,76.33,77.55,79.11,80.204],\"mode\":\"lines\",\"line\":{\"width\":2.0,\"dash\":\"solid\"},\"marker\":{},\"name\":\"New Zealand\"}];\n",
       "            var layout = {\"xaxis\":{\"title\":\"year\"},\"yaxis\":{\"title\":\"lifeExp\"}};\n",
       "            var config = {};\n",
       "            Plotly.newPlot('65e0fdf0-bce2-4d5e-8a48-edf80dc7f10b', data, layout, config);\n",
       "});\n",
       "            };\n",
       "            if ((typeof(requirejs) !==  typeof(Function)) || (typeof(requirejs.config) !== typeof(Function))) {\n",
       "                var script = document.createElement(\"script\");\n",
       "                script.setAttribute(\"src\", \"https://cdnjs.cloudflare.com/ajax/libs/require.js/2.3.6/require.min.js\");\n",
       "                script.onload = function(){\n",
       "                    renderPlotly_65e0fdf0bce24d5e8a48edf80dc7f10b();\n",
       "                };\n",
       "                document.getElementsByTagName(\"head\")[0].appendChild(script);\n",
       "            }\n",
       "            else {\n",
       "                renderPlotly_65e0fdf0bce24d5e8a48edf80dc7f10b();\n",
       "            }\n",
       "</script>\n"
      ]
     },
     "metadata": {}
    }
   ],
   "metadata": {
    "dotnet_interactive": {
     "language": "fsharp"
    }
   }
  },
  {
   "cell_type": "markdown",
   "source": [
    "## Data Order in Line Charts\r\n",
    "Unsorted Input"
   ],
   "metadata": {}
  },
  {
   "cell_type": "code",
   "execution_count": null,
   "source": [
    "open Plotly.NET\n",
    "\n",
    "let x  = [1.0; 3.0; 2.0; 4.0]\n",
    "let y = [1.0; 2.0; 3.0; 4.0]\n",
    "\n",
    "// How to align title to the left\n",
    "Chart.Line(x, y)\n",
    "|> Chart.withTitle(\"Unsorted Input\")\n",
    "|> Chart.withX_AxisStyle(\"X\")\n",
    "|> Chart.withY_AxisStyle(\"Y\")\n",
    "|> Chart.withLineStyle(Width=2.0, Dash=StyleParam.DrawingStyle.Solid)"
   ],
   "outputs": [
    {
     "output_type": "display_data",
     "data": {
      "text/html": [
       "<div id=\"8c9e4fdf-f8ab-41b0-80ca-ee9fd4d7781f\" style=\"width: 600px; height: 600px;\"><!-- Plotly chart will be drawn inside this DIV --></div>\n",
       "<script type=\"text/javascript\">\n",
       "\n",
       "            var renderPlotly_8c9e4fdff8ab41b080caee9fd4d7781f = function() {\n",
       "            var fsharpPlotlyRequire = requirejs.config({context:'fsharp-plotly',paths:{plotly:'https://cdn.plot.ly/plotly-latest.min'}}) || require;\n",
       "            fsharpPlotlyRequire(['plotly'], function(Plotly) {\n",
       "\n",
       "            var data = [{\"type\":\"scatter\",\"x\":[1.0,3.0,2.0,4.0],\"y\":[1.0,2.0,3.0,4.0],\"mode\":\"lines\",\"line\":{\"width\":2.0,\"dash\":\"solid\"},\"marker\":{}}];\n",
       "            var layout = {\"title\":\"Unsorted Input\",\"xaxis\":{\"title\":\"X\"},\"yaxis\":{\"title\":\"Y\"}};\n",
       "            var config = {};\n",
       "            Plotly.newPlot('8c9e4fdf-f8ab-41b0-80ca-ee9fd4d7781f', data, layout, config);\n",
       "});\n",
       "            };\n",
       "            if ((typeof(requirejs) !==  typeof(Function)) || (typeof(requirejs.config) !== typeof(Function))) {\n",
       "                var script = document.createElement(\"script\");\n",
       "                script.setAttribute(\"src\", \"https://cdnjs.cloudflare.com/ajax/libs/require.js/2.3.6/require.min.js\");\n",
       "                script.onload = function(){\n",
       "                    renderPlotly_8c9e4fdff8ab41b080caee9fd4d7781f();\n",
       "                };\n",
       "                document.getElementsByTagName(\"head\")[0].appendChild(script);\n",
       "            }\n",
       "            else {\n",
       "                renderPlotly_8c9e4fdff8ab41b080caee9fd4d7781f();\n",
       "            }\n",
       "</script>\n"
      ]
     },
     "metadata": {}
    }
   ],
   "metadata": {
    "dotnet_interactive": {
     "language": "fsharp"
    }
   }
  },
  {
   "cell_type": "markdown",
   "source": [
    "Sorted Input"
   ],
   "metadata": {
    "dotnet_interactive": {
     "language": "fsharp"
    }
   }
  },
  {
   "cell_type": "code",
   "execution_count": null,
   "source": [
    "open Plotly.NET\n",
    "\n",
    "let y = [1.0; 3.0; 2.0; 4.0]\n",
    "let x = Seq.sort x\n",
    "\n",
    "// How to align title to the left\n",
    "Chart.Line(x, y)\n",
    "|> Chart.withTitle(\"Sorted Input\")\n",
    "|> Chart.withX_AxisStyle(\"X\")\n",
    "|> Chart.withY_AxisStyle(\"Y\")\n",
    "|> Chart.withLineStyle(Width=2.0, Dash=StyleParam.DrawingStyle.Solid) "
   ],
   "outputs": [
    {
     "output_type": "display_data",
     "data": {
      "text/html": [
       "<div id=\"e8dbd9ca-1353-4746-a0c5-fd63f8e974d1\" style=\"width: 600px; height: 600px;\"><!-- Plotly chart will be drawn inside this DIV --></div>\n",
       "<script type=\"text/javascript\">\n",
       "\n",
       "            var renderPlotly_e8dbd9ca13534746a0c5fd63f8e974d1 = function() {\n",
       "            var fsharpPlotlyRequire = requirejs.config({context:'fsharp-plotly',paths:{plotly:'https://cdn.plot.ly/plotly-latest.min'}}) || require;\n",
       "            fsharpPlotlyRequire(['plotly'], function(Plotly) {\n",
       "\n",
       "            var data = [{\"type\":\"scatter\",\"x\":[1.0,2.0,3.0,4.0],\"y\":[1.0,3.0,2.0,4.0],\"mode\":\"lines\",\"line\":{\"width\":2.0,\"dash\":\"solid\"},\"marker\":{}}];\n",
       "            var layout = {\"title\":\"Sorted Input\",\"xaxis\":{\"title\":\"X\"},\"yaxis\":{\"title\":\"Y\"}};\n",
       "            var config = {};\n",
       "            Plotly.newPlot('e8dbd9ca-1353-4746-a0c5-fd63f8e974d1', data, layout, config);\n",
       "});\n",
       "            };\n",
       "            if ((typeof(requirejs) !==  typeof(Function)) || (typeof(requirejs.config) !== typeof(Function))) {\n",
       "                var script = document.createElement(\"script\");\n",
       "                script.setAttribute(\"src\", \"https://cdnjs.cloudflare.com/ajax/libs/require.js/2.3.6/require.min.js\");\n",
       "                script.onload = function(){\n",
       "                    renderPlotly_e8dbd9ca13534746a0c5fd63f8e974d1();\n",
       "                };\n",
       "                document.getElementsByTagName(\"head\")[0].appendChild(script);\n",
       "            }\n",
       "            else {\n",
       "                renderPlotly_e8dbd9ca13534746a0c5fd63f8e974d1();\n",
       "            }\n",
       "</script>\n"
      ]
     },
     "metadata": {}
    }
   ],
   "metadata": {
    "dotnet_interactive": {
     "language": "fsharp"
    }
   }
  },
  {
   "cell_type": "markdown",
   "source": [
    "## Connected Scatterplots"
   ],
   "metadata": {}
  },
  {
   "cell_type": "code",
   "execution_count": null,
   "source": [
    "open Plotly.NET\n",
    "\n",
    "let labels = [\"1952\"; \"1957\"; \"1962\"; \"1967\"; \"1972\"; \"1977\"; \"1982\"; \"1987\"; \"1992\"; \"1997\"; \"2002\"; \"2007\"]\n",
    "\n",
    "// Botswana\n",
    "let x1 = [47.622; 49.618; 51.52; 53.298; 56.024; 59.319; 61.484; 63.622; 62.745; 52.556; 46.634; 50.728]\n",
    "let y1 = [851.2411; 918.2325; 983.654; 1214.709; 2263.611; 3214.858; 4551.142; 6205.884; 7954.112; 8647.142; 11003.61; 12569.85]\n",
    "// Canada\n",
    "let x2 = [68.75; 69.96; 71.3; 72.13; 72.88; 74.21; 75.76; 76.86; 77.95; 78.61; 79.77; 80.653]\n",
    "let y2 = [11367.86; 12489.95; 13462.49; 16076.59; 18970.57; 22090.88; 22898.79; 26626.52; 26342.88; 28954.93; 33328.97; 36319.24]\n",
    "\n",
    "[\n",
    "        Chart.Line(\n",
    "                x1, y1,\n",
    "                Name=\"Botswana\",\n",
    "                Labels=labels,\n",
    "                TextPosition=StyleParam.TextPosition.BottomRight,\n",
    "                ShowMarkers=true,\n",
    "                MarkerSymbol=StyleParam.Symbol.Circle\n",
    "        )\n",
    "\n",
    "\n",
    "        Chart.Line(\n",
    "                x2, y2,\n",
    "                Name=\"Canada\",\n",
    "                Labels=labels,\n",
    "                TextPosition=StyleParam.TextPosition.BottomRight,\n",
    "                ShowMarkers=true,\n",
    "                MarkerSymbol=StyleParam.Symbol.Circle\n",
    "        )\n",
    "]\n",
    "|> Chart.Combine\n",
    "|> Chart.withX_AxisStyle(\"lifeExp\")\n",
    "|> Chart.withY_AxisStyle(\"gdpPercap\")"
   ],
   "outputs": [
    {
     "output_type": "display_data",
     "data": {
      "text/html": [
       "<div id=\"318968bf-8d30-42a3-958e-a36669ed7c7e\" style=\"width: 600px; height: 600px;\"><!-- Plotly chart will be drawn inside this DIV --></div>\n",
       "<script type=\"text/javascript\">\n",
       "\n",
       "            var renderPlotly_318968bf8d3042a3958ea36669ed7c7e = function() {\n",
       "            var fsharpPlotlyRequire = requirejs.config({context:'fsharp-plotly',paths:{plotly:'https://cdn.plot.ly/plotly-latest.min'}}) || require;\n",
       "            fsharpPlotlyRequire(['plotly'], function(Plotly) {\n",
       "\n",
       "            var data = [{\"type\":\"scatter\",\"x\":[47.622,49.618,51.52,53.298,56.024,59.319,61.484,63.622,62.745,52.556,46.634,50.728],\"y\":[851.2411,918.2325,983.654,1214.709,2263.611,3214.858,4551.142,6205.884,7954.112,8647.142,11003.61,12569.85],\"mode\":\"lines+markers+text\",\"line\":{},\"name\":\"Botswana\",\"marker\":{\"symbol\":0},\"text\":[\"1952\",\"1957\",\"1962\",\"1967\",\"1972\",\"1977\",\"1982\",\"1987\",\"1992\",\"1997\",\"2002\",\"2007\"],\"textposition\":\"bottom right\"},{\"type\":\"scatter\",\"x\":[68.75,69.96,71.3,72.13,72.88,74.21,75.76,76.86,77.95,78.61,79.77,80.653],\"y\":[11367.86,12489.95,13462.49,16076.59,18970.57,22090.88,22898.79,26626.52,26342.88,28954.93,33328.97,36319.24],\"mode\":\"lines+markers+text\",\"line\":{},\"name\":\"Canada\",\"marker\":{\"symbol\":0},\"text\":[\"1952\",\"1957\",\"1962\",\"1967\",\"1972\",\"1977\",\"1982\",\"1987\",\"1992\",\"1997\",\"2002\",\"2007\"],\"textposition\":\"bottom right\"}];\n",
       "            var layout = {\"xaxis\":{\"title\":\"lifeExp\"},\"yaxis\":{\"title\":\"gdpPercap\"}};\n",
       "            var config = {};\n",
       "            Plotly.newPlot('318968bf-8d30-42a3-958e-a36669ed7c7e', data, layout, config);\n",
       "});\n",
       "            };\n",
       "            if ((typeof(requirejs) !==  typeof(Function)) || (typeof(requirejs.config) !== typeof(Function))) {\n",
       "                var script = document.createElement(\"script\");\n",
       "                script.setAttribute(\"src\", \"https://cdnjs.cloudflare.com/ajax/libs/require.js/2.3.6/require.min.js\");\n",
       "                script.onload = function(){\n",
       "                    renderPlotly_318968bf8d3042a3958ea36669ed7c7e();\n",
       "                };\n",
       "                document.getElementsByTagName(\"head\")[0].appendChild(script);\n",
       "            }\n",
       "            else {\n",
       "                renderPlotly_318968bf8d3042a3958ea36669ed7c7e();\n",
       "            }\n",
       "</script>\n"
      ]
     },
     "metadata": {}
    }
   ],
   "metadata": {
    "dotnet_interactive": {
     "language": "fsharp"
    }
   }
  },
  {
   "cell_type": "markdown",
   "source": [
    "## Line charts with markers\r\n",
    "\r\n",
    "The markers argument can be set to True to show markers on lines."
   ],
   "metadata": {}
  },
  {
   "cell_type": "code",
   "execution_count": null,
   "source": [
    "open Plotly.NET\n",
    "\n",
    "let x  = [1952; 1957; 1962; 1967; 1972; 1977; 1982; 1987; 1992; 1997; 2002; 2007]\n",
    "\n",
    "// Australia\n",
    "let y1 = [69.12; 70.30; 70.93; 71.1; 71.93; 73.49; 74.74; 76.32; 77.56; 78.3; 80.37; 81.235]\n",
    "// New Zealand\n",
    "let y2 = [69.39; 70.26; 71.24; 71.52; 71.89; 72.22; 73.84; 74.32; 76.33; 77.55; 79.11; 80.204]\n",
    "\n",
    "[\n",
    "        Chart.Line(x, y1, ShowMarkers=true, MarkerSymbol=StyleParam.Symbol.Circle)\n",
    "        |> Chart.withTraceName(Name=\"Australia\")\n",
    "        |> Chart.withLineStyle(Width=2.0, Dash=StyleParam.DrawingStyle.Solid)\n",
    "\n",
    "        Chart.Line(x, y2, ShowMarkers=true, MarkerSymbol=StyleParam.Symbol.Circle)\n",
    "        |> Chart.withTraceName(Name=\"New Zealand\")\n",
    "        |> Chart.withLineStyle(Width=2.0, Dash=StyleParam.DrawingStyle.Solid) \n",
    "] \n",
    "|> Chart.Combine\n",
    "|> Chart.withX_AxisStyle(\"year\")\n",
    "|> Chart.withY_AxisStyle(\"lifeExp\")"
   ],
   "outputs": [
    {
     "output_type": "display_data",
     "data": {
      "text/html": [
       "<div id=\"1e9b363b-e6b8-4538-a891-7fc8c296a178\" style=\"width: 600px; height: 600px;\"><!-- Plotly chart will be drawn inside this DIV --></div>\n",
       "<script type=\"text/javascript\">\n",
       "\n",
       "            var renderPlotly_1e9b363be6b84538a8917fc8c296a178 = function() {\n",
       "            var fsharpPlotlyRequire = requirejs.config({context:'fsharp-plotly',paths:{plotly:'https://cdn.plot.ly/plotly-latest.min'}}) || require;\n",
       "            fsharpPlotlyRequire(['plotly'], function(Plotly) {\n",
       "\n",
       "            var data = [{\"type\":\"scatter\",\"x\":[1952,1957,1962,1967,1972,1977,1982,1987,1992,1997,2002,2007],\"y\":[69.12,70.3,70.93,71.1,71.93,73.49,74.74,76.32,77.56,78.3,80.37,81.235],\"mode\":\"lines+markers\",\"line\":{\"width\":2.0,\"dash\":\"solid\"},\"marker\":{\"symbol\":0},\"name\":\"Australia\"},{\"type\":\"scatter\",\"x\":[1952,1957,1962,1967,1972,1977,1982,1987,1992,1997,2002,2007],\"y\":[69.39,70.26,71.24,71.52,71.89,72.22,73.84,74.32,76.33,77.55,79.11,80.204],\"mode\":\"lines+markers\",\"line\":{\"width\":2.0,\"dash\":\"solid\"},\"marker\":{\"symbol\":0},\"name\":\"New Zealand\"}];\n",
       "            var layout = {\"xaxis\":{\"title\":\"year\"},\"yaxis\":{\"title\":\"lifeExp\"}};\n",
       "            var config = {};\n",
       "            Plotly.newPlot('1e9b363b-e6b8-4538-a891-7fc8c296a178', data, layout, config);\n",
       "});\n",
       "            };\n",
       "            if ((typeof(requirejs) !==  typeof(Function)) || (typeof(requirejs.config) !== typeof(Function))) {\n",
       "                var script = document.createElement(\"script\");\n",
       "                script.setAttribute(\"src\", \"https://cdnjs.cloudflare.com/ajax/libs/require.js/2.3.6/require.min.js\");\n",
       "                script.onload = function(){\n",
       "                    renderPlotly_1e9b363be6b84538a8917fc8c296a178();\n",
       "                };\n",
       "                document.getElementsByTagName(\"head\")[0].appendChild(script);\n",
       "            }\n",
       "            else {\n",
       "                renderPlotly_1e9b363be6b84538a8917fc8c296a178();\n",
       "            }\n",
       "</script>\n"
      ]
     },
     "metadata": {}
    }
   ],
   "metadata": {
    "dotnet_interactive": {
     "language": "fsharp"
    }
   }
  },
  {
   "cell_type": "markdown",
   "source": [
    "The symbol argument can be used to map a data field to the marker symbol."
   ],
   "metadata": {}
  },
  {
   "cell_type": "code",
   "execution_count": null,
   "source": [
    "open Plotly.NET\n",
    "\n",
    "let x  = [1952; 1957; 1962; 1967; 1972; 1977; 1982; 1987; 1992; 1997; 2002; 2007]\n",
    "\n",
    "// Australia\n",
    "let y1 = [69.12; 70.30; 70.93; 71.1; 71.93; 73.49; 74.74; 76.32; 77.56; 78.3; 80.37; 81.235]\n",
    "// New Zealand\n",
    "let y2 = [69.39; 70.26; 71.24; 71.52; 71.89; 72.22; 73.84; 74.32; 76.33; 77.55; 79.11; 80.204]\n",
    "\n",
    "[\n",
    "        Chart.Line(x, y1, ShowMarkers=true, MarkerSymbol=StyleParam.Symbol.Circle)\n",
    "        |> Chart.withTraceName(Name=\"Australia\")\n",
    "        |> Chart.withLineStyle(Width=2.0, Dash=StyleParam.DrawingStyle.Solid)\n",
    "\n",
    "        Chart.Line(x, y2, ShowMarkers=true, MarkerSymbol=StyleParam.Symbol.Diamond)\n",
    "        |> Chart.withTraceName(Name=\"New Zealand\")\n",
    "        |> Chart.withLineStyle(Width=2.0, Dash=StyleParam.DrawingStyle.Solid)\n",
    "] \n",
    "|> Chart.Combine\n",
    "|> Chart.withX_AxisStyle(\"year\")\n",
    "|> Chart.withY_AxisStyle(\"lifeExp\")"
   ],
   "outputs": [
    {
     "output_type": "display_data",
     "data": {
      "text/html": [
       "<div id=\"d3cb4c2b-7acb-472d-ab5c-2597108d5271\" style=\"width: 600px; height: 600px;\"><!-- Plotly chart will be drawn inside this DIV --></div>\n",
       "<script type=\"text/javascript\">\n",
       "\n",
       "            var renderPlotly_d3cb4c2b7acb472dab5c2597108d5271 = function() {\n",
       "            var fsharpPlotlyRequire = requirejs.config({context:'fsharp-plotly',paths:{plotly:'https://cdn.plot.ly/plotly-latest.min'}}) || require;\n",
       "            fsharpPlotlyRequire(['plotly'], function(Plotly) {\n",
       "\n",
       "            var data = [{\"type\":\"scatter\",\"x\":[1952,1957,1962,1967,1972,1977,1982,1987,1992,1997,2002,2007],\"y\":[69.12,70.3,70.93,71.1,71.93,73.49,74.74,76.32,77.56,78.3,80.37,81.235],\"mode\":\"lines+markers\",\"line\":{\"width\":2.0,\"dash\":\"solid\"},\"marker\":{\"symbol\":0},\"name\":\"Australia\"},{\"type\":\"scatter\",\"x\":[1952,1957,1962,1967,1972,1977,1982,1987,1992,1997,2002,2007],\"y\":[69.39,70.26,71.24,71.52,71.89,72.22,73.84,74.32,76.33,77.55,79.11,80.204],\"mode\":\"lines+markers\",\"line\":{\"width\":2.0,\"dash\":\"solid\"},\"marker\":{\"symbol\":2},\"name\":\"New Zealand\"}];\n",
       "            var layout = {\"xaxis\":{\"title\":\"year\"},\"yaxis\":{\"title\":\"lifeExp\"}};\n",
       "            var config = {};\n",
       "            Plotly.newPlot('d3cb4c2b-7acb-472d-ab5c-2597108d5271', data, layout, config);\n",
       "});\n",
       "            };\n",
       "            if ((typeof(requirejs) !==  typeof(Function)) || (typeof(requirejs.config) !== typeof(Function))) {\n",
       "                var script = document.createElement(\"script\");\n",
       "                script.setAttribute(\"src\", \"https://cdnjs.cloudflare.com/ajax/libs/require.js/2.3.6/require.min.js\");\n",
       "                script.onload = function(){\n",
       "                    renderPlotly_d3cb4c2b7acb472dab5c2597108d5271();\n",
       "                };\n",
       "                document.getElementsByTagName(\"head\")[0].appendChild(script);\n",
       "            }\n",
       "            else {\n",
       "                renderPlotly_d3cb4c2b7acb472dab5c2597108d5271();\n",
       "            }\n",
       "</script>\n"
      ]
     },
     "metadata": {}
    }
   ],
   "metadata": {
    "dotnet_interactive": {
     "language": "fsharp"
    }
   }
  },
  {
   "cell_type": "markdown",
   "source": [
    "## Line Plot with go.Scatter\r\n",
    "Simple Line Plot"
   ],
   "metadata": {}
  },
  {
   "cell_type": "code",
   "execution_count": null,
   "source": [
    "let xs = [0.0 .. 9.0]\n",
    "let ys = xs |> Seq.map (fun x -> x ** 2.0)\n",
    "\n",
    "Chart.Scatter(xs, ys, StyleParam.Mode.Lines_Markers)"
   ],
   "outputs": [
    {
     "output_type": "display_data",
     "data": {
      "text/html": [
       "<div id=\"441fb495-5e96-4c74-8970-b0d985f08608\" style=\"width: 600px; height: 600px;\"><!-- Plotly chart will be drawn inside this DIV --></div>\n",
       "<script type=\"text/javascript\">\n",
       "\n",
       "            var renderPlotly_441fb4955e964c748970b0d985f08608 = function() {\n",
       "            var fsharpPlotlyRequire = requirejs.config({context:'fsharp-plotly',paths:{plotly:'https://cdn.plot.ly/plotly-latest.min'}}) || require;\n",
       "            fsharpPlotlyRequire(['plotly'], function(Plotly) {\n",
       "\n",
       "            var data = [{\"type\":\"scatter\",\"x\":[0.0,1.0,2.0,3.0,4.0,5.0,6.0,7.0,8.0,9.0],\"y\":[0.0,1.0,4.0,9.0,16.0,25.0,36.0,49.0,64.0,81.0],\"mode\":\"lines+markers\",\"line\":{},\"marker\":{}}];\n",
       "            var layout = {};\n",
       "            var config = {};\n",
       "            Plotly.newPlot('441fb495-5e96-4c74-8970-b0d985f08608', data, layout, config);\n",
       "});\n",
       "            };\n",
       "            if ((typeof(requirejs) !==  typeof(Function)) || (typeof(requirejs.config) !== typeof(Function))) {\n",
       "                var script = document.createElement(\"script\");\n",
       "                script.setAttribute(\"src\", \"https://cdnjs.cloudflare.com/ajax/libs/require.js/2.3.6/require.min.js\");\n",
       "                script.onload = function(){\n",
       "                    renderPlotly_441fb4955e964c748970b0d985f08608();\n",
       "                };\n",
       "                document.getElementsByTagName(\"head\")[0].appendChild(script);\n",
       "            }\n",
       "            else {\n",
       "                renderPlotly_441fb4955e964c748970b0d985f08608();\n",
       "            }\n",
       "</script>\n"
      ]
     },
     "metadata": {}
    }
   ],
   "metadata": {
    "dotnet_interactive": {
     "language": "fsharp"
    }
   }
  },
  {
   "cell_type": "markdown",
   "source": [
    "Line Plot Modes"
   ],
   "metadata": {}
  },
  {
   "cell_type": "code",
   "execution_count": null,
   "source": [
    "let n = 100\n",
    "let series = [0..n]\n",
    "\n",
    "let generate () = series |> Seq.map (fun _-> nextFloat(-2.0, 2.0))\n",
    "\n",
    "let random_xs = series\n",
    "\n",
    "let random_ys0 = generate () |> Seq.map(fun x -> x + 5.0)\n",
    "let random_ys1 = generate ()\n",
    "let random_ys2 = generate () |> Seq.map(fun x -> x - 5.0)\n",
    "\n",
    "// Create traces\n",
    "[\n",
    "    Chart.Scatter(random_xs, random_ys0, StyleParam.Mode.Lines)\n",
    "    |> Chart.withTraceName(Name=\"lines\")\n",
    "\n",
    "    Chart.Scatter(random_xs, random_ys1, StyleParam.Mode.Lines_Markers)\n",
    "    |> Chart.withTraceName(Name=\"lines+markers\")\n",
    "\n",
    "    Chart.Scatter(random_xs, random_ys2, StyleParam.Mode.Markers)\n",
    "    |> Chart.withTraceName(Name=\"markers\")\n",
    "]\n",
    "|> Chart.Combine"
   ],
   "outputs": [
    {
     "output_type": "display_data",
     "data": {
      "text/html": [
       "<div id=\"4b87115e-38a8-4171-9b84-876a4e41d8c3\" style=\"width: 600px; height: 600px;\"><!-- Plotly chart will be drawn inside this DIV --></div>\n",
       "<script type=\"text/javascript\">\n",
       "\n",
       "            var renderPlotly_4b87115e38a841719b84876a4e41d8c3 = function() {\n",
       "            var fsharpPlotlyRequire = requirejs.config({context:'fsharp-plotly',paths:{plotly:'https://cdn.plot.ly/plotly-latest.min'}}) || require;\n",
       "            fsharpPlotlyRequire(['plotly'], function(Plotly) {\n",
       "\n",
       "            var data = [{\"type\":\"scatter\",\"x\":[0,1,2,3,4,5,6,7,8,9,10,11,12,13,14,15,16,17,18,19,20,21,22,23,24,25,26,27,28,29,30,31,32,33,34,35,36,37,38,39,40,41,42,43,44,45,46,47,48,49,50,51,52,53,54,55,56,57,58,59,60,61,62,63,64,65,66,67,68,69,70,71,72,73,74,75,76,77,78,79,80,81,82,83,84,85,86,87,88,89,90,91,92,93,94,95,96,97,98,99,100],\"y\":[6.68287124842539,3.2517936826924765,5.389489810163849,4.449832624499608,4.2782095602146395,5.4055719833847,3.387473533110448,6.141494886549886,3.5079893583934707,3.217269888248886,5.359412544574315,4.385841748391204,5.686619376152111,4.858850822718279,6.899053115350685,5.791776947114513,3.931120692254566,4.0149129056441195,6.827432431200255,4.213618347986424,4.058654966325804,4.539781466843459,5.373477961110639,4.913990781602445,6.830881720330046,5.580668994495957,6.865102363687522,5.124117964005153,6.992878589775822,6.794566800722185,5.176846991375483,4.286779095086632,3.456973573405749,3.126884084253984,4.925488808157616,6.217780239515836,5.987735306372743,5.995751618871349,3.408071154918555,6.885481484181007,6.940274229245388,5.904896303501397,3.7094431653197124,6.885230144432388,4.188662196131731,5.05159420988131,6.150347284577018,5.1815706781025845,4.275600616482832,6.6006584612655725,6.011218798817703,6.488697284594503,5.243457510249437,6.660628419211427,4.495490574043007,5.143089781581931,4.878315721581837,3.4754990285614036,4.618950904169562,5.697540565718683,5.540469619697179,5.263355569105295,6.148616296774064,3.7134225576712856,5.040422896873403,4.072633449487683,3.9288681749854555,5.559735291898127,6.933362014560663,3.681272875834849,6.8040416407417705,4.9353690733832165,3.6068417507255646,6.941950947019249,4.2733441187410355,5.153758662824407,3.830338301523746,5.488247816678252,3.725328585470714,4.779287510448735,6.430321709918939,4.6835316855849385,3.848517347522321,3.3922201285102496,3.783348001904482,5.68814970678098,6.043321584837195,3.796345154194322,5.631393510210977,6.782399026575684,4.339464517933998,5.51223627781134,4.376800714701787,4.710530589199872,4.345011864483828,4.6769186601400925,6.756280006727334,6.996020607648427,4.844807247558984,3.1160287466440484,4.122726034895855],\"mode\":\"lines\",\"line\":{},\"marker\":{},\"name\":\"lines\"},{\"type\":\"scatter\",\"x\":[0,1,2,3,4,5,6,7,8,9,10,11,12,13,14,15,16,17,18,19,20,21,22,23,24,25,26,27,28,29,30,31,32,33,34,35,36,37,38,39,40,41,42,43,44,45,46,47,48,49,50,51,52,53,54,55,56,57,58,59,60,61,62,63,64,65,66,67,68,69,70,71,72,73,74,75,76,77,78,79,80,81,82,83,84,85,86,87,88,89,90,91,92,93,94,95,96,97,98,99,100],\"y\":[-1.40938800732111,0.24820866354192095,-1.4056722593520172,1.7966168205238024,-0.9241502745655135,0.8818555338689387,0.3015065632301881,0.3872843004703914,1.3417319112186004,-0.6872485199418146,1.3900679049035851,1.7501704430906897,1.8396633937208278,1.2672188557997432,-1.1430620658877595,-0.5851617784170255,0.7563961682638136,1.9300745557668035,1.3522731900924225,0.029311864650487962,-1.8674769792088666,1.9283417816871506,-1.849037012015021,1.3418083579008506,-0.7081946370695693,-1.4414316413185706,0.8963111615256922,0.596939082535421,1.5964254586009425,0.39747865609707267,-1.1656823061246808,-1.3565594308807327,-1.3907001611733345,-1.34343852444712,0.8397097172400492,1.435323022043017,-1.7458103931256619,-1.4043966920135529,1.7074982764699955,1.8062941729120419,-1.2581849783929926,0.4090608537239304,1.2896615989923763,0.4696475465174985,-0.05060338696958655,0.7620658347206497,-0.46286267901904066,0.44331173340012864,-1.511926069628413,-1.7379195614428817,-1.0001161615364795,-1.9340539481183765,0.49253405746656176,0.08671688199356042,-1.0097969858952784,-1.3377297890082605,0.09724567555694152,-0.7474806172528679,0.5048114575933718,-1.4827186332469426,1.985544372343246,1.704567480694767,0.7908588418694489,-1.0557467448784723,-1.5215662138171338,0.7466273357843178,1.1408706042640242,1.1831019181679476,-1.572490861440306,-0.5783850879307766,-0.8393513852913637,0.1607928602773665,-1.777423720703192,1.5459790171803807,-0.7125031569565194,-0.2765378329327972,-1.3613198173052257,-0.31868455853251954,-0.6075882551295628,0.529739528209781,1.02143103770047,-1.5470005718744362,0.10886515216383374,1.3343450200438243,-0.602405182366448,-1.2316283580063043,0.15090651165270552,0.5225829568331051,1.6663584614481581,0.17743950624831006,-0.6619226535139244,1.001670224127206,0.09079185039307536,1.1902169097169382,1.8207498005687959,-0.9627524590877594,1.618202011854482,0.3454083438708486,-0.008786239665367734,1.2027692772460958,1.6211952304566255],\"mode\":\"lines+markers\",\"line\":{},\"marker\":{},\"name\":\"lines+markers\"},{\"type\":\"scatter\",\"x\":[0,1,2,3,4,5,6,7,8,9,10,11,12,13,14,15,16,17,18,19,20,21,22,23,24,25,26,27,28,29,30,31,32,33,34,35,36,37,38,39,40,41,42,43,44,45,46,47,48,49,50,51,52,53,54,55,56,57,58,59,60,61,62,63,64,65,66,67,68,69,70,71,72,73,74,75,76,77,78,79,80,81,82,83,84,85,86,87,88,89,90,91,92,93,94,95,96,97,98,99,100],\"y\":[-4.645964597186989,-4.984197405159565,-3.9335409816976363,-3.898568176151518,-4.160909021813845,-3.1566302274151847,-4.0534449597138185,-6.2007799610499195,-3.7332591529624812,-6.976409971703035,-6.584069765910539,-3.1398923621233052,-3.0249280706164092,-5.504149670947413,-3.4674550557823176,-5.404297671469067,-3.543486178174376,-3.453341562512024,-3.2899378558108294,-6.404279175868388,-6.381712352569081,-3.4832565432802105,-4.749930367688616,-6.916462434416852,-4.84102160941857,-6.929998990115709,-5.96764063042013,-3.2747707833884148,-6.74975069786876,-4.89473984478728,-4.706728161176074,-3.309898318867152,-4.810357532375658,-4.0914557022468445,-6.332604365112541,-4.562803166714871,-3.95759386613853,-6.767086803804657,-4.441496160552602,-6.074998130591119,-3.7956485286334756,-5.2766370821169755,-6.60038238558936,-4.846150522048655,-6.077852887603386,-3.858437413749489,-4.884280078990516,-5.305633419335649,-6.711795143648887,-3.5584547876186923,-6.838311809971143,-4.201250093617127,-4.718848383854539,-4.3929515468855165,-3.997092416974293,-4.162708053906778,-3.2342670374709495,-4.017078547280784,-6.057546566732948,-4.230910031698137,-4.188989596995055,-3.778674176325404,-6.45102926318116,-5.8385193081752025,-5.2696818105269605,-6.274171447043387,-5.329534829747646,-5.933472368369564,-6.171545305834871,-5.904651889067447,-4.446703805330538,-3.776399374369718,-6.011845401959421,-4.214939725219709,-5.608630647234913,-4.105075270452106,-3.8828741576908503,-6.903779845639961,-3.8386095468134664,-3.982584195669081,-5.045718911125194,-3.662007211084481,-3.5629756397395282,-6.1912959102500675,-5.056428034816136,-3.505478067558947,-5.591049935012613,-3.4174059854901424,-3.0943632852725513,-5.169896311205763,-4.328536129243922,-6.940515318857746,-3.70954023707171,-3.210586128854466,-4.8860085335960655,-3.0169743523080714,-5.825607818935815,-3.761863077414158,-6.576468711521695,-6.803681440559998,-5.528902584001842],\"mode\":\"markers\",\"line\":{},\"marker\":{},\"name\":\"markers\"}];\n",
       "            var layout = {};\n",
       "            var config = {};\n",
       "            Plotly.newPlot('4b87115e-38a8-4171-9b84-876a4e41d8c3', data, layout, config);\n",
       "});\n",
       "            };\n",
       "            if ((typeof(requirejs) !==  typeof(Function)) || (typeof(requirejs.config) !== typeof(Function))) {\n",
       "                var script = document.createElement(\"script\");\n",
       "                script.setAttribute(\"src\", \"https://cdnjs.cloudflare.com/ajax/libs/require.js/2.3.6/require.min.js\");\n",
       "                script.onload = function(){\n",
       "                    renderPlotly_4b87115e38a841719b84876a4e41d8c3();\n",
       "                };\n",
       "                document.getElementsByTagName(\"head\")[0].appendChild(script);\n",
       "            }\n",
       "            else {\n",
       "                renderPlotly_4b87115e38a841719b84876a4e41d8c3();\n",
       "            }\n",
       "</script>\n"
      ]
     },
     "metadata": {}
    }
   ],
   "metadata": {
    "dotnet_interactive": {
     "language": "fsharp"
    }
   }
  },
  {
   "cell_type": "markdown",
   "source": [
    "## Style Line Plots"
   ],
   "metadata": {}
  },
  {
   "cell_type": "code",
   "execution_count": null,
   "source": [
    "\n",
    "//  Add data\n",
    "let month = [\"January\";\"February\";\"March\";\"April\";\"May\";\"June\";\"July\";\"August\";\"September\";\"October\";\"November\";\"December\"]\n",
    "let high_2000 = [32.5; 37.6; 49.9; 53.0; 69.1; 75.4; 76.5; 76.6; 70.7; 60.6; 45.1; 29.3]\n",
    "let low_2000 = [13.8; 22.3; 32.5; 37.2; 49.9; 56.1; 57.7; 58.3; 51.2; 42.8; 31.6; 15.9]\n",
    "let high_2007 = [36.5; 26.6; 43.6; 52.3; 71.5; 81.4; 80.5; 82.2; 76.0; 67.3; 46.1; 35.0]\n",
    "let low_2007 = [23.6; 14.0; 27.0; 36.8; 47.6; 57.7; 58.9; 61.2; 53.3; 48.5; 31.0; 23.6]\n",
    "let high_2014 = [28.8; 28.5; 37.0; 56.8; 69.7; 79.7; 78.5; 77.8; 74.1; 62.6; 45.3; 39.9]\n",
    "let low_2014 = [12.7; 14.3; 18.6; 35.5; 49.9; 58.0; 60.0; 58.6; 51.7; 45.2; 32.2; 29.1]\n",
    "\n",
    "\n",
    "// Create and style traces\n",
    "let high2014Chart = Chart.Scatter(month, high_2014, StyleParam.Mode.Lines_Markers,  Name=\"High 2014\")\n",
    "                        |> Chart.withLineStyle(Color = \"firebrick\", Width=4.)\n",
    "\n",
    "let low2014Chart = Chart.Scatter(month, low_2014, StyleParam.Mode.Lines_Markers,  Name=\"Low 2014\")\n",
    "                        |> Chart.withLineStyle(Color = \"royalblue\", Width=4.)\n",
    "\n",
    "let high2007Chart = Chart.Scatter(month, high_2007, StyleParam.Mode.Lines_Markers,  Name=\"High 2007\")\n",
    "                        |> Chart.withLineStyle(Color = \"firebrick\", Width=4., Dash=StyleParam.DrawingStyle.Dash)  \n",
    "                        //dash options include 'dash', 'dot', and 'dashdot'\n",
    "\n",
    "let low2007Chart = Chart.Scatter(month, low_2007, StyleParam.Mode.Lines_Markers,  Name=\"Low 2007\")\n",
    "                        |> Chart.withLineStyle(Color = \"royalblue\", Width=4., Dash=StyleParam.DrawingStyle.Dash)  \n",
    "\n",
    "\n",
    "let high2000Chart = Chart.Scatter(month, high_2000, StyleParam.Mode.Lines_Markers,  Name=\"High 2000\")\n",
    "                        |> Chart.withLineStyle(Color = \"firebrick\", Width=4., Dash=StyleParam.DrawingStyle.Dot)\n",
    "\n",
    "let low2000Chart = Chart.Scatter(month, low_2000, StyleParam.Mode.Lines_Markers,  Name=\"Low 2000\")\n",
    "                        |> Chart.withLineStyle(Color = \"royalblue\", Width=4., Dash=StyleParam.DrawingStyle.Dot)  \n",
    "\n",
    "\n",
    "[\n",
    "    high2014Chart;\n",
    "    low2014Chart;\n",
    "    high2007Chart;\n",
    "    low2007Chart;\n",
    "    high2000Chart;\n",
    "    low2000Chart\n",
    "\n",
    "] \n",
    "    |> Chart.Combine\n",
    "    |> Chart.withTitle(\"Average High and Low Temperatures in New York\")\n",
    "    |> Chart.withX_AxisStyle (\"Month\")\n",
    "    |> Chart.withY_AxisStyle (\"Temperature (degrees F)\")"
   ],
   "outputs": [
    {
     "output_type": "display_data",
     "data": {
      "text/html": [
       "<div id=\"bed0e55c-118d-42a9-8460-3667d7397302\" style=\"width: 600px; height: 600px;\"><!-- Plotly chart will be drawn inside this DIV --></div>\n",
       "<script type=\"text/javascript\">\n",
       "\n",
       "            var renderPlotly_bed0e55c118d42a984603667d7397302 = function() {\n",
       "            var fsharpPlotlyRequire = requirejs.config({context:'fsharp-plotly',paths:{plotly:'https://cdn.plot.ly/plotly-latest.min'}}) || require;\n",
       "            fsharpPlotlyRequire(['plotly'], function(Plotly) {\n",
       "\n",
       "            var data = [{\"type\":\"scatter\",\"x\":[\"January\",\"February\",\"March\",\"April\",\"May\",\"June\",\"July\",\"August\",\"September\",\"October\",\"November\",\"December\"],\"y\":[28.8,28.5,37.0,56.8,69.7,79.7,78.5,77.8,74.1,62.6,45.3,39.9],\"mode\":\"lines+markers\",\"name\":\"High 2014\",\"line\":{\"color\":\"firebrick\",\"width\":4.0},\"marker\":{}},{\"type\":\"scatter\",\"x\":[\"January\",\"February\",\"March\",\"April\",\"May\",\"June\",\"July\",\"August\",\"September\",\"October\",\"November\",\"December\"],\"y\":[12.7,14.3,18.6,35.5,49.9,58.0,60.0,58.6,51.7,45.2,32.2,29.1],\"mode\":\"lines+markers\",\"name\":\"Low 2014\",\"line\":{\"color\":\"royalblue\",\"width\":4.0},\"marker\":{}},{\"type\":\"scatter\",\"x\":[\"January\",\"February\",\"March\",\"April\",\"May\",\"June\",\"July\",\"August\",\"September\",\"October\",\"November\",\"December\"],\"y\":[36.5,26.6,43.6,52.3,71.5,81.4,80.5,82.2,76.0,67.3,46.1,35.0],\"mode\":\"lines+markers\",\"name\":\"High 2007\",\"line\":{\"color\":\"firebrick\",\"width\":4.0,\"dash\":\"dash\"},\"marker\":{}},{\"type\":\"scatter\",\"x\":[\"January\",\"February\",\"March\",\"April\",\"May\",\"June\",\"July\",\"August\",\"September\",\"October\",\"November\",\"December\"],\"y\":[23.6,14.0,27.0,36.8,47.6,57.7,58.9,61.2,53.3,48.5,31.0,23.6],\"mode\":\"lines+markers\",\"name\":\"Low 2007\",\"line\":{\"color\":\"royalblue\",\"width\":4.0,\"dash\":\"dash\"},\"marker\":{}},{\"type\":\"scatter\",\"x\":[\"January\",\"February\",\"March\",\"April\",\"May\",\"June\",\"July\",\"August\",\"September\",\"October\",\"November\",\"December\"],\"y\":[32.5,37.6,49.9,53.0,69.1,75.4,76.5,76.6,70.7,60.6,45.1,29.3],\"mode\":\"lines+markers\",\"name\":\"High 2000\",\"line\":{\"color\":\"firebrick\",\"width\":4.0,\"dash\":\"dot\"},\"marker\":{}},{\"type\":\"scatter\",\"x\":[\"January\",\"February\",\"March\",\"April\",\"May\",\"June\",\"July\",\"August\",\"September\",\"October\",\"November\",\"December\"],\"y\":[13.8,22.3,32.5,37.2,49.9,56.1,57.7,58.3,51.2,42.8,31.6,15.9],\"mode\":\"lines+markers\",\"name\":\"Low 2000\",\"line\":{\"color\":\"royalblue\",\"width\":4.0,\"dash\":\"dot\"},\"marker\":{}}];\n",
       "            var layout = {\"title\":\"Average High and Low Temperatures in New York\",\"xaxis\":{\"title\":\"Month\"},\"yaxis\":{\"title\":\"Temperature (degrees F)\"}};\n",
       "            var config = {};\n",
       "            Plotly.newPlot('bed0e55c-118d-42a9-8460-3667d7397302', data, layout, config);\n",
       "});\n",
       "            };\n",
       "            if ((typeof(requirejs) !==  typeof(Function)) || (typeof(requirejs.config) !== typeof(Function))) {\n",
       "                var script = document.createElement(\"script\");\n",
       "                script.setAttribute(\"src\", \"https://cdnjs.cloudflare.com/ajax/libs/require.js/2.3.6/require.min.js\");\n",
       "                script.onload = function(){\n",
       "                    renderPlotly_bed0e55c118d42a984603667d7397302();\n",
       "                };\n",
       "                document.getElementsByTagName(\"head\")[0].appendChild(script);\n",
       "            }\n",
       "            else {\n",
       "                renderPlotly_bed0e55c118d42a984603667d7397302();\n",
       "            }\n",
       "</script>\n"
      ]
     },
     "metadata": {}
    }
   ],
   "metadata": {
    "dotnet_interactive": {
     "language": "fsharp"
    }
   }
  },
  {
   "cell_type": "markdown",
   "source": [
    "## Connect Data Gaps"
   ],
   "metadata": {}
  },
  {
   "cell_type": "code",
   "execution_count": null,
   "source": [
    "\n",
    "let xs = [1; 2; 3; 4; 5; 6; 7; 8; 9; 10; 11; 12; 13; 14; 15]\n",
    "\n",
    "let chart = Chart.Scatter(xs,\n",
    "             [10.; 20.; nan; 15.; 10.; 5.; 15.;nan; 20.; 10.; 10.; 15.; 25.; 20.; 10.], \n",
    "             StyleParam.Mode.Lines_Markers, Name=\"<b>No</b> Gaps\")\n",
    "             |> GenericChart.mapTrace(fun t -> \n",
    "                                                t?connectgaps <- true\n",
    "                                                t)\n",
    "[\n",
    "    \n",
    "    chart;\n",
    "    Chart.Scatter(xs,\n",
    "             [5.; 15.; nan; 10.; 5.; 0.; 10.; nan; 15.; 5.; 5.; 10.; 20.; 15.; 5.], \n",
    "             StyleParam.Mode.Lines_Markers, Name=\"Gaps\")\n",
    "] |> Chart.Combine"
   ],
   "outputs": [
    {
     "output_type": "display_data",
     "data": {
      "text/html": [
       "<div id=\"921c5569-5c73-4d21-a92d-8c9cfcced564\" style=\"width: 600px; height: 600px;\"><!-- Plotly chart will be drawn inside this DIV --></div>\n",
       "<script type=\"text/javascript\">\n",
       "\n",
       "            var renderPlotly_921c55695c734d21a92d8c9cfcced564 = function() {\n",
       "            var fsharpPlotlyRequire = requirejs.config({context:'fsharp-plotly',paths:{plotly:'https://cdn.plot.ly/plotly-latest.min'}}) || require;\n",
       "            fsharpPlotlyRequire(['plotly'], function(Plotly) {\n",
       "\n",
       "            var data = [{\"type\":\"scatter\",\"x\":[1,2,3,4,5,6,7,8,9,10,11,12,13,14,15],\"y\":[10.0,20.0,\"NaN\",15.0,10.0,5.0,15.0,\"NaN\",20.0,10.0,10.0,15.0,25.0,20.0,10.0],\"mode\":\"lines+markers\",\"name\":\"<b>No</b> Gaps\",\"line\":{},\"marker\":{},\"connectgaps\":true},{\"type\":\"scatter\",\"x\":[1,2,3,4,5,6,7,8,9,10,11,12,13,14,15],\"y\":[5.0,15.0,\"NaN\",10.0,5.0,0.0,10.0,\"NaN\",15.0,5.0,5.0,10.0,20.0,15.0,5.0],\"mode\":\"lines+markers\",\"name\":\"Gaps\",\"line\":{},\"marker\":{}}];\n",
       "            var layout = {};\n",
       "            var config = {};\n",
       "            Plotly.newPlot('921c5569-5c73-4d21-a92d-8c9cfcced564', data, layout, config);\n",
       "});\n",
       "            };\n",
       "            if ((typeof(requirejs) !==  typeof(Function)) || (typeof(requirejs.config) !== typeof(Function))) {\n",
       "                var script = document.createElement(\"script\");\n",
       "                script.setAttribute(\"src\", \"https://cdnjs.cloudflare.com/ajax/libs/require.js/2.3.6/require.min.js\");\n",
       "                script.onload = function(){\n",
       "                    renderPlotly_921c55695c734d21a92d8c9cfcced564();\n",
       "                };\n",
       "                document.getElementsByTagName(\"head\")[0].appendChild(script);\n",
       "            }\n",
       "            else {\n",
       "                renderPlotly_921c55695c734d21a92d8c9cfcced564();\n",
       "            }\n",
       "</script>\n"
      ]
     },
     "metadata": {}
    }
   ],
   "metadata": {
    "dotnet_interactive": {
     "language": "fsharp"
    }
   }
  },
  {
   "cell_type": "markdown",
   "source": [
    "## Interpolation with Line Plots"
   ],
   "metadata": {}
  },
  {
   "cell_type": "code",
   "execution_count": null,
   "source": [
    "let xs = [1; 2; 3; 4; 5]\n",
    "let ys = [1; 3; 2; 3; 1]\n",
    "\n",
    "let linear = Chart.Scatter(xs, ys, StyleParam.Mode.Lines_Markers,Name=\"linear\") \n",
    "            |> Chart.withLineStyle(Shape =StyleParam.Shape.Linear)\n",
    "\n",
    "let spline = Chart.Scatter(xs, ys |> Seq.map(fun y->y+5) ,StyleParam.Mode.Lines_Markers,Labels=[\"tweak line smoothness<br>with 'smoothing' in line object\"],Name=\"spline\") \n",
    "            |> Chart.withLineStyle(Shape =StyleParam.Shape.Spline)\n",
    "\n",
    "let vhv = Chart.Scatter(xs, ys |> Seq.map(fun y->y+10), StyleParam.Mode.Lines_Markers,Name=\"vhv\") \n",
    "            |> Chart.withLineStyle(Shape =StyleParam.Shape.Vhv)\n",
    "\n",
    "let hvh = Chart.Scatter(xs, ys |> Seq.map(fun y->y+15), StyleParam.Mode.Lines_Markers,Name=\"hvh\") \n",
    "            |> Chart.withLineStyle(Shape =StyleParam.Shape.Hvh)\n",
    "\n",
    "let vh = Chart.Scatter(xs, ys |> Seq.map(fun y->y+20), StyleParam.Mode.Lines_Markers,Name=\"vh\") \n",
    "            |> Chart.withLineStyle(Shape =StyleParam.Shape.Vh)\n",
    "\n",
    "let hv = Chart.Scatter(xs,  ys |> Seq.map(fun y->y+25), StyleParam.Mode.Lines_Markers,Name=\"hv\") \n",
    "            |> Chart.withLineStyle(Shape =StyleParam.Shape.Hv)\n",
    "\n",
    "[\n",
    "    linear;\n",
    "    spline;\n",
    "    vhv;\n",
    "    hvh;\n",
    "    vh;\n",
    "    hv  ]\n",
    "|> Chart.Combine\n",
    "|> Chart.withLegend(Legend.init(Y=0.5,TraceOrder=StyleParam.TraceOrder.Reversed))\n",
    "|> Chart.withLayout(Layout.init(Font=Font.init(Size=16.)))"
   ],
   "outputs": [
    {
     "output_type": "display_data",
     "data": {
      "text/html": [
       "<div id=\"7fd56d7c-d2e3-41d2-8272-cbeb4158dcee\" style=\"width: 600px; height: 600px;\"><!-- Plotly chart will be drawn inside this DIV --></div>\n",
       "<script type=\"text/javascript\">\n",
       "\n",
       "            var renderPlotly_7fd56d7cd2e341d28272cbeb4158dcee = function() {\n",
       "            var fsharpPlotlyRequire = requirejs.config({context:'fsharp-plotly',paths:{plotly:'https://cdn.plot.ly/plotly-latest.min'}}) || require;\n",
       "            fsharpPlotlyRequire(['plotly'], function(Plotly) {\n",
       "\n",
       "            var data = [{\"type\":\"scatter\",\"x\":[1,2,3,4,5],\"y\":[1,3,2,3,1],\"mode\":\"lines+markers\",\"name\":\"linear\",\"line\":{\"shape\":\"linear\"},\"marker\":{}},{\"type\":\"scatter\",\"x\":[1,2,3,4,5],\"y\":[6,8,7,8,6],\"mode\":\"lines+markers\",\"name\":\"spline\",\"line\":{\"shape\":\"spline\"},\"marker\":{},\"text\":[\"tweak line smoothness<br>with 'smoothing' in line object\"]},{\"type\":\"scatter\",\"x\":[1,2,3,4,5],\"y\":[11,13,12,13,11],\"mode\":\"lines+markers\",\"name\":\"vhv\",\"line\":{\"shape\":\"vhv\"},\"marker\":{}},{\"type\":\"scatter\",\"x\":[1,2,3,4,5],\"y\":[16,18,17,18,16],\"mode\":\"lines+markers\",\"name\":\"hvh\",\"line\":{\"shape\":\"hvh\"},\"marker\":{}},{\"type\":\"scatter\",\"x\":[1,2,3,4,5],\"y\":[21,23,22,23,21],\"mode\":\"lines+markers\",\"name\":\"vh\",\"line\":{\"shape\":\"vh\"},\"marker\":{}},{\"type\":\"scatter\",\"x\":[1,2,3,4,5],\"y\":[26,28,27,28,26],\"mode\":\"lines+markers\",\"name\":\"hv\",\"line\":{\"shape\":\"hv\"},\"marker\":{}}];\n",
       "            var layout = {\"legend\":{\"y\":0.5,\"traceorder\":\"reversed\"},\"font\":{\"size\":16.0}};\n",
       "            var config = {};\n",
       "            Plotly.newPlot('7fd56d7c-d2e3-41d2-8272-cbeb4158dcee', data, layout, config);\n",
       "});\n",
       "            };\n",
       "            if ((typeof(requirejs) !==  typeof(Function)) || (typeof(requirejs.config) !== typeof(Function))) {\n",
       "                var script = document.createElement(\"script\");\n",
       "                script.setAttribute(\"src\", \"https://cdnjs.cloudflare.com/ajax/libs/require.js/2.3.6/require.min.js\");\n",
       "                script.onload = function(){\n",
       "                    renderPlotly_7fd56d7cd2e341d28272cbeb4158dcee();\n",
       "                };\n",
       "                document.getElementsByTagName(\"head\")[0].appendChild(script);\n",
       "            }\n",
       "            else {\n",
       "                renderPlotly_7fd56d7cd2e341d28272cbeb4158dcee();\n",
       "            }\n",
       "</script>\n"
      ]
     },
     "metadata": {}
    }
   ],
   "metadata": {
    "dotnet_interactive": {
     "language": "fsharp"
    }
   }
  },
  {
   "cell_type": "markdown",
   "source": [
    "## Label Lines with Annotations"
   ],
   "metadata": {}
  },
  {
   "cell_type": "code",
   "execution_count": null,
   "source": [
    "let title = \"Main Source for News\"\n",
    "let labels = [\"Television\"; \"Newspaper\"; \"Internet\"; \"Radio\"]\n",
    "let colors = [\"rgb(67,67,67)\"; \"rgb(115,115,115)\"; \"rgb(49,130,189)\"; \"rgb(189,189,189)\"]\n",
    "\n",
    "let mode_size = [|8; 8; 12; 8|]\n",
    "let line_size = [|2.; 2.; 4.; 2.|]\n",
    "\n",
    "let x_data = [1 ..4 ] |> Seq.map(fun _-> [|2001 .. 2014|]) |> Seq.toArray\n",
    "\n",
    "let y_data = [|\n",
    "    [|74; 82; 80; 74; 73; 72; 74; 70; 70; 66; 66; 69|];\n",
    "    [|45; 42; 50; 46; 36; 36; 34; 35; 32; 31; 31; 28|];\n",
    "    [|13; 14; 20; 24; 20; 24; 24; 40; 35; 41; 43; 50|];\n",
    "    [|18; 21; 18; 21; 16; 14; 13; 18; 17; 16; 19; 23|]|]\n",
    "\n",
    "\n",
    "\n",
    "seq {\n",
    "    for i in 0..3 do\n",
    "        yield! [\n",
    "                Chart.Scatter(x_data.[i], y_data.[i], StyleParam.Mode.Lines,Name= labels.[i])\n",
    "                    |> Chart.withLineStyle(Width=line_size.[i], Color=colors.[i])\n",
    "\n",
    "                // endpoints\n",
    "                Chart.Scatter([x_data.[i].[0]; x_data.[i].[^0]],\n",
    "                              [y_data.[i].[0]; y_data.[i].[^0]],\n",
    "                              mode=StyleParam.Mode.Markers)\n",
    "                    |> Chart.withMarkerStyle(Size=mode_size.[i], Color=colors.[i])\n",
    "        ]        \n",
    "} |> Chart.Combine\n",
    "  |> Chart.withLayout(Layout.init(Autosize=false, Showlegend=false, Plot_bgcolor=\"white\"))\n",
    "  |> Chart.withX_Axis(Axis.LinearAxis.init(Showline=true,\n",
    "                                            Showgrid=false,\n",
    "                                            Showticklabels=true,\n",
    "                                            Linecolor=\"rgb(204, 204, 204)\",\n",
    "                                            Linewidth=2.,\n",
    "                                            Ticks=StyleParam.TickOptions.Outside,\n",
    "                                            Tickfont = Font.init(Family=StyleParam.FontFamily.Arial,\n",
    "                                                                 Size=12.,\n",
    "                                                                 Color=\"rgb(82, 82, 82)\")))\n",
    "\n",
    "    |> Chart.withY_Axis(Axis.LinearAxis.init(Showgrid=false,\n",
    "                                             Zeroline=false,\n",
    "                                             Showline=false,\n",
    "                                             Showticklabels=false))\n",
    "    |> Chart.withMarginSize(Autoexpand=false, Left=100, Right=20,Top=110)\n",
    "        // Adding labels\n",
    "    |> Chart.withAnnotations(seq {\n",
    "        for (y_trace, label, color) in Seq.zip3 y_data labels colors do\n",
    "\n",
    "        // labeling the left_side of the plot     \n",
    "        let a1 = Annotation.init(XRef=\"paper\", X=0.05, Y=y_trace.[0],\n",
    "                                  Text=  $\"{label} {y_trace.[0]}%%\",\n",
    "                                  ShowArrow=false,\n",
    "                                  Font=Font.init(Family=StyleParam.FontFamily.Arial, Size=16.))\n",
    "\n",
    "        a1?xanchor <-\"right\"  //workaround \n",
    "        a1?yanchor <-\"middle\" //workaround\n",
    "\n",
    "        //labeling the right_side of the plot\n",
    "        let a2 = Annotation.init(XRef=\"paper\", X=0.95, Y=y_trace.[11],\n",
    "                                  Text=  $\"{y_trace.[11]}%%\",\n",
    "                                  ShowArrow=false,\n",
    "                                  Font=Font.init(Family=StyleParam.FontFamily.Arial, Size=16.));\n",
    "\n",
    "        a2?xanchor <-\"left\"  //workaround \n",
    "        a2?yanchor <-\"middle\" //workaround\n",
    "\n",
    "        // Title\n",
    "        let a3 =  Annotation.init(XRef=\"paper\",YRef=\"paper\", X=0., Y=1.05,\n",
    "                                  Text=  \"Main Source for News\",\n",
    "                                  ShowArrow=false,\n",
    "                                  Font=Font.init(Family=StyleParam.FontFamily.Arial, \n",
    "                                                 Size=30.,\n",
    "                                                 Color=\"rgb(37,37,37)\"));\n",
    "        a3?xanchor <-\"left\"  //workaround \n",
    "        a3?yanchor <-\"bottom\" //workaround\n",
    "        \n",
    "\n",
    "        // Source\n",
    "        let a4 = Annotation.init(XRef=\"paper\",YRef=\"paper\", X=0.5, Y= -0.1,\n",
    "                                  Text=  \"Source: PewResearch Center & Storytelling with data\",\n",
    "                                  ShowArrow=false,\n",
    "                                  Font=Font.init(Family=StyleParam.FontFamily.Arial, \n",
    "                                                 Size=12.,\n",
    "                                                 Color=\"rgb(150,150,150)\"))\n",
    "\n",
    "        a4?xanchor <-\"center\"  //workaround \n",
    "        a4?yanchor <-\"top\" //workaround\n",
    "        \n",
    "        \n",
    "\n",
    "                                  \n",
    "        yield! [a1;a2;a3;a4]\n",
    "    })"
   ],
   "outputs": [
    {
     "output_type": "display_data",
     "data": {
      "text/html": [
       "<div id=\"3a2e2ae1-726d-49b7-b850-50645a306773\" style=\"width: 600px; height: 600px;\"><!-- Plotly chart will be drawn inside this DIV --></div>\n",
       "<script type=\"text/javascript\">\n",
       "\n",
       "            var renderPlotly_3a2e2ae1726d49b7b85050645a306773 = function() {\n",
       "            var fsharpPlotlyRequire = requirejs.config({context:'fsharp-plotly',paths:{plotly:'https://cdn.plot.ly/plotly-latest.min'}}) || require;\n",
       "            fsharpPlotlyRequire(['plotly'], function(Plotly) {\n",
       "\n",
       "            var data = [{\"type\":\"scatter\",\"x\":[2001,2002,2003,2004,2005,2006,2007,2008,2009,2010,2011,2012,2013,2014],\"y\":[74,82,80,74,73,72,74,70,70,66,66,69],\"mode\":\"lines\",\"name\":\"Television\",\"line\":{\"color\":\"rgb(67,67,67)\",\"width\":2.0},\"marker\":{}},{\"type\":\"scatter\",\"x\":[2001,2014],\"y\":[74,69],\"mode\":\"markers\",\"line\":{},\"marker\":{\"size\":8,\"color\":\"rgb(67,67,67)\"}},{\"type\":\"scatter\",\"x\":[2001,2002,2003,2004,2005,2006,2007,2008,2009,2010,2011,2012,2013,2014],\"y\":[45,42,50,46,36,36,34,35,32,31,31,28],\"mode\":\"lines\",\"name\":\"Newspaper\",\"line\":{\"color\":\"rgb(115,115,115)\",\"width\":2.0},\"marker\":{}},{\"type\":\"scatter\",\"x\":[2001,2014],\"y\":[45,28],\"mode\":\"markers\",\"line\":{},\"marker\":{\"size\":8,\"color\":\"rgb(115,115,115)\"}},{\"type\":\"scatter\",\"x\":[2001,2002,2003,2004,2005,2006,2007,2008,2009,2010,2011,2012,2013,2014],\"y\":[13,14,20,24,20,24,24,40,35,41,43,50],\"mode\":\"lines\",\"name\":\"Internet\",\"line\":{\"color\":\"rgb(49,130,189)\",\"width\":4.0},\"marker\":{}},{\"type\":\"scatter\",\"x\":[2001,2014],\"y\":[13,50],\"mode\":\"markers\",\"line\":{},\"marker\":{\"size\":12,\"color\":\"rgb(49,130,189)\"}},{\"type\":\"scatter\",\"x\":[2001,2002,2003,2004,2005,2006,2007,2008,2009,2010,2011,2012,2013,2014],\"y\":[18,21,18,21,16,14,13,18,17,16,19,23],\"mode\":\"lines\",\"name\":\"Radio\",\"line\":{\"color\":\"rgb(189,189,189)\",\"width\":2.0},\"marker\":{}},{\"type\":\"scatter\",\"x\":[2001,2014],\"y\":[18,23],\"mode\":\"markers\",\"line\":{},\"marker\":{\"size\":8,\"color\":\"rgb(189,189,189)\"}}];\n",
       "            var layout = {\"autosize\":false,\"plot_bgcolor\":\"white\",\"showlegend\":false,\"xaxis\":{\"ticks\":\"outside\",\"showticklabels\":true,\"showline\":true,\"linecolor\":\"rgb(204, 204, 204)\",\"linewidth\":2.0,\"showgrid\":false,\"tickfont\":{\"family\":\"Arial\",\"size\":12.0,\"color\":\"rgb(82, 82, 82)\"}},\"yaxis\":{\"showticklabels\":false,\"showline\":false,\"showgrid\":false,\"zeroline\":false},\"margin\":{\"l\":100,\"r\":20,\"t\":110,\"autoexpand\":false},\"annotations\":[{\"x\":0.05,\"y\":74,\"xref\":\"paper\",\"showarrow\":false,\"text\":\"Television 74%\",\"font\":{\"family\":\"Arial\",\"size\":16.0},\"xanchor\":\"right\",\"yanchor\":\"middle\"},{\"x\":0.95,\"y\":69,\"xref\":\"paper\",\"showarrow\":false,\"text\":\"69%\",\"font\":{\"family\":\"Arial\",\"size\":16.0},\"xanchor\":\"left\",\"yanchor\":\"middle\"},{\"x\":0.0,\"y\":1.05,\"xref\":\"paper\",\"yref\":\"paper\",\"showarrow\":false,\"text\":\"Main Source for News\",\"font\":{\"family\":\"Arial\",\"size\":30.0,\"color\":\"rgb(37,37,37)\"},\"xanchor\":\"left\",\"yanchor\":\"bottom\"},{\"x\":0.5,\"y\":-0.1,\"xref\":\"paper\",\"yref\":\"paper\",\"showarrow\":false,\"text\":\"Source: PewResearch Center & Storytelling with data\",\"font\":{\"family\":\"Arial\",\"size\":12.0,\"color\":\"rgb(150,150,150)\"},\"xanchor\":\"center\",\"yanchor\":\"top\"},{\"x\":0.05,\"y\":45,\"xref\":\"paper\",\"showarrow\":false,\"text\":\"Newspaper 45%\",\"font\":{\"family\":\"Arial\",\"size\":16.0},\"xanchor\":\"right\",\"yanchor\":\"middle\"},{\"x\":0.95,\"y\":28,\"xref\":\"paper\",\"showarrow\":false,\"text\":\"28%\",\"font\":{\"family\":\"Arial\",\"size\":16.0},\"xanchor\":\"left\",\"yanchor\":\"middle\"},{\"x\":0.0,\"y\":1.05,\"xref\":\"paper\",\"yref\":\"paper\",\"showarrow\":false,\"text\":\"Main Source for News\",\"font\":{\"family\":\"Arial\",\"size\":30.0,\"color\":\"rgb(37,37,37)\"},\"xanchor\":\"left\",\"yanchor\":\"bottom\"},{\"x\":0.5,\"y\":-0.1,\"xref\":\"paper\",\"yref\":\"paper\",\"showarrow\":false,\"text\":\"Source: PewResearch Center & Storytelling with data\",\"font\":{\"family\":\"Arial\",\"size\":12.0,\"color\":\"rgb(150,150,150)\"},\"xanchor\":\"center\",\"yanchor\":\"top\"},{\"x\":0.05,\"y\":13,\"xref\":\"paper\",\"showarrow\":false,\"text\":\"Internet 13%\",\"font\":{\"family\":\"Arial\",\"size\":16.0},\"xanchor\":\"right\",\"yanchor\":\"middle\"},{\"x\":0.95,\"y\":50,\"xref\":\"paper\",\"showarrow\":false,\"text\":\"50%\",\"font\":{\"family\":\"Arial\",\"size\":16.0},\"xanchor\":\"left\",\"yanchor\":\"middle\"},{\"x\":0.0,\"y\":1.05,\"xref\":\"paper\",\"yref\":\"paper\",\"showarrow\":false,\"text\":\"Main Source for News\",\"font\":{\"family\":\"Arial\",\"size\":30.0,\"color\":\"rgb(37,37,37)\"},\"xanchor\":\"left\",\"yanchor\":\"bottom\"},{\"x\":0.5,\"y\":-0.1,\"xref\":\"paper\",\"yref\":\"paper\",\"showarrow\":false,\"text\":\"Source: PewResearch Center & Storytelling with data\",\"font\":{\"family\":\"Arial\",\"size\":12.0,\"color\":\"rgb(150,150,150)\"},\"xanchor\":\"center\",\"yanchor\":\"top\"},{\"x\":0.05,\"y\":18,\"xref\":\"paper\",\"showarrow\":false,\"text\":\"Radio 18%\",\"font\":{\"family\":\"Arial\",\"size\":16.0},\"xanchor\":\"right\",\"yanchor\":\"middle\"},{\"x\":0.95,\"y\":23,\"xref\":\"paper\",\"showarrow\":false,\"text\":\"23%\",\"font\":{\"family\":\"Arial\",\"size\":16.0},\"xanchor\":\"left\",\"yanchor\":\"middle\"},{\"x\":0.0,\"y\":1.05,\"xref\":\"paper\",\"yref\":\"paper\",\"showarrow\":false,\"text\":\"Main Source for News\",\"font\":{\"family\":\"Arial\",\"size\":30.0,\"color\":\"rgb(37,37,37)\"},\"xanchor\":\"left\",\"yanchor\":\"bottom\"},{\"x\":0.5,\"y\":-0.1,\"xref\":\"paper\",\"yref\":\"paper\",\"showarrow\":false,\"text\":\"Source: PewResearch Center & Storytelling with data\",\"font\":{\"family\":\"Arial\",\"size\":12.0,\"color\":\"rgb(150,150,150)\"},\"xanchor\":\"center\",\"yanchor\":\"top\"}]};\n",
       "            var config = {};\n",
       "            Plotly.newPlot('3a2e2ae1-726d-49b7-b850-50645a306773', data, layout, config);\n",
       "});\n",
       "            };\n",
       "            if ((typeof(requirejs) !==  typeof(Function)) || (typeof(requirejs.config) !== typeof(Function))) {\n",
       "                var script = document.createElement(\"script\");\n",
       "                script.setAttribute(\"src\", \"https://cdnjs.cloudflare.com/ajax/libs/require.js/2.3.6/require.min.js\");\n",
       "                script.onload = function(){\n",
       "                    renderPlotly_3a2e2ae1726d49b7b85050645a306773();\n",
       "                };\n",
       "                document.getElementsByTagName(\"head\")[0].appendChild(script);\n",
       "            }\n",
       "            else {\n",
       "                renderPlotly_3a2e2ae1726d49b7b85050645a306773();\n",
       "            }\n",
       "</script>\n"
      ]
     },
     "metadata": {}
    }
   ],
   "metadata": {
    "dotnet_interactive": {
     "language": "fsharp"
    }
   }
  },
  {
   "cell_type": "markdown",
   "source": [
    "## Filled Lines"
   ],
   "metadata": {}
  },
  {
   "cell_type": "code",
   "execution_count": null,
   "source": [
    "let x = [1.; 2.; 3.; 4.; 5.; 6.; 7.; 8.; 9.; 10.]\n",
    "let x_rev = x |> Seq.rev\n",
    "\n",
    "// Line 1\n",
    "let y1 = [1.; 2.; 3.; 4.; 5.; 6.; 7.; 8.; 9.; 10.]\n",
    "let y1_upper = [2.; 3.; 4.; 5.; 6.; 7.; 8.; 9.; 10.; 11.]\n",
    "let y1_lower = [0.; 1.; 2.; 3.; 4.; 5.; 6.; 7.; 8.; 9.]|> Seq.rev\n",
    "\n",
    "// Line 2\n",
    "let y2 = [5.; 2.5; 5.; 7.5; 5.; 2.5; 7.5; 4.5; 5.5; 5.]\n",
    "let y2_upper = [5.5; 3.; 5.5; 8.; 6.; 3.; 8.; 5.; 6.; 5.5]\n",
    "let y2_lower = [4.5; 2.; 4.4; 7.; 4.; 2.; 7.; 4.; 5.; 4.75] |> Seq.rev\n",
    "\n",
    "// Line 3\n",
    "let y3 = [10.; 8.; 6.; 4.; 2.; 0.; 2.; 4.; 2.; 0.]\n",
    "let y3_upper = [11.; 9.; 7.; 5.; 3.; 1.; 3.; 5.; 3.; 1.]\n",
    "let y3_lower = [9.; 7.; 5.; 3.; 1.; -5.; 1.; 3.; 1.; -1.]|> Seq.rev\n",
    "\n",
    "\n",
    "[\n",
    "    Chart.Scatter((Seq.append x x_rev),\n",
    "                  (Seq.append y1_upper y1_lower),\n",
    "                  StyleParam.Mode.Lines,\n",
    "                   Showlegend=false,\n",
    "                   Name=\"Fair\") \n",
    "        |> Chart.withLineStyle(Color=\"rgba(255,255,255,0)\")\n",
    "        |> GenericChart.mapTrace(fun t->  \n",
    "                                        t?fill<-StyleParam.Fill.toString(StyleParam.Fill.ToSelf)\n",
    "                                        t?fillcolor<-\"rgba(0,100,80,0.2)\"\n",
    "                                        t)\n",
    "\n",
    "    ;Chart.Scatter((Seq.append x x_rev),\n",
    "                  (Seq.append y2_upper y2_lower),\n",
    "                  StyleParam.Mode.Lines,\n",
    "                   Showlegend=false,\n",
    "                   Name=\"Premium\")\n",
    "        |> Chart.withLineStyle(Color=\"rgba(255,255,255,0)\")\n",
    "        |> GenericChart.mapTrace(fun t->  \n",
    "                                        t?fill<-StyleParam.Fill.toString(StyleParam.Fill.ToSelf)\n",
    "                                        t?fillcolor<-\"rgba(0,176,246,0.2)\"\n",
    "                                        t)\n",
    "\n",
    "\n",
    "\n",
    "    ;Chart.Scatter((Seq.append x x_rev),\n",
    "                  (Seq.append y3_upper y3_lower),\n",
    "                  StyleParam.Mode.Lines,\n",
    "                   Showlegend=false,\n",
    "                   Name=\"Ideal\")\n",
    "        |> Chart.withLineStyle(Color=\"rgba(255,255,255,0)\")\n",
    "        |> GenericChart.mapTrace(fun t->  \n",
    "                                        t?fill<-StyleParam.Fill.toString(StyleParam.Fill.ToSelf)\n",
    "                                        t?fillcolor<-\"rgba(231,107,243,0.2)\"\n",
    "                                        t)\n",
    "\n",
    "    ;Chart.Scatter(x,y1,StyleParam.Mode.Lines,Name=\"Fair\") \n",
    "        |> Chart.withLineStyle(Color=\"rgb(0,100,80)\")\n",
    "\n",
    "    ;Chart.Scatter(x,y2,StyleParam.Mode.Lines,Name=\"Premium\") \n",
    "        |> Chart.withLineStyle(Color=\"rgb(0,176,246)\")\n",
    "\n",
    "    ;Chart.Scatter(x,y3,StyleParam.Mode.Lines,Name=\"Ideal\") \n",
    "        |> Chart.withLineStyle(Color=\"rgb(231,107,243)\")\n",
    "\n",
    "] |> Chart.Combine"
   ],
   "outputs": [
    {
     "output_type": "display_data",
     "data": {
      "text/html": [
       "<div id=\"5a3e9dc7-6c31-4d3b-b3e2-39d800d34f30\" style=\"width: 600px; height: 600px;\"><!-- Plotly chart will be drawn inside this DIV --></div>\n",
       "<script type=\"text/javascript\">\n",
       "\n",
       "            var renderPlotly_5a3e9dc76c314d3bb3e239d800d34f30 = function() {\n",
       "            var fsharpPlotlyRequire = requirejs.config({context:'fsharp-plotly',paths:{plotly:'https://cdn.plot.ly/plotly-latest.min'}}) || require;\n",
       "            fsharpPlotlyRequire(['plotly'], function(Plotly) {\n",
       "\n",
       "            var data = [{\"type\":\"scatter\",\"x\":[1.0,2.0,3.0,4.0,5.0,6.0,7.0,8.0,9.0,10.0,10.0,9.0,8.0,7.0,6.0,5.0,4.0,3.0,2.0,1.0],\"y\":[2.0,3.0,4.0,5.0,6.0,7.0,8.0,9.0,10.0,11.0,9.0,8.0,7.0,6.0,5.0,4.0,3.0,2.0,1.0,0.0],\"mode\":\"lines\",\"name\":\"Fair\",\"showlegend\":false,\"line\":{\"color\":\"rgba(255,255,255,0)\"},\"marker\":{},\"fill\":\"toself\",\"fillcolor\":\"rgba(0,100,80,0.2)\"},{\"type\":\"scatter\",\"x\":[1.0,2.0,3.0,4.0,5.0,6.0,7.0,8.0,9.0,10.0,10.0,9.0,8.0,7.0,6.0,5.0,4.0,3.0,2.0,1.0],\"y\":[5.5,3.0,5.5,8.0,6.0,3.0,8.0,5.0,6.0,5.5,4.75,5.0,4.0,7.0,2.0,4.0,7.0,4.4,2.0,4.5],\"mode\":\"lines\",\"name\":\"Premium\",\"showlegend\":false,\"line\":{\"color\":\"rgba(255,255,255,0)\"},\"marker\":{},\"fill\":\"toself\",\"fillcolor\":\"rgba(0,176,246,0.2)\"},{\"type\":\"scatter\",\"x\":[1.0,2.0,3.0,4.0,5.0,6.0,7.0,8.0,9.0,10.0,10.0,9.0,8.0,7.0,6.0,5.0,4.0,3.0,2.0,1.0],\"y\":[11.0,9.0,7.0,5.0,3.0,1.0,3.0,5.0,3.0,1.0,-1.0,1.0,3.0,1.0,-5.0,1.0,3.0,5.0,7.0,9.0],\"mode\":\"lines\",\"name\":\"Ideal\",\"showlegend\":false,\"line\":{\"color\":\"rgba(255,255,255,0)\"},\"marker\":{},\"fill\":\"toself\",\"fillcolor\":\"rgba(231,107,243,0.2)\"},{\"type\":\"scatter\",\"x\":[1.0,2.0,3.0,4.0,5.0,6.0,7.0,8.0,9.0,10.0],\"y\":[1.0,2.0,3.0,4.0,5.0,6.0,7.0,8.0,9.0,10.0],\"mode\":\"lines\",\"name\":\"Fair\",\"line\":{\"color\":\"rgb(0,100,80)\"},\"marker\":{}},{\"type\":\"scatter\",\"x\":[1.0,2.0,3.0,4.0,5.0,6.0,7.0,8.0,9.0,10.0],\"y\":[5.0,2.5,5.0,7.5,5.0,2.5,7.5,4.5,5.5,5.0],\"mode\":\"lines\",\"name\":\"Premium\",\"line\":{\"color\":\"rgb(0,176,246)\"},\"marker\":{}},{\"type\":\"scatter\",\"x\":[1.0,2.0,3.0,4.0,5.0,6.0,7.0,8.0,9.0,10.0],\"y\":[10.0,8.0,6.0,4.0,2.0,0.0,2.0,4.0,2.0,0.0],\"mode\":\"lines\",\"name\":\"Ideal\",\"line\":{\"color\":\"rgb(231,107,243)\"},\"marker\":{}}];\n",
       "            var layout = {};\n",
       "            var config = {};\n",
       "            Plotly.newPlot('5a3e9dc7-6c31-4d3b-b3e2-39d800d34f30', data, layout, config);\n",
       "});\n",
       "            };\n",
       "            if ((typeof(requirejs) !==  typeof(Function)) || (typeof(requirejs.config) !== typeof(Function))) {\n",
       "                var script = document.createElement(\"script\");\n",
       "                script.setAttribute(\"src\", \"https://cdnjs.cloudflare.com/ajax/libs/require.js/2.3.6/require.min.js\");\n",
       "                script.onload = function(){\n",
       "                    renderPlotly_5a3e9dc76c314d3bb3e239d800d34f30();\n",
       "                };\n",
       "                document.getElementsByTagName(\"head\")[0].appendChild(script);\n",
       "            }\n",
       "            else {\n",
       "                renderPlotly_5a3e9dc76c314d3bb3e239d800d34f30();\n",
       "            }\n",
       "</script>\n"
      ]
     },
     "metadata": {}
    }
   ],
   "metadata": {
    "dotnet_interactive": {
     "language": "fsharp"
    }
   }
  }
 ],
 "metadata": {
  "orig_nbformat": 4,
  "language_info": {
   "file_extension": ".cs",
   "mimetype": "text/x-csharp",
   "name": "C#",
   "pygments_lexer": "csharp",
   "version": "9.0"
  },
  "kernelspec": {
   "display_name": ".NET (C#)",
   "language": "C#",
   "name": ".net-csharp"
  }
 },
 "nbformat": 4,
 "nbformat_minor": 2
}
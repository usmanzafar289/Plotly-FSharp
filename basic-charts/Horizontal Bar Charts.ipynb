{
 "cells": [
  {
   "cell_type": "code",
   "execution_count": null,
   "source": [
    "#r \"nuget: Plotly.NET, 2.0.0-preview.6\"\r\n",
    "#r \"nuget: newtonsoft.json\"\r\n",
    "#r \"nuget: Plotly.NET.Interactive, 2.0.0-preview.6\"\r\n",
    "open Plotly.NET"
   ],
   "outputs": [
    {
     "data": {
      "text/html": [
       "<div><div></div><div></div><div><strong>Installed Packages</strong><ul><li><span>newtonsoft.json, 13.0.1</span></li><li><span>Plotly.NET, 2.0.0-preview.6</span></li><li><span>Plotly.NET.Interactive, 2.0.0-preview.6</span></li></ul></div></div>"
      ]
     },
     "metadata": {},
     "output_type": "display_data"
    },
    {
     "data": {
      "text/markdown": [
       "Loading extensions from `Plotly.NET.Interactive.dll`"
      ]
     },
     "metadata": {},
     "output_type": "display_data"
    },
    {
     "data": {
      "text/markdown": [
       "Added Kernel Extension including formatters for Plotly.NET charts."
      ]
     },
     "metadata": {},
     "output_type": "display_data"
    }
   ],
   "metadata": {
    "dotnet_interactive": {
     "language": "fsharp"
    }
   }
  },
  {
   "cell_type": "markdown",
   "source": [
    "## Horizontal Bar Chart with go.Bar\n",
    "### Basic Horizontal Bar Chart"
   ],
   "metadata": {}
  },
  {
   "cell_type": "code",
   "execution_count": null,
   "source": [
    "\r\n",
    "[\r\n",
    "    Chart.Bar([\"giraffes\"; \"orangutans\"; \"monkeys\"], [20;14;23])\r\n",
    "    |> GenericChart.mapTrace(fun x -> \r\n",
    "        x.SetValue(\"orientation\", \"h\")\r\n",
    "        x.SetValue(\"name\", \"SF Zoo\")\r\n",
    "        x.SetValue(\"marker\", {| color = \"rgba(246, 78, 139, 0.6)\"; line = {| color = \"rgba(246, 78, 139, 1.0)\"; width = 3 |} |})\r\n",
    "        x)\r\n",
    "    Chart.Bar([\"giraffes\"; \"orangutans\"; \"monkeys\"], [12;18;29])\r\n",
    "    |> GenericChart.mapTrace(fun x -> \r\n",
    "        x.SetValue(\"orientation\", \"h\")\r\n",
    "        x.SetValue(\"name\", \"LA Zoo\")\r\n",
    "        x.SetValue(\"marker\", {| color = \"rgba(58, 71, 80, 0.6)\"; line = {| color = \"rgba(58, 71, 80, 1.0)\"; width = 3 |} |})\r\n",
    "        x)\r\n",
    "]\r\n",
    "|> Chart.Combine\r\n",
    "|> Chart.withLayout(Layout.init(Barmode = StyleParam.Barmode.Stack))\r\n"
   ],
   "outputs": [
    {
     "data": {
      "text/html": [
       "<div id=\"397bcb04-6e53-476a-b0af-715c8804aba8\" style=\"width: 600px; height: 600px;\"><!-- Plotly chart will be drawn inside this DIV --></div>\r\n",
       "<script type=\"text/javascript\">\r\n",
       "\n",
       "            var renderPlotly_397bcb046e53476ab0af715c8804aba8 = function() {\n",
       "            var fsharpPlotlyRequire = requirejs.config({context:'fsharp-plotly',paths:{plotly:'https://cdn.plot.ly/plotly-latest.min'}}) || require;\n",
       "            fsharpPlotlyRequire(['plotly'], function(Plotly) {\r\n",
       "\n",
       "            var data = [{\"type\":\"bar\",\"x\":[20,14,23],\"y\":[\"giraffes\",\"orangutans\",\"monkeys\"],\"orientation\":\"h\",\"marker\":{\"color\":\"rgba(246, 78, 139, 0.6)\",\"line\":{\"color\":\"rgba(246, 78, 139, 1.0)\",\"width\":3}},\"name\":\"SF Zoo\"},{\"type\":\"bar\",\"x\":[12,18,29],\"y\":[\"giraffes\",\"orangutans\",\"monkeys\"],\"orientation\":\"h\",\"marker\":{\"color\":\"rgba(58, 71, 80, 0.6)\",\"line\":{\"color\":\"rgba(58, 71, 80, 1.0)\",\"width\":3}},\"name\":\"LA Zoo\"}];\n",
       "            var layout = {\"barmode\":\"stack\"};\n",
       "            var config = {};\n",
       "            Plotly.newPlot('397bcb04-6e53-476a-b0af-715c8804aba8', data, layout, config);\r\n",
       "});\n",
       "            };\n",
       "            if ((typeof(requirejs) !==  typeof(Function)) || (typeof(requirejs.config) !== typeof(Function))) {\n",
       "                var script = document.createElement(\"script\");\n",
       "                script.setAttribute(\"src\", \"https://cdnjs.cloudflare.com/ajax/libs/require.js/2.3.6/require.min.js\");\n",
       "                script.onload = function(){\n",
       "                    renderPlotly_397bcb046e53476ab0af715c8804aba8();\n",
       "                };\n",
       "                document.getElementsByTagName(\"head\")[0].appendChild(script);\n",
       "            }\n",
       "            else {\n",
       "                renderPlotly_397bcb046e53476ab0af715c8804aba8();\n",
       "            }\r\n",
       "</script>\r\n"
      ]
     },
     "metadata": {},
     "output_type": "display_data"
    }
   ],
   "metadata": {
    "dotnet_interactive": {
     "language": "fsharp"
    }
   }
  },
  {
   "cell_type": "markdown",
   "source": [
    "## Color Palette for Bar Chart"
   ],
   "metadata": {}
  },
  {
   "cell_type": "code",
   "execution_count": null,
   "source": [
    "let topLabels = [\"Strongly<br>agree\"; \"Agree\"; \"Neutral\"; \"Disagree\"; \"Strongly<br>disagree\"]\r\n",
    "let colors = [|\"rgba(38, 24, 74, 0.8)\"; \"rgba(71, 58, 131, 0.8)\"; \"rgba(122, 120, 168, 0.8)\"; \"rgba(164, 163, 204, 0.85)\"; \"rgba(190, 192, 213, 1)\"|]\r\n",
    "let xData = [[21; 30; 21; 16; 12;];\r\n",
    "             [24; 31; 19; 15; 11;];\r\n",
    "             [27; 26; 23; 11; 13;];\r\n",
    "             [29; 24; 15; 18; 14;]]\r\n",
    "let yData = [\"The course was effectively<br>organized\";\r\n",
    "             \"The course developed my<br>abilities and skills \" +\r\n",
    "             \"for<br>the subject\"; \"The course developed \" +\r\n",
    "             \"my<br>ability to think critically about<br>the subject\";\r\n",
    "             \"I would recommend this<br>course to a friend\"]\r\n",
    "\r\n",
    "let annotations = \r\n",
    "    Seq.map3\r\n",
    "        (fun label x y ->\r\n",
    "            Annotation.init(\r\n",
    "                X = -10.,\r\n",
    "                Y = y,\r\n",
    "                Text = label,\r\n",
    "                Font = Font.init(Family = StyleParam.FontFamily.Arial, Size=14., Color = \"rgb(67, 67, 67)\"),\r\n",
    "                ShowArrow = false\r\n",
    "            )\r\n",
    "        )\r\n",
    "        topLabels xData yData\r\n",
    "List.mapi2\r\n",
    "    (fun i (x: int list) (y: string) ->\r\n",
    "        Chart.Bar(y, x)\r\n",
    "        |> GenericChart.mapTrace(\r\n",
    "            fun t ->\r\n",
    "                t.SetValue(\"orientation\", \"h\")\r\n",
    "                t.SetValue(\"marker\", {| color = colors.[i]; line = {| color = \"rgb(248, 248, 249)\"; width = 1 |} |})\r\n",
    "                t)\r\n",
    "    ) xData yData\r\n",
    "|> Chart.Combine\r\n",
    "|> Chart.withLayout(Layout.init(Width = 1000., Annotations = annotations, Paper_bgcolor = \"rgb(248, 248, 255)\", Plot_bgcolor = \"rgb(248, 248, 255)\", Showlegend = false, Barmode = StyleParam.Barmode.Stack, Margin = Margin.init(Left = 120, Right = 10, Top = 140, Bottom = 80)))\r\n",
    "|> Chart.withX_Axis(Axis.LinearAxis.init(Domain = StyleParam.Range.MinMax (0.15, 1.), Zeroline = false, Showticklabels = false, Showline = false, Showgrid = false ))\r\n",
    "|> Chart.withY_Axis(Axis.LinearAxis.init(Zeroline = false, Showticklabels = false, Showline = false, Showgrid = false ))"
   ],
   "outputs": [
    {
     "data": {
      "text/html": [
       "<div id=\"f658fee2-5cf0-476f-9f2b-c9c8f7fb2893\" style=\"width: 600px; height: 600px;\"><!-- Plotly chart will be drawn inside this DIV --></div>\r\n",
       "<script type=\"text/javascript\">\r\n",
       "\n",
       "            var renderPlotly_f658fee25cf0476f9f2bc9c8f7fb2893 = function() {\n",
       "            var fsharpPlotlyRequire = requirejs.config({context:'fsharp-plotly',paths:{plotly:'https://cdn.plot.ly/plotly-latest.min'}}) || require;\n",
       "            fsharpPlotlyRequire(['plotly'], function(Plotly) {\r\n",
       "\n",
       "            var data = [{\"type\":\"bar\",\"x\":[21,30,21,16,12],\"y\":\"The course was effectively<br>organized\",\"orientation\":\"h\",\"marker\":{\"color\":\"rgba(38, 24, 74, 0.8)\",\"line\":{\"color\":\"rgb(248, 248, 249)\",\"width\":1}}},{\"type\":\"bar\",\"x\":[24,31,19,15,11],\"y\":\"The course developed my<br>abilities and skills for<br>the subject\",\"orientation\":\"h\",\"marker\":{\"color\":\"rgba(71, 58, 131, 0.8)\",\"line\":{\"color\":\"rgb(248, 248, 249)\",\"width\":1}}},{\"type\":\"bar\",\"x\":[27,26,23,11,13],\"y\":\"The course developed my<br>ability to think critically about<br>the subject\",\"orientation\":\"h\",\"marker\":{\"color\":\"rgba(122, 120, 168, 0.8)\",\"line\":{\"color\":\"rgb(248, 248, 249)\",\"width\":1}}},{\"type\":\"bar\",\"x\":[29,24,15,18,14],\"y\":\"I would recommend this<br>course to a friend\",\"orientation\":\"h\",\"marker\":{\"color\":\"rgba(164, 163, 204, 0.85)\",\"line\":{\"color\":\"rgb(248, 248, 249)\",\"width\":1}}}];\n",
       "            var layout = {\"width\":1000.0,\"paper_bgcolor\":\"rgb(248, 248, 255)\",\"plot_bgcolor\":\"rgb(248, 248, 255)\",\"showlegend\":false,\"annotations\":[{\"x\":-10.0,\"y\":\"The course was effectively<br>organized\",\"showarrow\":false,\"text\":\"Strongly<br>agree\",\"font\":{\"family\":\"Arial\",\"size\":14.0,\"color\":\"rgb(67, 67, 67)\"}},{\"x\":-10.0,\"y\":\"The course developed my<br>abilities and skills for<br>the subject\",\"showarrow\":false,\"text\":\"Agree\",\"font\":{\"family\":\"Arial\",\"size\":14.0,\"color\":\"rgb(67, 67, 67)\"}},{\"x\":-10.0,\"y\":\"The course developed my<br>ability to think critically about<br>the subject\",\"showarrow\":false,\"text\":\"Neutral\",\"font\":{\"family\":\"Arial\",\"size\":14.0,\"color\":\"rgb(67, 67, 67)\"}},{\"x\":-10.0,\"y\":\"I would recommend this<br>course to a friend\",\"showarrow\":false,\"text\":\"Disagree\",\"font\":{\"family\":\"Arial\",\"size\":14.0,\"color\":\"rgb(67, 67, 67)\"}}],\"barmode\":\"stack\",\"margin\":{\"l\":120,\"r\":10,\"t\":140,\"b\":80},\"xaxis\":{\"showticklabels\":false,\"showline\":false,\"showgrid\":false,\"zeroline\":false,\"domain\":[0.15,1.0]},\"yaxis\":{\"showticklabels\":false,\"showline\":false,\"showgrid\":false,\"zeroline\":false}};\n",
       "            var config = {};\n",
       "            Plotly.newPlot('f658fee2-5cf0-476f-9f2b-c9c8f7fb2893', data, layout, config);\r\n",
       "});\n",
       "            };\n",
       "            if ((typeof(requirejs) !==  typeof(Function)) || (typeof(requirejs.config) !== typeof(Function))) {\n",
       "                var script = document.createElement(\"script\");\n",
       "                script.setAttribute(\"src\", \"https://cdnjs.cloudflare.com/ajax/libs/require.js/2.3.6/require.min.js\");\n",
       "                script.onload = function(){\n",
       "                    renderPlotly_f658fee25cf0476f9f2bc9c8f7fb2893();\n",
       "                };\n",
       "                document.getElementsByTagName(\"head\")[0].appendChild(script);\n",
       "            }\n",
       "            else {\n",
       "                renderPlotly_f658fee25cf0476f9f2bc9c8f7fb2893();\n",
       "            }\r\n",
       "</script>\r\n"
      ]
     },
     "metadata": {},
     "output_type": "display_data"
    }
   ],
   "metadata": {
    "dotnet_interactive": {
     "language": "fsharp"
    }
   }
  },
  {
   "cell_type": "markdown",
   "source": [
    "## Bar Chart with Line Plot"
   ],
   "metadata": {}
  },
  {
   "cell_type": "code",
   "execution_count": null,
   "source": [
    "let ySaving = [1.3586; 2.2623000000000002; 4.9821999999999997; 6.5096999999999996; 7.4812000000000003; 7.5133000000000001;15.2148;17.520499999999998]\r\n",
    "let yNetWorth = [93453.919999999998; 81666.570000000007; 69889.619999999995; 78381.529999999999; 141395.29999999999; 92969.020000000004; 66090.179999999993; 122379.3]\r\n",
    "let x = [\"Japan\"; \"United Kingdom\"; \"Canada\"; \"Netherlands\"; \"United States\"; \"Belgium\"; \"Sweden\"; \"Switzerland\"]\r\n",
    "let xs = Seq.zip yNetWorth x\r\n",
    "Chart.Grid(\r\n",
    "    [\r\n",
    "        [\r\n",
    "            (Chart.Bar(x, ySaving, Name=\"Household savings, percentage of household disposable income\", Marker = Marker.init(Color = \"rgba(50, 171, 96, 0.6)\", Line = Line.init(Color = \"rgba(50, 171, 96, 1.0)\", Width =1.)))\r\n",
    "                |> Chart.withY_Axis(Axis.LinearAxis.init(Showgrid = false, Showline = false, Showticklabels = true))\r\n",
    "                |> Chart.withX_Axis(Axis.LinearAxis.init(Showgrid = true, Showline = false, Showticklabels = true, Zeroline = false)))\r\n",
    "            (Chart.Line(xs, Color = \"rgb(128, 0, 128)\", Name = \"Household net worth, Million USD/capita\")\r\n",
    "                |> Chart.withY_Axis(Axis.LinearAxis.init(Showgrid = false, Showline = true, Showticklabels = false, Linecolor = \"rgba(102, 102, 102, 0.8)\", Linewidth = 2.))\r\n",
    "                |> Chart.withX_Axis(Axis.LinearAxis.init(Showgrid = true, Showline = false, Showticklabels = true, Zeroline = false, Side = StyleParam.Side.Top, dTick = 2500)))\r\n",
    "        ]\r\n",
    "    ],\r\n",
    "    sharedAxes=true\r\n",
    ")\r\n",
    "|> Chart.withLayout(Layout.init(Width = 1000., Margin = Margin.init(Top = 70., Bottom = 70., Left = 100., Right = 20.), Legend = Legend.init(X = 0.029, Y = 1.100)))"
   ],
   "outputs": [
    {
     "data": {
      "text/html": [
       "<div id=\"74ec0a67-e0c4-47ae-a3c6-d6de17d80fda\" style=\"width: 600px; height: 600px;\"><!-- Plotly chart will be drawn inside this DIV --></div>\r\n",
       "<script type=\"text/javascript\">\r\n",
       "\n",
       "            var renderPlotly_74ec0a67e0c447aea3c6d6de17d80fda = function() {\n",
       "            var fsharpPlotlyRequire = requirejs.config({context:'fsharp-plotly',paths:{plotly:'https://cdn.plot.ly/plotly-latest.min'}}) || require;\n",
       "            fsharpPlotlyRequire(['plotly'], function(Plotly) {\r\n",
       "\n",
       "            var data = [{\"type\":\"bar\",\"x\":[1.3586,2.2623,4.9822,6.5097,7.4812,7.5133,15.2148,17.5205],\"y\":[\"Japan\",\"United Kingdom\",\"Canada\",\"Netherlands\",\"United States\",\"Belgium\",\"Sweden\",\"Switzerland\"],\"orientation\":\"h\",\"marker\":{\"color\":\"rgba(50, 171, 96, 0.6)\",\"line\":{\"color\":\"rgba(50, 171, 96, 1.0)\",\"width\":1.0}},\"name\":\"Household savings, percentage of household disposable income\",\"xaxis\":\"x\",\"yaxis\":\"y\"},{\"type\":\"scatter\",\"x\":[93453.92,81666.57,69889.62,78381.53,141395.3,92969.02,66090.18,122379.3],\"y\":[\"Japan\",\"United Kingdom\",\"Canada\",\"Netherlands\",\"United States\",\"Belgium\",\"Sweden\",\"Switzerland\"],\"mode\":\"lines\",\"line\":{\"color\":\"rgb(128, 0, 128)\"},\"name\":\"Household net worth, Million USD/capita\",\"marker\":{\"color\":\"rgb(128, 0, 128)\"},\"xaxis\":\"x2\",\"yaxis\":\"y\"}];\n",
       "            var layout = {\"xaxis\":{\"showticklabels\":true,\"showline\":false,\"showgrid\":true,\"zeroline\":false,\"anchor\":\"x\",\"domain\":[0.0,0.475]},\"yaxis\":{\"showticklabels\":false,\"showline\":true,\"showgrid\":false,\"anchor\":\"y\",\"domain\":[0.0,0.975],\"linecolor\":\"rgba(102, 102, 102, 0.8)\",\"linewidth\":2.0},\"xaxis2\":{\"dtick\":2500,\"showticklabels\":true,\"showline\":false,\"showgrid\":true,\"zeroline\":false,\"side\":\"top\",\"anchor\":\"x2\",\"domain\":[0.525,0.975]},\"grid\":{\"rows\":1,\"columns\":2,\"roworder\":\"top to bottom\",\"pattern\":\"coupled\",\"xgap\":0.05,\"ygap\":0.05},\"width\":1000.0,\"margin\":{\"l\":100.0,\"r\":20.0,\"t\":70.0,\"b\":70.0},\"legend\":{\"x\":0.029,\"y\":1.1}};\n",
       "            var config = {};\n",
       "            Plotly.newPlot('74ec0a67-e0c4-47ae-a3c6-d6de17d80fda', data, layout, config);\r\n",
       "});\n",
       "            };\n",
       "            if ((typeof(requirejs) !==  typeof(Function)) || (typeof(requirejs.config) !== typeof(Function))) {\n",
       "                var script = document.createElement(\"script\");\n",
       "                script.setAttribute(\"src\", \"https://cdnjs.cloudflare.com/ajax/libs/require.js/2.3.6/require.min.js\");\n",
       "                script.onload = function(){\n",
       "                    renderPlotly_74ec0a67e0c447aea3c6d6de17d80fda();\n",
       "                };\n",
       "                document.getElementsByTagName(\"head\")[0].appendChild(script);\n",
       "            }\n",
       "            else {\n",
       "                renderPlotly_74ec0a67e0c447aea3c6d6de17d80fda();\n",
       "            }\r\n",
       "</script>\r\n"
      ]
     },
     "metadata": {},
     "output_type": "display_data"
    }
   ],
   "metadata": {
    "dotnet_interactive": {
     "language": "fsharp"
    }
   }
  }
 ],
 "metadata": {
  "orig_nbformat": 4,
  "language_info": {
   "file_extension": ".cs",
   "mimetype": "text/x-csharp",
   "name": "C#",
   "pygments_lexer": "csharp",
   "version": "9.0"
  },
  "kernelspec": {
   "display_name": ".NET (C#)",
   "language": "C#",
   "name": ".net-csharp"
  }
 },
 "nbformat": 4,
 "nbformat_minor": 2
}
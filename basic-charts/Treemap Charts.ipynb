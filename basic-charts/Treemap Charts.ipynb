{
 "metadata": {
  "kernelspec": {
   "display_name": ".NET (F#)",
   "language": "F#",
   "name": ".net-fsharp"
  },
  "language_info": {
   "name": "F#"
  }
 },
 "cells": [
  {
   "cell_type": "markdown",
   "source": [
    "# Treemap Charts"
   ],
   "metadata": {}
  },
  {
   "cell_type": "markdown",
   "source": [
    "## Imports"
   ],
   "metadata": {}
  },
  {
   "cell_type": "code",
   "execution_count": null,
   "source": [
    "#r \"nuget: Plotly.NET, 2.0.0-preview.6\"\r\n",
    "#r \"nuget: Plotly.NET.Interactive, 2.0.0-preview.6\"\r\n",
    "open Plotly.NET"
   ],
   "outputs": [
    {
     "output_type": "display_data",
     "data": {
      "text/html": [
       "<div><div></div><div></div><div><strong>Installed Packages</strong><ul><li><span>Plotly.NET, 2.0.0-preview.6</span></li><li><span>Plotly.NET.Interactive, 2.0.0-preview.6</span></li></ul></div></div>"
      ]
     },
     "metadata": {}
    }
   ],
   "metadata": {
    "dotnet_interactive": {
     "language": "fsharp"
    }
   }
  },
  {
   "cell_type": "markdown",
   "source": [
    "## Basic Treemap with go.Treemap"
   ],
   "metadata": {}
  },
  {
   "cell_type": "code",
   "execution_count": null,
   "source": [
    "open Plotly.NET\r\n",
    "\r\n",
    "let values = [0.0; 11.0; 12.0; 13.0; 14.0; 15.0; 20.0; 30.0]\r\n",
    "let labels = [\"container\"; \"A1\"; \"A2\"; \"A3\"; \"A4\"; \"A5\"; \"B1\"; \"B2\"]\r\n",
    "let parents = [\"\"; \"container\"; \"A1\"; \"A2\"; \"A3\"; \"A4\"; \"container\"; \"B1\"]  \r\n",
    "\r\n",
    "Chart.Treemap(labels,\r\n",
    "              parents,\r\n",
    "              Values = values,\r\n",
    "              Colors = [\"lightgray\"])"
   ],
   "outputs": [
    {
     "output_type": "display_data",
     "data": {
      "text/html": [
       "<div id=\"aad752e4-4a1f-4fc3-8eae-ff54560ca882\" style=\"width: 600px; height: 600px;\"><!-- Plotly chart will be drawn inside this DIV --></div>\r\n",
       "<script type=\"text/javascript\">\r\n",
       "\n",
       "            var renderPlotly_aad752e44a1f4fc38eaeff54560ca882 = function() {\n",
       "            var fsharpPlotlyRequire = requirejs.config({context:'fsharp-plotly',paths:{plotly:'https://cdn.plot.ly/plotly-latest.min'}}) || require;\n",
       "            fsharpPlotlyRequire(['plotly'], function(Plotly) {\r\n",
       "\n",
       "            var data = [{\"type\":\"treemap\",\"labels\":[\"container\",\"A1\",\"A2\",\"A3\",\"A4\",\"A5\",\"B1\",\"B2\"],\"parents\":[\"\",\"container\",\"A1\",\"A2\",\"A3\",\"A4\",\"container\",\"B1\"],\"values\":[0.0,11.0,12.0,13.0,14.0,15.0,20.0,30.0],\"marker\":{\"colors\":[\"lightgray\"]}}];\n",
       "            var layout = {};\n",
       "            var config = {};\n",
       "            Plotly.newPlot('aad752e4-4a1f-4fc3-8eae-ff54560ca882', data, layout, config);\r\n",
       "});\n",
       "            };\n",
       "            if ((typeof(requirejs) !==  typeof(Function)) || (typeof(requirejs.config) !== typeof(Function))) {\n",
       "                var script = document.createElement(\"script\");\n",
       "                script.setAttribute(\"src\", \"https://cdnjs.cloudflare.com/ajax/libs/require.js/2.3.6/require.min.js\");\n",
       "                script.onload = function(){\n",
       "                    renderPlotly_aad752e44a1f4fc38eaeff54560ca882();\n",
       "                };\n",
       "                document.getElementsByTagName(\"head\")[0].appendChild(script);\n",
       "            }\n",
       "            else {\n",
       "                renderPlotly_aad752e44a1f4fc38eaeff54560ca882();\n",
       "            }\r\n",
       "</script>\r\n"
      ]
     },
     "metadata": {}
    }
   ],
   "metadata": {
    "dotnet_interactive": {
     "language": "fsharp"
    }
   }
  },
  {
   "cell_type": "markdown",
   "source": [
    "## Set Different Attributes in Treemap"
   ],
   "metadata": {}
  },
  {
   "cell_type": "code",
   "execution_count": null,
   "source": [
    "open Plotly.NET\r\n",
    "\r\n",
    "let labels = [\"Eve\"; \"Cain\"; \"Seth\"; \"Enos\"; \"Noam\"; \"Abel\"; \"Awan\"; \"Enoch\"; \"Azura\"]\r\n",
    "let parents = [\"\"; \"Eve\"; \"Eve\"; \"Seth\"; \"Seth\"; \"Eve\"; \"Eve\"; \"Awan\"; \"Eve\"]\r\n",
    "\r\n",
    "let values1 = [10.0; 14.0; 12.0; 10.0; 2.0; 6.0; 6.0; 1.0; 4.0]\r\n",
    "let values2 = [65.0; 14.0; 12.0; 10.0; 2.0; 6.0; 6.0; 1.0; 4.0]\r\n",
    "\r\n",
    "[\r\n",
    "    Chart.Treemap(labels,\r\n",
    "            parents,\r\n",
    "            Values = values1,                  \r\n",
    "            Text = [\"label+value+percent parent+percent entry+percent root\"],\r\n",
    "            Colors = [\"lightgray\"] ) \r\n",
    "\r\n",
    "    Chart.Treemap(labels,\r\n",
    "            parents,\r\n",
    "            Branchvalues = StyleParam.BranchValues.Total,\r\n",
    "            Values = values2, \r\n",
    "            Text = [\"label+value+percent parent+percent entry\"],\r\n",
    "            Colors = [\"lightgray\"]) \r\n",
    "]"
   ],
   "outputs": [
    {
     "output_type": "display_data",
     "data": {
      "text/html": [
       "<table><thead><tr><th><i>index</i></th><th>value</th></tr></thead><tbody><tr><td>0</td><td><div id=\"309978f1-fca4-4b2b-8b9b-bb8d6cdf3fc1\" style=\"width: 600px; height: 600px;\"><!-- Plotly chart will be drawn inside this DIV --></div>\r\n",
       "<script type=\"text/javascript\">\r\n",
       "\n",
       "            var renderPlotly_309978f1fca44b2b8b9bbb8d6cdf3fc1 = function() {\n",
       "            var fsharpPlotlyRequire = requirejs.config({context:'fsharp-plotly',paths:{plotly:'https://cdn.plot.ly/plotly-latest.min'}}) || require;\n",
       "            fsharpPlotlyRequire(['plotly'], function(Plotly) {\r\n",
       "\n",
       "            var data = [{\"type\":\"treemap\",\"labels\":[\"Eve\",\"Cain\",\"Seth\",\"Enos\",\"Noam\",\"Abel\",\"Awan\",\"Enoch\",\"Azura\"],\"parents\":[\"\",\"Eve\",\"Eve\",\"Seth\",\"Seth\",\"Eve\",\"Eve\",\"Awan\",\"Eve\"],\"values\":[10.0,14.0,12.0,10.0,2.0,6.0,6.0,1.0,4.0],\"text\":[\"label+value+percent parent+percent entry+percent root\"],\"marker\":{\"colors\":[\"lightgray\"]}}];\n",
       "            var layout = {};\n",
       "            var config = {};\n",
       "            Plotly.newPlot('309978f1-fca4-4b2b-8b9b-bb8d6cdf3fc1', data, layout, config);\r\n",
       "});\n",
       "            };\n",
       "            if ((typeof(requirejs) !==  typeof(Function)) || (typeof(requirejs.config) !== typeof(Function))) {\n",
       "                var script = document.createElement(\"script\");\n",
       "                script.setAttribute(\"src\", \"https://cdnjs.cloudflare.com/ajax/libs/require.js/2.3.6/require.min.js\");\n",
       "                script.onload = function(){\n",
       "                    renderPlotly_309978f1fca44b2b8b9bbb8d6cdf3fc1();\n",
       "                };\n",
       "                document.getElementsByTagName(\"head\")[0].appendChild(script);\n",
       "            }\n",
       "            else {\n",
       "                renderPlotly_309978f1fca44b2b8b9bbb8d6cdf3fc1();\n",
       "            }\r\n",
       "</script>\r\n",
       "</td></tr><tr><td>1</td><td><div id=\"f5defb5b-d235-411f-acaf-ed93a665085b\" style=\"width: 600px; height: 600px;\"><!-- Plotly chart will be drawn inside this DIV --></div>\r\n",
       "<script type=\"text/javascript\">\r\n",
       "\n",
       "            var renderPlotly_f5defb5bd235411facafed93a665085b = function() {\n",
       "            var fsharpPlotlyRequire = requirejs.config({context:'fsharp-plotly',paths:{plotly:'https://cdn.plot.ly/plotly-latest.min'}}) || require;\n",
       "            fsharpPlotlyRequire(['plotly'], function(Plotly) {\r\n",
       "\n",
       "            var data = [{\"type\":\"treemap\",\"labels\":[\"Eve\",\"Cain\",\"Seth\",\"Enos\",\"Noam\",\"Abel\",\"Awan\",\"Enoch\",\"Azura\"],\"parents\":[\"\",\"Eve\",\"Eve\",\"Seth\",\"Seth\",\"Eve\",\"Eve\",\"Awan\",\"Eve\"],\"values\":[65.0,14.0,12.0,10.0,2.0,6.0,6.0,1.0,4.0],\"text\":[\"label+value+percent parent+percent entry\"],\"branchvalues\":\"total\",\"marker\":{\"colors\":[\"lightgray\"]}}];\n",
       "            var layout = {};\n",
       "            var config = {};\n",
       "            Plotly.newPlot('f5defb5b-d235-411f-acaf-ed93a665085b', data, layout, config);\r\n",
       "});\n",
       "            };\n",
       "            if ((typeof(requirejs) !==  typeof(Function)) || (typeof(requirejs.config) !== typeof(Function))) {\n",
       "                var script = document.createElement(\"script\");\n",
       "                script.setAttribute(\"src\", \"https://cdnjs.cloudflare.com/ajax/libs/require.js/2.3.6/require.min.js\");\n",
       "                script.onload = function(){\n",
       "                    renderPlotly_f5defb5bd235411facafed93a665085b();\n",
       "                };\n",
       "                document.getElementsByTagName(\"head\")[0].appendChild(script);\n",
       "            }\n",
       "            else {\n",
       "                renderPlotly_f5defb5bd235411facafed93a665085b();\n",
       "            }\r\n",
       "</script>\r\n",
       "</td></tr></tbody></table>"
      ]
     },
     "metadata": {}
    }
   ],
   "metadata": {
    "dotnet_interactive": {
     "language": "fsharp"
    }
   }
  },
  {
   "cell_type": "markdown",
   "source": [
    "## Set Color of Treemap Sectors"
   ],
   "metadata": {}
  },
  {
   "cell_type": "markdown",
   "source": [
    "### marker.colors"
   ],
   "metadata": {}
  },
  {
   "cell_type": "code",
   "execution_count": null,
   "source": [
    "open Plotly.NET\r\n",
    "\r\n",
    "let values = [0.0; 11.0; 12.0; 13.0; 14.0; 15.0; 20.0; 30.0]\r\n",
    "let labels = [\"container\"; \"A1\"; \"A2\"; \"A3\"; \"A4\"; \"A5\"; \"B1\"; \"B2\"]\r\n",
    "let parents = [\"\"; \"container\"; \"A1\"; \"A2\"; \"A3\"; \"A4\"; \"container\"; \"B1\"]\r\n",
    "\r\n",
    "Chart.Treemap(labels,\r\n",
    "              parents,\r\n",
    "              Values = values, \r\n",
    "              Colors = [\"pink\"; \"royalblue\"; \"lightgray\"; \"purple\"; \r\n",
    "                        \"cyan\"; \"lightgray\"; \"lightblue\"; \"lightgreen\"]) "
   ],
   "outputs": [
    {
     "output_type": "display_data",
     "data": {
      "text/html": [
       "<div id=\"596cdcc1-77b7-473a-8ebf-b1db4a77b648\" style=\"width: 600px; height: 600px;\"><!-- Plotly chart will be drawn inside this DIV --></div>\r\n",
       "<script type=\"text/javascript\">\r\n",
       "\n",
       "            var renderPlotly_596cdcc177b7473a8ebfb1db4a77b648 = function() {\n",
       "            var fsharpPlotlyRequire = requirejs.config({context:'fsharp-plotly',paths:{plotly:'https://cdn.plot.ly/plotly-latest.min'}}) || require;\n",
       "            fsharpPlotlyRequire(['plotly'], function(Plotly) {\r\n",
       "\n",
       "            var data = [{\"type\":\"treemap\",\"labels\":[\"container\",\"A1\",\"A2\",\"A3\",\"A4\",\"A5\",\"B1\",\"B2\"],\"parents\":[\"\",\"container\",\"A1\",\"A2\",\"A3\",\"A4\",\"container\",\"B1\"],\"values\":[0.0,11.0,12.0,13.0,14.0,15.0,20.0,30.0],\"marker\":{\"colors\":[\"pink\",\"royalblue\",\"lightgray\",\"purple\",\"cyan\",\"lightgray\",\"lightblue\",\"lightgreen\"]}}];\n",
       "            var layout = {};\n",
       "            var config = {};\n",
       "            Plotly.newPlot('596cdcc1-77b7-473a-8ebf-b1db4a77b648', data, layout, config);\r\n",
       "});\n",
       "            };\n",
       "            if ((typeof(requirejs) !==  typeof(Function)) || (typeof(requirejs.config) !== typeof(Function))) {\n",
       "                var script = document.createElement(\"script\");\n",
       "                script.setAttribute(\"src\", \"https://cdnjs.cloudflare.com/ajax/libs/require.js/2.3.6/require.min.js\");\n",
       "                script.onload = function(){\n",
       "                    renderPlotly_596cdcc177b7473a8ebfb1db4a77b648();\n",
       "                };\n",
       "                document.getElementsByTagName(\"head\")[0].appendChild(script);\n",
       "            }\n",
       "            else {\n",
       "                renderPlotly_596cdcc177b7473a8ebfb1db4a77b648();\n",
       "            }\r\n",
       "</script>\r\n"
      ]
     },
     "metadata": {}
    }
   ],
   "metadata": {
    "dotnet_interactive": {
     "language": "fsharp"
    }
   }
  },
  {
   "cell_type": "markdown",
   "source": [
    "### colorway"
   ],
   "metadata": {}
  },
  {
   "cell_type": "code",
   "execution_count": null,
   "source": [
    "let labels = [\"container\"; \"A1\"; \"A2\"; \"A3\"; \"A4\"; \"A5\"; \"B1\"; \"B2\"]\r\n",
    "let parents = [\"\"; \"container\"; \"A1\"; \"A2\"; \"A3\"; \"A4\"; \"container\"; \"B1\"]\r\n",
    "let values = [0.0; 11.0; 12.0; 13.0; 14.0; 15.0; 20.0; 30.0]\r\n",
    "\r\n",
    "let layout = Layout.init ()\r\n",
    "let template = Template.init(layout) |> \r\n",
    "               Template.withColorWay [|\"pink\"; \"lightgray\"|]\r\n",
    "\r\n",
    "Chart.Treemap(labels,\r\n",
    "              parents,\r\n",
    "              Values = values, \r\n",
    "              Colors = [\"lightblue\"] ) \r\n",
    "|> Chart.withTemplate template\r\n"
   ],
   "outputs": [
    {
     "output_type": "display_data",
     "data": {
      "text/html": [
       "<div id=\"fd3cf48b-ebe3-488e-95c9-d2c84117e638\" style=\"width: 600px; height: 600px;\"><!-- Plotly chart will be drawn inside this DIV --></div>\r\n",
       "<script type=\"text/javascript\">\r\n",
       "\n",
       "            var renderPlotly_fd3cf48bebe3488e95c9d2c84117e638 = function() {\n",
       "            var fsharpPlotlyRequire = requirejs.config({context:'fsharp-plotly',paths:{plotly:'https://cdn.plot.ly/plotly-latest.min'}}) || require;\n",
       "            fsharpPlotlyRequire(['plotly'], function(Plotly) {\r\n",
       "\n",
       "            var data = [{\"type\":\"treemap\",\"labels\":[\"container\",\"A1\",\"A2\",\"A3\",\"A4\",\"A5\",\"B1\",\"B2\"],\"parents\":[\"\",\"container\",\"A1\",\"A2\",\"A3\",\"A4\",\"container\",\"B1\"],\"values\":[0.0,11.0,12.0,13.0,14.0,15.0,20.0,30.0],\"marker\":{\"colors\":[\"lightblue\"]}}];\n",
       "            var layout = {\"template\":{\"layout\":{\"colorway\":[\"pink\",\"lightgray\"]}}};\n",
       "            var config = {};\n",
       "            Plotly.newPlot('fd3cf48b-ebe3-488e-95c9-d2c84117e638', data, layout, config);\r\n",
       "});\n",
       "            };\n",
       "            if ((typeof(requirejs) !==  typeof(Function)) || (typeof(requirejs.config) !== typeof(Function))) {\n",
       "                var script = document.createElement(\"script\");\n",
       "                script.setAttribute(\"src\", \"https://cdnjs.cloudflare.com/ajax/libs/require.js/2.3.6/require.min.js\");\n",
       "                script.onload = function(){\n",
       "                    renderPlotly_fd3cf48bebe3488e95c9d2c84117e638();\n",
       "                };\n",
       "                document.getElementsByTagName(\"head\")[0].appendChild(script);\n",
       "            }\n",
       "            else {\n",
       "                renderPlotly_fd3cf48bebe3488e95c9d2c84117e638();\n",
       "            }\r\n",
       "</script>\r\n"
      ]
     },
     "metadata": {}
    }
   ],
   "metadata": {
    "dotnet_interactive": {
     "language": "fsharp"
    }
   }
  },
  {
   "cell_type": "markdown",
   "source": [
    "### colorscale"
   ],
   "metadata": {}
  },
  {
   "cell_type": "code",
   "execution_count": null,
   "source": [
    "let values = [0.0; 11.0; 12.0; 13.0; 14.0; 15.0; 20.0; 30.0]\r\n",
    "let labels = [\"container\"; \"A1\"; \"A2\"; \"A3\"; \"A4\"; \"A5\"; \"B1\"; \"B2\"]\r\n",
    "let parents = [\"\"; \"container\"; \"A1\"; \"A2\"; \"A3\"; \"A4\"; \"container\"; \"B1\"]\r\n",
    "\r\n",
    "Chart.Treemap(labels,\r\n",
    "              parents,\r\n",
    "              Values = values//, \r\n",
    "              (*Colorscale = StyleParam.Colorscale.Bluered*) ) "
   ],
   "outputs": [
    {
     "output_type": "display_data",
     "data": {
      "text/html": [
       "<div id=\"81064b1e-618d-46bf-9f5d-487d68068713\" style=\"width: 600px; height: 600px;\"><!-- Plotly chart will be drawn inside this DIV --></div>\r\n",
       "<script type=\"text/javascript\">\r\n",
       "\n",
       "            var renderPlotly_81064b1e618d46bf9f5d487d68068713 = function() {\n",
       "            var fsharpPlotlyRequire = requirejs.config({context:'fsharp-plotly',paths:{plotly:'https://cdn.plot.ly/plotly-latest.min'}}) || require;\n",
       "            fsharpPlotlyRequire(['plotly'], function(Plotly) {\r\n",
       "\n",
       "            var data = [{\"type\":\"treemap\",\"labels\":[\"container\",\"A1\",\"A2\",\"A3\",\"A4\",\"A5\",\"B1\",\"B2\"],\"parents\":[\"\",\"container\",\"A1\",\"A2\",\"A3\",\"A4\",\"container\",\"B1\"],\"values\":[0.0,11.0,12.0,13.0,14.0,15.0,20.0,30.0],\"marker\":{}}];\n",
       "            var layout = {};\n",
       "            var config = {};\n",
       "            Plotly.newPlot('81064b1e-618d-46bf-9f5d-487d68068713', data, layout, config);\r\n",
       "});\n",
       "            };\n",
       "            if ((typeof(requirejs) !==  typeof(Function)) || (typeof(requirejs.config) !== typeof(Function))) {\n",
       "                var script = document.createElement(\"script\");\n",
       "                script.setAttribute(\"src\", \"https://cdnjs.cloudflare.com/ajax/libs/require.js/2.3.6/require.min.js\");\n",
       "                script.onload = function(){\n",
       "                    renderPlotly_81064b1e618d46bf9f5d487d68068713();\n",
       "                };\n",
       "                document.getElementsByTagName(\"head\")[0].appendChild(script);\n",
       "            }\n",
       "            else {\n",
       "                renderPlotly_81064b1e618d46bf9f5d487d68068713();\n",
       "            }\r\n",
       "</script>\r\n"
      ]
     },
     "metadata": {}
    }
   ],
   "metadata": {
    "dotnet_interactive": {
     "language": "fsharp"
    }
   }
  }
 ],
 "nbformat": 4,
 "nbformat_minor": 2
}
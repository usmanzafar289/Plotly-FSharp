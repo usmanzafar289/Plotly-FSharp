{
 "cells": [
  {
   "cell_type": "markdown",
   "source": [
    "## Basic Pie Chart with go.Pie"
   ],
   "metadata": {}
  },
  {
   "cell_type": "code",
   "execution_count": null,
   "source": [
    "#r \"nuget: Plotly.NET, 2.0.0-preview.6\"\r\n",
    "#r \"nuget: Plotly.NET.Interactive, 2.0.0-preview.6\"\r\n",
    "open Plotly.NET\r\n",
    "\r\n",
    "let labels = [\"Oxygen\"; \"Hydrogen\"; \"Carbon_Dioxide\"; \"Nitrogen\"]\r\n",
    "let values = [4500; 2500; 1053; 500]\r\n",
    "\r\n",
    "Chart.Pie(Labels=labels, values=values)"
   ],
   "outputs": [
    {
     "output_type": "display_data",
     "data": {
      "text/html": [
       "<div><div></div><div></div><div><strong>Installed Packages</strong><ul><li><span>Plotly.NET, 2.0.0-preview.6</span></li><li><span>Plotly.NET.Interactive, 2.0.0-preview.6</span></li></ul></div></div>"
      ]
     },
     "metadata": {}
    },
    {
     "output_type": "display_data",
     "data": {
      "text/markdown": [
       "Loading extensions from `Plotly.NET.Interactive.dll`"
      ]
     },
     "metadata": {}
    },
    {
     "output_type": "display_data",
     "data": {
      "text/markdown": [
       "Added Kernel Extension including formatters for Plotly.NET charts."
      ]
     },
     "metadata": {}
    },
    {
     "output_type": "display_data",
     "data": {
      "text/html": [
       "<div id=\"89d7da1e-4493-4aae-bbb9-88a59a317319\" style=\"width: 600px; height: 600px;\"><!-- Plotly chart will be drawn inside this DIV --></div>\r\n",
       "<script type=\"text/javascript\">\r\n",
       "\n",
       "            var renderPlotly_89d7da1e44934aaebbb988a59a317319 = function() {\n",
       "            var fsharpPlotlyRequire = requirejs.config({context:'fsharp-plotly',paths:{plotly:'https://cdn.plot.ly/plotly-latest.min'}}) || require;\n",
       "            fsharpPlotlyRequire(['plotly'], function(Plotly) {\r\n",
       "\n",
       "            var data = [{\"type\":\"pie\",\"values\":[4500,2500,1053,500],\"labels\":[\"Oxygen\",\"Hydrogen\",\"Carbon_Dioxide\",\"Nitrogen\"],\"marker\":{},\"text\":[\"Oxygen\",\"Hydrogen\",\"Carbon_Dioxide\",\"Nitrogen\"]}];\n",
       "            var layout = {};\n",
       "            var config = {};\n",
       "            Plotly.newPlot('89d7da1e-4493-4aae-bbb9-88a59a317319', data, layout, config);\r\n",
       "});\n",
       "            };\n",
       "            if ((typeof(requirejs) !==  typeof(Function)) || (typeof(requirejs.config) !== typeof(Function))) {\n",
       "                var script = document.createElement(\"script\");\n",
       "                script.setAttribute(\"src\", \"https://cdnjs.cloudflare.com/ajax/libs/require.js/2.3.6/require.min.js\");\n",
       "                script.onload = function(){\n",
       "                    renderPlotly_89d7da1e44934aaebbb988a59a317319();\n",
       "                };\n",
       "                document.getElementsByTagName(\"head\")[0].appendChild(script);\n",
       "            }\n",
       "            else {\n",
       "                renderPlotly_89d7da1e44934aaebbb988a59a317319();\n",
       "            }\r\n",
       "</script>\r\n"
      ]
     },
     "metadata": {}
    }
   ],
   "metadata": {
    "dotnet_interactive": {
     "language": "fsharp"
    }
   }
  },
  {
   "cell_type": "markdown",
   "source": [
    "## Styled Pie Chart"
   ],
   "metadata": {}
  },
  {
   "cell_type": "code",
   "execution_count": null,
   "source": [
    "#r \"nuget: Plotly.NET, 2.0.0-preview.6\"\r\n",
    "#r \"nuget: Plotly.NET.Interactive, 2.0.0-preview.6\"\r\n",
    "open Plotly.NET\r\n",
    "\r\n",
    "let colors = [\"gold\"; \"mediumturquoise\"; \"darkorange\"; \"lightgreen\"]\r\n",
    "let labels = [\"Oxygen\"; \"Hydrogen\"; \"Carbon_Dioxide\"; \"Nitrogen\"]\r\n",
    "let values = [4500; 2500; 1053; 500]\r\n",
    "\r\n",
    "let layout = \r\n",
    "    let obj = Layout()\r\n",
    "    obj?hoverinfo <- \"label+percent\"\r\n",
    "    obj?textinfo <- \"value\"\r\n",
    "    obj?textfont_size <- 20\r\n",
    "    obj\r\n",
    "\r\n",
    "Chart.Pie(Labels=labels, values=values, Colors = colors)\r\n",
    "|> Chart.withLayout(layout)"
   ],
   "outputs": [
    {
     "output_type": "display_data",
     "data": {
      "text/html": [
       "<div><div></div><div></div><div><strong>Installed Packages</strong><ul><li><span>Plotly.NET, 2.0.0-preview.6</span></li><li><span>Plotly.NET.Interactive, 2.0.0-preview.6</span></li></ul></div></div>"
      ]
     },
     "metadata": {}
    },
    {
     "output_type": "display_data",
     "data": {
      "text/html": [
       "<div id=\"7e2a6b33-74e3-4d0f-b58e-dd43e24774c9\" style=\"width: 600px; height: 600px;\"><!-- Plotly chart will be drawn inside this DIV --></div>\r\n",
       "<script type=\"text/javascript\">\r\n",
       "\n",
       "            var renderPlotly_7e2a6b3374e34d0fb58edd43e24774c9 = function() {\n",
       "            var fsharpPlotlyRequire = requirejs.config({context:'fsharp-plotly',paths:{plotly:'https://cdn.plot.ly/plotly-latest.min'}}) || require;\n",
       "            fsharpPlotlyRequire(['plotly'], function(Plotly) {\r\n",
       "\n",
       "            var data = [{\"type\":\"pie\",\"values\":[4500,2500,1053,500],\"labels\":[\"Oxygen\",\"Hydrogen\",\"Carbon_Dioxide\",\"Nitrogen\"],\"marker\":{\"colors\":[\"gold\",\"mediumturquoise\",\"darkorange\",\"lightgreen\"]},\"text\":[\"Oxygen\",\"Hydrogen\",\"Carbon_Dioxide\",\"Nitrogen\"]}];\n",
       "            var layout = {\"hoverinfo\":\"label+percent\",\"textinfo\":\"value\",\"textfont_size\":20};\n",
       "            var config = {};\n",
       "            Plotly.newPlot('7e2a6b33-74e3-4d0f-b58e-dd43e24774c9', data, layout, config);\r\n",
       "});\n",
       "            };\n",
       "            if ((typeof(requirejs) !==  typeof(Function)) || (typeof(requirejs.config) !== typeof(Function))) {\n",
       "                var script = document.createElement(\"script\");\n",
       "                script.setAttribute(\"src\", \"https://cdnjs.cloudflare.com/ajax/libs/require.js/2.3.6/require.min.js\");\n",
       "                script.onload = function(){\n",
       "                    renderPlotly_7e2a6b3374e34d0fb58edd43e24774c9();\n",
       "                };\n",
       "                document.getElementsByTagName(\"head\")[0].appendChild(script);\n",
       "            }\n",
       "            else {\n",
       "                renderPlotly_7e2a6b3374e34d0fb58edd43e24774c9();\n",
       "            }\r\n",
       "</script>\r\n"
      ]
     },
     "metadata": {}
    }
   ],
   "metadata": {
    "dotnet_interactive": {
     "language": "fsharp"
    }
   }
  },
  {
   "cell_type": "markdown",
   "source": [
    "## Controlling text orientation inside pie sectors"
   ],
   "metadata": {}
  },
  {
   "cell_type": "code",
   "execution_count": null,
   "source": [
    "#r \"nuget: Plotly.NET, 2.0.0-preview.6\"\r\n",
    "#r \"nuget: Plotly.NET.Interactive, 2.0.0-preview.6\"\r\n",
    "open Plotly.NET\r\n",
    "\r\n",
    "let colors = [\"gold\"; \"mediumturquoise\"; \"darkorange\"; \"lightgreen\"]\r\n",
    "let labels = [\"Oxygen\"; \"Hydrogen\"; \"Carbon_Dioxide\"; \"Nitrogen\"]\r\n",
    "let values = [4500; 2500; 1053; 500]\r\n",
    "\r\n",
    "let layout = \r\n",
    "    let obj = Layout()\r\n",
    "    obj?insidetextorientation <- \"radial\"\r\n",
    "    obj\r\n",
    "\r\n",
    "Chart.Pie(Labels=labels, values=values, Textinfo=\"label+percent\")\r\n",
    "|> Chart.withLayout(layout)"
   ],
   "outputs": [
    {
     "output_type": "display_data",
     "data": {
      "text/html": [
       "<div><div></div><div></div><div><strong>Installed Packages</strong><ul><li><span>Plotly.NET, 2.0.0-preview.6</span></li><li><span>Plotly.NET.Interactive, 2.0.0-preview.6</span></li></ul></div></div>"
      ]
     },
     "metadata": {}
    },
    {
     "output_type": "display_data",
     "data": {
      "text/html": [
       "<div id=\"bebba0de-746d-48c0-b84d-5c9e9ec49fcd\" style=\"width: 600px; height: 600px;\"><!-- Plotly chart will be drawn inside this DIV --></div>\r\n",
       "<script type=\"text/javascript\">\r\n",
       "\n",
       "            var renderPlotly_bebba0de746d48c0b84d5c9e9ec49fcd = function() {\n",
       "            var fsharpPlotlyRequire = requirejs.config({context:'fsharp-plotly',paths:{plotly:'https://cdn.plot.ly/plotly-latest.min'}}) || require;\n",
       "            fsharpPlotlyRequire(['plotly'], function(Plotly) {\r\n",
       "\n",
       "            var data = [{\"type\":\"pie\",\"values\":[4500,2500,1053,500],\"labels\":[\"Oxygen\",\"Hydrogen\",\"Carbon_Dioxide\",\"Nitrogen\"],\"textinfo\":\"label+percent\",\"marker\":{},\"text\":[\"Oxygen\",\"Hydrogen\",\"Carbon_Dioxide\",\"Nitrogen\"]}];\n",
       "            var layout = {\"insidetextorientation\":\"radial\"};\n",
       "            var config = {};\n",
       "            Plotly.newPlot('bebba0de-746d-48c0-b84d-5c9e9ec49fcd', data, layout, config);\r\n",
       "});\n",
       "            };\n",
       "            if ((typeof(requirejs) !==  typeof(Function)) || (typeof(requirejs.config) !== typeof(Function))) {\n",
       "                var script = document.createElement(\"script\");\n",
       "                script.setAttribute(\"src\", \"https://cdnjs.cloudflare.com/ajax/libs/require.js/2.3.6/require.min.js\");\n",
       "                script.onload = function(){\n",
       "                    renderPlotly_bebba0de746d48c0b84d5c9e9ec49fcd();\n",
       "                };\n",
       "                document.getElementsByTagName(\"head\")[0].appendChild(script);\n",
       "            }\n",
       "            else {\n",
       "                renderPlotly_bebba0de746d48c0b84d5c9e9ec49fcd();\n",
       "            }\r\n",
       "</script>\r\n"
      ]
     },
     "metadata": {}
    }
   ],
   "metadata": {
    "dotnet_interactive": {
     "language": "fsharp"
    }
   }
  },
  {
   "cell_type": "markdown",
   "source": [
    "## Donut Chart"
   ],
   "metadata": {}
  },
  {
   "cell_type": "code",
   "execution_count": null,
   "source": [
    "#r \"nuget: Plotly.NET, 2.0.0-preview.6\"\r\n",
    "#r \"nuget: Plotly.NET.Interactive, 2.0.0-preview.6\"\r\n",
    "open Plotly.NET\r\n",
    "\r\n",
    "let labels = [\"Oxygen\"; \"Hydrogen\"; \"Carbon_Dioxide\"; \"Nitrogen\"]\r\n",
    "let values = [4500; 2500; 1053; 500]\r\n",
    "\r\n",
    "\r\n",
    "Chart.Doughnut(Labels=labels, values=values, Hole=0.3)"
   ],
   "outputs": [
    {
     "output_type": "display_data",
     "data": {
      "text/html": [
       "<div><div></div><div></div><div><strong>Installed Packages</strong><ul><li><span>Plotly.NET, 2.0.0-preview.6</span></li><li><span>Plotly.NET.Interactive, 2.0.0-preview.6</span></li></ul></div></div>"
      ]
     },
     "metadata": {}
    },
    {
     "output_type": "display_data",
     "data": {
      "text/html": [
       "<div id=\"c04eada4-bc47-454b-8d7a-1bdfe327fcee\" style=\"width: 600px; height: 600px;\"><!-- Plotly chart will be drawn inside this DIV --></div>\r\n",
       "<script type=\"text/javascript\">\r\n",
       "\n",
       "            var renderPlotly_c04eada4bc47454b8d7a1bdfe327fcee = function() {\n",
       "            var fsharpPlotlyRequire = requirejs.config({context:'fsharp-plotly',paths:{plotly:'https://cdn.plot.ly/plotly-latest.min'}}) || require;\n",
       "            fsharpPlotlyRequire(['plotly'], function(Plotly) {\r\n",
       "\n",
       "            var data = [{\"type\":\"pie\",\"values\":[4500,2500,1053,500],\"labels\":[\"Oxygen\",\"Hydrogen\",\"Carbon_Dioxide\",\"Nitrogen\"],\"hole\":0.3,\"marker\":{},\"text\":[\"Oxygen\",\"Hydrogen\",\"Carbon_Dioxide\",\"Nitrogen\"]}];\n",
       "            var layout = {};\n",
       "            var config = {};\n",
       "            Plotly.newPlot('c04eada4-bc47-454b-8d7a-1bdfe327fcee', data, layout, config);\r\n",
       "});\n",
       "            };\n",
       "            if ((typeof(requirejs) !==  typeof(Function)) || (typeof(requirejs.config) !== typeof(Function))) {\n",
       "                var script = document.createElement(\"script\");\n",
       "                script.setAttribute(\"src\", \"https://cdnjs.cloudflare.com/ajax/libs/require.js/2.3.6/require.min.js\");\n",
       "                script.onload = function(){\n",
       "                    renderPlotly_c04eada4bc47454b8d7a1bdfe327fcee();\n",
       "                };\n",
       "                document.getElementsByTagName(\"head\")[0].appendChild(script);\n",
       "            }\n",
       "            else {\n",
       "                renderPlotly_c04eada4bc47454b8d7a1bdfe327fcee();\n",
       "            }\r\n",
       "</script>\r\n"
      ]
     },
     "metadata": {}
    }
   ],
   "metadata": {
    "dotnet_interactive": {
     "language": "fsharp"
    }
   }
  },
  {
   "cell_type": "markdown",
   "source": [
    "## Pulling sectors out from the center"
   ],
   "metadata": {}
  },
  {
   "cell_type": "code",
   "execution_count": null,
   "source": [
    "\r\n",
    "#r \"nuget: Plotly.NET, 2.0.0-preview.6\"\r\n",
    "#r \"nuget: Plotly.NET.Interactive, 2.0.0-preview.6\"\r\n",
    "open Plotly.NET\r\n",
    "\r\n",
    "let labels = [\"Oxygen\"; \"Hydrogen\"; \"Carbon_Dioxide\"; \"Nitrogen\"]\r\n",
    "let values = [4500.; 2500.; 1053.; 500.]\r\n",
    "\r\n",
    "\r\n",
    "let trace = \r\n",
    "    let tmp = Trace(\"pie\")\r\n",
    "    tmp?labels <- labels\r\n",
    "    tmp?values <- values\r\n",
    "    tmp?pull <- [0.;0.;0.2;0.]\r\n",
    "    tmp\r\n",
    "\r\n",
    "GenericChart.ofTraceObject(trace)"
   ],
   "outputs": [
    {
     "output_type": "display_data",
     "data": {
      "text/html": [
       "<div><div></div><div></div><div><strong>Installed Packages</strong><ul><li><span>Plotly.NET, 2.0.0-preview.6</span></li><li><span>Plotly.NET.Interactive, 2.0.0-preview.6</span></li></ul></div></div>"
      ]
     },
     "metadata": {}
    },
    {
     "output_type": "display_data",
     "data": {
      "text/html": [
       "<div id=\"008e9a58-c752-4759-a286-f2b637ea220c\" style=\"width: 600px; height: 600px;\"><!-- Plotly chart will be drawn inside this DIV --></div>\r\n",
       "<script type=\"text/javascript\">\r\n",
       "\n",
       "            var renderPlotly_008e9a58c7524759a286f2b637ea220c = function() {\n",
       "            var fsharpPlotlyRequire = requirejs.config({context:'fsharp-plotly',paths:{plotly:'https://cdn.plot.ly/plotly-latest.min'}}) || require;\n",
       "            fsharpPlotlyRequire(['plotly'], function(Plotly) {\r\n",
       "\n",
       "            var data = [{\"type\":\"pie\",\"labels\":[\"Oxygen\",\"Hydrogen\",\"Carbon_Dioxide\",\"Nitrogen\"],\"values\":[4500.0,2500.0,1053.0,500.0],\"pull\":[0.0,0.0,0.2,0.0]}];\n",
       "            var layout = {};\n",
       "            var config = {};\n",
       "            Plotly.newPlot('008e9a58-c752-4759-a286-f2b637ea220c', data, layout, config);\r\n",
       "});\n",
       "            };\n",
       "            if ((typeof(requirejs) !==  typeof(Function)) || (typeof(requirejs.config) !== typeof(Function))) {\n",
       "                var script = document.createElement(\"script\");\n",
       "                script.setAttribute(\"src\", \"https://cdnjs.cloudflare.com/ajax/libs/require.js/2.3.6/require.min.js\");\n",
       "                script.onload = function(){\n",
       "                    renderPlotly_008e9a58c7524759a286f2b637ea220c();\n",
       "                };\n",
       "                document.getElementsByTagName(\"head\")[0].appendChild(script);\n",
       "            }\n",
       "            else {\n",
       "                renderPlotly_008e9a58c7524759a286f2b637ea220c();\n",
       "            }\r\n",
       "</script>\r\n"
      ]
     },
     "metadata": {}
    }
   ],
   "metadata": {
    "dotnet_interactive": {
     "language": "fsharp"
    }
   }
  },
  {
   "cell_type": "markdown",
   "source": [
    "## Pie Charts in subplots"
   ],
   "metadata": {}
  },
  {
   "cell_type": "code",
   "execution_count": null,
   "source": [
    "#r \"nuget: Plotly.NET, 2.0.0-preview.6\"\r\n",
    "#r \"nuget: Plotly.NET.Interactive, 2.0.0-preview.6\"\r\n",
    "open Plotly.NET\r\n",
    "\r\n",
    "let labels = [\"US\"; \"China\"; \"European Union\"; \"Russian Federation\"; \"Brazil\"; \"India\"; \"Rest of the World\"]\r\n",
    "let values = [4500.; 2500.; 1053.; 500.]\r\n",
    "\r\n",
    "let layout =\r\n",
    "    let tmp = Layout()\r\n",
    "    tmp?title_text <- \"Global Emissions 1990-2011\"\r\n",
    "    tmp?annotations <- [{|text = \"CHG\"; x = 0.18; y = 0.5; font_size = 20; showarrow = false|};{|text = \"CO2\"; x = 0.82; y = 0.5; font_size = 20; showarrow = false|}]\r\n",
    "    tmp\r\n",
    "    \r\n",
    "let chg = \r\n",
    "    let tmp = Trace(\"pie\")\r\n",
    "    tmp?labels <- labels\r\n",
    "    tmp?domain <- {|x = [0.; 0.5]|}\r\n",
    "    tmp?hole <- 0.4\r\n",
    "    tmp?hoverinfo <- \"label+percent+name\"\r\n",
    "    tmp?name <- \"CHG Emissions\"\r\n",
    "    tmp?values <- [16; 15; 12; 6; 5; 4; 42]\r\n",
    "    tmp\r\n",
    "\r\n",
    "let co2 = \r\n",
    "    let tmp = Trace(\"pie\")\r\n",
    "    tmp?labels <- labels\r\n",
    "    tmp?domain <- {|x = [0.5; 1.0]|}\r\n",
    "    tmp?hole <- 0.4\r\n",
    "    tmp?hoverinfo <- \"label+percent+name\"\r\n",
    "    tmp?name <- \"CO2 Emissions\"\r\n",
    "    tmp?values <- [27; 11; 25; 8; 1; 3; 25]\r\n",
    "    tmp\r\n",
    "\r\n",
    "Chart.Grid(\r\n",
    "    [\r\n",
    "        [GenericChart.ofTraceObject(chg); GenericChart.ofTraceObject(co2)]\r\n",
    "    ]\r\n",
    ") |> Chart.withLayout(layout)"
   ],
   "outputs": [
    {
     "output_type": "display_data",
     "data": {
      "text/html": [
       "<div><div></div><div></div><div><strong>Installed Packages</strong><ul><li><span>Plotly.NET, 2.0.0-preview.6</span></li><li><span>Plotly.NET.Interactive, 2.0.0-preview.6</span></li></ul></div></div>"
      ]
     },
     "metadata": {}
    },
    {
     "output_type": "display_data",
     "data": {
      "text/html": [
       "<div id=\"50adc109-2a95-4565-b81b-97fd1fe309e0\" style=\"width: 600px; height: 600px;\"><!-- Plotly chart will be drawn inside this DIV --></div>\r\n",
       "<script type=\"text/javascript\">\r\n",
       "\n",
       "            var renderPlotly_50adc1092a954565b81b97fd1fe309e0 = function() {\n",
       "            var fsharpPlotlyRequire = requirejs.config({context:'fsharp-plotly',paths:{plotly:'https://cdn.plot.ly/plotly-latest.min'}}) || require;\n",
       "            fsharpPlotlyRequire(['plotly'], function(Plotly) {\r\n",
       "\n",
       "            var data = [{\"type\":\"pie\",\"labels\":[\"US\",\"China\",\"European Union\",\"Russian Federation\",\"Brazil\",\"India\",\"Rest of the World\"],\"domain\":{\"x\":[0.0,0.5]},\"hole\":0.4,\"hoverinfo\":\"label+percent+name\",\"name\":\"CHG Emissions\",\"values\":[16,15,12,6,5,4,42],\"xaxis\":\"x\",\"yaxis\":\"y\"},{\"type\":\"pie\",\"labels\":[\"US\",\"China\",\"European Union\",\"Russian Federation\",\"Brazil\",\"India\",\"Rest of the World\"],\"domain\":{\"x\":[0.5,1.0]},\"hole\":0.4,\"hoverinfo\":\"label+percent+name\",\"name\":\"CO2 Emissions\",\"values\":[27,11,25,8,1,3,25],\"xaxis\":\"x2\",\"yaxis\":\"y2\"}];\n",
       "            var layout = {\"xaxis\":{\"anchor\":\"x\",\"domain\":[0.0,0.475]},\"yaxis\":{\"anchor\":\"y\",\"domain\":[0.0,0.975]},\"xaxis2\":{\"anchor\":\"x2\",\"domain\":[0.525,0.975]},\"yaxis2\":{\"anchor\":\"y2\",\"domain\":[0.0,0.975]},\"grid\":{\"rows\":1,\"columns\":2,\"roworder\":\"top to bottom\",\"pattern\":\"independent\",\"xgap\":0.05,\"ygap\":0.05},\"title_text\":\"Global Emissions 1990-2011\",\"annotations\":[{\"font_size\":20,\"showarrow\":false,\"text\":\"CHG\",\"x\":0.18,\"y\":0.5},{\"font_size\":20,\"showarrow\":false,\"text\":\"CO2\",\"x\":0.82,\"y\":0.5}]};\n",
       "            var config = {};\n",
       "            Plotly.newPlot('50adc109-2a95-4565-b81b-97fd1fe309e0', data, layout, config);\r\n",
       "});\n",
       "            };\n",
       "            if ((typeof(requirejs) !==  typeof(Function)) || (typeof(requirejs.config) !== typeof(Function))) {\n",
       "                var script = document.createElement(\"script\");\n",
       "                script.setAttribute(\"src\", \"https://cdnjs.cloudflare.com/ajax/libs/require.js/2.3.6/require.min.js\");\n",
       "                script.onload = function(){\n",
       "                    renderPlotly_50adc1092a954565b81b97fd1fe309e0();\n",
       "                };\n",
       "                document.getElementsByTagName(\"head\")[0].appendChild(script);\n",
       "            }\n",
       "            else {\n",
       "                renderPlotly_50adc1092a954565b81b97fd1fe309e0();\n",
       "            }\r\n",
       "</script>\r\n"
      ]
     },
     "metadata": {}
    }
   ],
   "metadata": {
    "dotnet_interactive": {
     "language": "fsharp"
    }
   }
  },
  {
   "cell_type": "code",
   "execution_count": null,
   "source": [
    "#r \"nuget: Plotly.NET, 2.0.0-preview.6\"\r\n",
    "#r \"nuget: Plotly.NET.Interactive, 2.0.0-preview.6\"\r\n",
    "open Plotly.NET\r\n",
    "\r\n",
    "let labels = [\"1st\"; \"2nd\"; \"3rd\"; \"4th\"; \"5th\"]\r\n",
    "let nightColors = [\"rgb(56, 75, 126)\"; \"rgb(18, 36, 37)\"; \"rgb(34, 53, 101)\"; \"rgb(36, 55, 57)\"; \"rgb(6, 4, 4)\"]\r\n",
    "let sunflowersColors = [\"rgb(177; 127; 38)\"; \"rgb(205; 152; 36)\"; \"rgb(99; 79; 37)\"; \"rgb(129; 180; 179)\"; \"rgb(124; 103; 37)\"]\r\n",
    "let irisesColors = [\"rgb(33; 75; 99)\"; \"rgb(79; 129; 102)\"; \"rgb(151; 179; 100)\";\"rgb(175; 49; 35)\"; \"rgb(36; 73; 147)\"]\r\n",
    "let cafeColors =  [\"rgb(146; 123; 21)\"; \"rgb(177; 180; 34)\"; \"rgb(206; 206; 40)\"; \"rgb(175; 51; 21)\"; \"rgb(35; 36; 21)\"]\r\n",
    "\r\n",
    "let layout =\r\n",
    "    let tmp = Layout()\r\n",
    "    tmp?title_text <- \"Van Gogh: 5 Most Prominent Colors Shown Proportionally\"\r\n",
    "    tmp?showlegend <- false\r\n",
    "    tmp?width <- 1000.\r\n",
    "    tmp?height <- 500.\r\n",
    "    tmp\r\n",
    "    \r\n",
    "let starryNight = \r\n",
    "    let tmp = Trace(\"pie\")\r\n",
    "    tmp?labels <- labels\r\n",
    "    tmp?domain <- {|x = [0.; 0.5]; y = [0.5; 1.0]|}\r\n",
    "    tmp?name <- \"Starry Night\"\r\n",
    "    tmp?marker_colors <- nightColors\r\n",
    "    tmp?values <- [38; 27; 18; 10; 7]\r\n",
    "    tmp\r\n",
    "\r\n",
    "let sunflowers = \r\n",
    "    let tmp = Trace(\"pie\")\r\n",
    "    tmp?labels <- labels\r\n",
    "    tmp?domain <- {|x = [0.5; 1.0]; y = [0.5; 1.0]|}\r\n",
    "    tmp?marker_colors <- sunflowersColors\r\n",
    "    tmp?name <- \"Sunflowers\"\r\n",
    "    tmp?values <- [28; 26; 21; 15; 10]\r\n",
    "    tmp\r\n",
    "\r\n",
    "let irises = \r\n",
    "    let tmp = Trace(\"pie\")\r\n",
    "    tmp?labels <- labels\r\n",
    "    tmp?domain <- {|x = [0.0; 0.5]; y = [0.0; 0.5]|}\r\n",
    "    tmp?marker_colors <- irisesColors\r\n",
    "    tmp?name <- \"Irises\"\r\n",
    "    tmp?values <- [38; 19; 16; 14; 13]\r\n",
    "    tmp\r\n",
    "\r\n",
    "let nightCafe = \r\n",
    "    let tmp = Trace(\"pie\")\r\n",
    "    tmp?labels <- labels\r\n",
    "    tmp?domain <- {|x = [0.5; 1.0]; y = [0.0; 0.5]|}\r\n",
    "    tmp?marker_colors <- cafeColors\r\n",
    "    tmp?name <- \"The Night Café\"\r\n",
    "    tmp?values <- [31; 24; 19; 18; 8]\r\n",
    "    tmp\r\n",
    "\r\n",
    "Chart.Grid(\r\n",
    "    [\r\n",
    "        [GenericChart.ofTraceObject(starryNight); GenericChart.ofTraceObject(sunflowers)]\r\n",
    "        [GenericChart.ofTraceObject(irises); GenericChart.ofTraceObject(nightCafe)]\r\n",
    "    ]\r\n",
    ")\r\n",
    "|> Chart.withLayout(layout)\r\n",
    "|> Chart.withLayoutGrid(LayoutGrid.init(Rows=2, Columns=2))"
   ],
   "outputs": [
    {
     "output_type": "display_data",
     "data": {
      "text/html": [
       "<div><div></div><div></div><div><strong>Installed Packages</strong><ul><li><span>Plotly.NET, 2.0.0-preview.6</span></li><li><span>Plotly.NET.Interactive, 2.0.0-preview.6</span></li></ul></div></div>"
      ]
     },
     "metadata": {}
    },
    {
     "output_type": "display_data",
     "data": {
      "text/html": [
       "<div id=\"32d5e1bb-a005-4859-8a90-b143d209578d\" style=\"width: 1000px; height: 500px;\"><!-- Plotly chart will be drawn inside this DIV --></div>\r\n",
       "<script type=\"text/javascript\">\r\n",
       "\n",
       "            var renderPlotly_32d5e1bba00548598a90b143d209578d = function() {\n",
       "            var fsharpPlotlyRequire = requirejs.config({context:'fsharp-plotly',paths:{plotly:'https://cdn.plot.ly/plotly-latest.min'}}) || require;\n",
       "            fsharpPlotlyRequire(['plotly'], function(Plotly) {\r\n",
       "\n",
       "            var data = [{\"type\":\"pie\",\"labels\":[\"1st\",\"2nd\",\"3rd\",\"4th\",\"5th\"],\"domain\":{\"x\":[0.0,0.5],\"y\":[0.5,1.0]},\"name\":\"Starry Night\",\"marker_colors\":[\"rgb(56, 75, 126)\",\"rgb(18, 36, 37)\",\"rgb(34, 53, 101)\",\"rgb(36, 55, 57)\",\"rgb(6, 4, 4)\"],\"values\":[38,27,18,10,7],\"xaxis\":\"x\",\"yaxis\":\"y\"},{\"type\":\"pie\",\"labels\":[\"1st\",\"2nd\",\"3rd\",\"4th\",\"5th\"],\"domain\":{\"x\":[0.5,1.0],\"y\":[0.5,1.0]},\"marker_colors\":[\"rgb(177; 127; 38)\",\"rgb(205; 152; 36)\",\"rgb(99; 79; 37)\",\"rgb(129; 180; 179)\",\"rgb(124; 103; 37)\"],\"name\":\"Sunflowers\",\"values\":[28,26,21,15,10],\"xaxis\":\"x2\",\"yaxis\":\"y2\"},{\"type\":\"pie\",\"labels\":[\"1st\",\"2nd\",\"3rd\",\"4th\",\"5th\"],\"domain\":{\"x\":[0.0,0.5],\"y\":[0.0,0.5]},\"marker_colors\":[\"rgb(33; 75; 99)\",\"rgb(79; 129; 102)\",\"rgb(151; 179; 100)\",\"rgb(175; 49; 35)\",\"rgb(36; 73; 147)\"],\"name\":\"Irises\",\"values\":[38,19,16,14,13],\"xaxis\":\"x3\",\"yaxis\":\"y3\"},{\"type\":\"pie\",\"labels\":[\"1st\",\"2nd\",\"3rd\",\"4th\",\"5th\"],\"domain\":{\"x\":[0.5,1.0],\"y\":[0.0,0.5]},\"marker_colors\":[\"rgb(146; 123; 21)\",\"rgb(177; 180; 34)\",\"rgb(206; 206; 40)\",\"rgb(175; 51; 21)\",\"rgb(35; 36; 21)\"],\"name\":\"The Night Café\",\"values\":[31,24,19,18,8],\"xaxis\":\"x4\",\"yaxis\":\"y4\"}];\n",
       "            var layout = {\"xaxis\":{\"anchor\":\"x\",\"domain\":[0.0,0.475]},\"yaxis\":{\"anchor\":\"y\",\"domain\":[0.0,0.475]},\"xaxis2\":{\"anchor\":\"x2\",\"domain\":[0.525,0.975]},\"yaxis2\":{\"anchor\":\"y2\",\"domain\":[0.0,0.475]},\"xaxis3\":{\"anchor\":\"x3\",\"domain\":[0.0,0.475]},\"yaxis3\":{\"anchor\":\"y3\",\"domain\":[0.525,0.975]},\"xaxis4\":{\"anchor\":\"x4\",\"domain\":[0.525,0.975]},\"yaxis4\":{\"anchor\":\"y4\",\"domain\":[0.525,0.975]},\"grid\":{\"rows\":2,\"columns\":2},\"title_text\":\"Van Gogh: 5 Most Prominent Colors Shown Proportionally\",\"showlegend\":false,\"width\":1000.0,\"height\":500.0};\n",
       "            var config = {};\n",
       "            Plotly.newPlot('32d5e1bb-a005-4859-8a90-b143d209578d', data, layout, config);\r\n",
       "});\n",
       "            };\n",
       "            if ((typeof(requirejs) !==  typeof(Function)) || (typeof(requirejs.config) !== typeof(Function))) {\n",
       "                var script = document.createElement(\"script\");\n",
       "                script.setAttribute(\"src\", \"https://cdnjs.cloudflare.com/ajax/libs/require.js/2.3.6/require.min.js\");\n",
       "                script.onload = function(){\n",
       "                    renderPlotly_32d5e1bba00548598a90b143d209578d();\n",
       "                };\n",
       "                document.getElementsByTagName(\"head\")[0].appendChild(script);\n",
       "            }\n",
       "            else {\n",
       "                renderPlotly_32d5e1bba00548598a90b143d209578d();\n",
       "            }\r\n",
       "</script>\r\n"
      ]
     },
     "metadata": {}
    }
   ],
   "metadata": {
    "dotnet_interactive": {
     "language": "fsharp"
    }
   }
  },
  {
   "cell_type": "markdown",
   "source": [
    "## Plot chart with area proportional to total count"
   ],
   "metadata": {}
  },
  {
   "cell_type": "code",
   "execution_count": null,
   "source": [
    "#r \"nuget: Plotly.NET, 2.0.0-preview.6\"\r\n",
    "#r \"nuget: Plotly.NET.Interactive, 2.0.0-preview.6\"\r\n",
    "open Plotly.NET\r\n",
    "\r\n",
    "let labels = [\"Asia\"; \"Europe\"; \"Africa\"; \"Americas\"; \"Oceania\"]\r\n",
    "\r\n",
    "let layout =\r\n",
    "    let tmp = Layout()\r\n",
    "    tmp?title <- \"World GDP\"\r\n",
    "    tmp?width <- 1700.\r\n",
    "    tmp\r\n",
    "    \r\n",
    "let gdp1980 = \r\n",
    "    let tmp = Trace(\"pie\")\r\n",
    "    tmp?labels <- labels\r\n",
    "    tmp?domain <- Domain.init(Row = 1, Column = 2)\r\n",
    "    tmp?title <- \"World GDP 1980\"\r\n",
    "    tmp?scalegroup <- \"one\"\r\n",
    "    tmp?values <- [4.;7.;1.;7.;0.5]\r\n",
    "    tmp\r\n",
    "\r\n",
    "let gdp2007 = \r\n",
    "    let tmp = Trace(\"pie\")\r\n",
    "    tmp?labels <- labels\r\n",
    "    tmp?domain <- Domain.init(Row = 1, Column = 1)\r\n",
    "    tmp?title <- \"World GDP 2007\"\r\n",
    "    tmp?scalegroup <- \"one\"\r\n",
    "    tmp?values <- [21.;15.;3.;19.;1.]\r\n",
    "    tmp\r\n",
    "\r\n",
    "[\r\n",
    "    GenericChart.ofTraceObject(gdp1980)\r\n",
    "    GenericChart.ofTraceObject(gdp2007)\r\n",
    "]\r\n",
    "|> Chart.Combine\r\n",
    "|> Chart.withLayout(layout)\r\n",
    "|> Chart.withLayoutGrid(LayoutGrid.init(Rows = 1, Columns = 2))"
   ],
   "outputs": [
    {
     "output_type": "display_data",
     "data": {
      "text/html": [
       "<div><div></div><div></div><div><strong>Installed Packages</strong><ul><li><span>Plotly.NET, 2.0.0-preview.6</span></li><li><span>Plotly.NET.Interactive, 2.0.0-preview.6</span></li></ul></div></div>"
      ]
     },
     "metadata": {}
    },
    {
     "output_type": "display_data",
     "data": {
      "text/html": [
       "<div id=\"9d9b6a6e-2eb0-44e0-b754-ab0ae269bdd6\" style=\"width: 600px; height: 600px;\"><!-- Plotly chart will be drawn inside this DIV --></div>\r\n",
       "<script type=\"text/javascript\">\r\n",
       "\n",
       "            var renderPlotly_9d9b6a6e2eb044e0b754ab0ae269bdd6 = function() {\n",
       "            var fsharpPlotlyRequire = requirejs.config({context:'fsharp-plotly',paths:{plotly:'https://cdn.plot.ly/plotly-latest.min'}}) || require;\n",
       "            fsharpPlotlyRequire(['plotly'], function(Plotly) {\r\n",
       "\n",
       "            var data = [{\"type\":\"pie\",\"labels\":[\"Asia\",\"Europe\",\"Africa\",\"Americas\",\"Oceania\"],\"domain\":{\"row\":1,\"column\":2},\"title\":\"World GDP 1980\",\"scalegroup\":\"one\",\"values\":[4.0,7.0,1.0,7.0,0.5]},{\"type\":\"pie\",\"labels\":[\"Asia\",\"Europe\",\"Africa\",\"Americas\",\"Oceania\"],\"domain\":{\"row\":1,\"column\":1},\"title\":\"World GDP 2007\",\"scalegroup\":\"one\",\"values\":[21.0,15.0,3.0,19.0,1.0]}];\n",
       "            var layout = {\"title\":\"World GDP\",\"width\":1700.0,\"grid\":{\"rows\":1,\"columns\":2}};\n",
       "            var config = {};\n",
       "            Plotly.newPlot('9d9b6a6e-2eb0-44e0-b754-ab0ae269bdd6', data, layout, config);\r\n",
       "});\n",
       "            };\n",
       "            if ((typeof(requirejs) !==  typeof(Function)) || (typeof(requirejs.config) !== typeof(Function))) {\n",
       "                var script = document.createElement(\"script\");\n",
       "                script.setAttribute(\"src\", \"https://cdnjs.cloudflare.com/ajax/libs/require.js/2.3.6/require.min.js\");\n",
       "                script.onload = function(){\n",
       "                    renderPlotly_9d9b6a6e2eb044e0b754ab0ae269bdd6();\n",
       "                };\n",
       "                document.getElementsByTagName(\"head\")[0].appendChild(script);\n",
       "            }\n",
       "            else {\n",
       "                renderPlotly_9d9b6a6e2eb044e0b754ab0ae269bdd6();\n",
       "            }\r\n",
       "</script>\r\n"
      ]
     },
     "metadata": {}
    }
   ],
   "metadata": {
    "dotnet_interactive": {
     "language": "fsharp"
    }
   }
  },
  {
   "cell_type": "markdown",
   "source": [
    "## Sunburst charts"
   ],
   "metadata": {}
  },
  {
   "cell_type": "code",
   "execution_count": null,
   "source": [
    "#r \"nuget: Plotly.NET, 2.0.0-preview.6\"\r\n",
    "#r \"nuget: Plotly.NET.Interactive, 2.0.0-preview.6\"\r\n",
    "open Plotly.NET\r\n",
    "\r\n",
    "let labels = [\"Eve\"; \"Cain\"; \"Seth\"; \"Enos\"; \"Noam\"; \"Abel\"; \"Awan\"; \"Enoch\"; \"Azura\"]\r\n",
    "let parents = [\"\"; \"Eve\"; \"Eve\"; \"Seth\"; \"Seth\"; \"Eve\"; \"Eve\"; \"Awan\"; \"Eve\"]\r\n",
    "let values = [10.;14.;12.;10.;2.;6.;6.;4.;4.]\r\n",
    "\r\n",
    "let layout =\r\n",
    "    let tmp = Layout()\r\n",
    "    tmp?margin <- {|t = 0.; l = 0.;  r = 0.; b = 0.|}\r\n",
    "    tmp\r\n",
    "\r\n",
    "Chart.Sunburst(labels = labels, parents = parents, Values = values)\r\n",
    "|> Chart.withLayout(layout)"
   ],
   "outputs": [
    {
     "output_type": "display_data",
     "data": {
      "text/html": [
       "<div><div></div><div></div><div><strong>Installed Packages</strong><ul><li><span>Plotly.NET, 2.0.0-preview.6</span></li><li><span>Plotly.NET.Interactive, 2.0.0-preview.6</span></li></ul></div></div>"
      ]
     },
     "metadata": {}
    },
    {
     "output_type": "display_data",
     "data": {
      "text/html": [
       "<div id=\"796f57c9-d537-43d0-9c3d-cb57f0fe56a4\" style=\"width: 600px; height: 600px;\"><!-- Plotly chart will be drawn inside this DIV --></div>\r\n",
       "<script type=\"text/javascript\">\r\n",
       "\n",
       "            var renderPlotly_796f57c9d53743d09c3dcb57f0fe56a4 = function() {\n",
       "            var fsharpPlotlyRequire = requirejs.config({context:'fsharp-plotly',paths:{plotly:'https://cdn.plot.ly/plotly-latest.min'}}) || require;\n",
       "            fsharpPlotlyRequire(['plotly'], function(Plotly) {\r\n",
       "\n",
       "            var data = [{\"type\":\"sunburst\",\"labels\":[\"Eve\",\"Cain\",\"Seth\",\"Enos\",\"Noam\",\"Abel\",\"Awan\",\"Enoch\",\"Azura\"],\"parents\":[\"\",\"Eve\",\"Eve\",\"Seth\",\"Seth\",\"Eve\",\"Eve\",\"Awan\",\"Eve\"],\"values\":[10.0,14.0,12.0,10.0,2.0,6.0,6.0,4.0,4.0],\"marker\":{}}];\n",
       "            var layout = {\"margin\":{\"b\":0.0,\"l\":0.0,\"r\":0.0,\"t\":0.0}};\n",
       "            var config = {};\n",
       "            Plotly.newPlot('796f57c9-d537-43d0-9c3d-cb57f0fe56a4', data, layout, config);\r\n",
       "});\n",
       "            };\n",
       "            if ((typeof(requirejs) !==  typeof(Function)) || (typeof(requirejs.config) !== typeof(Function))) {\n",
       "                var script = document.createElement(\"script\");\n",
       "                script.setAttribute(\"src\", \"https://cdnjs.cloudflare.com/ajax/libs/require.js/2.3.6/require.min.js\");\n",
       "                script.onload = function(){\n",
       "                    renderPlotly_796f57c9d53743d09c3dcb57f0fe56a4();\n",
       "                };\n",
       "                document.getElementsByTagName(\"head\")[0].appendChild(script);\n",
       "            }\n",
       "            else {\n",
       "                renderPlotly_796f57c9d53743d09c3dcb57f0fe56a4();\n",
       "            }\r\n",
       "</script>\r\n"
      ]
     },
     "metadata": {}
    }
   ],
   "metadata": {
    "dotnet_interactive": {
     "language": "fsharp"
    }
   }
  }
 ],
 "metadata": {
  "orig_nbformat": 4,
  "language_info": {
   "file_extension": ".cs",
   "mimetype": "text/x-csharp",
   "name": "C#",
   "pygments_lexer": "csharp",
   "version": "9.0"
  },
  "kernelspec": {
   "display_name": ".NET (C#)",
   "language": "C#",
   "name": ".net-csharp"
  }
 },
 "nbformat": 4,
 "nbformat_minor": 2
}
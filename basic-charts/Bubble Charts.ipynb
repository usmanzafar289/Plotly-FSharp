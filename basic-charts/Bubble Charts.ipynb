{
 "cells": [
  {
   "cell_type": "code",
   "execution_count": null,
   "source": [
    "#r \"nuget: Plotly.NET, 2.0.0-preview.6\"\r\n",
    "#r \"nuget: newtonsoft.json\"\r\n",
    "#r \"nuget: Plotly.NET.Interactive, 2.0.0-preview.6\"\r\n",
    "open Plotly.NET"
   ],
   "outputs": [
    {
     "output_type": "display_data",
     "data": {
      "text/html": [
       "<div><div></div><div></div><div><strong>Installed Packages</strong><ul><li><span>newtonsoft.json, 13.0.1</span></li><li><span>Plotly.NET, 2.0.0-preview.6</span></li><li><span>Plotly.NET.Interactive, 2.0.0-preview.6</span></li></ul></div></div>"
      ]
     },
     "metadata": {}
    }
   ],
   "metadata": {
    "dotnet_interactive": {
     "language": "fsharp"
    }
   }
  },
  {
   "cell_type": "markdown",
   "source": [
    "## Simple Bubble Chart"
   ],
   "metadata": {}
  },
  {
   "cell_type": "code",
   "execution_count": null,
   "source": [
    "#r \"nuget: Plotly.NET, 2.0.0-preview.6\"\r\n",
    "#r \"nuget: Plotly.NET.Interactive, 2.0.0-preview.6\"\r\n",
    "open Plotly.NET\r\n",
    "\r\n",
    "Chart.Bubble([1;2;3;4], [10;11;12;13], [40;60;80;100])"
   ],
   "outputs": [
    {
     "output_type": "display_data",
     "data": {
      "text/html": [
       "<div><div></div><div></div><div><strong>Installed Packages</strong><ul><li><span>Plotly.NET, 2.0.0-preview.6</span></li><li><span>Plotly.NET.Interactive, 2.0.0-preview.6</span></li></ul></div></div>"
      ]
     },
     "metadata": {}
    },
    {
     "output_type": "display_data",
     "data": {
      "text/html": [
       "<div id=\"e1c1f127-1748-47cc-a75f-f6602f73f3c6\" style=\"width: 600px; height: 600px;\"><!-- Plotly chart will be drawn inside this DIV --></div>\r\n",
       "<script type=\"text/javascript\">\r\n",
       "\n",
       "            var renderPlotly_e1c1f127174847cca75ff6602f73f3c6 = function() {\n",
       "            var fsharpPlotlyRequire = requirejs.config({context:'fsharp-plotly',paths:{plotly:'https://cdn.plot.ly/plotly-latest.min'}}) || require;\n",
       "            fsharpPlotlyRequire(['plotly'], function(Plotly) {\r\n",
       "\n",
       "            var data = [{\"type\":\"scatter\",\"x\":[1,2,3,4],\"y\":[10,11,12,13],\"mode\":\"markers\",\"marker\":{\"size\":[40,60,80,100]}}];\n",
       "            var layout = {};\n",
       "            var config = {};\n",
       "            Plotly.newPlot('e1c1f127-1748-47cc-a75f-f6602f73f3c6', data, layout, config);\r\n",
       "});\n",
       "            };\n",
       "            if ((typeof(requirejs) !==  typeof(Function)) || (typeof(requirejs.config) !== typeof(Function))) {\n",
       "                var script = document.createElement(\"script\");\n",
       "                script.setAttribute(\"src\", \"https://cdnjs.cloudflare.com/ajax/libs/require.js/2.3.6/require.min.js\");\n",
       "                script.onload = function(){\n",
       "                    renderPlotly_e1c1f127174847cca75ff6602f73f3c6();\n",
       "                };\n",
       "                document.getElementsByTagName(\"head\")[0].appendChild(script);\n",
       "            }\n",
       "            else {\n",
       "                renderPlotly_e1c1f127174847cca75ff6602f73f3c6();\n",
       "            }\r\n",
       "</script>\r\n"
      ]
     },
     "metadata": {}
    }
   ],
   "metadata": {
    "dotnet_interactive": {
     "language": "fsharp"
    }
   }
  },
  {
   "cell_type": "markdown",
   "source": [
    "## Setting Marker Size and Color"
   ],
   "metadata": {}
  },
  {
   "cell_type": "code",
   "execution_count": null,
   "source": [
    "#r \"nuget: Plotly.NET, 2.0.0-preview.6\"\r\n",
    "#r \"nuget: Plotly.NET.Interactive, 2.0.0-preview.6\"\r\n",
    "open Plotly.NET\r\n",
    "\r\n",
    "let colors = [\"rgb(93, 164, 214)\"; \"rgb(255, 144, 14)\"; \"rgb(44, 160, 101)\"; \"rgb(255, 65, 54)\"]\r\n",
    "\r\n",
    "Chart.Bubble([1;2;3;4], [10;11;12;13], [40;60;80;100])\r\n",
    "|> GenericChart.mapTrace(fun x -> x.SetValue(\"mode\", \"markers\"); x.SetValue(\"marker\", {|color = colors; opacity = [1.; 0.8; 0.6; 0.4]; size = [40;60;80;100]|}); x)"
   ],
   "outputs": [
    {
     "output_type": "display_data",
     "data": {
      "text/html": [
       "<div><div></div><div></div><div><strong>Installed Packages</strong><ul><li><span>Plotly.NET, 2.0.0-preview.6</span></li><li><span>Plotly.NET.Interactive, 2.0.0-preview.6</span></li></ul></div></div>"
      ]
     },
     "metadata": {}
    },
    {
     "output_type": "display_data",
     "data": {
      "text/html": [
       "<div id=\"917f037d-f603-4e18-ac86-1e882a026420\" style=\"width: 600px; height: 600px;\"><!-- Plotly chart will be drawn inside this DIV --></div>\r\n",
       "<script type=\"text/javascript\">\r\n",
       "\n",
       "            var renderPlotly_917f037df6034e18ac861e882a026420 = function() {\n",
       "            var fsharpPlotlyRequire = requirejs.config({context:'fsharp-plotly',paths:{plotly:'https://cdn.plot.ly/plotly-latest.min'}}) || require;\n",
       "            fsharpPlotlyRequire(['plotly'], function(Plotly) {\r\n",
       "\n",
       "            var data = [{\"type\":\"scatter\",\"x\":[1,2,3,4],\"y\":[10,11,12,13],\"mode\":\"markers\",\"marker\":{\"color\":[\"rgb(93, 164, 214)\",\"rgb(255, 144, 14)\",\"rgb(44, 160, 101)\",\"rgb(255, 65, 54)\"],\"opacity\":[1.0,0.8,0.6,0.4],\"size\":[40,60,80,100]}}];\n",
       "            var layout = {};\n",
       "            var config = {};\n",
       "            Plotly.newPlot('917f037d-f603-4e18-ac86-1e882a026420', data, layout, config);\r\n",
       "});\n",
       "            };\n",
       "            if ((typeof(requirejs) !==  typeof(Function)) || (typeof(requirejs.config) !== typeof(Function))) {\n",
       "                var script = document.createElement(\"script\");\n",
       "                script.setAttribute(\"src\", \"https://cdnjs.cloudflare.com/ajax/libs/require.js/2.3.6/require.min.js\");\n",
       "                script.onload = function(){\n",
       "                    renderPlotly_917f037df6034e18ac861e882a026420();\n",
       "                };\n",
       "                document.getElementsByTagName(\"head\")[0].appendChild(script);\n",
       "            }\n",
       "            else {\n",
       "                renderPlotly_917f037df6034e18ac861e882a026420();\n",
       "            }\r\n",
       "</script>\r\n"
      ]
     },
     "metadata": {}
    }
   ],
   "metadata": {
    "dotnet_interactive": {
     "language": "fsharp"
    }
   }
  },
  {
   "cell_type": "markdown",
   "source": [
    "## Scaling the size of bubble charts"
   ],
   "metadata": {}
  },
  {
   "cell_type": "code",
   "execution_count": null,
   "source": [
    "#r \"nuget: Plotly.NET, 2.0.0-preview.6\"\r\n",
    "#r \"nuget: Plotly.NET.Interactive, 2.0.0-preview.6\"\r\n",
    "open Plotly.NET\r\n",
    "\r\n",
    "let sizes = [20.; 40.; 60.; 80.; 100.; 80.; 60.; 40.; 20.; 40.]\r\n",
    "let x = [1.; 2.; 3.; 4.; 5.; 6.; 7.; 8.; 9.; 10.]\r\n",
    "let y = [11.; 12.; 10.; 11.; 12.; 11.; 12.; 13.; 12.; 11.]\r\n",
    "Chart.Bubble(x, y, sizes)\r\n",
    "\r\n",
    "(*|> Chart.withMarker(Marker.init(//Opacity = [1.; 0.8; 0.6; 0.4],\r\n",
    "                                MultiSizes = sizes,\r\n",
    "                                Sizeref = 2. * (Seq.max sizes) / System.Math.Pow(40., 2.),\r\n",
    "                                Sizemode = StyleParam.SizeMode.Area,\r\n",
    "                                Sizemin = 4.0\r\n",
    "                                ))*)\r\n",
    "                                \r\n",
    "|> GenericChart.mapTrace(fun x -> x.SetValue(\"mode\", \"markers\"); \r\n",
    "                                  x.SetValue(\"marker\", {|opacity = [1.; 0.8; 0.6; 0.4]; \r\n",
    "                                                         size = sizes; \r\n",
    "                                                         sizemode = \"area\"; \r\n",
    "                                                         sizeref=(2.*(Seq.max sizes)/System.Math.Pow(40., 2.)); \r\n",
    "                                                         sizemin = 4|}); \r\n",
    "                                  x)"
   ],
   "outputs": [
    {
     "output_type": "display_data",
     "data": {
      "text/html": [
       "<div><div></div><div></div><div><strong>Installed Packages</strong><ul><li><span>Plotly.NET, 2.0.0-preview.6</span></li><li><span>Plotly.NET.Interactive, 2.0.0-preview.6</span></li></ul></div></div>"
      ]
     },
     "metadata": {}
    },
    {
     "output_type": "display_data",
     "data": {
      "text/html": [
       "<div id=\"4db89e6b-9a6b-483f-bbf5-6e1a1840b09d\" style=\"width: 600px; height: 600px;\"><!-- Plotly chart will be drawn inside this DIV --></div>\r\n",
       "<script type=\"text/javascript\">\r\n",
       "\n",
       "            var renderPlotly_4db89e6b9a6b483fbbf56e1a1840b09d = function() {\n",
       "            var fsharpPlotlyRequire = requirejs.config({context:'fsharp-plotly',paths:{plotly:'https://cdn.plot.ly/plotly-latest.min'}}) || require;\n",
       "            fsharpPlotlyRequire(['plotly'], function(Plotly) {\r\n",
       "\n",
       "            var data = [{\"type\":\"scatter\",\"x\":[1.0,2.0,3.0,4.0,5.0,6.0,7.0,8.0,9.0,10.0],\"y\":[11.0,12.0,10.0,11.0,12.0,11.0,12.0,13.0,12.0,11.0],\"mode\":\"markers\",\"marker\":{\"opacity\":[1.0,0.8,0.6,0.4],\"size\":[20.0,40.0,60.0,80.0,100.0,80.0,60.0,40.0,20.0,40.0],\"sizemin\":4,\"sizemode\":\"area\",\"sizeref\":0.125}}];\n",
       "            var layout = {};\n",
       "            var config = {};\n",
       "            Plotly.newPlot('4db89e6b-9a6b-483f-bbf5-6e1a1840b09d', data, layout, config);\r\n",
       "});\n",
       "            };\n",
       "            if ((typeof(requirejs) !==  typeof(Function)) || (typeof(requirejs.config) !== typeof(Function))) {\n",
       "                var script = document.createElement(\"script\");\n",
       "                script.setAttribute(\"src\", \"https://cdnjs.cloudflare.com/ajax/libs/require.js/2.3.6/require.min.js\");\n",
       "                script.onload = function(){\n",
       "                    renderPlotly_4db89e6b9a6b483fbbf56e1a1840b09d();\n",
       "                };\n",
       "                document.getElementsByTagName(\"head\")[0].appendChild(script);\n",
       "            }\n",
       "            else {\n",
       "                renderPlotly_4db89e6b9a6b483fbbf56e1a1840b09d();\n",
       "            }\r\n",
       "</script>\r\n"
      ]
     },
     "metadata": {}
    }
   ],
   "metadata": {
    "dotnet_interactive": {
     "language": "fsharp"
    }
   }
  },
  {
   "cell_type": "markdown",
   "source": [
    "## Hover Text with Bubble Charts"
   ],
   "metadata": {}
  },
  {
   "cell_type": "code",
   "execution_count": null,
   "source": [
    "let x=[1; 2; 3; 4]\r\n",
    "let y=[10; 11; 12; 13]\r\n",
    "\r\n",
    "let marker = Marker.init(MultiSizes=[40; 60; 80; 100])\r\n",
    "marker?color <- [\"rgb(93, 164, 214)\"; \"rgb(255, 144, 14)\";  \"rgb(44, 160, 101)\"; \"rgb(255, 65, 54)\"] //workaround\r\n",
    "\r\n",
    "let labels = [\"A<br>size: 40\"; \"B<br>size: 60\"; \"C<br>size: 80\"; \"D<br>size: 100\"];\r\n",
    "Chart.Scatter(x,y,StyleParam.Mode.Markers, Labels=labels)\r\n",
    "    |> Chart.withMarker(marker)\r\n"
   ],
   "outputs": [
    {
     "output_type": "display_data",
     "data": {
      "text/html": [
       "<div id=\"aa1055ca-84ba-4ff8-ad5f-2ba0ba198902\" style=\"width: 600px; height: 600px;\"><!-- Plotly chart will be drawn inside this DIV --></div>\r\n",
       "<script type=\"text/javascript\">\r\n",
       "\n",
       "            var renderPlotly_aa1055ca84ba4ff8ad5f2ba0ba198902 = function() {\n",
       "            var fsharpPlotlyRequire = requirejs.config({context:'fsharp-plotly',paths:{plotly:'https://cdn.plot.ly/plotly-latest.min'}}) || require;\n",
       "            fsharpPlotlyRequire(['plotly'], function(Plotly) {\r\n",
       "\n",
       "            var data = [{\"type\":\"scatter\",\"x\":[1,2,3,4],\"y\":[10,11,12,13],\"mode\":\"markers\",\"line\":{},\"marker\":{\"size\":[40,60,80,100],\"color\":[\"rgb(93, 164, 214)\",\"rgb(255, 144, 14)\",\"rgb(44, 160, 101)\",\"rgb(255, 65, 54)\"]},\"text\":[\"A<br>size: 40\",\"B<br>size: 60\",\"C<br>size: 80\",\"D<br>size: 100\"]}];\n",
       "            var layout = {};\n",
       "            var config = {};\n",
       "            Plotly.newPlot('aa1055ca-84ba-4ff8-ad5f-2ba0ba198902', data, layout, config);\r\n",
       "});\n",
       "            };\n",
       "            if ((typeof(requirejs) !==  typeof(Function)) || (typeof(requirejs.config) !== typeof(Function))) {\n",
       "                var script = document.createElement(\"script\");\n",
       "                script.setAttribute(\"src\", \"https://cdnjs.cloudflare.com/ajax/libs/require.js/2.3.6/require.min.js\");\n",
       "                script.onload = function(){\n",
       "                    renderPlotly_aa1055ca84ba4ff8ad5f2ba0ba198902();\n",
       "                };\n",
       "                document.getElementsByTagName(\"head\")[0].appendChild(script);\n",
       "            }\n",
       "            else {\n",
       "                renderPlotly_aa1055ca84ba4ff8ad5f2ba0ba198902();\n",
       "            }\r\n",
       "</script>\r\n"
      ]
     },
     "metadata": {}
    }
   ],
   "metadata": {
    "dotnet_interactive": {
     "language": "fsharp"
    }
   }
  },
  {
   "cell_type": "markdown",
   "source": [
    "## Bubble Charts with Colorscale"
   ],
   "metadata": {}
  },
  {
   "cell_type": "code",
   "execution_count": null,
   "source": [
    "let x=[1.; 3.2; 5.4; 7.6; 9.8; 12.5;]\r\n",
    "let y=[1.; 3.2; 5.4; 7.6; 9.8; 12.5;]\r\n",
    "\r\n",
    "let marker = Marker.init(MultiSizes=[15; 30; 55; 70; 90; 110],Showscale=true)\r\n",
    "marker?color <- [120; 125; 130; 135; 140; 145] //workaround\r\n",
    "\r\n",
    "Chart.Scatter(x,y,StyleParam.Mode.Markers)\r\n",
    "    |> Chart.withMarker(marker)\r\n"
   ],
   "outputs": [
    {
     "output_type": "display_data",
     "data": {
      "text/html": [
       "<div id=\"d913cefa-5808-4199-8be6-1000d93f132e\" style=\"width: 600px; height: 600px;\"><!-- Plotly chart will be drawn inside this DIV --></div>\r\n",
       "<script type=\"text/javascript\">\r\n",
       "\n",
       "            var renderPlotly_d913cefa580841998be61000d93f132e = function() {\n",
       "            var fsharpPlotlyRequire = requirejs.config({context:'fsharp-plotly',paths:{plotly:'https://cdn.plot.ly/plotly-latest.min'}}) || require;\n",
       "            fsharpPlotlyRequire(['plotly'], function(Plotly) {\r\n",
       "\n",
       "            var data = [{\"type\":\"scatter\",\"x\":[1.0,3.2,5.4,7.6,9.8,12.5],\"y\":[1.0,3.2,5.4,7.6,9.8,12.5],\"mode\":\"markers\",\"line\":{},\"marker\":{\"size\":[15,30,55,70,90,110],\"showscale\":true,\"color\":[120,125,130,135,140,145]}}];\n",
       "            var layout = {};\n",
       "            var config = {};\n",
       "            Plotly.newPlot('d913cefa-5808-4199-8be6-1000d93f132e', data, layout, config);\r\n",
       "});\n",
       "            };\n",
       "            if ((typeof(requirejs) !==  typeof(Function)) || (typeof(requirejs.config) !== typeof(Function))) {\n",
       "                var script = document.createElement(\"script\");\n",
       "                script.setAttribute(\"src\", \"https://cdnjs.cloudflare.com/ajax/libs/require.js/2.3.6/require.min.js\");\n",
       "                script.onload = function(){\n",
       "                    renderPlotly_d913cefa580841998be61000d93f132e();\n",
       "                };\n",
       "                document.getElementsByTagName(\"head\")[0].appendChild(script);\n",
       "            }\n",
       "            else {\n",
       "                renderPlotly_d913cefa580841998be61000d93f132e();\n",
       "            }\r\n",
       "</script>\r\n"
      ]
     },
     "metadata": {}
    }
   ],
   "metadata": {
    "dotnet_interactive": {
     "language": "fsharp"
    }
   }
  }
 ],
 "metadata": {
  "orig_nbformat": 4,
  "language_info": {
   "file_extension": ".cs",
   "mimetype": "text/x-csharp",
   "name": "C#",
   "pygments_lexer": "csharp",
   "version": "9.0"
  },
  "kernelspec": {
   "display_name": ".NET (C#)",
   "language": "C#",
   "name": ".net-csharp"
  }
 },
 "nbformat": 4,
 "nbformat_minor": 2
}
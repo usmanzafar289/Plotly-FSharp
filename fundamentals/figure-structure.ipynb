{
 "cells": [
  {
   "cell_type": "code",
   "execution_count": null,
   "source": [
    "#r \"nuget: Plotly.NET, *-*\"\r\n",
    "#r \"nuget: Plotly.NET.Interactive, *-*\""
   ],
   "outputs": [
    {
     "output_type": "display_data",
     "data": {
      "text/html": [
       "<div><div></div><div></div><div><strong>Installed Packages</strong><ul><li><span>Plotly.NET, 2.0.0-preview.7</span></li><li><span>Plotly.NET.Interactive, 2.0.0-preview.7</span></li></ul></div></div>"
      ]
     },
     "metadata": {}
    },
    {
     "output_type": "display_data",
     "data": {
      "text/markdown": [
       "Loading extensions from `Plotly.NET.Interactive.dll`"
      ]
     },
     "metadata": {}
    },
    {
     "output_type": "display_data",
     "data": {
      "text/markdown": [
       "Added Kernel Extension including formatters for Plotly.NET charts."
      ]
     },
     "metadata": {}
    }
   ],
   "metadata": {
    "dotnet_interactive": {
     "language": "fsharp"
    }
   }
  },
  {
   "cell_type": "markdown",
   "source": [
    "# Figure Data Structure"
   ],
   "metadata": {}
  },
  {
   "cell_type": "code",
   "execution_count": null,
   "source": [
    "open Plotly.NET\r\n",
    "\r\n",
    "let x  = [for i in 0..20 -> i]\r\n",
    "let y = [for i in 0..20 -> 2*i*2+3*i+10]\r\n",
    "\r\n",
    "let figure = Chart.Line(x,y)\r\n",
    "            |> Chart.withLayout(Layout.init(Width=500.0,Height=500.0))\r\n",
    "            |> GenericChart.toFigure\r\n",
    "\r\n",
    "figure.Layout.GetProperties(true)\r\n"
   ],
   "outputs": [
    {
     "output_type": "display_data",
     "data": {
      "text/html": [
       "<table><thead><tr><th><i>index</i></th><th>Key</th><th>Value</th></tr></thead><tbody><tr><td>0</td><td>width</td><td><div class=\"dni-plaintext\">500</div></td></tr><tr><td>1</td><td>height</td><td><div class=\"dni-plaintext\">500</div></td></tr></tbody></table>"
      ]
     },
     "metadata": {}
    }
   ],
   "metadata": {
    "dotnet_interactive": {
     "language": "fsharp"
    }
   }
  }
 ],
 "metadata": {
  "orig_nbformat": 4,
  "language_info": {
   "file_extension": ".cs",
   "mimetype": "text/x-csharp",
   "name": "C#",
   "pygments_lexer": "csharp",
   "version": "9.0"
  },
  "kernelspec": {
   "display_name": ".NET (C#)",
   "language": "C#",
   "name": ".net-csharp"
  }
 },
 "nbformat": 4,
 "nbformat_minor": 2
}
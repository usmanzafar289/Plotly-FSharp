{
 "cells": [
  {
   "cell_type": "code",
   "execution_count": null,
   "source": [
    "#r \"nuget: Plotly.NET, *-*\"\r\n",
    "#r \"nuget: Plotly.NET.Interactive, *-*\"\r\n",
    "    "
   ],
   "outputs": [
    {
     "output_type": "display_data",
     "data": {
      "text/html": [
       "<div><div></div><div></div><div><strong>Installed Packages</strong><ul><li><span>Plotly.NET, 2.0.0-preview.7</span></li><li><span>Plotly.NET.Interactive, 2.0.0-preview.7</span></li></ul></div></div>"
      ]
     },
     "metadata": {}
    },
    {
     "output_type": "display_data",
     "data": {
      "text/markdown": [
       "Loading extensions from `Plotly.NET.Interactive.dll`"
      ]
     },
     "metadata": {}
    },
    {
     "output_type": "display_data",
     "data": {
      "text/markdown": [
       "Added Kernel Extension including formatters for Plotly.NET charts."
      ]
     },
     "metadata": {}
    }
   ],
   "metadata": {
    "dotnet_interactive": {
     "language": "fsharp"
    }
   }
  },
  {
   "cell_type": "markdown",
   "source": [
    "# Built-in and Custom color scales"
   ],
   "metadata": {}
  },
  {
   "cell_type": "code",
   "execution_count": null,
   "source": [
    "open Plotly.NET \r\n",
    "\r\n",
    "let matrix =\r\n",
    "    [[1.;1.5;0.7;2.7];\r\n",
    "    [2.;0.5;1.2;1.4];\r\n",
    "    [0.1;2.6;2.4;3.0];]\r\n",
    "\r\n",
    "let rownames = [\"p3\";\"p2\";\"p1\"]\r\n",
    "let colnames = [\"Tp0\";\"Tp30\";\"Tp60\";\"Tp160\"]\r\n",
    "\r\n",
    "let colorscaleValue = \r\n",
    "    StyleParam.Colorscale.Custom [(0.0,\"#3D9970\");(1.0,\"#001f3f\")] //StyleParam.Colorscale.Blackbody or StyleParam.Colorscale.Bluered etc\r\n",
    "\r\n",
    "Chart.Heatmap(\r\n",
    "    data=matrix,ColNames=colnames,RowNames=rownames,\r\n",
    "    Colorscale=colorscaleValue,\r\n",
    "    Showscale=true\r\n",
    ")\r\n",
    "|> Chart.withSize(700.,500.)\r\n",
    "|> Chart.withMarginSize(Left=200.)\r\n"
   ],
   "outputs": [
    {
     "output_type": "stream",
     "name": "stdout",
     "text": [
      "Chart\n",
      "  (Plotly.NET.Trace, Plotly.NET.Layout, Plotly.NET.Config,\n",
      "   Plotly.NET.DisplayOptions)"
     ]
    }
   ],
   "metadata": {
    "dotnet_interactive": {
     "language": "fsharp"
    }
   }
  }
 ],
 "metadata": {
  "orig_nbformat": 4,
  "language_info": {
   "file_extension": ".cs",
   "mimetype": "text/x-csharp",
   "name": "C#",
   "pygments_lexer": "csharp",
   "version": "9.0"
  },
  "kernelspec": {
   "display_name": ".NET (C#)",
   "language": "C#",
   "name": ".net-csharp"
  }
 },
 "nbformat": 4,
 "nbformat_minor": 2
}
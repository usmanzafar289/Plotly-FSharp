{
 "cells": [
  {
   "cell_type": "code",
   "execution_count": null,
   "source": [
    "#r \"nuget: Plotly.NET, *-*\"\r\n",
    "#r \"nuget: Plotly.NET.Interactive, *-*\""
   ],
   "outputs": [
    {
     "output_type": "display_data",
     "data": {
      "text/html": [
       "<div><div></div><div></div><div><strong>Installed Packages</strong><ul><li><span>Plotly.NET, 2.0.0-preview.7</span></li><li><span>Plotly.NET.Interactive, 2.0.0-preview.7</span></li></ul></div></div>"
      ]
     },
     "metadata": {}
    },
    {
     "output_type": "display_data",
     "data": {
      "text/markdown": [
       "Loading extensions from `Plotly.NET.Interactive.dll`"
      ]
     },
     "metadata": {}
    },
    {
     "output_type": "display_data",
     "data": {
      "text/markdown": [
       "Added Kernel Extension including formatters for Plotly.NET charts."
      ]
     },
     "metadata": {}
    }
   ],
   "metadata": {
    "dotnet_interactive": {
     "language": "fsharp"
    }
   }
  },
  {
   "cell_type": "markdown",
   "source": [
    "# Two Y Axes"
   ],
   "metadata": {}
  },
  {
   "cell_type": "code",
   "execution_count": null,
   "source": [
    "open Plotly.NET\r\n",
    "open Plotly.NET.Axis\r\n",
    "\r\n",
    "let x = [for i in 0..10 -> i]\r\n",
    "let y1 = [for i in x -> Math.Pow(float i,2.0)]\r\n",
    "let y2 = [for i in x -> Math.Pow(float i,3.0)]\r\n",
    "\r\n",
    "[\r\n",
    "    Chart.Line(x,y1,Name=\"anchor 1\",ShowMarkers=true) |> Chart.withAxisAnchor(Y=1);\r\n",
    "    Chart.Line(x,y2,Name=\"anchor 2\",ShowMarkers=true) |> Chart.withAxisAnchor(Y=2)       \r\n",
    "]\r\n",
    "|> Chart.combine\r\n",
    "|> Chart.withLayout(Layout.init(Plot_bgcolor=\"#e5ecf6\"))\r\n",
    "|> Chart.withYAxisStyle(\r\n",
    "        \"axis 1\",\r\n",
    "        Side=StyleParam.Side.Left,\r\n",
    "        Id=StyleParam.SubPlotId.YAxis 1\r\n",
    "    )\r\n",
    "|> Chart.withYAxisStyle(\r\n",
    "        \"axis2\",\r\n",
    "        Side=StyleParam.Side.Right,\r\n",
    "        Id=StyleParam.SubPlotId.YAxis 2,\r\n",
    "        Overlaying=StyleParam.LinearAxisId.Y 1\r\n",
    "    )"
   ],
   "outputs": [
    {
     "output_type": "display_data",
     "data": {
      "text/html": [
       "<div id=\"e3d22e85-d08a-40ff-bfe6-2f7cd442d0d3\" style=\"width: 600px; height: 600px;\"><!-- Plotly chart will be drawn inside this DIV --></div>\r\n",
       "<script type=\"text/javascript\">\r\n",
       "\n",
       "            var renderPlotly_e3d22e85d08a40ffbfe62f7cd442d0d3 = function() {\n",
       "            var fsharpPlotlyRequire = requirejs.config({context:'fsharp-plotly',paths:{plotly:'https://cdn.plot.ly/plotly-latest.min'}}) || require;\n",
       "            fsharpPlotlyRequire(['plotly'], function(Plotly) {\r\n",
       "\n",
       "            var data = [{\"type\":\"scatter\",\"x\":[0,1,2,3,4,5,6,7,8,9,10],\"y\":[0.0,1.0,4.0,9.0,16.0,25.0,36.0,49.0,64.0,81.0,100.0],\"mode\":\"lines+markers\",\"line\":{},\"name\":\"anchor 1\",\"marker\":{},\"yaxis\":\"y\"},{\"type\":\"scatter\",\"x\":[0,1,2,3,4,5,6,7,8,9,10],\"y\":[0.0,1.0,8.0,27.0,64.0,125.0,216.0,343.0,512.0,729.0,1000.0],\"mode\":\"lines+markers\",\"line\":{},\"name\":\"anchor 2\",\"marker\":{},\"yaxis\":\"y2\"}];\n",
       "            var layout = {\"plot_bgcolor\":\"#e5ecf6\",\"yaxis\":{\"title\":{\"text\":\"axis 1\"},\"side\":\"left\"},\"yaxis2\":{\"title\":{\"text\":\"axis2\"},\"side\":\"right\",\"overlaying\":\"y\"}};\n",
       "            var config = {};\n",
       "            Plotly.newPlot('e3d22e85-d08a-40ff-bfe6-2f7cd442d0d3', data, layout, config);\r\n",
       "});\n",
       "            };\n",
       "            if ((typeof(requirejs) !==  typeof(Function)) || (typeof(requirejs.config) !== typeof(Function))) {\n",
       "                var script = document.createElement(\"script\");\n",
       "                script.setAttribute(\"src\", \"https://cdnjs.cloudflare.com/ajax/libs/require.js/2.3.6/require.min.js\");\n",
       "                script.onload = function(){\n",
       "                    renderPlotly_e3d22e85d08a40ffbfe62f7cd442d0d3();\n",
       "                };\n",
       "                document.getElementsByTagName(\"head\")[0].appendChild(script);\n",
       "            }\n",
       "            else {\n",
       "                renderPlotly_e3d22e85d08a40ffbfe62f7cd442d0d3();\n",
       "            }\r\n",
       "</script>\r\n"
      ]
     },
     "metadata": {}
    }
   ],
   "metadata": {
    "dotnet_interactive": {
     "language": "fsharp"
    }
   }
  },
  {
   "cell_type": "markdown",
   "source": [
    "# Multiple Axes"
   ],
   "metadata": {}
  },
  {
   "cell_type": "code",
   "execution_count": null,
   "source": [
    "[\r\n",
    "    for i in 1..4 -> \r\n",
    "                    Chart.Line(x=[for j in i..(i+4) -> j],y=[for j in i..(i+4) -> 2*j*j+3*j],Name=String.Format(\"anchor {0}\",i),ShowMarkers=true ) \r\n",
    "                    |> Chart.withAxisAnchor(Y=i)      \r\n",
    "]\r\n",
    "|> Chart.combine\r\n",
    "|> Chart.withXAxisStyle(\"x-axis\",Domain=(0.3, 0.7))\r\n",
    "|> Chart.withLayout(Layout.init(Plot_bgcolor=\"#e5ecf6\"))\r\n",
    "|> Chart.withYAxisStyle(\r\n",
    "        \"y axis 1\",\r\n",
    "        Side=StyleParam.Side.Left,\r\n",
    "        Id=StyleParam.SubPlotId.YAxis 1\r\n",
    "    )\r\n",
    "|> Chart.withYAxisStyle(\r\n",
    "        \"y axis 2\",\r\n",
    "        Side=StyleParam.Side.Left,\r\n",
    "        Id=StyleParam.SubPlotId.YAxis 2,\r\n",
    "        Position= 0.1,        \r\n",
    "        Overlaying=StyleParam.LinearAxisId.Y 1\r\n",
    "    )\r\n",
    "|> Chart.withYAxisStyle(\r\n",
    "        \"y axis 3\",\r\n",
    "        Side=StyleParam.Side.Right,\r\n",
    "        Id=StyleParam.SubPlotId.YAxis 3,\r\n",
    "        Overlaying=StyleParam.LinearAxisId.Y 1   \r\n",
    "    )\r\n",
    "|> Chart.withYAxisStyle(\r\n",
    "        \"y axis 4\",\r\n",
    "        Side=StyleParam.Side.Right,\r\n",
    "        Id=StyleParam.SubPlotId.YAxis 4,\r\n",
    "        Position= 0.85,\r\n",
    "        Overlaying=StyleParam.LinearAxisId.Y 1\r\n",
    "    )\r\n",
    "    "
   ],
   "outputs": [
    {
     "output_type": "display_data",
     "data": {
      "text/html": [
       "<div id=\"204847c7-6e5a-472c-bedf-351442c16647\" style=\"width: 600px; height: 600px;\"><!-- Plotly chart will be drawn inside this DIV --></div>\r\n",
       "<script type=\"text/javascript\">\r\n",
       "\n",
       "            var renderPlotly_204847c76e5a472cbedf351442c16647 = function() {\n",
       "            var fsharpPlotlyRequire = requirejs.config({context:'fsharp-plotly',paths:{plotly:'https://cdn.plot.ly/plotly-latest.min'}}) || require;\n",
       "            fsharpPlotlyRequire(['plotly'], function(Plotly) {\r\n",
       "\n",
       "            var data = [{\"type\":\"scatter\",\"x\":[1,2,3,4,5],\"y\":[5,14,27,44,65],\"mode\":\"lines+markers\",\"line\":{},\"name\":\"anchor 1\",\"marker\":{},\"yaxis\":\"y\"},{\"type\":\"scatter\",\"x\":[2,3,4,5,6],\"y\":[14,27,44,65,90],\"mode\":\"lines+markers\",\"line\":{},\"name\":\"anchor 2\",\"marker\":{},\"yaxis\":\"y2\"},{\"type\":\"scatter\",\"x\":[3,4,5,6,7],\"y\":[27,44,65,90,119],\"mode\":\"lines+markers\",\"line\":{},\"name\":\"anchor 3\",\"marker\":{},\"yaxis\":\"y3\"},{\"type\":\"scatter\",\"x\":[4,5,6,7,8],\"y\":[44,65,90,119,152],\"mode\":\"lines+markers\",\"line\":{},\"name\":\"anchor 4\",\"marker\":{},\"yaxis\":\"y4\"}];\n",
       "            var layout = {\"xaxis\":{\"title\":{\"text\":\"x-axis\"},\"domain\":[0.3,0.7]},\"plot_bgcolor\":\"#e5ecf6\",\"yaxis\":{\"title\":{\"text\":\"y axis 1\"},\"side\":\"left\"},\"yaxis2\":{\"title\":{\"text\":\"y axis 2\"},\"side\":\"left\",\"overlaying\":\"y\",\"position\":0.1},\"yaxis3\":{\"title\":{\"text\":\"y axis 3\"},\"side\":\"right\",\"overlaying\":\"y\"},\"yaxis4\":{\"title\":{\"text\":\"y axis 4\"},\"side\":\"right\",\"overlaying\":\"y\",\"position\":0.85}};\n",
       "            var config = {};\n",
       "            Plotly.newPlot('204847c7-6e5a-472c-bedf-351442c16647', data, layout, config);\r\n",
       "});\n",
       "            };\n",
       "            if ((typeof(requirejs) !==  typeof(Function)) || (typeof(requirejs.config) !== typeof(Function))) {\n",
       "                var script = document.createElement(\"script\");\n",
       "                script.setAttribute(\"src\", \"https://cdnjs.cloudflare.com/ajax/libs/require.js/2.3.6/require.min.js\");\n",
       "                script.onload = function(){\n",
       "                    renderPlotly_204847c76e5a472cbedf351442c16647();\n",
       "                };\n",
       "                document.getElementsByTagName(\"head\")[0].appendChild(script);\n",
       "            }\n",
       "            else {\n",
       "                renderPlotly_204847c76e5a472cbedf351442c16647();\n",
       "            }\r\n",
       "</script>\r\n"
      ]
     },
     "metadata": {}
    }
   ],
   "metadata": {
    "dotnet_interactive": {
     "language": "fsharp"
    }
   }
  },
  {
   "cell_type": "markdown",
   "source": [
    "# Multiple Y-Axes Subplots"
   ],
   "metadata": {}
  },
  {
   "cell_type": "code",
   "execution_count": null,
   "source": [
    "// open Plotly.NET\r\n",
    "\r\n",
    "// let x = [for i in 0..10 -> i]\r\n",
    "// let y = [for i in x -> Math.Pow(float i,2.0)]\r\n",
    "// let y2 = [for i in x -> Math.Pow(float i,3.0)]\r\n",
    "\r\n",
    "// [\r\n",
    "//     [\r\n",
    "//         Chart.Point(x,y,Name=\"1,1\") |> Chart.withAxisAnchor(Y=1) \r\n",
    "//         Chart.Point(x,y2,Name=\"1,2\") |> Chart.withAxisAnchor(Y=2) \r\n",
    "//     ]|>\r\n",
    "//     Chart.combine\r\n",
    "//     |> Chart.withYAxisStyle(\"y1\",Side=StyleParam.Side.Left,Id=StyleParam.SubPlotId.YAxis 1)    \r\n",
    "//     |> Chart.withYAxisStyle(\"y2\", Side=StyleParam.Side.Right,Id=StyleParam.SubPlotId.YAxis 2)\r\n",
    "\r\n",
    "//     Chart.Invisible()\r\n",
    "\r\n",
    "// ]\r\n",
    "// |> Chart.Grid(2,2)\r\n",
    "\r\n",
    "\r\n",
    "\r\n",
    "// let getChart i =\r\n",
    "//     [\r\n",
    "//         Chart.Line(x,y1,Name=\"anchor \"+string i,ShowMarkers=true) |> Chart.withAxisAnchor(Y=i);\r\n",
    "//         Chart.Line(x,y2,Name=\"anchor \"+string (i+1),ShowMarkers=true) |> Chart.withAxisAnchor(Y=i+1)       \r\n",
    "//     ]\r\n",
    "//     |> Chart.combine\r\n",
    "//     |> Chart.withLayout(Layout.init(Plot_bgcolor=\"#e5ecf6\"))\r\n",
    "//     |> Chart.withYAxisStyle(\r\n",
    "//             \"axis 1\",\r\n",
    "//             Side=StyleParam.Side.Left,\r\n",
    "//             Id=StyleParam.SubPlotId.YAxis i\r\n",
    "//         )\r\n",
    "//     |> Chart.withYAxisStyle(\r\n",
    "//             \"axis 2\",\r\n",
    "//             Side=StyleParam.Side.Right,\r\n",
    "//             Id=StyleParam.SubPlotId.YAxis (i+1),\r\n",
    "//             Overlaying=StyleParam.LinearAxisId.Y 1\r\n",
    "//         )\r\n",
    "\r\n",
    "// let grid = \r\n",
    "//     [\r\n",
    "//         for i in 1..1 -> (getChart i)\r\n",
    "//     ]\r\n",
    "//     |> Chart.Grid(2,2)\r\n",
    "\r\n",
    "// grid\r\n"
   ],
   "outputs": [
    {
     "output_type": "display_data",
     "data": {
      "text/html": [
       "<div id=\"8df8e422-c188-49f6-b384-188c78406c05\" style=\"width: 600px; height: 600px;\"><!-- Plotly chart will be drawn inside this DIV --></div>\r\n",
       "<script type=\"text/javascript\">\r\n",
       "\n",
       "            var renderPlotly_8df8e422c18849f6b384188c78406c05 = function() {\n",
       "            var fsharpPlotlyRequire = requirejs.config({context:'fsharp-plotly',paths:{plotly:'https://cdn.plot.ly/plotly-latest.min'}}) || require;\n",
       "            fsharpPlotlyRequire(['plotly'], function(Plotly) {\r\n",
       "\n",
       "            var data = [{\"type\":\"scatter\",\"x\":[0,1,2,3,4,5,6,7,8,9,10],\"y\":[0.0,1.0,4.0,9.0,16.0,25.0,36.0,49.0,64.0,81.0,100.0],\"mode\":\"markers\",\"name\":\"1,1\",\"marker\":{},\"yaxis\":\"y\",\"xaxis\":\"x\"},{\"type\":\"scatter\",\"x\":[0,1,2,3,4,5,6,7,8,9,10],\"y\":[0.0,1.0,8.0,27.0,64.0,125.0,216.0,343.0,512.0,729.0,1000.0],\"mode\":\"markers\",\"name\":\"1,2\",\"marker\":{},\"yaxis\":\"y\",\"xaxis\":\"x\"},{\"type\":null,\"xaxis\":\"x2\",\"yaxis\":\"y2\"}];\n",
       "            var layout = {\"yaxis\":{\"title\":{\"text\":\"y1\"},\"side\":\"left\"},\"yaxis2\":{\"title\":{\"text\":\"y2\"},\"side\":\"right\",\"showticklabels\":false,\"showline\":false,\"showgrid\":false,\"zeroline\":false},\"xaxis\":{},\"xaxis2\":{\"showticklabels\":false,\"showline\":false,\"showgrid\":false,\"zeroline\":false},\"grid\":{\"rows\":2,\"columns\":2,\"pattern\":\"independent\"}};\n",
       "            var config = {};\n",
       "            Plotly.newPlot('8df8e422-c188-49f6-b384-188c78406c05', data, layout, config);\r\n",
       "});\n",
       "            };\n",
       "            if ((typeof(requirejs) !==  typeof(Function)) || (typeof(requirejs.config) !== typeof(Function))) {\n",
       "                var script = document.createElement(\"script\");\n",
       "                script.setAttribute(\"src\", \"https://cdnjs.cloudflare.com/ajax/libs/require.js/2.3.6/require.min.js\");\n",
       "                script.onload = function(){\n",
       "                    renderPlotly_8df8e422c18849f6b384188c78406c05();\n",
       "                };\n",
       "                document.getElementsByTagName(\"head\")[0].appendChild(script);\n",
       "            }\n",
       "            else {\n",
       "                renderPlotly_8df8e422c18849f6b384188c78406c05();\n",
       "            }\r\n",
       "</script>\r\n"
      ]
     },
     "metadata": {}
    }
   ],
   "metadata": {
    "dotnet_interactive": {
     "language": "fsharp"
    }
   }
  }
 ],
 "metadata": {
  "orig_nbformat": 4,
  "language_info": {
   "file_extension": ".cs",
   "mimetype": "text/x-csharp",
   "name": "C#",
   "pygments_lexer": "csharp",
   "version": "9.0"
  },
  "kernelspec": {
   "display_name": ".NET (C#)",
   "language": "C#",
   "name": ".net-csharp"
  }
 },
 "nbformat": 4,
 "nbformat_minor": 2
}
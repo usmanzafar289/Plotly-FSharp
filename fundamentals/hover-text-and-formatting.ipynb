{
 "cells": [
  {
   "cell_type": "code",
   "execution_count": null,
   "source": [
    "#r \"nuget: Plotly.NET, *-*\"\r\n",
    "#r \"nuget: Plotly.NET.Interactive, *-*\""
   ],
   "outputs": [
    {
     "output_type": "display_data",
     "data": {
      "text/html": [
       "<div><div></div><div></div><div><strong>Installed Packages</strong><ul><li><span>Plotly.NET, 2.0.0-preview.7</span></li><li><span>Plotly.NET.Interactive, 2.0.0-preview.7</span></li></ul></div></div>"
      ]
     },
     "metadata": {}
    },
    {
     "output_type": "display_data",
     "data": {
      "text/markdown": [
       "Loading extensions from `Plotly.NET.Interactive.dll`"
      ]
     },
     "metadata": {}
    },
    {
     "output_type": "display_data",
     "data": {
      "text/markdown": [
       "Added Kernel Extension including formatters for Plotly.NET charts."
      ]
     },
     "metadata": {}
    }
   ],
   "metadata": {
    "dotnet_interactive": {
     "language": "fsharp"
    }
   }
  },
  {
   "cell_type": "markdown",
   "source": [
    "# Hover Labels"
   ],
   "metadata": {}
  },
  {
   "cell_type": "code",
   "execution_count": null,
   "source": [
    "open Plotly.NET\r\n",
    "\r\n",
    "let x = [for i in 0..10 -> i]\r\n",
    "let y = [for i in x -> i*2]\r\n",
    "let labels = [for i in x -> \"Text \"+ string i]\r\n",
    "\r\n",
    "Chart.Point(x,y,Labels=labels)"
   ],
   "outputs": [
    {
     "output_type": "display_data",
     "data": {
      "text/html": [
       "<div id=\"834f678e-9574-4bcb-8d66-b271e8507bb0\" style=\"width: 600px; height: 600px;\"><!-- Plotly chart will be drawn inside this DIV --></div>\r\n",
       "<script type=\"text/javascript\">\r\n",
       "\n",
       "            var renderPlotly_834f678e95744bcb8d66b271e8507bb0 = function() {\n",
       "            var fsharpPlotlyRequire = requirejs.config({context:'fsharp-plotly',paths:{plotly:'https://cdn.plot.ly/plotly-latest.min'}}) || require;\n",
       "            fsharpPlotlyRequire(['plotly'], function(Plotly) {\r\n",
       "\n",
       "            var data = [{\"type\":\"scatter\",\"x\":[0,1,2,3,4,5,6,7,8,9,10],\"y\":[0,2,4,6,8,10,12,14,16,18,20],\"mode\":\"markers\",\"marker\":{},\"text\":[\"Text 0\",\"Text 1\",\"Text 2\",\"Text 3\",\"Text 4\",\"Text 5\",\"Text 6\",\"Text 7\",\"Text 8\",\"Text 9\",\"Text 10\"]}];\n",
       "            var layout = {};\n",
       "            var config = {};\n",
       "            Plotly.newPlot('834f678e-9574-4bcb-8d66-b271e8507bb0', data, layout, config);\r\n",
       "});\n",
       "            };\n",
       "            if ((typeof(requirejs) !==  typeof(Function)) || (typeof(requirejs.config) !== typeof(Function))) {\n",
       "                var script = document.createElement(\"script\");\n",
       "                script.setAttribute(\"src\", \"https://cdnjs.cloudflare.com/ajax/libs/require.js/2.3.6/require.min.js\");\n",
       "                script.onload = function(){\n",
       "                    renderPlotly_834f678e95744bcb8d66b271e8507bb0();\n",
       "                };\n",
       "                document.getElementsByTagName(\"head\")[0].appendChild(script);\n",
       "            }\n",
       "            else {\n",
       "                renderPlotly_834f678e95744bcb8d66b271e8507bb0();\n",
       "            }\r\n",
       "</script>\r\n"
      ]
     },
     "metadata": {}
    }
   ],
   "metadata": {
    "dotnet_interactive": {
     "language": "fsharp"
    }
   }
  },
  {
   "cell_type": "markdown",
   "source": [
    "# Customizing Hover Mode"
   ],
   "metadata": {}
  },
  {
   "cell_type": "code",
   "execution_count": null,
   "source": [
    "open Plotly.NET\r\n",
    "\r\n",
    "let x = [for i in 0..10 -> i]\r\n",
    "let y1 = [for i in x -> 2.0*Math.Cos(float i)]\r\n",
    "let y2 = [for i in x -> 5.0*Math.Sin(float i)]\r\n",
    "\r\n",
    "let labels = [for i in x -> \"Text \"+ string i]\r\n",
    "\r\n",
    "[\r\n",
    "Chart.Line(x,y1,Labels=labels,ShowMarkers=true);\r\n",
    "Chart.Line(x,y2,Labels=labels,ShowMarkers=true);\r\n",
    "]\r\n",
    "|> Chart.combine\r\n",
    "|> Chart.withLayout(Layout.init(Hovermode=StyleParam.HoverMode.X))"
   ],
   "outputs": [
    {
     "output_type": "display_data",
     "data": {
      "text/html": [
       "<div id=\"43b31428-91f9-420b-b2ef-486d7aa0e7b1\" style=\"width: 600px; height: 600px;\"><!-- Plotly chart will be drawn inside this DIV --></div>\r\n",
       "<script type=\"text/javascript\">\r\n",
       "\n",
       "            var renderPlotly_43b3142891f9420bb2ef486d7aa0e7b1 = function() {\n",
       "            var fsharpPlotlyRequire = requirejs.config({context:'fsharp-plotly',paths:{plotly:'https://cdn.plot.ly/plotly-latest.min'}}) || require;\n",
       "            fsharpPlotlyRequire(['plotly'], function(Plotly) {\r\n",
       "\n",
       "            var data = [{\"type\":\"scatter\",\"x\":[0,1,2,3,4,5,6,7,8,9,10],\"y\":[2.0,1.0806046117362795,-0.8322936730942848,-1.9799849932008908,-1.3072872417272239,0.5673243709264525,1.920340573300732,1.5078045086866092,-0.2910000676172271,-1.8222605237693539,-1.6781430581529049],\"mode\":\"lines+markers\",\"line\":{},\"marker\":{},\"text\":[\"Text 0\",\"Text 1\",\"Text 2\",\"Text 3\",\"Text 4\",\"Text 5\",\"Text 6\",\"Text 7\",\"Text 8\",\"Text 9\",\"Text 10\"]},{\"type\":\"scatter\",\"x\":[0,1,2,3,4,5,6,7,8,9,10],\"y\":[0.0,4.207354924039483,4.546487134128409,0.7056000402993361,-3.7840124765396412,-4.794621373315692,-1.3970774909946293,3.2849329935939453,4.946791233116909,2.060592426208783,-2.7201055544468487],\"mode\":\"lines\",\"line\":{},\"marker\":{},\"text\":[\"Text 0\",\"Text 1\",\"Text 2\",\"Text 3\",\"Text 4\",\"Text 5\",\"Text 6\",\"Text 7\",\"Text 8\",\"Text 9\",\"Text 10\"]}];\n",
       "            var layout = {\"hovermode\":\"x\"};\n",
       "            var config = {};\n",
       "            Plotly.newPlot('43b31428-91f9-420b-b2ef-486d7aa0e7b1', data, layout, config);\r\n",
       "});\n",
       "            };\n",
       "            if ((typeof(requirejs) !==  typeof(Function)) || (typeof(requirejs.config) !== typeof(Function))) {\n",
       "                var script = document.createElement(\"script\");\n",
       "                script.setAttribute(\"src\", \"https://cdnjs.cloudflare.com/ajax/libs/require.js/2.3.6/require.min.js\");\n",
       "                script.onload = function(){\n",
       "                    renderPlotly_43b3142891f9420bb2ef486d7aa0e7b1();\n",
       "                };\n",
       "                document.getElementsByTagName(\"head\")[0].appendChild(script);\n",
       "            }\n",
       "            else {\n",
       "                renderPlotly_43b3142891f9420bb2ef486d7aa0e7b1();\n",
       "            }\r\n",
       "</script>\r\n"
      ]
     },
     "metadata": {}
    }
   ],
   "metadata": {
    "dotnet_interactive": {
     "language": "fsharp"
    }
   }
  }
 ],
 "metadata": {
  "orig_nbformat": 4,
  "language_info": {
   "file_extension": ".cs",
   "mimetype": "text/x-csharp",
   "name": "C#",
   "pygments_lexer": "csharp",
   "version": "9.0"
  },
  "kernelspec": {
   "display_name": ".NET (C#)",
   "language": "C#",
   "name": ".net-csharp"
  }
 },
 "nbformat": 4,
 "nbformat_minor": 2
}
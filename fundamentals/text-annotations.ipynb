{
 "metadata": {
  "kernelspec": {
   "display_name": ".NET (F#)",
   "language": "F#",
   "name": ".net-fsharp"
  },
  "language_info": {
   "name": "F#"
  }
 },
 "cells": [
  {
   "cell_type": "code",
   "execution_count": null,
   "source": [
    "#r \"nuget: Plotly.NET, 2.0.0-preview.6\"\r\n",
    "#r \"nuget: newtonsoft.json\"\r\n",
    "#r \"nuget: Plotly.NET.Interactive, 2.0.0-preview.6\"\r\n",
    "open Plotly.NET"
   ],
   "outputs": [
    {
     "data": {
      "text/html": [
       "<div><div></div><div></div><div><strong>Installed Packages</strong><ul><li><span>newtonsoft.json, 13.0.1</span></li><li><span>Plotly.NET, 2.0.0-preview.6</span></li><li><span>Plotly.NET.Interactive, 2.0.0-preview.6</span></li></ul></div></div>"
      ]
     },
     "metadata": {},
     "output_type": "display_data"
    },
    {
     "data": {
      "text/markdown": [
       "Loading extensions from `Plotly.NET.Interactive.dll`"
      ]
     },
     "metadata": {},
     "output_type": "display_data"
    },
    {
     "data": {
      "text/markdown": [
       "Added Kernel Extension including formatters for Plotly.NET charts."
      ]
     },
     "metadata": {},
     "output_type": "display_data"
    }
   ],
   "metadata": {
    "dotnet_interactive": {
     "language": "fsharp"
    }
   }
  },
  {
   "cell_type": "markdown",
   "source": [
    "# Text on scatter plots with Graph Objects\r\n"
   ],
   "metadata": {}
  },
  {
   "cell_type": "code",
   "execution_count": null,
   "source": [
    "let x=[|0; 1; 2;|]\r\n",
    "[\r\n",
    "Chart.Scatter(x,[|1; 1; 1|], StyleParam.Mode.Lines, Name=\"Lines, Markers and Text\")\r\n",
    "// |> GenericChart.mapTrace(fun x -> \r\n",
    "//         x.SetValue(\"text\",[\r\n",
    "//              \"Text A\";\r\n",
    "//              \"Text B\";\r\n",
    "//              \"Text C\";\r\n",
    "//              ])   \r\n",
    "//         x)\r\n",
    "Chart.Scatter(x,[|2; 2; 2; 1|], StyleParam.Mode.Lines,Name=\"Markers and Text\")\r\n",
    " ]\r\n",
    "|> Chart.Combine"
   ],
   "outputs": [
    {
     "output_type": "display_data",
     "data": {
      "text/html": [
       "<div id=\"fbc64ccc-d181-401c-a9ba-8f41ce4898de\" style=\"width: 600px; height: 600px;\"><!-- Plotly chart will be drawn inside this DIV --></div>\r\n",
       "<script type=\"text/javascript\">\r\n",
       "\n",
       "            var renderPlotly_fbc64cccd181401ca9ba8f41ce4898de = function() {\n",
       "            var fsharpPlotlyRequire = requirejs.config({context:'fsharp-plotly',paths:{plotly:'https://cdn.plot.ly/plotly-latest.min'}}) || require;\n",
       "            fsharpPlotlyRequire(['plotly'], function(Plotly) {\r\n",
       "\n",
       "            var data = [{\"type\":\"scatter\",\"x\":[0,1,2],\"y\":[1,1,1],\"mode\":\"lines\",\"name\":\"Lines, Markers and Text\",\"line\":{},\"marker\":{},\"text\":[\"Text A\",\"Text B\",\"Text C\"]},{\"type\":\"scatter\",\"x\":[0,1,2],\"y\":[2,2,2,1],\"mode\":\"lines\",\"name\":\"Markers and Text\",\"line\":{},\"marker\":{}}];\n",
       "            var layout = {};\n",
       "            var config = {};\n",
       "            Plotly.newPlot('fbc64ccc-d181-401c-a9ba-8f41ce4898de', data, layout, config);\r\n",
       "});\n",
       "            };\n",
       "            if ((typeof(requirejs) !==  typeof(Function)) || (typeof(requirejs.config) !== typeof(Function))) {\n",
       "                var script = document.createElement(\"script\");\n",
       "                script.setAttribute(\"src\", \"https://cdnjs.cloudflare.com/ajax/libs/require.js/2.3.6/require.min.js\");\n",
       "                script.onload = function(){\n",
       "                    renderPlotly_fbc64cccd181401ca9ba8f41ce4898de();\n",
       "                };\n",
       "                document.getElementsByTagName(\"head\")[0].appendChild(script);\n",
       "            }\n",
       "            else {\n",
       "                renderPlotly_fbc64cccd181401ca9ba8f41ce4898de();\n",
       "            }\r\n",
       "</script>\r\n"
      ]
     },
     "metadata": {}
    }
   ],
   "metadata": {
    "dotnet_interactive": {
     "language": "fsharp"
    }
   }
  },
  {
   "cell_type": "markdown",
   "source": [
    "# Text Annotations\r\n"
   ],
   "metadata": {}
  },
  {
   "cell_type": "code",
   "execution_count": null,
   "source": [
    "let x=[|0;1; 2; 3; 4; 5;6;7;8;|]\r\n",
    "let layout =\r\n",
    "    let temp = Layout()\r\n",
    "    temp?annotations <- [{|text = \"Text annotation with arrow\"; x = 2; y = 5;showarrow = true; arrowhead = 1|};\r\n",
    "                          {|text = \"Text annotation without arrow\"; x = 4; y = 4; showarrow = false ; arrowhead = 1|}]\r\n",
    "    temp\r\n",
    "[\r\n",
    "Chart.Scatter(x,[|0; 1; 3; 2; 4; 3; 4; 6; 5|], StyleParam.Mode.Lines, Showlegend=false)\r\n",
    "\r\n",
    "Chart.Scatter(x,[|0; 4; 5; 1; 2; 2; 3; 4; 2|], StyleParam.Mode.Lines, Showlegend=false)\r\n",
    "]\r\n",
    "|> Chart.Combine\r\n",
    "|> Chart.withLayout(layout)\r\n",
    "\r\n"
   ],
   "outputs": [
    {
     "output_type": "display_data",
     "data": {
      "text/html": [
       "<div id=\"534029ee-1530-4487-9d08-2ea9530869f3\" style=\"width: 600px; height: 600px;\"><!-- Plotly chart will be drawn inside this DIV --></div>\r\n",
       "<script type=\"text/javascript\">\r\n",
       "\n",
       "            var renderPlotly_534029ee153044879d082ea9530869f3 = function() {\n",
       "            var fsharpPlotlyRequire = requirejs.config({context:'fsharp-plotly',paths:{plotly:'https://cdn.plot.ly/plotly-latest.min'}}) || require;\n",
       "            fsharpPlotlyRequire(['plotly'], function(Plotly) {\r\n",
       "\n",
       "            var data = [{\"type\":\"scatter\",\"x\":[0,1,2,3,4,5,6,7,8],\"y\":[0,1,3,2,4,3,4,6,5],\"mode\":\"lines\",\"showlegend\":false,\"line\":{},\"marker\":{}},{\"type\":\"scatter\",\"x\":[0,1,2,3,4,5,6,7,8],\"y\":[0,4,5,1,2,2,3,4,2],\"mode\":\"lines\",\"showlegend\":false,\"line\":{},\"marker\":{}}];\n",
       "            var layout = {\"annotations\":[{\"arrowhead\":1,\"showarrow\":true,\"text\":\"Text annotation with arrow\",\"x\":2,\"y\":5},{\"arrowhead\":1,\"showarrow\":false,\"text\":\"Text annotation without arrow\",\"x\":4,\"y\":4}]};\n",
       "            var config = {};\n",
       "            Plotly.newPlot('534029ee-1530-4487-9d08-2ea9530869f3', data, layout, config);\r\n",
       "});\n",
       "            };\n",
       "            if ((typeof(requirejs) !==  typeof(Function)) || (typeof(requirejs.config) !== typeof(Function))) {\n",
       "                var script = document.createElement(\"script\");\n",
       "                script.setAttribute(\"src\", \"https://cdnjs.cloudflare.com/ajax/libs/require.js/2.3.6/require.min.js\");\n",
       "                script.onload = function(){\n",
       "                    renderPlotly_534029ee153044879d082ea9530869f3();\n",
       "                };\n",
       "                document.getElementsByTagName(\"head\")[0].appendChild(script);\n",
       "            }\n",
       "            else {\n",
       "                renderPlotly_534029ee153044879d082ea9530869f3();\n",
       "            }\r\n",
       "</script>\r\n"
      ]
     },
     "metadata": {}
    }
   ],
   "metadata": {
    "dotnet_interactive": {
     "language": "fsharp"
    }
   }
  },
  {
   "cell_type": "markdown",
   "source": [
    "# 3D Annotations\r\n"
   ],
   "metadata": {}
  },
  {
   "cell_type": "code",
   "execution_count": null,
   "source": [
    "let x=[\"2017-01-01\"; \"2017-02-10\"; \"2017-03-20\"]\r\n",
    "let y=[\"A\"; \"B\"; \"C\"]\r\n",
    "let z=[1; 1000; 100000]\r\n",
    "\r\n",
    "let layout =\r\n",
    "    let temp = Layout()\r\n",
    "    temp?annotations <- [{|text = \"Point 1\";\r\n",
    "                         x = \"2017-01-01\";\r\n",
    "                         y = \"A\";\r\n",
    "                         z = 0; \r\n",
    "                        showarrow = false;\r\n",
    "                        arrowcolor=\"\";\r\n",
    "                        arrowsize=0;\r\n",
    "                        arrowwidth=0;\r\n",
    "                        arrowhead=0;\r\n",
    "                        xanchor=\"left\";\r\n",
    "                        yanchor=\"\";\r\n",
    "                        xshift=10;\r\n",
    "                        opacity=0.7|};\r\n",
    "\r\n",
    "                        {|text = \"Point 2\"; \r\n",
    "                        x = \"2017-02-10\"; \r\n",
    "                        y = \"B\";\r\n",
    "                        z = 4; \r\n",
    "                        showarrow = true;\r\n",
    "                        arrowcolor=\"black\";\r\n",
    "                        arrowsize=3;\r\n",
    "                        arrowwidth=1;\r\n",
    "                        arrowhead=1;\r\n",
    "                        xanchor=\"\";\r\n",
    "                        yanchor=\"\"; \r\n",
    "                        xshift=0;\r\n",
    "                        opacity=0.7 |};\r\n",
    "                        \r\n",
    "                        {|text = \"Point 3\";\r\n",
    "                        x = \"2017-03-20\";\r\n",
    "                        y = \"C\";\r\n",
    "                        z = 5;  \r\n",
    "                        showarrow = true;\r\n",
    "                        arrowcolor=\"black\";\r\n",
    "                        arrowsize=3;\r\n",
    "                        arrowwidth=1;\r\n",
    "                        arrowhead=1;\r\n",
    "                        xanchor=\"left\";\r\n",
    "                        yanchor=\"bottom\";\r\n",
    "                        xshift=0;\r\n",
    "                        opacity=0.7|};\r\n",
    "                        ]\r\n",
    "    temp                    // Issue to set arrow position on plots\r\n",
    "\r\n",
    "Chart.Scatter3d(x,y,z,StyleParam.Mode.Lines,Name=\"z\")\r\n",
    "\r\n",
    "|> Chart.withLayout(layout)"
   ],
   "outputs": [
    {
     "output_type": "display_data",
     "data": {
      "text/html": [
       "<div id=\"03969fd6-e8ae-4287-88cb-eeb5f92f8de4\" style=\"width: 600px; height: 600px;\"><!-- Plotly chart will be drawn inside this DIV --></div>\r\n",
       "<script type=\"text/javascript\">\r\n",
       "\n",
       "            var renderPlotly_03969fd6e8ae428788cbeeb5f92f8de4 = function() {\n",
       "            var fsharpPlotlyRequire = requirejs.config({context:'fsharp-plotly',paths:{plotly:'https://cdn.plot.ly/plotly-latest.min'}}) || require;\n",
       "            fsharpPlotlyRequire(['plotly'], function(Plotly) {\r\n",
       "\n",
       "            var data = [{\"type\":\"scatter3d\",\"x\":[\"2017-01-01\",\"2017-02-10\",\"2017-03-20\"],\"y\":[\"A\",\"B\",\"C\"],\"z\":[1,1000,100000],\"mode\":\"lines\",\"name\":\"z\",\"line\":{},\"marker\":{}}];\n",
       "            var layout = {\"annotations\":[{\"arrowcolor\":\"\",\"arrowhead\":0,\"arrowsize\":0,\"arrowwidth\":0,\"opacity\":0.7,\"showarrow\":false,\"text\":\"Point 1\",\"x\":\"2017-01-01\",\"xanchor\":\"left\",\"xshift\":10,\"y\":\"A\",\"yanchor\":\"\",\"z\":0},{\"arrowcolor\":\"black\",\"arrowhead\":1,\"arrowsize\":3,\"arrowwidth\":1,\"opacity\":0.7,\"showarrow\":true,\"text\":\"Point 2\",\"x\":\"2017-02-10\",\"xanchor\":\"\",\"xshift\":0,\"y\":\"B\",\"yanchor\":\"\",\"z\":4},{\"arrowcolor\":\"black\",\"arrowhead\":1,\"arrowsize\":3,\"arrowwidth\":1,\"opacity\":0.7,\"showarrow\":true,\"text\":\"Point 3\",\"x\":\"2017-03-20\",\"xanchor\":\"left\",\"xshift\":0,\"y\":\"C\",\"yanchor\":\"bottom\",\"z\":5}]};\n",
       "            var config = {};\n",
       "            Plotly.newPlot('03969fd6-e8ae-4287-88cb-eeb5f92f8de4', data, layout, config);\r\n",
       "});\n",
       "            };\n",
       "            if ((typeof(requirejs) !==  typeof(Function)) || (typeof(requirejs.config) !== typeof(Function))) {\n",
       "                var script = document.createElement(\"script\");\n",
       "                script.setAttribute(\"src\", \"https://cdnjs.cloudflare.com/ajax/libs/require.js/2.3.6/require.min.js\");\n",
       "                script.onload = function(){\n",
       "                    renderPlotly_03969fd6e8ae428788cbeeb5f92f8de4();\n",
       "                };\n",
       "                document.getElementsByTagName(\"head\")[0].appendChild(script);\n",
       "            }\n",
       "            else {\n",
       "                renderPlotly_03969fd6e8ae428788cbeeb5f92f8de4();\n",
       "            }\r\n",
       "</script>\r\n"
      ]
     },
     "metadata": {}
    }
   ],
   "metadata": {
    "dotnet_interactive": {
     "language": "fsharp"
    }
   }
  },
  {
   "cell_type": "markdown",
   "source": [
    "# Customize Displayed Text with a Text Template\r\n"
   ],
   "metadata": {}
  },
  {
   "cell_type": "code",
   "execution_count": null,
   "source": [
    "let labels = [\"Wages\"; \"Operating expenses\"; \"Cost of sales\"; \"Insurance\"]\r\n",
    "let values = [40000000; 20000000; 30000000; 10000000]\r\n",
    "\r\n",
    "let layout = \r\n",
    "    let temp = Layout()\r\n",
    "    temp?hoverinfo <- \"label+percent\"\r\n",
    "    temp?textinfo <- \"value\"\r\n",
    "    temp?textfont_size <- 20\r\n",
    "    temp\r\n",
    "\r\n",
    "Chart.Pie(values=values,Labels=labels)  // Issue with values + percent displaying\r\n",
    "|> Chart.withLayout(layout)"
   ],
   "outputs": [
    {
     "output_type": "display_data",
     "data": {
      "text/html": [
       "<div id=\"7acbc464-2fb6-424f-afd3-d286265dc354\" style=\"width: 600px; height: 600px;\"><!-- Plotly chart will be drawn inside this DIV --></div>\r\n",
       "<script type=\"text/javascript\">\r\n",
       "\n",
       "            var renderPlotly_7acbc4642fb6424fafd3d286265dc354 = function() {\n",
       "            var fsharpPlotlyRequire = requirejs.config({context:'fsharp-plotly',paths:{plotly:'https://cdn.plot.ly/plotly-latest.min'}}) || require;\n",
       "            fsharpPlotlyRequire(['plotly'], function(Plotly) {\r\n",
       "\n",
       "            var data = [{\"type\":\"pie\",\"values\":[40000000,20000000,30000000,10000000],\"labels\":[\"Wages\",\"Operating expenses\",\"Cost of sales\",\"Insurance\"],\"marker\":{},\"text\":[\"Wages\",\"Operating expenses\",\"Cost of sales\",\"Insurance\"]}];\n",
       "            var layout = {\"hoverinfo\":\"label+percent\",\"textinfo\":\"value\",\"textfont_size\":20};\n",
       "            var config = {};\n",
       "            Plotly.newPlot('7acbc464-2fb6-424f-afd3-d286265dc354', data, layout, config);\r\n",
       "});\n",
       "            };\n",
       "            if ((typeof(requirejs) !==  typeof(Function)) || (typeof(requirejs.config) !== typeof(Function))) {\n",
       "                var script = document.createElement(\"script\");\n",
       "                script.setAttribute(\"src\", \"https://cdnjs.cloudflare.com/ajax/libs/require.js/2.3.6/require.min.js\");\n",
       "                script.onload = function(){\n",
       "                    renderPlotly_7acbc4642fb6424fafd3d286265dc354();\n",
       "                };\n",
       "                document.getElementsByTagName(\"head\")[0].appendChild(script);\n",
       "            }\n",
       "            else {\n",
       "                renderPlotly_7acbc4642fb6424fafd3d286265dc354();\n",
       "            }\r\n",
       "</script>\r\n"
      ]
     },
     "metadata": {}
    }
   ],
   "metadata": {
    "dotnet_interactive": {
     "language": "fsharp"
    }
   }
  },
  {
   "cell_type": "markdown",
   "source": [
    "# Text Font as an Array - Styling Each Text Element\r\n"
   ],
   "metadata": {}
  },
  {
   "cell_type": "code",
   "execution_count": null,
   "source": [
    "let lat=[45.5; 43.4; 49.13; 51.1; 53.34; 45.24; 44.64; 48.25; 49.89; 50.45]\r\n",
    "let lon=[-73.57; -79.24; -123.06; -114.1; -113.28; -75.43; -63.57; -123.21; -97.13;104.6]\r\n",
    "let states=[\"Montreal\"; \"Toronto\"; \"Vancouver\"; \"Calgary\"; \"Edmonton\"; \"Ottawa\"; \"Halifax\";\r\n",
    "          \"Victoria\"; \"Winnepeg\"; \"Regina\"]\r\n",
    "\r\n",
    "let colors=[\"MidnightBlue\"; \"IndianRed\"; \"MediumPurple\"; \"Orange\"; \"Crimson\";\r\n",
    "            \"LightSeaGreen\"; \"RoyalBlue\"; \"LightSalmon\"; \"DarkOrange\"; \"MediumSlateBlue\"]\r\n",
    "\r\n",
    "let textposition=[\"top center\"; \"middle left\"; \"top center\"; \"bottom center\";\r\n",
    "                  \"top right\";\r\n",
    "                  \"middle left\"; \"bottom right\"; \"bottom left\"; \"top right\";\r\n",
    "                  \"top right\"]\r\n",
    "let N = 30\r\n",
    "let rnd = System.Random()\r\n",
    "let lataxis = Array.init N (fun _ -> rnd.Next(40, 70))\r\n",
    "let lonaxis = Array.init N (fun _ -> rnd.Next(-130, -55))\r\n",
    "\r\n",
    "\r\n",
    "let marker = Marker.init();\r\n",
    "marker?color <- colors\r\n",
    "marker?size <- 20\r\n",
    "\r\n",
    "let layout =  \r\n",
    "    let temp = Layout()   // Some circumvent\r\n",
    "    temp?textposition <- textposition   //  Issue with lataxis and lonaxis\r\n",
    "    temp?lataxis <- lataxis \r\n",
    "    temp?lonaxis <- lonaxis \r\n",
    "    temp?textposition <- textposition \r\n",
    "    temp\r\n",
    "\r\n",
    "Chart.ScatterGeo(lat,lon,StyleParam.Mode.Markers_Text,Labels=states)\r\n",
    "|> Chart.withTitle(title=\"Canadian cities\")\r\n",
    "|> Chart.withMarker(marker)\r\n",
    "|> Chart.withLayout(layout)\r\n"
   ],
   "outputs": [
    {
     "output_type": "display_data",
     "data": {
      "text/html": [
       "<div id=\"d78b5971-0616-439f-95ec-352cc2c2f6d5\" style=\"width: 600px; height: 600px;\"><!-- Plotly chart will be drawn inside this DIV --></div>\r\n",
       "<script type=\"text/javascript\">\r\n",
       "\n",
       "            var renderPlotly_d78b59710616439f95ec352cc2c2f6d5 = function() {\n",
       "            var fsharpPlotlyRequire = requirejs.config({context:'fsharp-plotly',paths:{plotly:'https://cdn.plot.ly/plotly-latest.min'}}) || require;\n",
       "            fsharpPlotlyRequire(['plotly'], function(Plotly) {\r\n",
       "\n",
       "            var data = [{\"type\":\"scattergeo\",\"mode\":\"markers+text\",\"lon\":[45.5,43.4,49.13,51.1,53.34,45.24,44.64,48.25,49.89,50.45],\"lat\":[-73.57,-79.24,-123.06,-114.1,-113.28,-75.43,-63.57,-123.21,-97.13,104.6],\"line\":{},\"marker\":{\"color\":[\"MidnightBlue\",\"IndianRed\",\"MediumPurple\",\"Orange\",\"Crimson\",\"LightSeaGreen\",\"RoyalBlue\",\"LightSalmon\",\"DarkOrange\",\"MediumSlateBlue\"],\"size\":20},\"text\":[\"Montreal\",\"Toronto\",\"Vancouver\",\"Calgary\",\"Edmonton\",\"Ottawa\",\"Halifax\",\"Victoria\",\"Winnepeg\",\"Regina\"]}];\n",
       "            var layout = {\"title\":\"Canadian cities\",\"textposition\":[\"top center\",\"middle left\",\"top center\",\"bottom center\",\"top right\",\"middle left\",\"bottom right\",\"bottom left\",\"top right\",\"top right\"],\"lataxis\":[63,44,66,47,69,54,49,51,48,54,49,41,45,67,42,50,66,51,52,53,43,47,42,64,47,51,50,61,69,45]};\n",
       "            var config = {};\n",
       "            Plotly.newPlot('d78b5971-0616-439f-95ec-352cc2c2f6d5', data, layout, config);\r\n",
       "});\n",
       "            };\n",
       "            if ((typeof(requirejs) !==  typeof(Function)) || (typeof(requirejs.config) !== typeof(Function))) {\n",
       "                var script = document.createElement(\"script\");\n",
       "                script.setAttribute(\"src\", \"https://cdnjs.cloudflare.com/ajax/libs/require.js/2.3.6/require.min.js\");\n",
       "                script.onload = function(){\n",
       "                    renderPlotly_d78b59710616439f95ec352cc2c2f6d5();\n",
       "                };\n",
       "                document.getElementsByTagName(\"head\")[0].appendChild(script);\n",
       "            }\n",
       "            else {\n",
       "                renderPlotly_d78b59710616439f95ec352cc2c2f6d5();\n",
       "            }\r\n",
       "</script>\r\n"
      ]
     },
     "metadata": {}
    }
   ],
   "metadata": {
    "dotnet_interactive": {
     "language": "fsharp"
    }
   }
  },
  {
   "cell_type": "markdown",
   "source": [
    "# Set Date in Text Template\r\n"
   ],
   "metadata": {}
  },
  {
   "cell_type": "code",
   "execution_count": null,
   "source": [],
   "outputs": [],
   "metadata": {
    "dotnet_interactive": {
     "language": "fsharp"
    }
   }
  },
  {
   "cell_type": "code",
   "execution_count": null,
   "source": [
    "let x0 = [100; 60; 40; 20]\r\n",
    "let x1 =[90; 70; 50; 10]\r\n",
    "let y = [\"2018-01-01\"; \"2018-07-01\"; \"2019-01-01\"; \"2020-01-01\"]\r\n",
    "\r\n",
    "[   \r\n",
    "Chart.Funnel(x0,y,Name=\"Montreal\",Orientation=StyleParam.Orientation.Horizontal,Color=\"rgba(103, 102, 255,1)\" )\r\n",
    "Chart.Funnel(x1,y,Name=\"Vancouver\",Orientation=StyleParam.Orientation.Horizontal,Color=\"rgba(255, 70, 51, 1)\" )\r\n",
    "]\r\n",
    "|> Chart.Combine\r\n",
    "//|> Chart.withLayout(layout)"
   ],
   "outputs": [
    {
     "data": {
      "text/html": [
       "<div id=\"4afcaed0-b6a4-4c4c-834a-b7d5eb2941e4\" style=\"width: 600px; height: 600px;\"><!-- Plotly chart will be drawn inside this DIV --></div>\r\n",
       "<script type=\"text/javascript\">\r\n",
       "\n",
       "            var renderPlotly_4afcaed0b6a44c4c834ab7d5eb2941e4 = function() {\n",
       "            var fsharpPlotlyRequire = requirejs.config({context:'fsharp-plotly',paths:{plotly:'https://cdn.plot.ly/plotly-latest.min'}}) || require;\n",
       "            fsharpPlotlyRequire(['plotly'], function(Plotly) {\r\n",
       "\n",
       "            var data = [{\"type\":\"funnel\",\"x\":[100,60,40,20],\"y\":[\"2018-01-01\",\"2018-07-01\",\"2019-01-01\",\"2020-01-01\"],\"orientation\":\"h\",\"name\":\"Montreal\",\"marker\":{\"color\":\"rgba(103, 102, 255,1)\"}},{\"type\":\"funnel\",\"x\":[90,70,50,10],\"y\":[\"2018-01-01\",\"2018-07-01\",\"2019-01-01\",\"2020-01-01\"],\"orientation\":\"h\",\"name\":\"Vancouver\",\"marker\":{\"color\":\"rgba(255, 70, 51, 1)\"}}];\n",
       "            var layout = {};\n",
       "            var config = {};\n",
       "            Plotly.newPlot('4afcaed0-b6a4-4c4c-834a-b7d5eb2941e4', data, layout, config);\r\n",
       "});\n",
       "            };\n",
       "            if ((typeof(requirejs) !==  typeof(Function)) || (typeof(requirejs.config) !== typeof(Function))) {\n",
       "                var script = document.createElement(\"script\");\n",
       "                script.setAttribute(\"src\", \"https://cdnjs.cloudflare.com/ajax/libs/require.js/2.3.6/require.min.js\");\n",
       "                script.onload = function(){\n",
       "                    renderPlotly_4afcaed0b6a44c4c834ab7d5eb2941e4();\n",
       "                };\n",
       "                document.getElementsByTagName(\"head\")[0].appendChild(script);\n",
       "            }\n",
       "            else {\n",
       "                renderPlotly_4afcaed0b6a44c4c834ab7d5eb2941e4();\n",
       "            }\r\n",
       "</script>\r\n"
      ]
     },
     "metadata": {},
     "output_type": "display_data"
    }
   ],
   "metadata": {
    "dotnet_interactive": {
     "language": "fsharp"
    }
   }
  }
 ],
 "nbformat": 4,
 "nbformat_minor": 2
}
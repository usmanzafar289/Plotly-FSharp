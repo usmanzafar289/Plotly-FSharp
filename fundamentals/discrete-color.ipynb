{
 "cells": [
  {
   "cell_type": "code",
   "execution_count": null,
   "source": [
    "#r \"nuget: Plotly.NET, *-*\"\r\n",
    "#r \"nuget: Plotly.NET.Interactive, *-*\"\r\n",
    "\r\n",
    "#r \"nuget: Deedle\"\r\n",
    "#r \"nuget: FSharp.Data\"\r\n",
    "\r\n"
   ],
   "outputs": [
    {
     "output_type": "error",
     "ename": "Error",
     "evalue": "Plotly.NET version *-* cannot be added because version 2.0.0-preview.7 was added previously.",
     "traceback": [
      "Plotly.NET version *-* cannot be added because version 2.0.0-preview.7 was added previously."
     ]
    }
   ],
   "metadata": {
    "dotnet_interactive": {
     "language": "fsharp"
    }
   }
  },
  {
   "cell_type": "code",
   "execution_count": null,
   "source": [
    "open Deedle\r\n",
    "open FSharp.Data\r\n",
    "open Plotly.NET\r\n",
    "\r\n",
    "let data=\r\n",
    "    Http.RequestString \"https://raw.githubusercontent.com/plotly/datasets/master/tips.csv\"\r\n",
    "    |> fun csv -> Frame.ReadCsvString(csv,true,separators=\",\")\r\n",
    "    \r\n",
    "\r\n",
    "let getColumnData column=\r\n",
    "        data\r\n",
    "        |> Frame.getCol column\r\n",
    "        |> Series.values\r\n",
    "        |> Array.ofSeq\r\n",
    "\r\n",
    "let x  = [1.; 2.; 3.; 4.; 5.; 6.; 7.; 8.; 9.; 10.; ]\r\n",
    "let y' = [2.; 1.5; 5.; 1.5; 3.; 2.5; 2.5; 1.5; 3.5; 1.]\r\n",
    "\r\n",
    "Chart.Point(x,y',Name=\"line\")\r\n",
    "\r\n",
    "    \r\n",
    "\r\n"
   ],
   "outputs": [
    {
     "output_type": "display_data",
     "data": {
      "text/html": [
       "<div id=\"e5fdb6ba-6bcc-43e9-ae01-9875a17e59b1\" style=\"width: 600px; height: 600px;\"><!-- Plotly chart will be drawn inside this DIV --></div>\r\n",
       "<script type=\"text/javascript\">\r\n",
       "\n",
       "            var renderPlotly_e5fdb6ba6bcc43e9ae019875a17e59b1 = function() {\n",
       "            var fsharpPlotlyRequire = requirejs.config({context:'fsharp-plotly',paths:{plotly:'https://cdn.plot.ly/plotly-latest.min'}}) || require;\n",
       "            fsharpPlotlyRequire(['plotly'], function(Plotly) {\r\n",
       "\n",
       "            var data = [{\"type\":\"scatter\",\"x\":[1.0,2.0,3.0,4.0,5.0,6.0,7.0,8.0,9.0,10.0],\"y\":[2.0,1.5,5.0,1.5,3.0,2.5,2.5,1.5,3.5,1.0],\"mode\":\"markers\",\"name\":\"line\",\"marker\":{\"size\":50}}];\n",
       "            var layout = {};\n",
       "            var config = {};\n",
       "            Plotly.newPlot('e5fdb6ba-6bcc-43e9-ae01-9875a17e59b1', data, layout, config);\r\n",
       "});\n",
       "            };\n",
       "            if ((typeof(requirejs) !==  typeof(Function)) || (typeof(requirejs.config) !== typeof(Function))) {\n",
       "                var script = document.createElement(\"script\");\n",
       "                script.setAttribute(\"src\", \"https://cdnjs.cloudflare.com/ajax/libs/require.js/2.3.6/require.min.js\");\n",
       "                script.onload = function(){\n",
       "                    renderPlotly_e5fdb6ba6bcc43e9ae019875a17e59b1();\n",
       "                };\n",
       "                document.getElementsByTagName(\"head\")[0].appendChild(script);\n",
       "            }\n",
       "            else {\n",
       "                renderPlotly_e5fdb6ba6bcc43e9ae019875a17e59b1();\n",
       "            }\r\n",
       "</script>\r\n"
      ]
     },
     "metadata": {}
    }
   ],
   "metadata": {
    "dotnet_interactive": {
     "language": "fsharp"
    }
   }
  }
 ],
 "metadata": {
  "orig_nbformat": 4,
  "language_info": {
   "file_extension": ".cs",
   "mimetype": "text/x-csharp",
   "name": "C#",
   "pygments_lexer": "csharp",
   "version": "9.0"
  },
  "kernelspec": {
   "display_name": ".NET (C#)",
   "language": "C#",
   "name": ".net-csharp"
  }
 },
 "nbformat": 4,
 "nbformat_minor": 2
}
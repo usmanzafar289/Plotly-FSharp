{
 "metadata": {
  "kernelspec": {
   "display_name": ".NET (F#)",
   "language": "F#",
   "name": ".net-fsharp"
  },
  "language_info": {
   "name": "F#"
  }
 },
 "cells": [
  {
   "cell_type": "code",
   "execution_count": null,
   "source": [
    "#r \"nuget: Plotly.NET, *-*\"\r\n",
    "#r \"nuget: Plotly.NET.Interactive, *-*\"\r\n",
    "open Plotly.NET\r\n"
   ],
   "outputs": [
    {
     "data": {
      "text/html": [
       "<div><div></div><div></div><div><strong>Installed Packages</strong><ul><li><span>Plotly.NET, 2.0.0-preview.7</span></li><li><span>Plotly.NET.Interactive, 2.0.0-preview.7</span></li></ul></div></div>"
      ]
     },
     "metadata": {},
     "output_type": "display_data"
    },
    {
     "data": {
      "text/markdown": [
       "Loading extensions from `Plotly.NET.Interactive.dll`"
      ]
     },
     "metadata": {},
     "output_type": "display_data"
    },
    {
     "data": {
      "text/markdown": [
       "Added Kernel Extension including formatters for Plotly.NET charts."
      ]
     },
     "metadata": {},
     "output_type": "display_data"
    }
   ],
   "metadata": {
    "dotnet_interactive": {
     "language": "fsharp"
    }
   }
  },
  {
   "cell_type": "markdown",
   "source": [
    "# Displaying Figures\r\n"
   ],
   "metadata": {}
  },
  {
   "cell_type": "code",
   "execution_count": null,
   "source": [
    "let x = [for i in 1..3 -> i] \r\n",
    "let y=[for i in 1..3 -> i]\r\n",
    "Chart.Column(x,y)    \r\n",
    "        |>Chart.withTitle(\"A Figure Displaying Itself\")\r\n"
   ],
   "outputs": [
    {
     "output_type": "display_data",
     "data": {
      "text/html": [
       "<div id=\"815beac8-7f6d-413b-9564-88d5492129be\" style=\"width: 600px; height: 600px;\"><!-- Plotly chart will be drawn inside this DIV --></div>\r\n",
       "<script type=\"text/javascript\">\r\n",
       "\n",
       "            var renderPlotly_815beac87f6d413b956488d5492129be = function() {\n",
       "            var fsharpPlotlyRequire = requirejs.config({context:'fsharp-plotly',paths:{plotly:'https://cdn.plot.ly/plotly-latest.min'}}) || require;\n",
       "            fsharpPlotlyRequire(['plotly'], function(Plotly) {\r\n",
       "\n",
       "            var data = [{\"type\":\"bar\",\"x\":[1,2,3],\"y\":[1,2,3],\"marker\":{}}];\n",
       "            var layout = {\"title\":{\"text\":\"A Figure Displaying Itself\"}};\n",
       "            var config = {};\n",
       "            Plotly.newPlot('815beac8-7f6d-413b-9564-88d5492129be', data, layout, config);\r\n",
       "});\n",
       "            };\n",
       "            if ((typeof(requirejs) !==  typeof(Function)) || (typeof(requirejs.config) !== typeof(Function))) {\n",
       "                var script = document.createElement(\"script\");\n",
       "                script.setAttribute(\"src\", \"https://cdnjs.cloudflare.com/ajax/libs/require.js/2.3.6/require.min.js\");\n",
       "                script.onload = function(){\n",
       "                    renderPlotly_815beac87f6d413b956488d5492129be();\n",
       "                };\n",
       "                document.getElementsByTagName(\"head\")[0].appendChild(script);\n",
       "            }\n",
       "            else {\n",
       "                renderPlotly_815beac87f6d413b956488d5492129be();\n",
       "            }\r\n",
       "</script>\r\n"
      ]
     },
     "metadata": {}
    }
   ],
   "metadata": {
    "dotnet_interactive": {
     "language": "fsharp"
    }
   }
  },
  {
   "cell_type": "markdown",
   "source": [
    "# Overriding The Default Renderer\r\n"
   ],
   "metadata": {}
  },
  {
   "cell_type": "code",
   "execution_count": null,
   "source": [
    "let x = [for i in 1..3 -> i] \r\n",
    "let y=[for i in 1..3 -> i]\r\n",
    "Chart.Column(x,y,Name=\"SVG\")    \r\n",
    "        |>Chart.withTitle(\"A Figure Displayed with the 'svg' Renderer\")\r\n",
    "        //|> Chart.withMarker (Marker.init (Color=\"Blues\"))\r\n",
    "        |>Chart.showAsImage(StyleParam.ImageFormat.SVG)\r\n"
   ],
   "outputs": [],
   "metadata": {
    "dotnet_interactive": {
     "language": "fsharp"
    }
   }
  },
  {
   "cell_type": "markdown",
   "source": [
    "# Static Image Renderers\r\n"
   ],
   "metadata": {}
  },
  {
   "cell_type": "code",
   "execution_count": null,
   "source": [
    "let x = [for i in 1..3 -> i] \r\n",
    "let y=[for i in 1..3 -> i]\r\n",
    "Chart.Column(x,y,Name=\"SVG\")    \r\n",
    "        |>Chart.withTitle(\"A Figure Displayed with the 'png' Renderer\")\r\n",
    "        |> Chart.withSize(800.,300.)\r\n",
    "        |>Chart.showAsImage(StyleParam.ImageFormat.PNG)"
   ],
   "outputs": [],
   "metadata": {
    "dotnet_interactive": {
     "language": "fsharp"
    }
   }
  },
  {
   "cell_type": "code",
   "execution_count": null,
   "source": [
    "let x = [for i in 1..3 -> i] \r\n",
    "let y=[for i in 1..3 -> i]\r\n",
    "Chart.Column(x,y,Name=\"SVG\")    \r\n",
    "        |>Chart.withTitle(\"A Figure Displayed with the 'jpeg' Renderer\")\r\n",
    "        |> Chart.withSize(800.,300.)\r\n",
    "        |>Chart.showAsImage(StyleParam.ImageFormat.JPEG)"
   ],
   "outputs": [],
   "metadata": {
    "dotnet_interactive": {
     "language": "fsharp"
    }
   }
  }
 ],
 "nbformat": 4,
 "nbformat_minor": 2
}
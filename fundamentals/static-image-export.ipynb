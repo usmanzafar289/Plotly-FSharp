{
 "metadata": {
  "kernelspec": {
   "display_name": ".NET (F#)",
   "language": "F#",
   "name": ".net-fsharp"
  },
  "language_info": {
   "name": "F#"
  }
 },
 "cells": [
  {
   "cell_type": "code",
   "execution_count": null,
   "source": [
    "#r \"nuget: Plotly.NET, *-*\"\r\n",
    "#r \"nuget: Plotly.NET.Interactive, *-*\"\r\n",
    "open Plotly.NET"
   ],
   "outputs": [
    {
     "output_type": "display_data",
     "data": {
      "text/html": ""
     },
     "metadata": {}
    },
    {
     "output_type": "display_data",
     "data": {
      "text/markdown": ""
     },
     "metadata": {}
    },
    {
     "output_type": "display_data",
     "data": {
      "text/markdown": ""
     },
     "metadata": {}
    }
   ],
   "metadata": {
    "dotnet_interactive": {
     "language": "fsharp"
    }
   }
  },
  {
   "cell_type": "markdown",
   "source": [
    "# Create a Figure\r\n"
   ],
   "metadata": {}
  },
  {
   "cell_type": "code",
   "execution_count": null,
   "source": [
    "let N = 100\r\n",
    "let rnd = System.Random()\r\n",
    "let x = Array.init N (fun _ -> rnd.NextDouble())\r\n",
    "let y = Array.init N (fun _ -> rnd.NextDouble())\r\n",
    "\r\n",
    "let marker = Marker.init(Size= 30,Colorscale=StyleParam.Colorscale.Viridis);\r\n",
    "marker?color <- x\r\n",
    "let scatter =\r\n",
    "  Chart.Scatter(x,y,StyleParam.Mode.Markers,Opacity=0.6)\r\n",
    "  |> Chart.withMarker(marker)\r\n",
    "  // |> Chart.withSize(800.,500.)\r\n"
   ],
   "outputs": [],
   "metadata": {
    "dotnet_interactive": {
     "language": "fsharp"
    }
   }
  },
  {
   "cell_type": "code",
   "execution_count": null,
   "source": [
    "scatter"
   ],
   "outputs": [
    {
     "output_type": "display_data",
     "data": {
      "text/html": ""
     },
     "metadata": {}
    }
   ],
   "metadata": {
    "dotnet_interactive": {
     "language": "fsharp"
    }
   }
  },
  {
   "cell_type": "markdown",
   "source": [
    "# Write Image File\r\n"
   ],
   "metadata": {}
  },
  {
   "cell_type": "code",
   "execution_count": null,
   "source": [
    "open System.IO\r\n",
    "\r\n",
    "let srcPath=\"static/images/\"\r\n",
    "\r\n",
    "if not <| Directory.Exists(srcPath) then\r\n",
    "        Directory.CreateDirectory(srcPath) |> ignore    "
   ],
   "outputs": [],
   "metadata": {
    "dotnet_interactive": {
     "language": "fsharp"
    }
   }
  },
  {
   "cell_type": "markdown",
   "source": [
    "# Raster Formats: PNG, JPEG, SVG and PDF\r\n"
   ],
   "metadata": {}
  },
  {
   "cell_type": "code",
   "execution_count": null,
   "source": [
    "let fileName = \"fig1.png\";\r\n",
    "let imagePath = srcPath + fileName;\r\n",
    "let path = Path.Combine(imagePath);\r\n",
    "File.Create(path);"
   ],
   "outputs": [
    {
     "output_type": "display_data",
     "data": {
      "text/html": ""
     },
     "metadata": {}
    }
   ],
   "metadata": {
    "dotnet_interactive": {
     "language": "fsharp"
    }
   }
  },
  {
   "cell_type": "code",
   "execution_count": null,
   "source": [
    "let fileName = \"fig1.jpeg\";\r\n",
    "let imagePath = srcPath + fileName;\r\n",
    "let path = Path.Combine(imagePath);\r\n",
    "File.Create(path);"
   ],
   "outputs": [
    {
     "output_type": "display_data",
     "data": {
      "text/html": ""
     },
     "metadata": {}
    }
   ],
   "metadata": {
    "dotnet_interactive": {
     "language": "fsharp"
    }
   }
  },
  {
   "cell_type": "code",
   "execution_count": null,
   "source": [
    "let fileName = \"fig1.svg\";\r\n",
    "let imagePath = srcPath + fileName;\r\n",
    "let path = Path.Combine(imagePath);\r\n",
    "File.Create(path);"
   ],
   "outputs": [],
   "metadata": {
    "dotnet_interactive": {
     "language": "fsharp"
    }
   }
  },
  {
   "cell_type": "code",
   "execution_count": null,
   "source": [
    "let fileName = \"fig1.pdf\";\r\n",
    "let imagePath = srcPath + fileName;\r\n",
    "let path = Path.Combine(imagePath);\r\n",
    "File.Create(path);"
   ],
   "outputs": [],
   "metadata": {
    "dotnet_interactive": {
     "language": "fsharp"
    }
   }
  },
  {
   "cell_type": "markdown",
   "source": [
    "# Change Image Dimensions and Scale\r\n"
   ],
   "metadata": {}
  },
  {
   "cell_type": "markdown",
   "source": [
    "In addition to the image format, we can provide arguments to specify the image width and height in logical pixels. They also provide a scale parameter that can be used to increase (scale > 1) or decrease (scale < 1) the physical resolution of the resulting image."
   ],
   "metadata": {}
  },
  {
   "cell_type": "code",
   "execution_count": null,
   "source": [
    "let N = 100\r\n",
    "let rnd = System.Random()\r\n",
    "let x = Array.init N (fun _ -> rnd.NextDouble())\r\n",
    "let y = Array.init N (fun _ -> rnd.NextDouble())\r\n",
    "\r\n",
    "let marker = Marker.init(Size= 30,Colorscale=StyleParam.Colorscale.Viridis);\r\n",
    "marker?color <- x\r\n",
    "marker?scale <- 2\r\n",
    "\r\n",
    "let scatter =\r\n",
    "  Chart.Scatter(x,y,StyleParam.Mode.Markers)\r\n",
    "  |>Chart.withMarker(marker)\r\n",
    "  |> Chart.withSize(800.,500.)\r\n",
    "  |>Chart.showAsImage(StyleParam.ImageFormat.PNG)"
   ],
   "outputs": [],
   "metadata": {
    "dotnet_interactive": {
     "language": "fsharp"
    }
   }
  },
  {
   "cell_type": "code",
   "execution_count": null,
   "source": [
    "scatter"
   ],
   "outputs": [
    {
     "output_type": "display_data",
     "data": {
      "text/html": ""
     },
     "metadata": {}
    }
   ],
   "metadata": {
    "dotnet_interactive": {
     "language": "fsharp"
    }
   }
  },
  {
   "cell_type": "markdown",
   "source": [],
   "metadata": {}
  }
 ],
 "nbformat": 4,
 "nbformat_minor": 2
}
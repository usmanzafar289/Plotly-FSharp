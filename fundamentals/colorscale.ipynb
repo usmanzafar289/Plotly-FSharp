{
 "metadata": {
  "kernelspec": {
   "display_name": ".NET (F#)",
   "language": "F#",
   "name": ".net-fsharp"
  },
  "language_info": {
   "name": "F#"
  }
 },
 "cells": [
  {
   "cell_type": "code",
   "execution_count": null,
   "source": [
    "// #r \"nuget: Plotly.NET, *-*\"\r\n",
    "// #r \"nuget: Plotly.NET.Interactive, *-*\"\r\n",
    "#r \"nuget: Plotly.NET, 2.0.0-preview.6\"\r\n",
    "#r \"nuget: Plotly.NET.Interactive, 2.0.0-preview.6\"\r\n",
    "#r \"nuget: Deedle\"\r\n",
    "#r \"nuget: FSharp.Data\"\r\n",
    "open Plotly.NET\r\n"
   ],
   "outputs": [
    {
     "output_type": "display_data",
     "data": {
      "text/html": ""
     },
     "metadata": {}
    },
    {
     "output_type": "display_data",
     "data": {
      "text/markdown": ""
     },
     "metadata": {}
    },
    {
     "output_type": "display_data",
     "data": {
      "text/markdown": ""
     },
     "metadata": {}
    }
   ],
   "metadata": {
    "dotnet_interactive": {
     "language": "fsharp"
    }
   }
  },
  {
   "cell_type": "markdown",
   "source": [
    "# Custom Discretized Heatmap Color scale with Graph Objects\r\n"
   ],
   "metadata": {}
  },
  {
   "cell_type": "code",
   "execution_count": null,
   "source": [
    "let  z=[[0;1;2;3;4;5;6;7;8;9]]\r\n",
    "let customColorscale = StyleParam.Colorscale.Custom [(0.0,\"#000000\");(1.0,\"#B4B4B4\")]\r\n"
   ],
   "outputs": [],
   "metadata": {
    "dotnet_interactive": {
     "language": "fsharp"
    }
   }
  },
  {
   "cell_type": "code",
   "execution_count": null,
   "source": [
    "Chart.Heatmap(z,Colorscale=customColorscale)\r\n",
    "|> Chart.withSize(800.,600.)"
   ],
   "outputs": [
    {
     "output_type": "display_data",
     "data": {
      "text/html": ""
     },
     "metadata": {}
    }
   ],
   "metadata": {
    "dotnet_interactive": {
     "language": "fsharp"
    }
   }
  },
  {
   "cell_type": "markdown",
   "source": [
    "# Color scale for Scatter Plots with Graph Objects\r\n"
   ],
   "metadata": {}
  },
  {
   "cell_type": "code",
   "execution_count": null,
   "source": [
    "let N = 40\r\n",
    "let rnd = System.Random()\r\n",
    "let values = Array.init N (fun _ -> rnd.Next(0, 40))\r\n",
    "let marker = Marker.init(Size= 16,Colorscale=StyleParam.Colorscale.Viridis, Showscale=true);\r\n",
    "marker?color <-values; \r\n"
   ],
   "outputs": [],
   "metadata": {
    "dotnet_interactive": {
     "language": "fsharp"
    }
   }
  },
  {
   "cell_type": "code",
   "execution_count": null,
   "source": [
    "let scatter =\r\n",
    "  Chart.Scatter(values,values,StyleParam.Mode.Markers) \r\n",
    "  |> Chart.withMarker(marker)\r\n",
    "   "
   ],
   "outputs": [],
   "metadata": {
    "dotnet_interactive": {
     "language": "fsharp"
    }
   }
  },
  {
   "cell_type": "code",
   "execution_count": null,
   "source": [
    "scatter"
   ],
   "outputs": [
    {
     "output_type": "display_data",
     "data": {
      "text/html": ""
     },
     "metadata": {}
    }
   ],
   "metadata": {
    "dotnet_interactive": {
     "language": "fsharp"
    }
   }
  },
  {
   "cell_type": "markdown",
   "source": [
    "# Color scale for Contour Plot with Graph Objects\r\n"
   ],
   "metadata": {}
  },
  {
   "cell_type": "code",
   "execution_count": null,
   "source": [
    "let z=[| [|10.0; 10.625; 12.5; 15.625; 20.0;|];\r\n",
    "        [|5.625; 6.25; 8.125; 11.25; 15.625;|];\r\n",
    "        [|2.5; 3.125; 5.0; 8.125; 12.5;|];\r\n",
    "        [|0.625; 1.25; 3.125; 6.25; 10.625;|];\r\n",
    "        [|0.0; 0.625; 2.5; 5.625; 10.0|]|]\r\n",
    "\r\n",
    "\r\n",
    "let contour =\r\n",
    "    z\r\n",
    "    |> Chart.Contour\r\n",
    "    |> Chart.withSize(600.,600.)"
   ],
   "outputs": [],
   "metadata": {
    "dotnet_interactive": {
     "language": "fsharp"
    }
   }
  },
  {
   "cell_type": "code",
   "execution_count": null,
   "source": [
    "contour "
   ],
   "outputs": [
    {
     "output_type": "display_data",
     "data": {
      "text/html": ""
     },
     "metadata": {}
    }
   ],
   "metadata": {
    "dotnet_interactive": {
     "language": "fsharp"
    }
   }
  },
  {
   "cell_type": "markdown",
   "source": [
    "# Custom Heatmap Color scale with Graph Objects\r\n"
   ],
   "metadata": {}
  },
  {
   "cell_type": "code",
   "execution_count": null,
   "source": [
    "open FSharp.Data\r\n",
    "\r\n",
    "type jsondata = JsonProvider<\"https://raw.githubusercontent.com/plotly/datasets/master/custom_heatmap_colorscale.json\">\r\n",
    "let data = jsondata.Load(\"https://raw.githubusercontent.com/plotly/datasets/master/custom_heatmap_colorscale.json\")"
   ],
   "outputs": [],
   "metadata": {
    "dotnet_interactive": {
     "language": "fsharp"
    }
   }
  },
  {
   "cell_type": "code",
   "execution_count": null,
   "source": [
    "let z = data.Z\r\n",
    "//let customColorscale = StyleParam.Colorscale.Custom [(0.0,\"#A6CEE3\");(1.0,\"#E31A1C\")]\r\n",
    "let customColorscale = StyleParam.Colorscale.Custom [(0.0,\"rgb(165,0,38)\");(0.11,\"rgb(215,48,39)\");(0.22,\"rgb(244,109,67)\");\r\n",
    "                                                     (0.33,\"rgb(253,174,97)\");(0.44,\"rgb(254,224,144)\");(0.55,\"rgb(224,243,248)\");\r\n",
    "                                                     (0.66,\"rgb(171,217,233)\");(0.77,\"rgb(116,173,209)\");(0.88,\"rgb(69,117,180)\");\r\n",
    "                                                      (1.0,\"rgb(49,54,149)\");]\r\n"
   ],
   "outputs": [],
   "metadata": {
    "dotnet_interactive": {
     "language": "fsharp"
    }
   }
  },
  {
   "cell_type": "code",
   "execution_count": null,
   "source": [
    "Chart.Heatmap(z,Colorscale=customColorscale,Showscale=true)"
   ],
   "outputs": [
    {
     "output_type": "display_data",
     "data": {
      "text/html": ""
     },
     "metadata": {}
    }
   ],
   "metadata": {
    "dotnet_interactive": {
     "language": "fsharp"
    }
   }
  },
  {
   "cell_type": "markdown",
   "source": [
    "# Setting the Midpoint of a Diverging Color scale with Graph Objects\r\n"
   ],
   "metadata": {}
  },
  {
   "cell_type": "code",
   "execution_count": null,
   "source": [
    "let N = 20\r\n",
    "let rnd = System.Random()\r\n",
    "let values = Array.init N (fun _ -> rnd.Next(-5, 15))\r\n",
    "let marker = Marker.init(Size= 25,Colorscale=StyleParam.Colorscale.Viridis, Showscale=true);\r\n",
    "marker?color <-values; \r\n",
    "marker?cmid<-0;"
   ],
   "outputs": [],
   "metadata": {
    "dotnet_interactive": {
     "language": "fsharp"
    }
   }
  },
  {
   "cell_type": "code",
   "execution_count": null,
   "source": [
    "let scatter =\r\n",
    "  Chart.Scatter(values,values,StyleParam.Mode.Markers) \r\n",
    "  |> Chart.withMarker(marker)\r\n",
    "   "
   ],
   "outputs": [],
   "metadata": {
    "dotnet_interactive": {
     "language": "fsharp"
    }
   }
  },
  {
   "cell_type": "code",
   "execution_count": null,
   "source": [
    "scatter"
   ],
   "outputs": [
    {
     "output_type": "display_data",
     "data": {
      "text/html": ""
     },
     "metadata": {}
    }
   ],
   "metadata": {
    "dotnet_interactive": {
     "language": "fsharp"
    }
   }
  },
  {
   "cell_type": "markdown",
   "source": [
    "# Custom Contour Plot Color scale with Graph Objects\r\n"
   ],
   "metadata": {}
  },
  {
   "cell_type": "code",
   "execution_count": null,
   "source": [
    "let z=[| [|10.0; 10.625; 12.5; 15.625; 20.0;|];\r\n",
    "        [|5.625; 6.25; 8.125; 11.25; 15.625;|];\r\n",
    "        [|2.5; 3.125; 5.0; 8.125; 12.5;|];\r\n",
    "        [|0.625; 1.25; 3.125; 6.25; 10.625;|];\r\n",
    "        [|0.0; 0.625; 2.5; 5.625; 10.0|]|]\r\n",
    "\r\n",
    "//let customColorscale = StyleParam.Colorscale.Custom [(0.0,\"#A6CEE3\");(1.0,\"#E31A1C\")]\r\n",
    "\r\n",
    "\r\n",
    "let customColorscale = StyleParam.Colorscale.Custom [(0.0,\"rgb(166,206,227)\");(0.25,\"rgb(31,120,180)\");(0.45,\"rgb(178,223,138)\");\r\n",
    "                                                     (0.65,\"rgb(51,160,44)\");(0.85,\"rgb(251,154,153)\");\r\n",
    "                                                      (1.0,\"rgb(227,26,28)\");]\r\n",
    "let contour =\r\n",
    " Chart.Contour(z,Colorscale=customColorscale)\r\n",
    "    |> Chart.withSize(600.,600.)"
   ],
   "outputs": [],
   "metadata": {
    "dotnet_interactive": {
     "language": "fsharp"
    }
   }
  },
  {
   "cell_type": "code",
   "execution_count": null,
   "source": [
    "contour"
   ],
   "outputs": [
    {
     "output_type": "display_data",
     "data": {
      "text/html": ""
     },
     "metadata": {}
    }
   ],
   "metadata": {
    "dotnet_interactive": {
     "language": "fsharp"
    }
   }
  },
  {
   "cell_type": "markdown",
   "source": [
    "# Custom Color bar Title, Labels, and Ticks with Graph Objects \r\n",
    "#### (Work well on scatter and othe plots but issue on heat map)\r\n"
   ],
   "metadata": {}
  },
  {
   "cell_type": "code",
   "execution_count": null,
   "source": [
    "open FSharp.Data\r\n",
    "type jsondata = JsonProvider<\"https://raw.githubusercontent.com/plotly/datasets/master/custom_heatmap_colorscale.json\">\r\n",
    "let data = jsondata.Load(\"https://raw.githubusercontent.com/plotly/datasets/master/custom_heatmap_colorscale.json\")"
   ],
   "outputs": [],
   "metadata": {
    "dotnet_interactive": {
     "language": "fsharp"
    }
   }
  },
  {
   "cell_type": "code",
   "execution_count": null,
   "source": [
    "let z = data.Z\r\n",
    "//let customColorscale = StyleParam.Colorscale.Custom [(0.0,\"#A6CEE3\");(1.0,\"#E31A1C\")]\r\n",
    "\r\n",
    "let customColorscale = StyleParam.Colorscale.Custom [(0.0,\"rgb(165,0,38)\");\r\n",
    "                                                     (0.11,\"rgb(215,48,39)\");\r\n",
    "                                                     (0.22,\"rgb(244,109,67)\");\r\n",
    "                                                     (0.33,\"rgb(253,174,97)\");\r\n",
    "                                                     (0.44,\"rgb(254,224,144)\");\r\n",
    "                                                     (0.55,\"rgb(224,243,248)\");\r\n",
    "                                                     (0.66,\"rgb(171,217,233)\");\r\n",
    "                                                     (0.77,\"rgb(116,173,209)\");\r\n",
    "                                                     (0.88,\"rgb(69,117,180)\");\r\n",
    "                                                      (1.0,\"rgb(49,54,149)\");]\r\n",
    "\r\n",
    "\r\n"
   ],
   "outputs": [],
   "metadata": {
    "dotnet_interactive": {
     "language": "fsharp"
    }
   }
  },
  {
   "cell_type": "code",
   "execution_count": null,
   "source": [
    "Chart.Heatmap(z,\r\n",
    "             Colorscale=customColorscale,\r\n",
    "             Colorbar= Colorbar.init(Title=\"Surface Heat\",Titleside=StyleParam.Side.Top,\r\n",
    "             Tickmode=StyleParam.TickMode.Array, Tickvals=[|2;50;100|],Ticktext=[|\"Cool\";\"Mild\";\"Hot\"|]))\r\n"
   ],
   "outputs": [
    {
     "output_type": "display_data",
     "data": {
      "text/html": ""
     },
     "metadata": {}
    }
   ],
   "metadata": {
    "dotnet_interactive": {
     "language": "fsharp"
    }
   }
  },
  {
   "cell_type": "markdown",
   "source": [
    "# Sharing a Color Axis with Graph Objects\r\n"
   ],
   "metadata": {}
  },
  {
   "cell_type": "code",
   "execution_count": null,
   "source": [
    "let z0=[|1; 2; 3; 4;4;-3;-1;1;|];\r\n",
    "let z1=[|10; 2; 1; 0;4;3;5;6;|];\r\n",
    "let seq1 = [1 ..4 ] |> Seq.map(fun _-> z0) |> Seq.toArray\r\n",
    "let seq2 = [1 ..4 ] |> Seq.map(fun _-> z1) |> Seq.toArray\r\n",
    "let marker = Marker.init(Size= 25,Colorscale=StyleParam.Colorscale.Viridis, Showscale=false);\r\n",
    "let layout =\r\n",
    "    let temp = Layout()\r\n",
    "    temp?coloraxis  <- \"coloraxis\"\r\n",
    "    temp"
   ],
   "outputs": [],
   "metadata": {
    "dotnet_interactive": {
     "language": "fsharp"
    }
   }
  },
  {
   "cell_type": "code",
   "execution_count": null,
   "source": [
    "\r\n",
    "let headmap1=\r\n",
    "           Chart.Heatmap(data=seq1)\r\n",
    "           |>Chart.withMarker(marker)\r\n",
    "           |>Chart.withLayout(layout)\r\n",
    "           \r\n",
    "headmap1\r\n"
   ],
   "outputs": [
    {
     "output_type": "display_data",
     "data": {
      "text/html": ""
     },
     "metadata": {}
    }
   ],
   "metadata": {
    "dotnet_interactive": {
     "language": "fsharp"
    }
   }
  },
  {
   "cell_type": "code",
   "execution_count": null,
   "source": [
    "let headmap2=\r\n",
    "           Chart.Heatmap(seq2)\r\n",
    "           |>Chart.withMarker(marker)\r\n",
    "           |>Chart.withLayout(layout)\r\n",
    "           \r\n",
    "headmap2"
   ],
   "outputs": [
    {
     "output_type": "display_data",
     "data": {
      "text/html": ""
     },
     "metadata": {}
    }
   ],
   "metadata": {
    "dotnet_interactive": {
     "language": "fsharp"
    }
   }
  },
  {
   "cell_type": "markdown",
   "source": [
    "# Logarithmic Color scale with Graph Objects\r\n"
   ],
   "metadata": {}
  },
  {
   "cell_type": "code",
   "execution_count": null,
   "source": [
    "let z=[| [|10.; 100.625; 1200.5; 150.625; 2000.;|];\r\n",
    "        [|5000.625; 60.25; 8.125; 100000.0; 150.625|];\r\n",
    "        [|2000.5; 300.125; 50.; 8.125; 12.5|];\r\n",
    "        [|10.625; 1.25; 3.125; 6000.25; 100.625|];\r\n",
    "        [|0.; 0.625; 2.5; 50000.625; 10.;|]|]\r\n",
    "//let customColorscale = StyleParam.Colorscale.Custom [(0.0,\"#FAFAFA\");(1.0,\"#1C1C1C\")]\r\n",
    "\r\n",
    "let customColorscale = StyleParam.Colorscale.Custom [(0.,\"rgb(250, 250, 250)\");\r\n",
    "                                                     (1./10000.,\"rgb(200, 200, 200)\");\r\n",
    "                                                     (1./1000.,\"rgb(150, 150, 150)\");\r\n",
    "                                                     (1./100.,\"rgb(100, 100, 100)\");\r\n",
    "                                                     (1./10.,\"rgb(50, 50, 50\");\r\n",
    "                                                     (1.,\"rgb(0, 0, 0)\");\r\n",
    "                                                     ]\r\n"
   ],
   "outputs": [],
   "metadata": {
    "dotnet_interactive": {
     "language": "fsharp"
    }
   }
  },
  {
   "cell_type": "code",
   "execution_count": null,
   "source": [
    "Chart.Heatmap(z,Colorscale=customColorscale)\r\n",
    "|> Chart.withSize(800.,600.)\r\n",
    "// |>Chart.withMarker(marker)"
   ],
   "outputs": [
    {
     "output_type": "display_data",
     "data": {
      "text/html": ""
     },
     "metadata": {}
    }
   ],
   "metadata": {
    "dotnet_interactive": {
     "language": "fsharp"
    }
   }
  }
 ],
 "nbformat": 4,
 "nbformat_minor": 2
}
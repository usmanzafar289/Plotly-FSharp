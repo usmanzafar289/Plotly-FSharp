{
 "cells": [
  {
   "cell_type": "code",
   "execution_count": null,
   "source": [
    "#r \"nuget: Plotly.NET, *-*\"\r\n",
    "#r \"nuget: Plotly.NET.Interactive, *-*\""
   ],
   "outputs": [
    {
     "output_type": "display_data",
     "data": {
      "text/html": [
       "<div><div></div><div></div><div><strong>Installed Packages</strong><ul><li><span>Plotly.NET, 2.0.0-preview.7</span></li><li><span>Plotly.NET.Interactive, 2.0.0-preview.7</span></li></ul></div></div>"
      ]
     },
     "metadata": {}
    },
    {
     "output_type": "display_data",
     "data": {
      "text/markdown": [
       "Loading extensions from `Plotly.NET.Interactive.dll`"
      ]
     },
     "metadata": {}
    },
    {
     "output_type": "display_data",
     "data": {
      "text/markdown": [
       "Added Kernel Extension including formatters for Plotly.NET charts."
      ]
     },
     "metadata": {}
    }
   ],
   "metadata": {
    "dotnet_interactive": {
     "language": "fsharp"
    }
   }
  },
  {
   "cell_type": "markdown",
   "source": [
    "# Create Nodes"
   ],
   "metadata": {}
  },
  {
   "cell_type": "code",
   "execution_count": null,
   "source": [
    "//open QuickGraph\r\n",
    "open Plotly.NET\r\n",
    "open Plotly.NET.Axis\r\n",
    "\r\n",
    "\r\n",
    "let x = [2;3;5;1;10;3]\r\n",
    "let y = [12;14;7;2;15;4]\r\n",
    "\r\n",
    "Chart.Point(x,y)\r\n",
    "|> Chart.withMarkerStyle(Size=10)\r\n",
    "|> Chart.withXAxis(LinearAxis.init(ShowTickLabels=false,ShowGrid=false,ShowLine=false))\r\n",
    "|> Chart.withYAxis(LinearAxis.init(ShowTickLabels=false,ShowGrid=false,ShowLine=false))\r\n"
   ],
   "outputs": [
    {
     "output_type": "display_data",
     "data": {
      "text/html": [
       "<div id=\"79e7ac7a-98a2-4402-9f57-05c31d77721c\" style=\"width: 600px; height: 600px;\"><!-- Plotly chart will be drawn inside this DIV --></div>\r\n",
       "<script type=\"text/javascript\">\r\n",
       "\n",
       "            var renderPlotly_79e7ac7a98a244029f5705c31d77721c = function() {\n",
       "            var fsharpPlotlyRequire = requirejs.config({context:'fsharp-plotly',paths:{plotly:'https://cdn.plot.ly/plotly-latest.min'}}) || require;\n",
       "            fsharpPlotlyRequire(['plotly'], function(Plotly) {\r\n",
       "\n",
       "            var data = [{\"type\":\"scatter\",\"x\":[2,3,5,1,10,3],\"y\":[12,14,7,2,15,4],\"mode\":\"markers\",\"marker\":{\"size\":10}}];\n",
       "            var layout = {\"xaxis\":{\"showticklabels\":false,\"showline\":false,\"showgrid\":false},\"yaxis\":{\"showticklabels\":false,\"showline\":false,\"showgrid\":false}};\n",
       "            var config = {};\n",
       "            Plotly.newPlot('79e7ac7a-98a2-4402-9f57-05c31d77721c', data, layout, config);\r\n",
       "});\n",
       "            };\n",
       "            if ((typeof(requirejs) !==  typeof(Function)) || (typeof(requirejs.config) !== typeof(Function))) {\n",
       "                var script = document.createElement(\"script\");\n",
       "                script.setAttribute(\"src\", \"https://cdnjs.cloudflare.com/ajax/libs/require.js/2.3.6/require.min.js\");\n",
       "                script.onload = function(){\n",
       "                    renderPlotly_79e7ac7a98a244029f5705c31d77721c();\n",
       "                };\n",
       "                document.getElementsByTagName(\"head\")[0].appendChild(script);\n",
       "            }\n",
       "            else {\n",
       "                renderPlotly_79e7ac7a98a244029f5705c31d77721c();\n",
       "            }\r\n",
       "</script>\r\n"
      ]
     },
     "metadata": {}
    }
   ],
   "metadata": {
    "dotnet_interactive": {
     "language": "fsharp"
    }
   }
  },
  {
   "cell_type": "markdown",
   "source": [
    "# Create Edges"
   ],
   "metadata": {}
  },
  {
   "cell_type": "code",
   "execution_count": null,
   "source": [
    "\r\n",
    "open System\r\n",
    "\r\n",
    "let rand = new Random()\r\n",
    "\r\n",
    "let x = [for i in 0..100 -> rand.Next(0,100) ]\r\n",
    "let y = [for i in x -> rand.Next(0,100) ]\r\n",
    "\r\n",
    "let edges = [for i in x ->  let i = rand.Next(0,100)\r\n",
    "                            let j = rand.Next(0,100)                            \r\n",
    "                            Shape.init(StyleParam.ShapeType.Line,X0=x.[i],X1=x.[j],Y0=y.[i],Y1=y.[j],Line=Line.init(Color=\"#888\",Width=0.5))]\r\n",
    "\r\n",
    "\r\n",
    "Chart.Point(x,y)\r\n",
    "|> Chart.withMarkerStyle(Size=10)\r\n",
    "|> Chart.withXAxis(LinearAxis.init(ShowTickLabels=false,ShowGrid=false,ShowLine=false,ZeroLine=false))\r\n",
    "|> Chart.withYAxis(LinearAxis.init(ShowTickLabels=false,ShowGrid=false,ShowLine=false,ZeroLine=false))\r\n",
    "|> Chart.withShapes edges"
   ],
   "outputs": [
    {
     "output_type": "display_data",
     "data": {
      "text/html": [
       "<div id=\"df45c099-605f-4101-b101-76ffe721a80e\" style=\"width: 600px; height: 600px;\"><!-- Plotly chart will be drawn inside this DIV --></div>\r\n",
       "<script type=\"text/javascript\">\r\n",
       "\n",
       "            var renderPlotly_df45c099605f4101b10176ffe721a80e = function() {\n",
       "            var fsharpPlotlyRequire = requirejs.config({context:'fsharp-plotly',paths:{plotly:'https://cdn.plot.ly/plotly-latest.min'}}) || require;\n",
       "            fsharpPlotlyRequire(['plotly'], function(Plotly) {\r\n",
       "\n",
       "            var data = [{\"type\":\"scatter\",\"x\":[58,93,59,44,59,3,44,35,30,58,83,66,52,40,43,39,34,49,8,35,34,57,32,45,93,9,70,77,69,98,32,93,42,24,12,39,10,45,66,35,40,55,3,45,79,50,2,14,24,82,80,7,51,40,92,0,61,14,50,50,32,67,65,31,25,90,24,27,27,3,29,88,82,72,94,78,54,87,65,43,6,56,52,87,18,24,42,2,32,12,78,95,94,16,3,73,89,71,19,88,25],\"y\":[74,87,21,53,91,24,78,45,13,46,74,48,7,43,76,14,78,13,0,48,21,94,14,25,33,94,66,69,20,88,82,67,77,17,31,68,31,33,26,0,63,56,19,66,4,47,86,72,26,59,11,58,18,40,4,80,72,96,20,97,57,8,25,24,63,6,71,90,12,7,83,44,86,0,84,65,75,48,20,85,7,94,42,61,77,23,49,36,13,51,96,34,13,29,42,55,31,94,2,97,76],\"mode\":\"markers\",\"marker\":{\"size\":10}}];\n",
       "            var layout = {\"xaxis\":{\"showticklabels\":false,\"showline\":false,\"showgrid\":false,\"zeroline\":false},\"yaxis\":{\"showticklabels\":false,\"showline\":false,\"showgrid\":false,\"zeroline\":false},\"shapes\":[{\"type\":\"line\",\"x0\":89,\"x1\":50,\"y0\":31,\"y1\":97,\"line\":{\"color\":\"#888\",\"width\":0.5}},{\"type\":\"line\",\"x0\":35,\"x1\":78,\"y0\":48,\"y1\":65,\"line\":{\"color\":\"#888\",\"width\":0.5}},{\"type\":\"line\",\"x0\":24,\"x1\":82,\"y0\":71,\"y1\":86,\"line\":{\"color\":\"#888\",\"width\":0.5}},{\"type\":\"line\",\"x0\":49,\"x1\":0,\"y0\":13,\"y1\":80,\"line\":{\"color\":\"#888\",\"width\":0.5}},{\"type\":\"line\",\"x0\":66,\"x1\":59,\"y0\":26,\"y1\":91,\"line\":{\"color\":\"#888\",\"width\":0.5}},{\"type\":\"line\",\"x0\":45,\"x1\":78,\"y0\":25,\"y1\":65,\"line\":{\"color\":\"#888\",\"width\":0.5}},{\"type\":\"line\",\"x0\":12,\"x1\":78,\"y0\":31,\"y1\":96,\"line\":{\"color\":\"#888\",\"width\":0.5}},{\"type\":\"line\",\"x0\":31,\"x1\":24,\"y0\":24,\"y1\":71,\"line\":{\"color\":\"#888\",\"width\":0.5}},{\"type\":\"line\",\"x0\":31,\"x1\":14,\"y0\":24,\"y1\":72,\"line\":{\"color\":\"#888\",\"width\":0.5}},{\"type\":\"line\",\"x0\":40,\"x1\":14,\"y0\":63,\"y1\":96,\"line\":{\"color\":\"#888\",\"width\":0.5}},{\"type\":\"line\",\"x0\":12,\"x1\":87,\"y0\":31,\"y1\":48,\"line\":{\"color\":\"#888\",\"width\":0.5}},{\"type\":\"line\",\"x0\":32,\"x1\":66,\"y0\":57,\"y1\":48,\"line\":{\"color\":\"#888\",\"width\":0.5}},{\"type\":\"line\",\"x0\":24,\"x1\":93,\"y0\":26,\"y1\":67,\"line\":{\"color\":\"#888\",\"width\":0.5}},{\"type\":\"line\",\"x0\":61,\"x1\":50,\"y0\":72,\"y1\":20,\"line\":{\"color\":\"#888\",\"width\":0.5}},{\"type\":\"line\",\"x0\":98,\"x1\":24,\"y0\":88,\"y1\":17,\"line\":{\"color\":\"#888\",\"width\":0.5}},{\"type\":\"line\",\"x0\":6,\"x1\":2,\"y0\":7,\"y1\":86,\"line\":{\"color\":\"#888\",\"width\":0.5}},{\"type\":\"line\",\"x0\":45,\"x1\":58,\"y0\":25,\"y1\":46,\"line\":{\"color\":\"#888\",\"width\":0.5}},{\"type\":\"line\",\"x0\":83,\"x1\":12,\"y0\":74,\"y1\":31,\"line\":{\"color\":\"#888\",\"width\":0.5}},{\"type\":\"line\",\"x0\":45,\"x1\":24,\"y0\":25,\"y1\":23,\"line\":{\"color\":\"#888\",\"width\":0.5}},{\"type\":\"line\",\"x0\":66,\"x1\":7,\"y0\":48,\"y1\":58,\"line\":{\"color\":\"#888\",\"width\":0.5}},{\"type\":\"line\",\"x0\":93,\"x1\":56,\"y0\":67,\"y1\":94,\"line\":{\"color\":\"#888\",\"width\":0.5}},{\"type\":\"line\",\"x0\":94,\"x1\":14,\"y0\":84,\"y1\":72,\"line\":{\"color\":\"#888\",\"width\":0.5}},{\"type\":\"line\",\"x0\":82,\"x1\":50,\"y0\":86,\"y1\":97,\"line\":{\"color\":\"#888\",\"width\":0.5}},{\"type\":\"line\",\"x0\":65,\"x1\":35,\"y0\":20,\"y1\":0,\"line\":{\"color\":\"#888\",\"width\":0.5}},{\"type\":\"line\",\"x0\":65,\"x1\":32,\"y0\":20,\"y1\":13,\"line\":{\"color\":\"#888\",\"width\":0.5}},{\"type\":\"line\",\"x0\":27,\"x1\":14,\"y0\":90,\"y1\":72,\"line\":{\"color\":\"#888\",\"width\":0.5}},{\"type\":\"line\",\"x0\":65,\"x1\":40,\"y0\":25,\"y1\":63,\"line\":{\"color\":\"#888\",\"width\":0.5}},{\"type\":\"line\",\"x0\":55,\"x1\":8,\"y0\":56,\"y1\":0,\"line\":{\"color\":\"#888\",\"width\":0.5}},{\"type\":\"line\",\"x0\":88,\"x1\":35,\"y0\":97,\"y1\":45,\"line\":{\"color\":\"#888\",\"width\":0.5}},{\"type\":\"line\",\"x0\":77,\"x1\":12,\"y0\":69,\"y1\":31,\"line\":{\"color\":\"#888\",\"width\":0.5}},{\"type\":\"line\",\"x0\":39,\"x1\":50,\"y0\":14,\"y1\":20,\"line\":{\"color\":\"#888\",\"width\":0.5}},{\"type\":\"line\",\"x0\":9,\"x1\":59,\"y0\":94,\"y1\":91,\"line\":{\"color\":\"#888\",\"width\":0.5}},{\"type\":\"line\",\"x0\":45,\"x1\":87,\"y0\":25,\"y1\":48,\"line\":{\"color\":\"#888\",\"width\":0.5}},{\"type\":\"line\",\"x0\":51,\"x1\":9,\"y0\":18,\"y1\":94,\"line\":{\"color\":\"#888\",\"width\":0.5}},{\"type\":\"line\",\"x0\":43,\"x1\":69,\"y0\":85,\"y1\":20,\"line\":{\"color\":\"#888\",\"width\":0.5}},{\"type\":\"line\",\"x0\":3,\"x1\":87,\"y0\":19,\"y1\":48,\"line\":{\"color\":\"#888\",\"width\":0.5}},{\"type\":\"line\",\"x0\":39,\"x1\":12,\"y0\":68,\"y1\":51,\"line\":{\"color\":\"#888\",\"width\":0.5}},{\"type\":\"line\",\"x0\":9,\"x1\":51,\"y0\":94,\"y1\":18,\"line\":{\"color\":\"#888\",\"width\":0.5}},{\"type\":\"line\",\"x0\":44,\"x1\":40,\"y0\":53,\"y1\":43,\"line\":{\"color\":\"#888\",\"width\":0.5}},{\"type\":\"line\",\"x0\":35,\"x1\":12,\"y0\":0,\"y1\":51,\"line\":{\"color\":\"#888\",\"width\":0.5}},{\"type\":\"line\",\"x0\":51,\"x1\":49,\"y0\":18,\"y1\":13,\"line\":{\"color\":\"#888\",\"width\":0.5}},{\"type\":\"line\",\"x0\":6,\"x1\":40,\"y0\":7,\"y1\":63,\"line\":{\"color\":\"#888\",\"width\":0.5}},{\"type\":\"line\",\"x0\":90,\"x1\":24,\"y0\":6,\"y1\":17,\"line\":{\"color\":\"#888\",\"width\":0.5}},{\"type\":\"line\",\"x0\":18,\"x1\":87,\"y0\":77,\"y1\":61,\"line\":{\"color\":\"#888\",\"width\":0.5}},{\"type\":\"line\",\"x0\":27,\"x1\":95,\"y0\":90,\"y1\":34,\"line\":{\"color\":\"#888\",\"width\":0.5}},{\"type\":\"line\",\"x0\":39,\"x1\":39,\"y0\":68,\"y1\":14,\"line\":{\"color\":\"#888\",\"width\":0.5}},{\"type\":\"line\",\"x0\":50,\"x1\":54,\"y0\":20,\"y1\":75,\"line\":{\"color\":\"#888\",\"width\":0.5}},{\"type\":\"line\",\"x0\":39,\"x1\":72,\"y0\":68,\"y1\":0,\"line\":{\"color\":\"#888\",\"width\":0.5}},{\"type\":\"line\",\"x0\":0,\"x1\":3,\"y0\":80,\"y1\":7,\"line\":{\"color\":\"#888\",\"width\":0.5}},{\"type\":\"line\",\"x0\":45,\"x1\":3,\"y0\":25,\"y1\":42,\"line\":{\"color\":\"#888\",\"width\":0.5}},{\"type\":\"line\",\"x0\":44,\"x1\":40,\"y0\":78,\"y1\":40,\"line\":{\"color\":\"#888\",\"width\":0.5}},{\"type\":\"line\",\"x0\":50,\"x1\":82,\"y0\":97,\"y1\":59,\"line\":{\"color\":\"#888\",\"width\":0.5}},{\"type\":\"line\",\"x0\":2,\"x1\":78,\"y0\":86,\"y1\":96,\"line\":{\"color\":\"#888\",\"width\":0.5}},{\"type\":\"line\",\"x0\":66,\"x1\":72,\"y0\":48,\"y1\":0,\"line\":{\"color\":\"#888\",\"width\":0.5}},{\"type\":\"line\",\"x0\":43,\"x1\":32,\"y0\":76,\"y1\":13,\"line\":{\"color\":\"#888\",\"width\":0.5}},{\"type\":\"line\",\"x0\":39,\"x1\":24,\"y0\":14,\"y1\":23,\"line\":{\"color\":\"#888\",\"width\":0.5}},{\"type\":\"line\",\"x0\":27,\"x1\":66,\"y0\":12,\"y1\":26,\"line\":{\"color\":\"#888\",\"width\":0.5}},{\"type\":\"line\",\"x0\":52,\"x1\":19,\"y0\":42,\"y1\":2,\"line\":{\"color\":\"#888\",\"width\":0.5}},{\"type\":\"line\",\"x0\":65,\"x1\":18,\"y0\":20,\"y1\":77,\"line\":{\"color\":\"#888\",\"width\":0.5}},{\"type\":\"line\",\"x0\":35,\"x1\":78,\"y0\":0,\"y1\":96,\"line\":{\"color\":\"#888\",\"width\":0.5}},{\"type\":\"line\",\"x0\":16,\"x1\":3,\"y0\":29,\"y1\":7,\"line\":{\"color\":\"#888\",\"width\":0.5}},{\"type\":\"line\",\"x0\":14,\"x1\":2,\"y0\":96,\"y1\":36,\"line\":{\"color\":\"#888\",\"width\":0.5}},{\"type\":\"line\",\"x0\":16,\"x1\":77,\"y0\":29,\"y1\":69,\"line\":{\"color\":\"#888\",\"width\":0.5}},{\"type\":\"line\",\"x0\":35,\"x1\":50,\"y0\":48,\"y1\":97,\"line\":{\"color\":\"#888\",\"width\":0.5}},{\"type\":\"line\",\"x0\":40,\"x1\":51,\"y0\":40,\"y1\":18,\"line\":{\"color\":\"#888\",\"width\":0.5}},{\"type\":\"line\",\"x0\":89,\"x1\":12,\"y0\":31,\"y1\":31,\"line\":{\"color\":\"#888\",\"width\":0.5}},{\"type\":\"line\",\"x0\":78,\"x1\":79,\"y0\":96,\"y1\":4,\"line\":{\"color\":\"#888\",\"width\":0.5}},{\"type\":\"line\",\"x0\":52,\"x1\":19,\"y0\":42,\"y1\":2,\"line\":{\"color\":\"#888\",\"width\":0.5}},{\"type\":\"line\",\"x0\":14,\"x1\":32,\"y0\":96,\"y1\":82,\"line\":{\"color\":\"#888\",\"width\":0.5}},{\"type\":\"line\",\"x0\":3,\"x1\":78,\"y0\":42,\"y1\":65,\"line\":{\"color\":\"#888\",\"width\":0.5}},{\"type\":\"line\",\"x0\":32,\"x1\":66,\"y0\":14,\"y1\":48,\"line\":{\"color\":\"#888\",\"width\":0.5}},{\"type\":\"line\",\"x0\":27,\"x1\":65,\"y0\":12,\"y1\":20,\"line\":{\"color\":\"#888\",\"width\":0.5}},{\"type\":\"line\",\"x0\":54,\"x1\":82,\"y0\":75,\"y1\":59,\"line\":{\"color\":\"#888\",\"width\":0.5}},{\"type\":\"line\",\"x0\":14,\"x1\":35,\"y0\":72,\"y1\":48,\"line\":{\"color\":\"#888\",\"width\":0.5}},{\"type\":\"line\",\"x0\":3,\"x1\":10,\"y0\":42,\"y1\":31,\"line\":{\"color\":\"#888\",\"width\":0.5}},{\"type\":\"line\",\"x0\":3,\"x1\":88,\"y0\":42,\"y1\":44,\"line\":{\"color\":\"#888\",\"width\":0.5}},{\"type\":\"line\",\"x0\":32,\"x1\":24,\"y0\":82,\"y1\":17,\"line\":{\"color\":\"#888\",\"width\":0.5}},{\"type\":\"line\",\"x0\":93,\"x1\":45,\"y0\":87,\"y1\":33,\"line\":{\"color\":\"#888\",\"width\":0.5}},{\"type\":\"line\",\"x0\":89,\"x1\":82,\"y0\":31,\"y1\":86,\"line\":{\"color\":\"#888\",\"width\":0.5}},{\"type\":\"line\",\"x0\":61,\"x1\":8,\"y0\":72,\"y1\":0,\"line\":{\"color\":\"#888\",\"width\":0.5}},{\"type\":\"line\",\"x0\":29,\"x1\":51,\"y0\":83,\"y1\":18,\"line\":{\"color\":\"#888\",\"width\":0.5}},{\"type\":\"line\",\"x0\":35,\"x1\":65,\"y0\":48,\"y1\":25,\"line\":{\"color\":\"#888\",\"width\":0.5}},{\"type\":\"line\",\"x0\":94,\"x1\":56,\"y0\":13,\"y1\":94,\"line\":{\"color\":\"#888\",\"width\":0.5}},{\"type\":\"line\",\"x0\":73,\"x1\":45,\"y0\":55,\"y1\":25,\"line\":{\"color\":\"#888\",\"width\":0.5}},{\"type\":\"line\",\"x0\":61,\"x1\":87,\"y0\":72,\"y1\":61,\"line\":{\"color\":\"#888\",\"width\":0.5}},{\"type\":\"line\",\"x0\":40,\"x1\":14,\"y0\":63,\"y1\":72,\"line\":{\"color\":\"#888\",\"width\":0.5}},{\"type\":\"line\",\"x0\":12,\"x1\":31,\"y0\":51,\"y1\":24,\"line\":{\"color\":\"#888\",\"width\":0.5}},{\"type\":\"line\",\"x0\":27,\"x1\":56,\"y0\":12,\"y1\":94,\"line\":{\"color\":\"#888\",\"width\":0.5}},{\"type\":\"line\",\"x0\":58,\"x1\":43,\"y0\":74,\"y1\":85,\"line\":{\"color\":\"#888\",\"width\":0.5}},{\"type\":\"line\",\"x0\":66,\"x1\":79,\"y0\":48,\"y1\":4,\"line\":{\"color\":\"#888\",\"width\":0.5}},{\"type\":\"line\",\"x0\":43,\"x1\":88,\"y0\":85,\"y1\":97,\"line\":{\"color\":\"#888\",\"width\":0.5}},{\"type\":\"line\",\"x0\":25,\"x1\":34,\"y0\":63,\"y1\":78,\"line\":{\"color\":\"#888\",\"width\":0.5}},{\"type\":\"line\",\"x0\":14,\"x1\":9,\"y0\":96,\"y1\":94,\"line\":{\"color\":\"#888\",\"width\":0.5}},{\"type\":\"line\",\"x0\":59,\"x1\":61,\"y0\":91,\"y1\":72,\"line\":{\"color\":\"#888\",\"width\":0.5}},{\"type\":\"line\",\"x0\":3,\"x1\":79,\"y0\":19,\"y1\":4,\"line\":{\"color\":\"#888\",\"width\":0.5}},{\"type\":\"line\",\"x0\":59,\"x1\":24,\"y0\":21,\"y1\":23,\"line\":{\"color\":\"#888\",\"width\":0.5}},{\"type\":\"line\",\"x0\":94,\"x1\":78,\"y0\":84,\"y1\":65,\"line\":{\"color\":\"#888\",\"width\":0.5}},{\"type\":\"line\",\"x0\":3,\"x1\":3,\"y0\":24,\"y1\":7,\"line\":{\"color\":\"#888\",\"width\":0.5}},{\"type\":\"line\",\"x0\":95,\"x1\":44,\"y0\":34,\"y1\":78,\"line\":{\"color\":\"#888\",\"width\":0.5}},{\"type\":\"line\",\"x0\":42,\"x1\":73,\"y0\":49,\"y1\":55,\"line\":{\"color\":\"#888\",\"width\":0.5}},{\"type\":\"line\",\"x0\":40,\"x1\":45,\"y0\":40,\"y1\":25,\"line\":{\"color\":\"#888\",\"width\":0.5}}]};\n",
       "            var config = {};\n",
       "            Plotly.newPlot('df45c099-605f-4101-b101-76ffe721a80e', data, layout, config);\r\n",
       "});\n",
       "            };\n",
       "            if ((typeof(requirejs) !==  typeof(Function)) || (typeof(requirejs.config) !== typeof(Function))) {\n",
       "                var script = document.createElement(\"script\");\n",
       "                script.setAttribute(\"src\", \"https://cdnjs.cloudflare.com/ajax/libs/require.js/2.3.6/require.min.js\");\n",
       "                script.onload = function(){\n",
       "                    renderPlotly_df45c099605f4101b10176ffe721a80e();\n",
       "                };\n",
       "                document.getElementsByTagName(\"head\")[0].appendChild(script);\n",
       "            }\n",
       "            else {\n",
       "                renderPlotly_df45c099605f4101b10176ffe721a80e();\n",
       "            }\r\n",
       "</script>\r\n"
      ]
     },
     "metadata": {}
    }
   ],
   "metadata": {
    "dotnet_interactive": {
     "language": "fsharp"
    }
   }
  }
 ],
 "metadata": {
  "orig_nbformat": 4,
  "language_info": {
   "file_extension": ".cs",
   "mimetype": "text/x-csharp",
   "name": "C#",
   "pygments_lexer": "csharp",
   "version": "9.0"
  },
  "kernelspec": {
   "display_name": ".NET (C#)",
   "language": "C#",
   "name": ".net-csharp"
  }
 },
 "nbformat": 4,
 "nbformat_minor": 2
}